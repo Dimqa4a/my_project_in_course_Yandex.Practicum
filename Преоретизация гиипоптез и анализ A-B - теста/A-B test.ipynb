{
 "cells": [
  {
   "cell_type": "markdown",
   "metadata": {},
   "source": [
    "# Описание проекта\n",
    "\n",
    "Вы — аналитик крупного интернет-магазина. Вместе с отделом маркетинга вы подготовили список гипотез для увеличения выручки. Работа пройдет в 2 этапа:\n",
    "\n",
    "1. Приоритизируйте гипотезы (методы: ICE/RICE); \n",
    "2. Запустите A/B-тест и проанализируйте результаты.\n",
    "\n",
    "Для выполения поставленных задач даны 3 датафрейма:\n",
    "\n",
    "- c описаниеv гипотез;\n",
    "\n",
    "- с данными о заказах (разделенные на группы A/B-теста);\n",
    "\n",
    "- с данными о клиентах (разделенные на группы A/B-теста)."
   ]
  },
  {
   "cell_type": "markdown",
   "metadata": {},
   "source": [
    "# Оглавление\n",
    "\n",
    "1. [Часть 1. Приоритизация гипотез](#start)\n",
    "2. [Часть 2. Анализ A/B-теста](#parth2)\\\n",
    "    2.1 [Построим графики комулятивной выручке](#parth2.1)    \n",
    "    2.2 [Построим график кумулятивного среднего чека по группам](#parth2.2)\\\n",
    "    2.3 [Построим график относительного изменения кумулятивного среднего чека группы B к группе A](#parth2.3)\\\n",
    "    2.4 [Построим график кумулятивной конверсии по группам](#parth2.4)\\\n",
    "    2.5 [Построим график относительного изменения кумулятивной конверсии группы B к группе A](#parth2.5)\\\n",
    "    2.6 [Постройте точечный график количества заказов по пользователям](#parth2.6)\\\n",
    "    2.7 [Постройте точечный график стоимостей заказов](#parth2.7)\\\n",
    "    2.8 [Посчитаем статистическую значимость различий в конверсии между группами по «сырым» данным](#parth2.8)\\\n",
    "    2.9 [Посчитаем статистическую значимость различий в среднем чеке заказа между группами по «сырым» данным](#parth2.9)\\\n",
    "    2.10 [Посчитаем статистическую значимость различий в конверсии между группами по «очищенным» данным](#parth2.10)\\\n",
    "    2.11 [Посчитаем статистическую значимость различий в среднем чеке заказа между группами по «очищенным» данным](#parth2.11)\n",
    "3. [Общий вывод и решение по результату теста](#end)"
   ]
  },
  {
   "cell_type": "markdown",
   "metadata": {},
   "source": [
    "## Часть 1. Приоритизация гипотез. <a id=\"start\"></a>"
   ]
  },
  {
   "cell_type": "code",
   "execution_count": 2,
   "metadata": {},
   "outputs": [],
   "source": [
    "import pandas as pd\n",
    "import numpy as np\n",
    "import datetime as dt\n",
    "import matplotlib.pyplot as plt\n",
    "import scipy.stats as stats"
   ]
  },
  {
   "cell_type": "code",
   "execution_count": 3,
   "metadata": {},
   "outputs": [
    {
     "data": {
      "text/html": [
       "<div>\n",
       "<style scoped>\n",
       "    .dataframe tbody tr th:only-of-type {\n",
       "        vertical-align: middle;\n",
       "    }\n",
       "\n",
       "    .dataframe tbody tr th {\n",
       "        vertical-align: top;\n",
       "    }\n",
       "\n",
       "    .dataframe thead th {\n",
       "        text-align: right;\n",
       "    }\n",
       "</style>\n",
       "<table border=\"1\" class=\"dataframe\">\n",
       "  <thead>\n",
       "    <tr style=\"text-align: right;\">\n",
       "      <th></th>\n",
       "      <th>Hypothesis</th>\n",
       "      <th>Reach</th>\n",
       "      <th>Impact</th>\n",
       "      <th>Confidence</th>\n",
       "      <th>Efforts</th>\n",
       "    </tr>\n",
       "  </thead>\n",
       "  <tbody>\n",
       "    <tr>\n",
       "      <td>0</td>\n",
       "      <td>Добавить два новых канала привлечения трафика,...</td>\n",
       "      <td>3</td>\n",
       "      <td>10</td>\n",
       "      <td>8</td>\n",
       "      <td>6</td>\n",
       "    </tr>\n",
       "    <tr>\n",
       "      <td>1</td>\n",
       "      <td>Запустить собственную службу доставки, что сок...</td>\n",
       "      <td>2</td>\n",
       "      <td>5</td>\n",
       "      <td>4</td>\n",
       "      <td>10</td>\n",
       "    </tr>\n",
       "    <tr>\n",
       "      <td>2</td>\n",
       "      <td>Добавить блоки рекомендаций товаров на сайт ин...</td>\n",
       "      <td>8</td>\n",
       "      <td>3</td>\n",
       "      <td>7</td>\n",
       "      <td>3</td>\n",
       "    </tr>\n",
       "    <tr>\n",
       "      <td>3</td>\n",
       "      <td>Изменить структура категорий, что увеличит кон...</td>\n",
       "      <td>8</td>\n",
       "      <td>3</td>\n",
       "      <td>3</td>\n",
       "      <td>8</td>\n",
       "    </tr>\n",
       "    <tr>\n",
       "      <td>4</td>\n",
       "      <td>Изменить цвет фона главной страницы, чтобы уве...</td>\n",
       "      <td>3</td>\n",
       "      <td>1</td>\n",
       "      <td>1</td>\n",
       "      <td>1</td>\n",
       "    </tr>\n",
       "    <tr>\n",
       "      <td>5</td>\n",
       "      <td>Добавить страницу отзывов клиентов о магазине,...</td>\n",
       "      <td>3</td>\n",
       "      <td>2</td>\n",
       "      <td>2</td>\n",
       "      <td>3</td>\n",
       "    </tr>\n",
       "    <tr>\n",
       "      <td>6</td>\n",
       "      <td>Показать на главной странице баннеры с актуаль...</td>\n",
       "      <td>5</td>\n",
       "      <td>3</td>\n",
       "      <td>8</td>\n",
       "      <td>3</td>\n",
       "    </tr>\n",
       "    <tr>\n",
       "      <td>7</td>\n",
       "      <td>Добавить форму подписки на все основные страни...</td>\n",
       "      <td>10</td>\n",
       "      <td>7</td>\n",
       "      <td>8</td>\n",
       "      <td>5</td>\n",
       "    </tr>\n",
       "    <tr>\n",
       "      <td>8</td>\n",
       "      <td>Запустить акцию, дающую скидку на товар в день...</td>\n",
       "      <td>1</td>\n",
       "      <td>9</td>\n",
       "      <td>9</td>\n",
       "      <td>5</td>\n",
       "    </tr>\n",
       "  </tbody>\n",
       "</table>\n",
       "</div>"
      ],
      "text/plain": [
       "                                          Hypothesis  Reach  Impact  \\\n",
       "0  Добавить два новых канала привлечения трафика,...      3      10   \n",
       "1  Запустить собственную службу доставки, что сок...      2       5   \n",
       "2  Добавить блоки рекомендаций товаров на сайт ин...      8       3   \n",
       "3  Изменить структура категорий, что увеличит кон...      8       3   \n",
       "4  Изменить цвет фона главной страницы, чтобы уве...      3       1   \n",
       "5  Добавить страницу отзывов клиентов о магазине,...      3       2   \n",
       "6  Показать на главной странице баннеры с актуаль...      5       3   \n",
       "7  Добавить форму подписки на все основные страни...     10       7   \n",
       "8  Запустить акцию, дающую скидку на товар в день...      1       9   \n",
       "\n",
       "   Confidence  Efforts  \n",
       "0           8        6  \n",
       "1           4       10  \n",
       "2           7        3  \n",
       "3           3        8  \n",
       "4           1        1  \n",
       "5           2        3  \n",
       "6           8        3  \n",
       "7           8        5  \n",
       "8           9        5  "
      ]
     },
     "execution_count": 3,
     "metadata": {},
     "output_type": "execute_result"
    }
   ],
   "source": [
    "hypothesis = pd.read_csv('/datasets/hypothesis.csv')\n",
    "pd.set_option('display.max_columns', None)\n",
    "hypothesis"
   ]
  },
  {
   "cell_type": "code",
   "execution_count": 4,
   "metadata": {},
   "outputs": [
    {
     "data": {
      "text/html": [
       "<div>\n",
       "<style scoped>\n",
       "    .dataframe tbody tr th:only-of-type {\n",
       "        vertical-align: middle;\n",
       "    }\n",
       "\n",
       "    .dataframe tbody tr th {\n",
       "        vertical-align: top;\n",
       "    }\n",
       "\n",
       "    .dataframe thead th {\n",
       "        text-align: right;\n",
       "    }\n",
       "</style>\n",
       "<table border=\"1\" class=\"dataframe\">\n",
       "  <thead>\n",
       "    <tr style=\"text-align: right;\">\n",
       "      <th></th>\n",
       "      <th>Hypothesis</th>\n",
       "      <th>ICE</th>\n",
       "    </tr>\n",
       "  </thead>\n",
       "  <tbody>\n",
       "    <tr>\n",
       "      <td>8</td>\n",
       "      <td>Запустить акцию, дающую скидку на товар в день...</td>\n",
       "      <td>16</td>\n",
       "    </tr>\n",
       "    <tr>\n",
       "      <td>0</td>\n",
       "      <td>Добавить два новых канала привлечения трафика,...</td>\n",
       "      <td>13</td>\n",
       "    </tr>\n",
       "    <tr>\n",
       "      <td>7</td>\n",
       "      <td>Добавить форму подписки на все основные страни...</td>\n",
       "      <td>11</td>\n",
       "    </tr>\n",
       "    <tr>\n",
       "      <td>6</td>\n",
       "      <td>Показать на главной странице баннеры с актуаль...</td>\n",
       "      <td>8</td>\n",
       "    </tr>\n",
       "    <tr>\n",
       "      <td>2</td>\n",
       "      <td>Добавить блоки рекомендаций товаров на сайт ин...</td>\n",
       "      <td>7</td>\n",
       "    </tr>\n",
       "    <tr>\n",
       "      <td>1</td>\n",
       "      <td>Запустить собственную службу доставки, что сок...</td>\n",
       "      <td>2</td>\n",
       "    </tr>\n",
       "    <tr>\n",
       "      <td>3</td>\n",
       "      <td>Изменить структура категорий, что увеличит кон...</td>\n",
       "      <td>1</td>\n",
       "    </tr>\n",
       "    <tr>\n",
       "      <td>4</td>\n",
       "      <td>Изменить цвет фона главной страницы, чтобы уве...</td>\n",
       "      <td>1</td>\n",
       "    </tr>\n",
       "    <tr>\n",
       "      <td>5</td>\n",
       "      <td>Добавить страницу отзывов клиентов о магазине,...</td>\n",
       "      <td>1</td>\n",
       "    </tr>\n",
       "  </tbody>\n",
       "</table>\n",
       "</div>"
      ],
      "text/plain": [
       "                                          Hypothesis  ICE\n",
       "8  Запустить акцию, дающую скидку на товар в день...   16\n",
       "0  Добавить два новых канала привлечения трафика,...   13\n",
       "7  Добавить форму подписки на все основные страни...   11\n",
       "6  Показать на главной странице баннеры с актуаль...    8\n",
       "2  Добавить блоки рекомендаций товаров на сайт ин...    7\n",
       "1  Запустить собственную службу доставки, что сок...    2\n",
       "3  Изменить структура категорий, что увеличит кон...    1\n",
       "4  Изменить цвет фона главной страницы, чтобы уве...    1\n",
       "5  Добавить страницу отзывов клиентов о магазине,...    1"
      ]
     },
     "execution_count": 4,
     "metadata": {},
     "output_type": "execute_result"
    }
   ],
   "source": [
    "# метод ICE\n",
    "hypothesis['ICE'] = hypothesis['Impact'] * hypothesis['Confidence'] / hypothesis['Efforts']\n",
    "hypothesis['ICE'] = hypothesis['ICE'].astype('int')\n",
    "hypothesis[['Hypothesis', 'ICE']].sort_values(by='ICE', ascending=False)"
   ]
  },
  {
   "cell_type": "markdown",
   "metadata": {},
   "source": [
    "Применив данный метод наблюдаем перспективность гипотез в порядке убывания (от более перспективных, к менее)."
   ]
  },
  {
   "cell_type": "code",
   "execution_count": 5,
   "metadata": {},
   "outputs": [
    {
     "data": {
      "text/html": [
       "<div>\n",
       "<style scoped>\n",
       "    .dataframe tbody tr th:only-of-type {\n",
       "        vertical-align: middle;\n",
       "    }\n",
       "\n",
       "    .dataframe tbody tr th {\n",
       "        vertical-align: top;\n",
       "    }\n",
       "\n",
       "    .dataframe thead th {\n",
       "        text-align: right;\n",
       "    }\n",
       "</style>\n",
       "<table border=\"1\" class=\"dataframe\">\n",
       "  <thead>\n",
       "    <tr style=\"text-align: right;\">\n",
       "      <th></th>\n",
       "      <th>Hypothesis</th>\n",
       "      <th>RICE</th>\n",
       "    </tr>\n",
       "  </thead>\n",
       "  <tbody>\n",
       "    <tr>\n",
       "      <td>7</td>\n",
       "      <td>Добавить форму подписки на все основные страни...</td>\n",
       "      <td>112</td>\n",
       "    </tr>\n",
       "    <tr>\n",
       "      <td>2</td>\n",
       "      <td>Добавить блоки рекомендаций товаров на сайт ин...</td>\n",
       "      <td>56</td>\n",
       "    </tr>\n",
       "    <tr>\n",
       "      <td>0</td>\n",
       "      <td>Добавить два новых канала привлечения трафика,...</td>\n",
       "      <td>40</td>\n",
       "    </tr>\n",
       "    <tr>\n",
       "      <td>6</td>\n",
       "      <td>Показать на главной странице баннеры с актуаль...</td>\n",
       "      <td>40</td>\n",
       "    </tr>\n",
       "    <tr>\n",
       "      <td>8</td>\n",
       "      <td>Запустить акцию, дающую скидку на товар в день...</td>\n",
       "      <td>16</td>\n",
       "    </tr>\n",
       "    <tr>\n",
       "      <td>3</td>\n",
       "      <td>Изменить структура категорий, что увеличит кон...</td>\n",
       "      <td>9</td>\n",
       "    </tr>\n",
       "    <tr>\n",
       "      <td>1</td>\n",
       "      <td>Запустить собственную службу доставки, что сок...</td>\n",
       "      <td>4</td>\n",
       "    </tr>\n",
       "    <tr>\n",
       "      <td>5</td>\n",
       "      <td>Добавить страницу отзывов клиентов о магазине,...</td>\n",
       "      <td>4</td>\n",
       "    </tr>\n",
       "    <tr>\n",
       "      <td>4</td>\n",
       "      <td>Изменить цвет фона главной страницы, чтобы уве...</td>\n",
       "      <td>3</td>\n",
       "    </tr>\n",
       "  </tbody>\n",
       "</table>\n",
       "</div>"
      ],
      "text/plain": [
       "                                          Hypothesis  RICE\n",
       "7  Добавить форму подписки на все основные страни...   112\n",
       "2  Добавить блоки рекомендаций товаров на сайт ин...    56\n",
       "0  Добавить два новых канала привлечения трафика,...    40\n",
       "6  Показать на главной странице баннеры с актуаль...    40\n",
       "8  Запустить акцию, дающую скидку на товар в день...    16\n",
       "3  Изменить структура категорий, что увеличит кон...     9\n",
       "1  Запустить собственную службу доставки, что сок...     4\n",
       "5  Добавить страницу отзывов клиентов о магазине,...     4\n",
       "4  Изменить цвет фона главной страницы, чтобы уве...     3"
      ]
     },
     "execution_count": 5,
     "metadata": {},
     "output_type": "execute_result"
    }
   ],
   "source": [
    "# метод RICE\n",
    "hypothesis['RICE'] = hypothesis['Reach'] * hypothesis['Impact'] * hypothesis['Confidence'] / hypothesis['Efforts']\n",
    "hypothesis['RICE'] = hypothesis['RICE'].astype('int')\n",
    "hypothesis[['Hypothesis', 'RICE']].sort_values(by='RICE', ascending=False)"
   ]
  },
  {
   "cell_type": "markdown",
   "metadata": {},
   "source": [
    "Применив данный метод наблюдаем перспективность гипотез в порядке убывания (от более перспективных, к менее)."
   ]
  },
  {
   "cell_type": "code",
   "execution_count": 6,
   "metadata": {},
   "outputs": [
    {
     "data": {
      "text/html": [
       "<style  type=\"text/css\" >\n",
       "    #T_ee579810_8729_11eb_89a6_02420a39aa3frow0_col5 {\n",
       "            width:  10em;\n",
       "             height:  80%;\n",
       "            background:  linear-gradient(90deg,#5fba7d 80.0%, transparent 80.0%);\n",
       "        }    #T_ee579810_8729_11eb_89a6_02420a39aa3frow0_col6 {\n",
       "            width:  10em;\n",
       "             height:  80%;\n",
       "            background:  linear-gradient(90deg,#5fba7d 33.9%, transparent 33.9%);\n",
       "        }    #T_ee579810_8729_11eb_89a6_02420a39aa3frow1_col5 {\n",
       "            width:  10em;\n",
       "             height:  80%;\n",
       "            background:  linear-gradient(90deg,#5fba7d 6.7%, transparent 6.7%);\n",
       "        }    #T_ee579810_8729_11eb_89a6_02420a39aa3frow1_col6 {\n",
       "            width:  10em;\n",
       "             height:  80%;\n",
       "            background:  linear-gradient(90deg,#5fba7d 0.9%, transparent 0.9%);\n",
       "        }    #T_ee579810_8729_11eb_89a6_02420a39aa3frow2_col5 {\n",
       "            width:  10em;\n",
       "             height:  80%;\n",
       "            background:  linear-gradient(90deg,#5fba7d 40.0%, transparent 40.0%);\n",
       "        }    #T_ee579810_8729_11eb_89a6_02420a39aa3frow2_col6 {\n",
       "            width:  10em;\n",
       "             height:  80%;\n",
       "            background:  linear-gradient(90deg,#5fba7d 48.6%, transparent 48.6%);\n",
       "        }    #T_ee579810_8729_11eb_89a6_02420a39aa3frow3_col5 {\n",
       "            width:  10em;\n",
       "             height:  80%;\n",
       "        }    #T_ee579810_8729_11eb_89a6_02420a39aa3frow3_col6 {\n",
       "            width:  10em;\n",
       "             height:  80%;\n",
       "            background:  linear-gradient(90deg,#5fba7d 5.5%, transparent 5.5%);\n",
       "        }    #T_ee579810_8729_11eb_89a6_02420a39aa3frow4_col5 {\n",
       "            width:  10em;\n",
       "             height:  80%;\n",
       "        }    #T_ee579810_8729_11eb_89a6_02420a39aa3frow4_col6 {\n",
       "            width:  10em;\n",
       "             height:  80%;\n",
       "        }    #T_ee579810_8729_11eb_89a6_02420a39aa3frow5_col5 {\n",
       "            width:  10em;\n",
       "             height:  80%;\n",
       "        }    #T_ee579810_8729_11eb_89a6_02420a39aa3frow5_col6 {\n",
       "            width:  10em;\n",
       "             height:  80%;\n",
       "            background:  linear-gradient(90deg,#5fba7d 0.9%, transparent 0.9%);\n",
       "        }    #T_ee579810_8729_11eb_89a6_02420a39aa3frow6_col5 {\n",
       "            width:  10em;\n",
       "             height:  80%;\n",
       "            background:  linear-gradient(90deg,#5fba7d 46.7%, transparent 46.7%);\n",
       "        }    #T_ee579810_8729_11eb_89a6_02420a39aa3frow6_col6 {\n",
       "            width:  10em;\n",
       "             height:  80%;\n",
       "            background:  linear-gradient(90deg,#5fba7d 33.9%, transparent 33.9%);\n",
       "        }    #T_ee579810_8729_11eb_89a6_02420a39aa3frow7_col5 {\n",
       "            width:  10em;\n",
       "             height:  80%;\n",
       "            background:  linear-gradient(90deg,#5fba7d 66.7%, transparent 66.7%);\n",
       "        }    #T_ee579810_8729_11eb_89a6_02420a39aa3frow7_col6 {\n",
       "            width:  10em;\n",
       "             height:  80%;\n",
       "            background:  linear-gradient(90deg,#5fba7d 100.0%, transparent 100.0%);\n",
       "        }    #T_ee579810_8729_11eb_89a6_02420a39aa3frow8_col5 {\n",
       "            width:  10em;\n",
       "             height:  80%;\n",
       "            background:  linear-gradient(90deg,#5fba7d 100.0%, transparent 100.0%);\n",
       "        }    #T_ee579810_8729_11eb_89a6_02420a39aa3frow8_col6 {\n",
       "            width:  10em;\n",
       "             height:  80%;\n",
       "            background:  linear-gradient(90deg,#5fba7d 11.9%, transparent 11.9%);\n",
       "        }</style><table id=\"T_ee579810_8729_11eb_89a6_02420a39aa3f\" ><thead>    <tr>        <th class=\"blank level0\" ></th>        <th class=\"col_heading level0 col0\" >Hypothesis</th>        <th class=\"col_heading level0 col1\" >Reach</th>        <th class=\"col_heading level0 col2\" >Impact</th>        <th class=\"col_heading level0 col3\" >Confidence</th>        <th class=\"col_heading level0 col4\" >Efforts</th>        <th class=\"col_heading level0 col5\" >ICE</th>        <th class=\"col_heading level0 col6\" >RICE</th>    </tr></thead><tbody>\n",
       "                <tr>\n",
       "                        <th id=\"T_ee579810_8729_11eb_89a6_02420a39aa3flevel0_row0\" class=\"row_heading level0 row0\" >0</th>\n",
       "                        <td id=\"T_ee579810_8729_11eb_89a6_02420a39aa3frow0_col0\" class=\"data row0 col0\" >Добавить два новых канала привлечения трафика, что позволит привлекать на 30% больше пользователей</td>\n",
       "                        <td id=\"T_ee579810_8729_11eb_89a6_02420a39aa3frow0_col1\" class=\"data row0 col1\" >3</td>\n",
       "                        <td id=\"T_ee579810_8729_11eb_89a6_02420a39aa3frow0_col2\" class=\"data row0 col2\" >10</td>\n",
       "                        <td id=\"T_ee579810_8729_11eb_89a6_02420a39aa3frow0_col3\" class=\"data row0 col3\" >8</td>\n",
       "                        <td id=\"T_ee579810_8729_11eb_89a6_02420a39aa3frow0_col4\" class=\"data row0 col4\" >6</td>\n",
       "                        <td id=\"T_ee579810_8729_11eb_89a6_02420a39aa3frow0_col5\" class=\"data row0 col5\" >13</td>\n",
       "                        <td id=\"T_ee579810_8729_11eb_89a6_02420a39aa3frow0_col6\" class=\"data row0 col6\" >40</td>\n",
       "            </tr>\n",
       "            <tr>\n",
       "                        <th id=\"T_ee579810_8729_11eb_89a6_02420a39aa3flevel0_row1\" class=\"row_heading level0 row1\" >1</th>\n",
       "                        <td id=\"T_ee579810_8729_11eb_89a6_02420a39aa3frow1_col0\" class=\"data row1 col0\" >Запустить собственную службу доставки, что сократит срок доставки заказов</td>\n",
       "                        <td id=\"T_ee579810_8729_11eb_89a6_02420a39aa3frow1_col1\" class=\"data row1 col1\" >2</td>\n",
       "                        <td id=\"T_ee579810_8729_11eb_89a6_02420a39aa3frow1_col2\" class=\"data row1 col2\" >5</td>\n",
       "                        <td id=\"T_ee579810_8729_11eb_89a6_02420a39aa3frow1_col3\" class=\"data row1 col3\" >4</td>\n",
       "                        <td id=\"T_ee579810_8729_11eb_89a6_02420a39aa3frow1_col4\" class=\"data row1 col4\" >10</td>\n",
       "                        <td id=\"T_ee579810_8729_11eb_89a6_02420a39aa3frow1_col5\" class=\"data row1 col5\" >2</td>\n",
       "                        <td id=\"T_ee579810_8729_11eb_89a6_02420a39aa3frow1_col6\" class=\"data row1 col6\" >4</td>\n",
       "            </tr>\n",
       "            <tr>\n",
       "                        <th id=\"T_ee579810_8729_11eb_89a6_02420a39aa3flevel0_row2\" class=\"row_heading level0 row2\" >2</th>\n",
       "                        <td id=\"T_ee579810_8729_11eb_89a6_02420a39aa3frow2_col0\" class=\"data row2 col0\" >Добавить блоки рекомендаций товаров на сайт интернет магазина, чтобы повысить конверсию и средний чек заказа</td>\n",
       "                        <td id=\"T_ee579810_8729_11eb_89a6_02420a39aa3frow2_col1\" class=\"data row2 col1\" >8</td>\n",
       "                        <td id=\"T_ee579810_8729_11eb_89a6_02420a39aa3frow2_col2\" class=\"data row2 col2\" >3</td>\n",
       "                        <td id=\"T_ee579810_8729_11eb_89a6_02420a39aa3frow2_col3\" class=\"data row2 col3\" >7</td>\n",
       "                        <td id=\"T_ee579810_8729_11eb_89a6_02420a39aa3frow2_col4\" class=\"data row2 col4\" >3</td>\n",
       "                        <td id=\"T_ee579810_8729_11eb_89a6_02420a39aa3frow2_col5\" class=\"data row2 col5\" >7</td>\n",
       "                        <td id=\"T_ee579810_8729_11eb_89a6_02420a39aa3frow2_col6\" class=\"data row2 col6\" >56</td>\n",
       "            </tr>\n",
       "            <tr>\n",
       "                        <th id=\"T_ee579810_8729_11eb_89a6_02420a39aa3flevel0_row3\" class=\"row_heading level0 row3\" >3</th>\n",
       "                        <td id=\"T_ee579810_8729_11eb_89a6_02420a39aa3frow3_col0\" class=\"data row3 col0\" >Изменить структура категорий, что увеличит конверсию, т.к. пользователи быстрее найдут нужный товар</td>\n",
       "                        <td id=\"T_ee579810_8729_11eb_89a6_02420a39aa3frow3_col1\" class=\"data row3 col1\" >8</td>\n",
       "                        <td id=\"T_ee579810_8729_11eb_89a6_02420a39aa3frow3_col2\" class=\"data row3 col2\" >3</td>\n",
       "                        <td id=\"T_ee579810_8729_11eb_89a6_02420a39aa3frow3_col3\" class=\"data row3 col3\" >3</td>\n",
       "                        <td id=\"T_ee579810_8729_11eb_89a6_02420a39aa3frow3_col4\" class=\"data row3 col4\" >8</td>\n",
       "                        <td id=\"T_ee579810_8729_11eb_89a6_02420a39aa3frow3_col5\" class=\"data row3 col5\" >1</td>\n",
       "                        <td id=\"T_ee579810_8729_11eb_89a6_02420a39aa3frow3_col6\" class=\"data row3 col6\" >9</td>\n",
       "            </tr>\n",
       "            <tr>\n",
       "                        <th id=\"T_ee579810_8729_11eb_89a6_02420a39aa3flevel0_row4\" class=\"row_heading level0 row4\" >4</th>\n",
       "                        <td id=\"T_ee579810_8729_11eb_89a6_02420a39aa3frow4_col0\" class=\"data row4 col0\" >Изменить цвет фона главной страницы, чтобы увеличить вовлеченность пользователей</td>\n",
       "                        <td id=\"T_ee579810_8729_11eb_89a6_02420a39aa3frow4_col1\" class=\"data row4 col1\" >3</td>\n",
       "                        <td id=\"T_ee579810_8729_11eb_89a6_02420a39aa3frow4_col2\" class=\"data row4 col2\" >1</td>\n",
       "                        <td id=\"T_ee579810_8729_11eb_89a6_02420a39aa3frow4_col3\" class=\"data row4 col3\" >1</td>\n",
       "                        <td id=\"T_ee579810_8729_11eb_89a6_02420a39aa3frow4_col4\" class=\"data row4 col4\" >1</td>\n",
       "                        <td id=\"T_ee579810_8729_11eb_89a6_02420a39aa3frow4_col5\" class=\"data row4 col5\" >1</td>\n",
       "                        <td id=\"T_ee579810_8729_11eb_89a6_02420a39aa3frow4_col6\" class=\"data row4 col6\" >3</td>\n",
       "            </tr>\n",
       "            <tr>\n",
       "                        <th id=\"T_ee579810_8729_11eb_89a6_02420a39aa3flevel0_row5\" class=\"row_heading level0 row5\" >5</th>\n",
       "                        <td id=\"T_ee579810_8729_11eb_89a6_02420a39aa3frow5_col0\" class=\"data row5 col0\" >Добавить страницу отзывов клиентов о магазине, что позволит увеличить количество заказов</td>\n",
       "                        <td id=\"T_ee579810_8729_11eb_89a6_02420a39aa3frow5_col1\" class=\"data row5 col1\" >3</td>\n",
       "                        <td id=\"T_ee579810_8729_11eb_89a6_02420a39aa3frow5_col2\" class=\"data row5 col2\" >2</td>\n",
       "                        <td id=\"T_ee579810_8729_11eb_89a6_02420a39aa3frow5_col3\" class=\"data row5 col3\" >2</td>\n",
       "                        <td id=\"T_ee579810_8729_11eb_89a6_02420a39aa3frow5_col4\" class=\"data row5 col4\" >3</td>\n",
       "                        <td id=\"T_ee579810_8729_11eb_89a6_02420a39aa3frow5_col5\" class=\"data row5 col5\" >1</td>\n",
       "                        <td id=\"T_ee579810_8729_11eb_89a6_02420a39aa3frow5_col6\" class=\"data row5 col6\" >4</td>\n",
       "            </tr>\n",
       "            <tr>\n",
       "                        <th id=\"T_ee579810_8729_11eb_89a6_02420a39aa3flevel0_row6\" class=\"row_heading level0 row6\" >6</th>\n",
       "                        <td id=\"T_ee579810_8729_11eb_89a6_02420a39aa3frow6_col0\" class=\"data row6 col0\" >Показать на главной странице баннеры с актуальными акциями и распродажами, чтобы увеличить конверсию</td>\n",
       "                        <td id=\"T_ee579810_8729_11eb_89a6_02420a39aa3frow6_col1\" class=\"data row6 col1\" >5</td>\n",
       "                        <td id=\"T_ee579810_8729_11eb_89a6_02420a39aa3frow6_col2\" class=\"data row6 col2\" >3</td>\n",
       "                        <td id=\"T_ee579810_8729_11eb_89a6_02420a39aa3frow6_col3\" class=\"data row6 col3\" >8</td>\n",
       "                        <td id=\"T_ee579810_8729_11eb_89a6_02420a39aa3frow6_col4\" class=\"data row6 col4\" >3</td>\n",
       "                        <td id=\"T_ee579810_8729_11eb_89a6_02420a39aa3frow6_col5\" class=\"data row6 col5\" >8</td>\n",
       "                        <td id=\"T_ee579810_8729_11eb_89a6_02420a39aa3frow6_col6\" class=\"data row6 col6\" >40</td>\n",
       "            </tr>\n",
       "            <tr>\n",
       "                        <th id=\"T_ee579810_8729_11eb_89a6_02420a39aa3flevel0_row7\" class=\"row_heading level0 row7\" >7</th>\n",
       "                        <td id=\"T_ee579810_8729_11eb_89a6_02420a39aa3frow7_col0\" class=\"data row7 col0\" >Добавить форму подписки на все основные страницы, чтобы собрать базу клиентов для email-рассылок</td>\n",
       "                        <td id=\"T_ee579810_8729_11eb_89a6_02420a39aa3frow7_col1\" class=\"data row7 col1\" >10</td>\n",
       "                        <td id=\"T_ee579810_8729_11eb_89a6_02420a39aa3frow7_col2\" class=\"data row7 col2\" >7</td>\n",
       "                        <td id=\"T_ee579810_8729_11eb_89a6_02420a39aa3frow7_col3\" class=\"data row7 col3\" >8</td>\n",
       "                        <td id=\"T_ee579810_8729_11eb_89a6_02420a39aa3frow7_col4\" class=\"data row7 col4\" >5</td>\n",
       "                        <td id=\"T_ee579810_8729_11eb_89a6_02420a39aa3frow7_col5\" class=\"data row7 col5\" >11</td>\n",
       "                        <td id=\"T_ee579810_8729_11eb_89a6_02420a39aa3frow7_col6\" class=\"data row7 col6\" >112</td>\n",
       "            </tr>\n",
       "            <tr>\n",
       "                        <th id=\"T_ee579810_8729_11eb_89a6_02420a39aa3flevel0_row8\" class=\"row_heading level0 row8\" >8</th>\n",
       "                        <td id=\"T_ee579810_8729_11eb_89a6_02420a39aa3frow8_col0\" class=\"data row8 col0\" >Запустить акцию, дающую скидку на товар в день рождения</td>\n",
       "                        <td id=\"T_ee579810_8729_11eb_89a6_02420a39aa3frow8_col1\" class=\"data row8 col1\" >1</td>\n",
       "                        <td id=\"T_ee579810_8729_11eb_89a6_02420a39aa3frow8_col2\" class=\"data row8 col2\" >9</td>\n",
       "                        <td id=\"T_ee579810_8729_11eb_89a6_02420a39aa3frow8_col3\" class=\"data row8 col3\" >9</td>\n",
       "                        <td id=\"T_ee579810_8729_11eb_89a6_02420a39aa3frow8_col4\" class=\"data row8 col4\" >5</td>\n",
       "                        <td id=\"T_ee579810_8729_11eb_89a6_02420a39aa3frow8_col5\" class=\"data row8 col5\" >16</td>\n",
       "                        <td id=\"T_ee579810_8729_11eb_89a6_02420a39aa3frow8_col6\" class=\"data row8 col6\" >16</td>\n",
       "            </tr>\n",
       "    </tbody></table>"
      ],
      "text/plain": [
       "<pandas.io.formats.style.Styler at 0x7fb6e3540c50>"
      ]
     },
     "execution_count": 6,
     "metadata": {},
     "output_type": "execute_result"
    }
   ],
   "source": [
    "hypothesis.style.bar(subset=['ICE', 'RICE'], color=['#5fba7d'])"
   ]
  },
  {
   "cell_type": "markdown",
   "metadata": {},
   "source": [
    "#### Вывод:\n",
    "\n",
    "При применении разных методов приоритезации гипотез мы получили и разные результаты. Это произошло из-за того, что в отличии от метода ICE, метод RICE учитывает компонент Reach (скольких пользователей затронет изменение, которое вы хотите внести). Учет данного компонента хорошо отображает гипотеза: \"Добавить форму подписки на все основные страницы, чтобы собрать базу клиентов для email-рассылок\", которая в методе ICE занимала 3 место в приоритете, но с применением метода RICH занимает уверенное первое место потому, что имеет наивысший бал в компоненте Reach, в совокупными высокими балами в других компонентах. А лидер метода ICE гипотеза \"Запустить акцию, дающую скидку на товар в день рождения\" имеет очень низкий балл в компоненте Reach, поэтому при использовании метода RICE опустился на 5 место в списке. "
   ]
  },
  {
   "cell_type": "markdown",
   "metadata": {},
   "source": [
    "## Часть 2. Анализ A/B-теста<a id=\"parth2\"></a>"
   ]
  },
  {
   "cell_type": "code",
   "execution_count": 7,
   "metadata": {},
   "outputs": [
    {
     "data": {
      "text/html": [
       "<div>\n",
       "<style scoped>\n",
       "    .dataframe tbody tr th:only-of-type {\n",
       "        vertical-align: middle;\n",
       "    }\n",
       "\n",
       "    .dataframe tbody tr th {\n",
       "        vertical-align: top;\n",
       "    }\n",
       "\n",
       "    .dataframe thead th {\n",
       "        text-align: right;\n",
       "    }\n",
       "</style>\n",
       "<table border=\"1\" class=\"dataframe\">\n",
       "  <thead>\n",
       "    <tr style=\"text-align: right;\">\n",
       "      <th></th>\n",
       "      <th>transactionId</th>\n",
       "      <th>visitorId</th>\n",
       "      <th>date</th>\n",
       "      <th>revenue</th>\n",
       "      <th>group</th>\n",
       "    </tr>\n",
       "  </thead>\n",
       "  <tbody>\n",
       "    <tr>\n",
       "      <td>291</td>\n",
       "      <td>2315635631</td>\n",
       "      <td>2606208134</td>\n",
       "      <td>2019-08-03</td>\n",
       "      <td>4299</td>\n",
       "      <td>A</td>\n",
       "    </tr>\n",
       "    <tr>\n",
       "      <td>893</td>\n",
       "      <td>3390166538</td>\n",
       "      <td>329726006</td>\n",
       "      <td>2019-08-21</td>\n",
       "      <td>4188</td>\n",
       "      <td>A</td>\n",
       "    </tr>\n",
       "    <tr>\n",
       "      <td>370</td>\n",
       "      <td>857639553</td>\n",
       "      <td>2044997962</td>\n",
       "      <td>2019-08-24</td>\n",
       "      <td>2540</td>\n",
       "      <td>A</td>\n",
       "    </tr>\n",
       "    <tr>\n",
       "      <td>702</td>\n",
       "      <td>1936881098</td>\n",
       "      <td>3607649875</td>\n",
       "      <td>2019-08-07</td>\n",
       "      <td>2555</td>\n",
       "      <td>A</td>\n",
       "    </tr>\n",
       "    <tr>\n",
       "      <td>366</td>\n",
       "      <td>2037051350</td>\n",
       "      <td>1957949546</td>\n",
       "      <td>2019-08-19</td>\n",
       "      <td>16770</td>\n",
       "      <td>A</td>\n",
       "    </tr>\n",
       "  </tbody>\n",
       "</table>\n",
       "</div>"
      ],
      "text/plain": [
       "     transactionId   visitorId        date  revenue group\n",
       "291     2315635631  2606208134  2019-08-03     4299     A\n",
       "893     3390166538   329726006  2019-08-21     4188     A\n",
       "370      857639553  2044997962  2019-08-24     2540     A\n",
       "702     1936881098  3607649875  2019-08-07     2555     A\n",
       "366     2037051350  1957949546  2019-08-19    16770     A"
      ]
     },
     "execution_count": 7,
     "metadata": {},
     "output_type": "execute_result"
    }
   ],
   "source": [
    "orders = pd.read_csv('/datasets/orders.csv', sep=',')\n",
    "orders.sample(5)"
   ]
  },
  {
   "cell_type": "code",
   "execution_count": 8,
   "metadata": {},
   "outputs": [
    {
     "name": "stdout",
     "output_type": "stream",
     "text": [
      "<class 'pandas.core.frame.DataFrame'>\n",
      "RangeIndex: 1197 entries, 0 to 1196\n",
      "Data columns (total 5 columns):\n",
      "transactionId    1197 non-null int64\n",
      "visitorId        1197 non-null int64\n",
      "date             1197 non-null object\n",
      "revenue          1197 non-null int64\n",
      "group            1197 non-null object\n",
      "dtypes: int64(3), object(2)\n",
      "memory usage: 46.9+ KB\n"
     ]
    }
   ],
   "source": [
    "orders.info()\n",
    "# изменим тип данных даты\n",
    "orders['date'] = orders['date'].map(lambda x: dt.datetime.strptime(x, '%Y-%m-%d'))"
   ]
  },
  {
   "cell_type": "code",
   "execution_count": 9,
   "metadata": {},
   "outputs": [
    {
     "name": "stdout",
     "output_type": "stream",
     "text": [
      "Сумарное количество пропущенных значений по столбцам:\n"
     ]
    },
    {
     "data": {
      "text/plain": [
       "transactionId    0\n",
       "visitorId        0\n",
       "date             0\n",
       "revenue          0\n",
       "group            0\n",
       "dtype: int64"
      ]
     },
     "execution_count": 9,
     "metadata": {},
     "output_type": "execute_result"
    }
   ],
   "source": [
    "print('Сумарное количество пропущенных значений по столбцам:')\n",
    "orders.isna().sum()"
   ]
  },
  {
   "cell_type": "code",
   "execution_count": 10,
   "metadata": {},
   "outputs": [
    {
     "name": "stdout",
     "output_type": "stream",
     "text": [
      "Количество дублирующихся строк: 0\n"
     ]
    }
   ],
   "source": [
    "print('Количество дублирующихся строк:', orders.duplicated().sum())"
   ]
  },
  {
   "cell_type": "code",
   "execution_count": 11,
   "metadata": {},
   "outputs": [
    {
     "name": "stdout",
     "output_type": "stream",
     "text": [
      "2019-08-01 00:00:00 - 2019-08-31 00:00:00\n"
     ]
    }
   ],
   "source": [
    "print(orders['date'].min(), '-', orders['date'].max())"
   ]
  },
  {
   "cell_type": "code",
   "execution_count": 12,
   "metadata": {},
   "outputs": [
    {
     "name": "stdout",
     "output_type": "stream",
     "text": [
      "Количество пользователей которые попали в обе группы: (58, 3)\n",
      "Количество уникальных пользователей: 1197\n",
      "Соотношение пересекаемых пользователей в данных 4.85%\n",
      "Количество покупок у пользователей которые попали в обе группы: 181\n",
      "Соотношение пересекаемых покупок всех пользователей к тем что попали в две группы 15.12%\n"
     ]
    }
   ],
   "source": [
    "orders_uniq = orders.pivot_table(index='visitorId', columns='group', values = 'revenue', aggfunc='count').reset_index()\n",
    "orders_uniq = orders_uniq.query('A > 0 and B > 0')\n",
    "print('Количество пользователей которые попали в обе группы:', orders_uniq.shape)\n",
    "print('Количество уникальных пользователей:', len(orders['transactionId'].unique()))\n",
    "print('Соотношение пересекаемых пользователей в данных {:.2%}'.format(58 / 1197))\n",
    "print('Количество покупок у пользователей которые попали в обе группы:', int(orders_uniq['A'].sum() + orders_uniq['B'].sum()))\n",
    "print('Соотношение пересекаемых покупок всех пользователей к тем что попали в две группы {:.2%}'\n",
    "      .format(181 / orders['transactionId'].count()))\n"
   ]
  },
  {
   "cell_type": "markdown",
   "metadata": {},
   "source": [
    "В датафрейме orders содержатся данные о покупках за период с 2019-08-01 00:00:00 по 2019-08-31 00:00:00. Пропущенных значений и дубликатов в данных нет. Тип данных в столбце с датой был изменен на datetime. Так же по результатам теста 58 пользователей (4.85% от всех пользователей) попали в обе группы, это 181 покупка (15% от всех покупок). Такое могло произойти в следствии:\n",
    "\n",
    "- один пользователь заходил на наш сайт с разных устройств (из-за этого наш сайт получал разные сookie и аутентифицировал пользователя в разные группы);\n",
    "\n",
    "- возможно техническая ошибка.\n",
    "\n",
    "Будем считать что такие пересечения в данных приемлемы для проведения дальнейшего теста."
   ]
  },
  {
   "cell_type": "code",
   "execution_count": 13,
   "metadata": {},
   "outputs": [
    {
     "data": {
      "text/html": [
       "<div>\n",
       "<style scoped>\n",
       "    .dataframe tbody tr th:only-of-type {\n",
       "        vertical-align: middle;\n",
       "    }\n",
       "\n",
       "    .dataframe tbody tr th {\n",
       "        vertical-align: top;\n",
       "    }\n",
       "\n",
       "    .dataframe thead th {\n",
       "        text-align: right;\n",
       "    }\n",
       "</style>\n",
       "<table border=\"1\" class=\"dataframe\">\n",
       "  <thead>\n",
       "    <tr style=\"text-align: right;\">\n",
       "      <th></th>\n",
       "      <th>date</th>\n",
       "      <th>group</th>\n",
       "      <th>visitors</th>\n",
       "    </tr>\n",
       "  </thead>\n",
       "  <tbody>\n",
       "    <tr>\n",
       "      <td>51</td>\n",
       "      <td>2019-08-21</td>\n",
       "      <td>B</td>\n",
       "      <td>656</td>\n",
       "    </tr>\n",
       "    <tr>\n",
       "      <td>60</td>\n",
       "      <td>2019-08-30</td>\n",
       "      <td>B</td>\n",
       "      <td>490</td>\n",
       "    </tr>\n",
       "    <tr>\n",
       "      <td>2</td>\n",
       "      <td>2019-08-03</td>\n",
       "      <td>A</td>\n",
       "      <td>507</td>\n",
       "    </tr>\n",
       "    <tr>\n",
       "      <td>47</td>\n",
       "      <td>2019-08-17</td>\n",
       "      <td>B</td>\n",
       "      <td>421</td>\n",
       "    </tr>\n",
       "    <tr>\n",
       "      <td>1</td>\n",
       "      <td>2019-08-02</td>\n",
       "      <td>A</td>\n",
       "      <td>619</td>\n",
       "    </tr>\n",
       "  </tbody>\n",
       "</table>\n",
       "</div>"
      ],
      "text/plain": [
       "          date group  visitors\n",
       "51  2019-08-21     B       656\n",
       "60  2019-08-30     B       490\n",
       "2   2019-08-03     A       507\n",
       "47  2019-08-17     B       421\n",
       "1   2019-08-02     A       619"
      ]
     },
     "execution_count": 13,
     "metadata": {},
     "output_type": "execute_result"
    }
   ],
   "source": [
    "visitors = pd.read_csv('/datasets/visitors.csv', sep=',')\n",
    "visitors.sample(5)"
   ]
  },
  {
   "cell_type": "code",
   "execution_count": 14,
   "metadata": {},
   "outputs": [
    {
     "name": "stdout",
     "output_type": "stream",
     "text": [
      "<class 'pandas.core.frame.DataFrame'>\n",
      "RangeIndex: 62 entries, 0 to 61\n",
      "Data columns (total 3 columns):\n",
      "date        62 non-null object\n",
      "group       62 non-null object\n",
      "visitors    62 non-null int64\n",
      "dtypes: int64(1), object(2)\n",
      "memory usage: 1.6+ KB\n"
     ]
    }
   ],
   "source": [
    "visitors.info()\n",
    "# изменим тип данных даты\n",
    "visitors['date'] = visitors['date'].map(lambda x: dt.datetime.strptime(x, '%Y-%m-%d'))"
   ]
  },
  {
   "cell_type": "code",
   "execution_count": 15,
   "metadata": {},
   "outputs": [
    {
     "name": "stdout",
     "output_type": "stream",
     "text": [
      "Сумарное количество пропущенных значений по столбцам:\n"
     ]
    },
    {
     "data": {
      "text/plain": [
       "date        0\n",
       "group       0\n",
       "visitors    0\n",
       "dtype: int64"
      ]
     },
     "execution_count": 15,
     "metadata": {},
     "output_type": "execute_result"
    }
   ],
   "source": [
    "print('Сумарное количество пропущенных значений по столбцам:')\n",
    "visitors.isna().sum()"
   ]
  },
  {
   "cell_type": "code",
   "execution_count": 16,
   "metadata": {},
   "outputs": [
    {
     "name": "stdout",
     "output_type": "stream",
     "text": [
      "Количество дублирующихся строк: 0\n"
     ]
    }
   ],
   "source": [
    "print('Количество дублирующихся строк:', visitors.duplicated().sum())"
   ]
  },
  {
   "cell_type": "code",
   "execution_count": 17,
   "metadata": {},
   "outputs": [
    {
     "name": "stdout",
     "output_type": "stream",
     "text": [
      "2019-08-01 00:00:00 - 2019-08-31 00:00:00\n"
     ]
    }
   ],
   "source": [
    "print(visitors['date'].min(), '-', visitors['date'].max())"
   ]
  },
  {
   "cell_type": "markdown",
   "metadata": {},
   "source": [
    "В датафрейме visitors содержатся данные о визитах нашего сайта за период с 2019-08-01 00:00:00 по 2019-08-31 00:00:00. Пропущенных значений и дубликатов в данных нет. Тип данных в столбце с датой был изменен на datetime."
   ]
  },
  {
   "cell_type": "markdown",
   "metadata": {},
   "source": [
    "#### 2.1 Построим графики комулятивной выручке <a id=\"parth2.1\"></a>"
   ]
  },
  {
   "cell_type": "markdown",
   "metadata": {},
   "source": [
    "Чтобы построить графики, нужно собрать кумулятивные данные в одном датафрейме:"
   ]
  },
  {
   "cell_type": "code",
   "execution_count": 18,
   "metadata": {},
   "outputs": [
    {
     "data": {
      "text/html": [
       "<div>\n",
       "<style scoped>\n",
       "    .dataframe tbody tr th:only-of-type {\n",
       "        vertical-align: middle;\n",
       "    }\n",
       "\n",
       "    .dataframe tbody tr th {\n",
       "        vertical-align: top;\n",
       "    }\n",
       "\n",
       "    .dataframe thead th {\n",
       "        text-align: right;\n",
       "    }\n",
       "</style>\n",
       "<table border=\"1\" class=\"dataframe\">\n",
       "  <thead>\n",
       "    <tr style=\"text-align: right;\">\n",
       "      <th></th>\n",
       "      <th>date</th>\n",
       "      <th>group</th>\n",
       "      <th>transactionId</th>\n",
       "      <th>buyers</th>\n",
       "      <th>revenue</th>\n",
       "      <th>visitors</th>\n",
       "    </tr>\n",
       "  </thead>\n",
       "  <tbody>\n",
       "    <tr>\n",
       "      <td>0</td>\n",
       "      <td>2019-08-01</td>\n",
       "      <td>A</td>\n",
       "      <td>24</td>\n",
       "      <td>20</td>\n",
       "      <td>148579</td>\n",
       "      <td>719</td>\n",
       "    </tr>\n",
       "    <tr>\n",
       "      <td>1</td>\n",
       "      <td>2019-08-01</td>\n",
       "      <td>B</td>\n",
       "      <td>21</td>\n",
       "      <td>20</td>\n",
       "      <td>101217</td>\n",
       "      <td>713</td>\n",
       "    </tr>\n",
       "    <tr>\n",
       "      <td>2</td>\n",
       "      <td>2019-08-02</td>\n",
       "      <td>A</td>\n",
       "      <td>44</td>\n",
       "      <td>38</td>\n",
       "      <td>242401</td>\n",
       "      <td>1338</td>\n",
       "    </tr>\n",
       "    <tr>\n",
       "      <td>3</td>\n",
       "      <td>2019-08-02</td>\n",
       "      <td>B</td>\n",
       "      <td>45</td>\n",
       "      <td>43</td>\n",
       "      <td>266748</td>\n",
       "      <td>1294</td>\n",
       "    </tr>\n",
       "    <tr>\n",
       "      <td>4</td>\n",
       "      <td>2019-08-03</td>\n",
       "      <td>A</td>\n",
       "      <td>68</td>\n",
       "      <td>62</td>\n",
       "      <td>354874</td>\n",
       "      <td>1845</td>\n",
       "    </tr>\n",
       "    <tr>\n",
       "      <td>...</td>\n",
       "      <td>...</td>\n",
       "      <td>...</td>\n",
       "      <td>...</td>\n",
       "      <td>...</td>\n",
       "      <td>...</td>\n",
       "      <td>...</td>\n",
       "    </tr>\n",
       "    <tr>\n",
       "      <td>57</td>\n",
       "      <td>2019-08-29</td>\n",
       "      <td>B</td>\n",
       "      <td>596</td>\n",
       "      <td>544</td>\n",
       "      <td>5559398</td>\n",
       "      <td>17708</td>\n",
       "    </tr>\n",
       "    <tr>\n",
       "      <td>58</td>\n",
       "      <td>2019-08-30</td>\n",
       "      <td>A</td>\n",
       "      <td>545</td>\n",
       "      <td>493</td>\n",
       "      <td>4022970</td>\n",
       "      <td>18037</td>\n",
       "    </tr>\n",
       "    <tr>\n",
       "      <td>59</td>\n",
       "      <td>2019-08-30</td>\n",
       "      <td>B</td>\n",
       "      <td>620</td>\n",
       "      <td>567</td>\n",
       "      <td>5774631</td>\n",
       "      <td>18198</td>\n",
       "    </tr>\n",
       "    <tr>\n",
       "      <td>60</td>\n",
       "      <td>2019-08-31</td>\n",
       "      <td>A</td>\n",
       "      <td>557</td>\n",
       "      <td>503</td>\n",
       "      <td>4084803</td>\n",
       "      <td>18736</td>\n",
       "    </tr>\n",
       "    <tr>\n",
       "      <td>61</td>\n",
       "      <td>2019-08-31</td>\n",
       "      <td>B</td>\n",
       "      <td>640</td>\n",
       "      <td>586</td>\n",
       "      <td>5907760</td>\n",
       "      <td>18916</td>\n",
       "    </tr>\n",
       "  </tbody>\n",
       "</table>\n",
       "<p>62 rows × 6 columns</p>\n",
       "</div>"
      ],
      "text/plain": [
       "         date group  transactionId  buyers  revenue  visitors\n",
       "0  2019-08-01     A             24      20   148579       719\n",
       "1  2019-08-01     B             21      20   101217       713\n",
       "2  2019-08-02     A             44      38   242401      1338\n",
       "3  2019-08-02     B             45      43   266748      1294\n",
       "4  2019-08-03     A             68      62   354874      1845\n",
       "..        ...   ...            ...     ...      ...       ...\n",
       "57 2019-08-29     B            596     544  5559398     17708\n",
       "58 2019-08-30     A            545     493  4022970     18037\n",
       "59 2019-08-30     B            620     567  5774631     18198\n",
       "60 2019-08-31     A            557     503  4084803     18736\n",
       "61 2019-08-31     B            640     586  5907760     18916\n",
       "\n",
       "[62 rows x 6 columns]"
      ]
     },
     "execution_count": 18,
     "metadata": {},
     "output_type": "execute_result"
    }
   ],
   "source": [
    "# найдем уникальную дату для каждой группы\n",
    "datesGroups = orders[['date','group']].drop_duplicates()\n",
    "# найдем число уникальных заказов и покупателей в каждоу группе на каждое число\n",
    "ordersAggregated = datesGroups.apply(\n",
    "    lambda x: orders[np.logical_and(orders['date'] <= x['date'], orders['group'] == x['group'])]\n",
    "                                    .agg({\n",
    "                                        'date' : 'max', \n",
    "                                        'group' : 'max', \n",
    "                                        'transactionId' : pd.Series.nunique, \n",
    "                                        'visitorId' : pd.Series.nunique, 'revenue' : 'sum'}), axis=1)\\\n",
    "                                    .sort_values(by=['date','group'])\n",
    "# количество уникальных посетителей в группе теста по указанную дату включительно\n",
    "visitorsAggregated = datesGroups.apply(\n",
    "    lambda x: visitors[np.logical_and(visitors['date'] <= x['date'], visitors['group'] == x['group'])]\n",
    "                                       .agg({\n",
    "                                           'date': 'max', \n",
    "                                           'group': 'max', \n",
    "                                           'visitors': 'sum'}), axis=1).sort_values(by=['date','group'])\n",
    "# объеденим комулятивные данные по дате и группе \n",
    "cumulativeData = ordersAggregated.merge(visitorsAggregated, on=['date', 'group'])\\\n",
    "                                 .rename(columns={'visitorId': 'buyers'})\n",
    "cumulativeData"
   ]
  },
  {
   "cell_type": "markdown",
   "metadata": {},
   "source": [
    "Создадим переменную для каждой группы и построим графики по коммулятивной выручке:"
   ]
  },
  {
   "cell_type": "code",
   "execution_count": 19,
   "metadata": {},
   "outputs": [],
   "source": [
    "# группа А\n",
    "cumulativeRevenueA = cumulativeData[cumulativeData['group'] == 'A'][['date', 'revenue', 'transactionId']]\n",
    "# группа B\n",
    "cumulativeRevenueB = cumulativeData[cumulativeData['group'] == 'B'][['date', 'revenue', 'transactionId']]"
   ]
  },
  {
   "cell_type": "code",
   "execution_count": 20,
   "metadata": {},
   "outputs": [
    {
     "data": {
      "image/png": "[encoded data removed]",
      "text/plain": [
       "<Figure size 1152x648 with 1 Axes>"
      ]
     },
     "metadata": {
      "needs_background": "light"
     },
     "output_type": "display_data"
    }
   ],
   "source": [
    "from pandas.plotting import register_matplotlib_converters\n",
    "register_matplotlib_converters()\n",
    "plt.subplots(figsize=(16,9))\n",
    "plt.title('Комулятивная выручка по группам', fontsize=20)\n",
    "plt.xlabel('Дата', fontsize=15)\n",
    "plt.ylabel('Выручка', fontsize=15)\n",
    "plt.plot(cumulativeRevenueA['date'], cumulativeRevenueA['revenue'], label='group A', linewidth=4.0)\n",
    "plt.plot(cumulativeRevenueB['date'], cumulativeRevenueB['revenue'], label='group B', linewidth=4.0)\n",
    "plt.legend()\n",
    "plt.show()"
   ]
  },
  {
   "cell_type": "markdown",
   "metadata": {},
   "source": [
    "Динамика выручек в обеих группах положительная (можно фиксировать только ежедневный рост). Первый 5 дней группы идут приблизительно с одинаковой выручкой, далее выручка группы В начинает немного возрастать над выручкой группы А. К 2009-08-13 выручки снова выравниваются, но после, и вплоть до окнца месяца выручка группы B начинает заметно увеличиваться. Причем в один из дней рост аномально большой, скорее всего на это повлияли выбросы.  "
   ]
  },
  {
   "cell_type": "markdown",
   "metadata": {},
   "source": [
    "#### 2.2 Построим график кумулятивного среднего чека по группам<a id=\"parth2.2\"></a>"
   ]
  },
  {
   "cell_type": "code",
   "execution_count": 21,
   "metadata": {},
   "outputs": [
    {
     "data": {
      "image/png": "[encoded data removed]",
      "text/plain": [
       "<Figure size 1152x648 with 1 Axes>"
      ]
     },
     "metadata": {
      "needs_background": "light"
     },
     "output_type": "display_data"
    }
   ],
   "source": [
    "plt.subplots(figsize=(16,9))\n",
    "plt.title('Средний чек по группам', fontsize=20)\n",
    "plt.xlabel('Дата', fontsize=15)\n",
    "plt.ylabel('Средний чек', fontsize=15)\n",
    "plt.plot(cumulativeRevenueA['date'], cumulativeRevenueA['revenue'] / cumulativeRevenueA['transactionId'], label='group A', linewidth=4.0)\n",
    "plt.plot(cumulativeRevenueB['date'], cumulativeRevenueB['revenue'] / cumulativeRevenueB['transactionId'], label='group B', linewidth=4.0)\n",
    "plt.legend()\n",
    "plt.show()"
   ]
  },
  {
   "cell_type": "markdown",
   "metadata": {},
   "source": [
    "В группе А в первой половине месяца следует падение среднего чека, а после постепенный рост, во второй половине месяца средний чек этой группы начинает выравниваться, с небольшим ростом. В группе В средний чек в первой половине месяца имеет характерный волнообразный характер. Во второй половине месяца в группе В наблюдается сильный скачок с 7000 до 10000, скорее всего на это повлияла крупная покупка (выброс), после которой средний чек постепенно падает. В этой группе нужно больше данных для установления реального показателя среднего чека."
   ]
  },
  {
   "cell_type": "markdown",
   "metadata": {},
   "source": [
    "#### 2.3 Построим график относительного изменения кумулятивного среднего чека группы B к группе A<a id=\"parth2.3\"></a>"
   ]
  },
  {
   "cell_type": "code",
   "execution_count": 22,
   "metadata": {},
   "outputs": [
    {
     "data": {
      "text/html": [
       "<div>\n",
       "<style scoped>\n",
       "    .dataframe tbody tr th:only-of-type {\n",
       "        vertical-align: middle;\n",
       "    }\n",
       "\n",
       "    .dataframe tbody tr th {\n",
       "        vertical-align: top;\n",
       "    }\n",
       "\n",
       "    .dataframe thead th {\n",
       "        text-align: right;\n",
       "    }\n",
       "</style>\n",
       "<table border=\"1\" class=\"dataframe\">\n",
       "  <thead>\n",
       "    <tr style=\"text-align: right;\">\n",
       "      <th></th>\n",
       "      <th>date</th>\n",
       "      <th>revenueA</th>\n",
       "      <th>transactionIdA</th>\n",
       "      <th>revenueB</th>\n",
       "      <th>transactionIdB</th>\n",
       "    </tr>\n",
       "  </thead>\n",
       "  <tbody>\n",
       "    <tr>\n",
       "      <td>0</td>\n",
       "      <td>2019-08-01</td>\n",
       "      <td>148579</td>\n",
       "      <td>24</td>\n",
       "      <td>101217</td>\n",
       "      <td>21</td>\n",
       "    </tr>\n",
       "    <tr>\n",
       "      <td>1</td>\n",
       "      <td>2019-08-02</td>\n",
       "      <td>242401</td>\n",
       "      <td>44</td>\n",
       "      <td>266748</td>\n",
       "      <td>45</td>\n",
       "    </tr>\n",
       "    <tr>\n",
       "      <td>2</td>\n",
       "      <td>2019-08-03</td>\n",
       "      <td>354874</td>\n",
       "      <td>68</td>\n",
       "      <td>380996</td>\n",
       "      <td>61</td>\n",
       "    </tr>\n",
       "    <tr>\n",
       "      <td>3</td>\n",
       "      <td>2019-08-04</td>\n",
       "      <td>425699</td>\n",
       "      <td>84</td>\n",
       "      <td>489567</td>\n",
       "      <td>78</td>\n",
       "    </tr>\n",
       "    <tr>\n",
       "      <td>4</td>\n",
       "      <td>2019-08-05</td>\n",
       "      <td>549917</td>\n",
       "      <td>109</td>\n",
       "      <td>581995</td>\n",
       "      <td>101</td>\n",
       "    </tr>\n",
       "  </tbody>\n",
       "</table>\n",
       "</div>"
      ],
      "text/plain": [
       "        date  revenueA  transactionIdA  revenueB  transactionIdB\n",
       "0 2019-08-01    148579              24    101217              21\n",
       "1 2019-08-02    242401              44    266748              45\n",
       "2 2019-08-03    354874              68    380996              61\n",
       "3 2019-08-04    425699              84    489567              78\n",
       "4 2019-08-05    549917             109    581995             101"
      ]
     },
     "execution_count": 22,
     "metadata": {},
     "output_type": "execute_result"
    }
   ],
   "source": [
    "# объеденим группы\n",
    "mergedCumulativeRevenue = cumulativeRevenueA.merge(cumulativeRevenueB, on='date', suffixes=['A', 'B'])\n",
    "mergedCumulativeRevenue.head()"
   ]
  },
  {
   "cell_type": "code",
   "execution_count": 23,
   "metadata": {},
   "outputs": [
    {
     "data": {
      "image/png": "[encoded data removed]",
      "text/plain": [
       "<Figure size 1152x648 with 1 Axes>"
      ]
     },
     "metadata": {
      "needs_background": "light"
     },
     "output_type": "display_data"
    }
   ],
   "source": [
    "# cтроим отношение средних чеков\n",
    "plt.subplots(figsize=(16,9))\n",
    "plt.title('Относительное различие сренего чека группы B к группе A', fontsize=20)\n",
    "plt.xlabel('Дата', fontsize=15)\n",
    "plt.ylabel('Средний чек', fontsize=15)\n",
    "plt.plot(mergedCumulativeRevenue['date'], \n",
    "         (mergedCumulativeRevenue['revenueB']/mergedCumulativeRevenue['transactionIdA'])/\n",
    "         (mergedCumulativeRevenue['revenueA']/mergedCumulativeRevenue['transactionIdA'])-1, \n",
    "         linewidth=4.0)\n",
    "plt.axhline(y=0, color='black', linestyle='--') \n",
    "plt.show()"
   ]
  },
  {
   "cell_type": "markdown",
   "metadata": {},
   "source": [
    "Средний чек группы В по сравнению с группой А на протяжении практически всего теста больше. Но видны резкие скачки и падения в определеные даты. Именно тогда и были совершены аномальные покупки."
   ]
  },
  {
   "cell_type": "markdown",
   "metadata": {},
   "source": [
    "#### 2.4 Построим график кумулятивной конверсии по группам<a id=\"parth2.4\"></a>"
   ]
  },
  {
   "cell_type": "code",
   "execution_count": 24,
   "metadata": {},
   "outputs": [],
   "source": [
    "# считаем кумулятивную конверсию\n",
    "cumulativeData['conversion'] = cumulativeData['transactionId'] / cumulativeData['visitors']\n",
    "# отфильтруем данные по группам\n",
    "cumulativeDataA = cumulativeData[cumulativeData['group'] == 'A']\n",
    "cumulativeDataB = cumulativeData[cumulativeData['group'] == 'B']"
   ]
  },
  {
   "cell_type": "code",
   "execution_count": 25,
   "metadata": {},
   "outputs": [
    {
     "data": {
      "image/png": "[encoded data removed]",
      "text/plain": [
       "<Figure size 1152x648 with 1 Axes>"
      ]
     },
     "metadata": {
      "needs_background": "light"
     },
     "output_type": "display_data"
    }
   ],
   "source": [
    "# строим график\n",
    "plt.subplots(figsize=(16,9))\n",
    "plt.title('Кумулятивная конверсия по группам', fontsize=20)\n",
    "plt.xlabel('Дата', fontsize=15)\n",
    "plt.ylabel('Комулятивная конверсия', fontsize=15)\n",
    "plt.plot(cumulativeDataA['date'], cumulativeDataA['conversion'], label='group A', linewidth=4.0)\n",
    "plt.plot(cumulativeDataB['date'], cumulativeDataB['conversion'], label='group B', linewidth=4.0)\n",
    "plt.axis(['2019-08-01', '2019-09-01', 0.02, 0.04])\n",
    "plt.legend()\n",
    "plt.show()"
   ]
  },
  {
   "cell_type": "markdown",
   "metadata": {},
   "source": [
    "В первые 5 дней теста конверсия сильно \"скакала\" в каждой группе. Во второй половине месяца конверсии начали постепенно выравниваться. В группе В конверсия на протяжении практически всего теста (кроме первых 6 дней) выше, по сравнению с группой А."
   ]
  },
  {
   "cell_type": "markdown",
   "metadata": {},
   "source": [
    "#### 2.5 Построим график относительного изменения кумулятивной конверсии группы B к группе A<a id=\"parth2.5\"></a>"
   ]
  },
  {
   "cell_type": "code",
   "execution_count": 26,
   "metadata": {},
   "outputs": [
    {
     "data": {
      "image/png": "[encoded data removed]",
      "text/plain": [
       "<Figure size 1152x648 with 1 Axes>"
      ]
     },
     "metadata": {
      "needs_background": "light"
     },
     "output_type": "display_data"
    }
   ],
   "source": [
    "# объеденим группы с конверсиями\n",
    "mergedCumulativeConversions = cumulativeDataA.merge(cumulativeDataB, on='date', suffixes=['A', 'B'])\n",
    "plt.subplots(figsize=(16,9))\n",
    "plt.title('Относительное различие кумулятивной конверсии между группами', fontsize=20)\n",
    "plt.xlabel('Дата', fontsize=15)\n",
    "plt.ylabel('Комулятивная конверсия', fontsize=15)\n",
    "plt.plot(mergedCumulativeConversions['date'], \n",
    "         mergedCumulativeConversions['conversionB'] / mergedCumulativeConversions['conversionA'] -1,\n",
    "        linewidth=4.0)\n",
    "plt.axhline(y=0, color='black', linestyle='--')\n",
    "plt.axhline(y=0.15, color='red', linestyle='--') \n",
    "plt.show()"
   ]
  },
  {
   "cell_type": "markdown",
   "metadata": {},
   "source": [
    "Практически с начала теста конверсия группы B на 15% больше. Но конверсия еще не зафиксировалась, на графике видны скачки между 10% - 20%. Констатировать можно только то, что конверсия группы В больше, но для того что бы ответить на сколько, необходимо больше наблюдений."
   ]
  },
  {
   "cell_type": "markdown",
   "metadata": {},
   "source": [
    "#### 2.6 Постройте точечный график количества заказов по пользователям<a id=\"parth2.6\"></a>"
   ]
  },
  {
   "cell_type": "code",
   "execution_count": 27,
   "metadata": {},
   "outputs": [
    {
     "data": {
      "text/html": [
       "<div>\n",
       "<style scoped>\n",
       "    .dataframe tbody tr th:only-of-type {\n",
       "        vertical-align: middle;\n",
       "    }\n",
       "\n",
       "    .dataframe tbody tr th {\n",
       "        vertical-align: top;\n",
       "    }\n",
       "\n",
       "    .dataframe thead th {\n",
       "        text-align: right;\n",
       "    }\n",
       "</style>\n",
       "<table border=\"1\" class=\"dataframe\">\n",
       "  <thead>\n",
       "    <tr style=\"text-align: right;\">\n",
       "      <th></th>\n",
       "      <th>transactionId</th>\n",
       "      <th>visitorId</th>\n",
       "      <th>date</th>\n",
       "      <th>revenue</th>\n",
       "      <th>group</th>\n",
       "    </tr>\n",
       "  </thead>\n",
       "  <tbody>\n",
       "    <tr>\n",
       "      <td>0</td>\n",
       "      <td>3667963787</td>\n",
       "      <td>3312258926</td>\n",
       "      <td>2019-08-15</td>\n",
       "      <td>1650</td>\n",
       "      <td>B</td>\n",
       "    </tr>\n",
       "    <tr>\n",
       "      <td>1</td>\n",
       "      <td>2804400009</td>\n",
       "      <td>3642806036</td>\n",
       "      <td>2019-08-15</td>\n",
       "      <td>730</td>\n",
       "      <td>B</td>\n",
       "    </tr>\n",
       "    <tr>\n",
       "      <td>2</td>\n",
       "      <td>2961555356</td>\n",
       "      <td>4069496402</td>\n",
       "      <td>2019-08-15</td>\n",
       "      <td>400</td>\n",
       "      <td>A</td>\n",
       "    </tr>\n",
       "    <tr>\n",
       "      <td>3</td>\n",
       "      <td>3797467345</td>\n",
       "      <td>1196621759</td>\n",
       "      <td>2019-08-15</td>\n",
       "      <td>9759</td>\n",
       "      <td>B</td>\n",
       "    </tr>\n",
       "    <tr>\n",
       "      <td>4</td>\n",
       "      <td>2282983706</td>\n",
       "      <td>2322279887</td>\n",
       "      <td>2019-08-15</td>\n",
       "      <td>2308</td>\n",
       "      <td>B</td>\n",
       "    </tr>\n",
       "    <tr>\n",
       "      <td>...</td>\n",
       "      <td>...</td>\n",
       "      <td>...</td>\n",
       "      <td>...</td>\n",
       "      <td>...</td>\n",
       "      <td>...</td>\n",
       "    </tr>\n",
       "    <tr>\n",
       "      <td>1192</td>\n",
       "      <td>2662137336</td>\n",
       "      <td>3733762160</td>\n",
       "      <td>2019-08-14</td>\n",
       "      <td>6490</td>\n",
       "      <td>B</td>\n",
       "    </tr>\n",
       "    <tr>\n",
       "      <td>1193</td>\n",
       "      <td>2203539145</td>\n",
       "      <td>370388673</td>\n",
       "      <td>2019-08-14</td>\n",
       "      <td>3190</td>\n",
       "      <td>A</td>\n",
       "    </tr>\n",
       "    <tr>\n",
       "      <td>1194</td>\n",
       "      <td>1807773912</td>\n",
       "      <td>573423106</td>\n",
       "      <td>2019-08-14</td>\n",
       "      <td>10550</td>\n",
       "      <td>A</td>\n",
       "    </tr>\n",
       "    <tr>\n",
       "      <td>1195</td>\n",
       "      <td>1947021204</td>\n",
       "      <td>1614305549</td>\n",
       "      <td>2019-08-14</td>\n",
       "      <td>100</td>\n",
       "      <td>A</td>\n",
       "    </tr>\n",
       "    <tr>\n",
       "      <td>1196</td>\n",
       "      <td>3936777065</td>\n",
       "      <td>2108080724</td>\n",
       "      <td>2019-08-15</td>\n",
       "      <td>202740</td>\n",
       "      <td>B</td>\n",
       "    </tr>\n",
       "  </tbody>\n",
       "</table>\n",
       "<p>1197 rows × 5 columns</p>\n",
       "</div>"
      ],
      "text/plain": [
       "      transactionId   visitorId       date  revenue group\n",
       "0        3667963787  3312258926 2019-08-15     1650     B\n",
       "1        2804400009  3642806036 2019-08-15      730     B\n",
       "2        2961555356  4069496402 2019-08-15      400     A\n",
       "3        3797467345  1196621759 2019-08-15     9759     B\n",
       "4        2282983706  2322279887 2019-08-15     2308     B\n",
       "...             ...         ...        ...      ...   ...\n",
       "1192     2662137336  3733762160 2019-08-14     6490     B\n",
       "1193     2203539145   370388673 2019-08-14     3190     A\n",
       "1194     1807773912   573423106 2019-08-14    10550     A\n",
       "1195     1947021204  1614305549 2019-08-14      100     A\n",
       "1196     3936777065  2108080724 2019-08-15   202740     B\n",
       "\n",
       "[1197 rows x 5 columns]"
      ]
     },
     "execution_count": 27,
     "metadata": {},
     "output_type": "execute_result"
    }
   ],
   "source": [
    "orders"
   ]
  },
  {
   "cell_type": "code",
   "execution_count": 28,
   "metadata": {},
   "outputs": [
    {
     "data": {
      "text/html": [
       "<div>\n",
       "<style scoped>\n",
       "    .dataframe tbody tr th:only-of-type {\n",
       "        vertical-align: middle;\n",
       "    }\n",
       "\n",
       "    .dataframe tbody tr th {\n",
       "        vertical-align: top;\n",
       "    }\n",
       "\n",
       "    .dataframe thead th {\n",
       "        text-align: right;\n",
       "    }\n",
       "</style>\n",
       "<table border=\"1\" class=\"dataframe\">\n",
       "  <thead>\n",
       "    <tr style=\"text-align: right;\">\n",
       "      <th></th>\n",
       "      <th>visitorId</th>\n",
       "      <th>transactionId</th>\n",
       "    </tr>\n",
       "  </thead>\n",
       "  <tbody>\n",
       "    <tr>\n",
       "      <td>1023</td>\n",
       "      <td>4256040402</td>\n",
       "      <td>11</td>\n",
       "    </tr>\n",
       "    <tr>\n",
       "      <td>591</td>\n",
       "      <td>2458001652</td>\n",
       "      <td>11</td>\n",
       "    </tr>\n",
       "    <tr>\n",
       "      <td>569</td>\n",
       "      <td>2378935119</td>\n",
       "      <td>9</td>\n",
       "    </tr>\n",
       "    <tr>\n",
       "      <td>487</td>\n",
       "      <td>2038680547</td>\n",
       "      <td>8</td>\n",
       "    </tr>\n",
       "    <tr>\n",
       "      <td>44</td>\n",
       "      <td>199603092</td>\n",
       "      <td>5</td>\n",
       "    </tr>\n",
       "    <tr>\n",
       "      <td>...</td>\n",
       "      <td>...</td>\n",
       "      <td>...</td>\n",
       "    </tr>\n",
       "    <tr>\n",
       "      <td>359</td>\n",
       "      <td>1484903144</td>\n",
       "      <td>1</td>\n",
       "    </tr>\n",
       "    <tr>\n",
       "      <td>360</td>\n",
       "      <td>1485964287</td>\n",
       "      <td>1</td>\n",
       "    </tr>\n",
       "    <tr>\n",
       "      <td>361</td>\n",
       "      <td>1494664757</td>\n",
       "      <td>1</td>\n",
       "    </tr>\n",
       "    <tr>\n",
       "      <td>362</td>\n",
       "      <td>1495112755</td>\n",
       "      <td>1</td>\n",
       "    </tr>\n",
       "    <tr>\n",
       "      <td>1030</td>\n",
       "      <td>4283872382</td>\n",
       "      <td>1</td>\n",
       "    </tr>\n",
       "  </tbody>\n",
       "</table>\n",
       "<p>1031 rows × 2 columns</p>\n",
       "</div>"
      ],
      "text/plain": [
       "       visitorId  transactionId\n",
       "1023  4256040402             11\n",
       "591   2458001652             11\n",
       "569   2378935119              9\n",
       "487   2038680547              8\n",
       "44     199603092              5\n",
       "...          ...            ...\n",
       "359   1484903144              1\n",
       "360   1485964287              1\n",
       "361   1494664757              1\n",
       "362   1495112755              1\n",
       "1030  4283872382              1\n",
       "\n",
       "[1031 rows x 2 columns]"
      ]
     },
     "execution_count": 28,
     "metadata": {},
     "output_type": "execute_result"
    }
   ],
   "source": [
    "# найдем уникальное число покупок у каждого пользователя\n",
    "transactionByUsers = orders\\\n",
    "    .drop(['group', 'revenue', 'date'], axis=1)\\\n",
    "    .groupby('visitorId', as_index=False)\\\n",
    "    .agg({'transactionId' : pd.Series.nunique})\n",
    "\n",
    "transactionByUsers.sort_values(by='transactionId', ascending=False)"
   ]
  },
  {
   "cell_type": "code",
   "execution_count": 29,
   "metadata": {},
   "outputs": [
    {
     "data": {
      "image/png": "[encoded data removed]",
      "text/plain": [
       "<Figure size 1152x648 with 1 Axes>"
      ]
     },
     "metadata": {
      "needs_background": "light"
     },
     "output_type": "display_data"
    }
   ],
   "source": [
    "x_values = pd.Series(range(0,len(transactionByUsers)))\n",
    "plt.subplots(figsize=(16,9))\n",
    "plt.ylabel('Число заказов', fontsize=15)\n",
    "plt.title('Количества заказов по пользователям', fontsize=20)\n",
    "plt.scatter(x_values, transactionByUsers['transactionId'])\n",
    "plt.show()"
   ]
  },
  {
   "cell_type": "markdown",
   "metadata": {},
   "source": [
    "Пользователей, сделавших более двух заказов крайне мало. Для магазина хорошо, что пользователи возвращаются к нам и заказывают повторно, но для нашего теста такие пользователи могут быть аномальны. Необходимо посмотреть сколько пользователей в процентном соотношении в нашей выборке делают 2 и более заказа."
   ]
  },
  {
   "cell_type": "code",
   "execution_count": 30,
   "metadata": {},
   "outputs": [
    {
     "name": "stdout",
     "output_type": "stream",
     "text": [
      "Для 90% пользователей характерное число заказов: 1.0\n",
      "Для 95% пользователей характерное число заказов: 2.0\n",
      "Для 99% пользователей характерное число заказов: 4.0\n"
     ]
    }
   ],
   "source": [
    "print('Для 90% пользователей характерное число заказов:', np.percentile(transactionByUsers['transactionId'], 90))\n",
    "print('Для 95% пользователей характерное число заказов:', np.percentile(transactionByUsers['transactionId'], 95))\n",
    "print('Для 99% пользователей характерное число заказов:', np.percentile(transactionByUsers['transactionId'], 99))"
   ]
  },
  {
   "cell_type": "markdown",
   "metadata": {},
   "source": [
    "Не более 5% пользователей совершили более 2 заказов, и не более 1% пользователей совершили более 4 заказов. Будем считать, что аномальное количество заказов - это более 2 заказов."
   ]
  },
  {
   "cell_type": "markdown",
   "metadata": {},
   "source": [
    "#### 2.7 Постройте точечный график стоимостей заказов<a id=\"parth2.7\"></a>"
   ]
  },
  {
   "cell_type": "code",
   "execution_count": 31,
   "metadata": {},
   "outputs": [
    {
     "data": {
      "image/png": "[encoded data removed]",
      "text/plain": [
       "<Figure size 1152x648 with 1 Axes>"
      ]
     },
     "metadata": {
      "needs_background": "light"
     },
     "output_type": "display_data"
    }
   ],
   "source": [
    "x_values_revenue = pd.Series(range(0,len(orders['revenue'])))\n",
    "plt.subplots(figsize=(16,9))\n",
    "plt.ylabel('Цена', fontsize=15)\n",
    "plt.title('Стоимость заказов', fontsize=20)\n",
    "plt.scatter(x_values_revenue, orders['revenue'])\n",
    "plt.show()"
   ]
  },
  {
   "cell_type": "markdown",
   "metadata": {},
   "source": [
    "Видим, что стоимость большинства заказов не превышает и 15000, хотя и есть отдельные явные выбросы, посмотрим на стоимость заказов более детально с верхней границей стоимости до 50000."
   ]
  },
  {
   "cell_type": "code",
   "execution_count": 32,
   "metadata": {},
   "outputs": [
    {
     "data": {
      "image/png": "[encoded data removed]",
      "text/plain": [
       "<Figure size 1152x648 with 1 Axes>"
      ]
     },
     "metadata": {
      "needs_background": "light"
     },
     "output_type": "display_data"
    }
   ],
   "source": [
    "plt.subplots(figsize=(16,9))\n",
    "plt.ylabel('Цена', fontsize=15)\n",
    "plt.title('Стоимость заказов', fontsize=20)\n",
    "plt.axis([x_values_revenue.min(), x_values_revenue.max(), 0, 50000])\n",
    "plt.scatter(x_values_revenue, orders['revenue'])\n",
    "plt.show()"
   ]
  },
  {
   "cell_type": "markdown",
   "metadata": {},
   "source": [
    "Стоимость большинства заказов не превышает 10000, а после 20000 количество таких заказов явно редеет. Посмотрим в перцентилях какая доля заказов укладывается в 90%, 95% и 99%."
   ]
  },
  {
   "cell_type": "code",
   "execution_count": 33,
   "metadata": {},
   "outputs": [
    {
     "name": "stdout",
     "output_type": "stream",
     "text": [
      "Для 90% пользователей характерное число заказов: 18168.000000000015\n",
      "Для 95% пользователей характерное число заказов: 28000.000000000004\n",
      "Для 99% пользователей характерное число заказов: 58233.19999999999\n"
     ]
    }
   ],
   "source": [
    "print('Для 90% пользователей характерное число заказов:', np.percentile(orders['revenue'], 90))\n",
    "print('Для 95% пользователей характерное число заказов:', np.percentile(orders['revenue'], 95))\n",
    "print('Для 99% пользователей характерное число заказов:', np.percentile(orders['revenue'], 99))"
   ]
  },
  {
   "cell_type": "markdown",
   "metadata": {},
   "source": [
    "При чтении графика мы оказались близки к истине. 95% заказов не дороже 28000. А все что больше, может повлиять на результаты нашего теста, будем считать, что это выбросы."
   ]
  },
  {
   "cell_type": "markdown",
   "metadata": {},
   "source": [
    "#### 2.8 Посчитаем статистическую значимость различий в конверсии между группами по «сырым» данным.<a id=\"parth2.8\"></a>"
   ]
  },
  {
   "cell_type": "code",
   "execution_count": 34,
   "metadata": {},
   "outputs": [
    {
     "data": {
      "text/html": [
       "<div>\n",
       "<style scoped>\n",
       "    .dataframe tbody tr th:only-of-type {\n",
       "        vertical-align: middle;\n",
       "    }\n",
       "\n",
       "    .dataframe tbody tr th {\n",
       "        vertical-align: top;\n",
       "    }\n",
       "\n",
       "    .dataframe thead th {\n",
       "        text-align: right;\n",
       "    }\n",
       "</style>\n",
       "<table border=\"1\" class=\"dataframe\">\n",
       "  <thead>\n",
       "    <tr style=\"text-align: right;\">\n",
       "      <th></th>\n",
       "      <th>transactionId</th>\n",
       "      <th>visitorId</th>\n",
       "      <th>date</th>\n",
       "      <th>revenue</th>\n",
       "      <th>group</th>\n",
       "    </tr>\n",
       "  </thead>\n",
       "  <tbody>\n",
       "    <tr>\n",
       "      <td>0</td>\n",
       "      <td>3667963787</td>\n",
       "      <td>3312258926</td>\n",
       "      <td>2019-08-15</td>\n",
       "      <td>1650</td>\n",
       "      <td>B</td>\n",
       "    </tr>\n",
       "    <tr>\n",
       "      <td>1</td>\n",
       "      <td>2804400009</td>\n",
       "      <td>3642806036</td>\n",
       "      <td>2019-08-15</td>\n",
       "      <td>730</td>\n",
       "      <td>B</td>\n",
       "    </tr>\n",
       "    <tr>\n",
       "      <td>2</td>\n",
       "      <td>2961555356</td>\n",
       "      <td>4069496402</td>\n",
       "      <td>2019-08-15</td>\n",
       "      <td>400</td>\n",
       "      <td>A</td>\n",
       "    </tr>\n",
       "    <tr>\n",
       "      <td>3</td>\n",
       "      <td>3797467345</td>\n",
       "      <td>1196621759</td>\n",
       "      <td>2019-08-15</td>\n",
       "      <td>9759</td>\n",
       "      <td>B</td>\n",
       "    </tr>\n",
       "    <tr>\n",
       "      <td>4</td>\n",
       "      <td>2282983706</td>\n",
       "      <td>2322279887</td>\n",
       "      <td>2019-08-15</td>\n",
       "      <td>2308</td>\n",
       "      <td>B</td>\n",
       "    </tr>\n",
       "    <tr>\n",
       "      <td>...</td>\n",
       "      <td>...</td>\n",
       "      <td>...</td>\n",
       "      <td>...</td>\n",
       "      <td>...</td>\n",
       "      <td>...</td>\n",
       "    </tr>\n",
       "    <tr>\n",
       "      <td>1192</td>\n",
       "      <td>2662137336</td>\n",
       "      <td>3733762160</td>\n",
       "      <td>2019-08-14</td>\n",
       "      <td>6490</td>\n",
       "      <td>B</td>\n",
       "    </tr>\n",
       "    <tr>\n",
       "      <td>1193</td>\n",
       "      <td>2203539145</td>\n",
       "      <td>370388673</td>\n",
       "      <td>2019-08-14</td>\n",
       "      <td>3190</td>\n",
       "      <td>A</td>\n",
       "    </tr>\n",
       "    <tr>\n",
       "      <td>1194</td>\n",
       "      <td>1807773912</td>\n",
       "      <td>573423106</td>\n",
       "      <td>2019-08-14</td>\n",
       "      <td>10550</td>\n",
       "      <td>A</td>\n",
       "    </tr>\n",
       "    <tr>\n",
       "      <td>1195</td>\n",
       "      <td>1947021204</td>\n",
       "      <td>1614305549</td>\n",
       "      <td>2019-08-14</td>\n",
       "      <td>100</td>\n",
       "      <td>A</td>\n",
       "    </tr>\n",
       "    <tr>\n",
       "      <td>1196</td>\n",
       "      <td>3936777065</td>\n",
       "      <td>2108080724</td>\n",
       "      <td>2019-08-15</td>\n",
       "      <td>202740</td>\n",
       "      <td>B</td>\n",
       "    </tr>\n",
       "  </tbody>\n",
       "</table>\n",
       "<p>1197 rows × 5 columns</p>\n",
       "</div>"
      ],
      "text/plain": [
       "      transactionId   visitorId       date  revenue group\n",
       "0        3667963787  3312258926 2019-08-15     1650     B\n",
       "1        2804400009  3642806036 2019-08-15      730     B\n",
       "2        2961555356  4069496402 2019-08-15      400     A\n",
       "3        3797467345  1196621759 2019-08-15     9759     B\n",
       "4        2282983706  2322279887 2019-08-15     2308     B\n",
       "...             ...         ...        ...      ...   ...\n",
       "1192     2662137336  3733762160 2019-08-14     6490     B\n",
       "1193     2203539145   370388673 2019-08-14     3190     A\n",
       "1194     1807773912   573423106 2019-08-14    10550     A\n",
       "1195     1947021204  1614305549 2019-08-14      100     A\n",
       "1196     3936777065  2108080724 2019-08-15   202740     B\n",
       "\n",
       "[1197 rows x 5 columns]"
      ]
     },
     "execution_count": 34,
     "metadata": {},
     "output_type": "execute_result"
    }
   ],
   "source": [
    "orders"
   ]
  },
  {
   "cell_type": "code",
   "execution_count": 35,
   "metadata": {},
   "outputs": [],
   "source": [
    "# число заказов для пользователей, сделавших заказы\n",
    "ordersByUsersA = orders[orders['group']=='A'].groupby('visitorId', as_index=False).agg({'transactionId' : pd.Series.nunique})\n",
    "ordersByUsersB = orders[orders['group']=='B'].groupby('visitorId', as_index=False).agg({'transactionId' : pd.Series.nunique})"
   ]
  },
  {
   "cell_type": "code",
   "execution_count": 36,
   "metadata": {},
   "outputs": [],
   "source": [
    "# количество визитов в день\n",
    "visitorsADaily = visitors[visitors['group']=='A'][['date', 'visitors']]\n",
    "visitorsADaily.columns = ['date', 'visitorsPerDateA']\n",
    "visitorsBDaily = visitors[visitors['group']=='B'][['date', 'visitors']]\n",
    "visitorsBDaily.columns = ['date', 'visitorsPerDateB']"
   ]
  },
  {
   "cell_type": "code",
   "execution_count": 37,
   "metadata": {},
   "outputs": [],
   "source": [
    "# количество заказов в день\n",
    "ordersADaily = orders[orders['group']=='A'][['date', 'transactionId']]\\\n",
    "    .groupby('date', as_index=False)\\\n",
    "    .agg({'transactionId' : pd.Series.nunique})\n",
    "ordersADaily.columns = ['date', 'ordersPerDateA']\n",
    "\n",
    "ordersBDaily = orders[orders['group']=='B'][['date', 'transactionId']]\\\n",
    "    .groupby('date', as_index=False)\\\n",
    "    .agg({'transactionId' : pd.Series.nunique})\n",
    "ordersBDaily.columns = ['date', 'ordersPerDateB']"
   ]
  },
  {
   "cell_type": "code",
   "execution_count": 38,
   "metadata": {},
   "outputs": [],
   "source": [
    "# количество заказов для каждого пользователя по группам\n",
    "\n",
    "sampleA = pd.concat([ordersByUsersA['transactionId'],\n",
    "                     pd.Series(0, index=np.arange(visitorsADaily['visitorsPerDateA']\n",
    "                                                  .sum() - len(ordersByUsersA['transactionId'])), \n",
    "                               name='orders')],axis=0)\n",
    "sampleB = pd.concat([ordersByUsersB['transactionId'],\n",
    "                     pd.Series(0, index=np.arange(visitorsBDaily['visitorsPerDateB']\n",
    "                                                  .sum() - len(ordersByUsersB['transactionId'])), \n",
    "                               name='orders')],axis=0)"
   ]
  },
  {
   "cell_type": "markdown",
   "metadata": {},
   "source": [
    "Выдвинем гипотезу, что конверсии групп А и B различаются. Несмотря на то, что аудитория у групп имеет небольшое пересечение, будем считать, что:\n",
    "\n",
    "H₀ (нулевая гипотеза) - конверсия групп А и В не различается;\n",
    "\n",
    "H₁ - конверсия групп имеет статистически значимое отличие друг от друга.\n",
    "\n",
    "Уровень значимости примем за 5%."
   ]
  },
  {
   "cell_type": "code",
   "execution_count": 39,
   "metadata": {},
   "outputs": [
    {
     "name": "stdout",
     "output_type": "stream",
     "text": [
      "P-value: 0.00840\n",
      "Разница конверсий: 0.138\n"
     ]
    }
   ],
   "source": [
    "print('P-value:', \"{0:.5f}\".format(stats.mannwhitneyu(sampleA, sampleB)[1]))\n",
    "print('Разница конверсий:', \"{0:.3f}\".format((ordersBDaily['ordersPerDateB'].sum()/visitorsBDaily['visitorsPerDateB'].sum())\n",
    "                       /(ordersADaily['ordersPerDateA'].sum()/visitorsADaily['visitorsPerDateA'].sum())-1))"
   ]
  },
  {
   "cell_type": "markdown",
   "metadata": {},
   "source": [
    "Судя по тому, что доверительный интервал меньше 5% можно отвергнуть нулевую гипотезу о том, что конверсии групп равны. Статистически значимое различие конверсий группы B к группе А составляет 14% (без удаления выбросов)."
   ]
  },
  {
   "cell_type": "markdown",
   "metadata": {},
   "source": [
    "#### 2.9 Посчитаем  статистическую значимость различий в среднем чеке заказа между группами по «сырым» данным.<a id=\"parth2.9\"></a>"
   ]
  },
  {
   "cell_type": "markdown",
   "metadata": {},
   "source": [
    "Выдвинем гипотезу, что средний чек групп А и B различается. Несмотря на то, что аудитория у групп имеет небольшое пересечение, будем считать, что:\n",
    "\n",
    "H₀ (нулевая гипотеза) - средний чек групп А и В не различается;\n",
    "\n",
    "H₁ - средний чек групп имеет статистически значимое отличие друг от друга.\n",
    "\n",
    "Уровень значимости примем за 5%."
   ]
  },
  {
   "cell_type": "code",
   "execution_count": 40,
   "metadata": {},
   "outputs": [
    {
     "name": "stdout",
     "output_type": "stream",
     "text": [
      "P-value: 0.365\n",
      "Разница среднего чека: 0.259\n"
     ]
    }
   ],
   "source": [
    "print('P-value:', \"{0:.3f}\".format(stats.mannwhitneyu(orders[orders['group']=='A']['revenue'], \n",
    "                                                      orders[orders['group']=='B']['revenue'])[1]))\n",
    "print('Разница среднего чека:',\"{0:.3f}\".format(orders[orders['group']=='B']['revenue'].mean()/\n",
    "                                                orders[orders['group']=='A']['revenue'].mean()-1)) "
   ]
  },
  {
   "cell_type": "markdown",
   "metadata": {},
   "source": [
    "P-value значительно больше 5%. Значит, причин отвергать нулевую гипотезу и считать, что в среднем чеке есть различия, нет. Хотя средний чек группы B значительно выше среднего чека группы A (на 26%)."
   ]
  },
  {
   "cell_type": "markdown",
   "metadata": {},
   "source": [
    "#### 2.10 Посчитаем статистическую значимость различий в конверсии между группами по «очищенным» данным<a id=\"parth2.10\"></a>"
   ]
  },
  {
   "cell_type": "markdown",
   "metadata": {},
   "source": [
    "Очищенными данными будем считать показатели 95-ого перцентиля по количеству заказов и стоимости товаров. Это не более 2-х заказов на пользователя и стоимость товаров не превышающая 28000."
   ]
  },
  {
   "cell_type": "code",
   "execution_count": 41,
   "metadata": {},
   "outputs": [
    {
     "name": "stdout",
     "output_type": "stream",
     "text": [
      "1099    148427295\n",
      "18      199603092\n",
      "928     204675465\n",
      "23      237748145\n",
      "37      249864742\n",
      "Name: visitorId, dtype: int64\n",
      "Количество срезаных пользователей: (74,)\n"
     ]
    }
   ],
   "source": [
    "usersWithManyOrders = pd.concat([ordersByUsersA[ordersByUsersA['transactionId'] > 2]['visitorId'], \n",
    "                                 ordersByUsersB[ordersByUsersB['transactionId'] > 2]['visitorId']], axis = 0)\n",
    "usersWithExpensiveOrders = orders[orders['revenue'] > 28000]['visitorId']\n",
    "abnormalUsers = pd.concat([usersWithManyOrders, usersWithExpensiveOrders], axis = 0).drop_duplicates().sort_values()\n",
    "print(abnormalUsers.head(5))\n",
    "print('Количество срезаных пользователей:', abnormalUsers.shape) "
   ]
  },
  {
   "cell_type": "code",
   "execution_count": 42,
   "metadata": {},
   "outputs": [],
   "source": [
    "# отфильтруем аномальных пользователей\n",
    "sampleAFiltered = pd.concat([ordersByUsersA[np.logical_not(ordersByUsersA['visitorId']\n",
    "                                                           .isin(abnormalUsers))]['transactionId'],\n",
    "                             pd.Series(0, index=np.arange(visitorsADaily['visitorsPerDateA'].sum() -\n",
    "                                                          len(ordersByUsersA['transactionId'])),name='transactionId')],axis=0)\n",
    "\n",
    "sampleBFiltered = pd.concat([ordersByUsersB[np.logical_not(ordersByUsersB['visitorId']\n",
    "                                                           .isin(abnormalUsers))]['transactionId'],\n",
    "                             pd.Series(0, index=np.arange(visitorsBDaily['visitorsPerDateB'].sum() - \n",
    "                                                          len(ordersByUsersB['transactionId'])),name='transactionId')],axis=0)"
   ]
  },
  {
   "cell_type": "markdown",
   "metadata": {},
   "source": [
    "Выдвинем гипотезу, что конверсии групп А и B, после удаления выбросов, различаются. Несмотря на то, что аудитория у групп имеет небольшое пересечение, будем считать, что:\n",
    "\n",
    "H₀ (нулевая гипотеза) - конверсия групп А и В не различается;\n",
    "\n",
    "H₁ - конверсия групп имеет статистически значимое отличие друг от друга.\n",
    "\n",
    "Уровень значимости примем за 5%."
   ]
  },
  {
   "cell_type": "code",
   "execution_count": 43,
   "metadata": {},
   "outputs": [
    {
     "name": "stdout",
     "output_type": "stream",
     "text": [
      "P-value: 0.007\n",
      "Разница конверсий: 0.173\n"
     ]
    }
   ],
   "source": [
    "print('P-value:', \"{0:.3f}\".format(stats.mannwhitneyu(sampleAFiltered, sampleBFiltered)[1]))\n",
    "print('Разница конверсий:', \"{0:.3f}\".format(sampleBFiltered.mean()/sampleAFiltered.mean()-1)) "
   ]
  },
  {
   "cell_type": "markdown",
   "metadata": {},
   "source": [
    "После удаления выбросов статистическая значимость так же достигнута. Немного выросла разница конверсии группы B к группе A (с 14% до 17%). Это значит, что в группе А были аномалии, которые немного влияли на конверсию."
   ]
  },
  {
   "cell_type": "markdown",
   "metadata": {},
   "source": [
    "#### 2.11 Посчитаем статистическую значимость различий в среднем чеке заказа между группами по «очищенным» данным<a id=\"parth2.11\"></a>"
   ]
  },
  {
   "cell_type": "markdown",
   "metadata": {},
   "source": [
    "Выдвинем гипотезу, что средний чек групп А и B, после удаления выбросов, различается. Несмотря на то, что аудитория у групп имеет небольшое пересечение, будем считать, что:\n",
    "\n",
    "H₀ (нулевая гипотеза) - средний чек групп А и В не различается;\n",
    "\n",
    "H₁ - средний чек групп имеет статистически значимое отличие друг от друга.\n",
    "\n",
    "Уровень значимости примем за 5%"
   ]
  },
  {
   "cell_type": "code",
   "execution_count": 44,
   "metadata": {},
   "outputs": [
    {
     "name": "stdout",
     "output_type": "stream",
     "text": [
      "P-value: 0.369\n",
      "Разница среднего чека: -0.020\n"
     ]
    }
   ],
   "source": [
    "print('P-value:', \"{0:.3f}\".format(stats.mannwhitneyu(\n",
    "    orders[np.logical_and(\n",
    "        orders['group']=='A',\n",
    "        np.logical_not(orders['visitorId'].isin(abnormalUsers)))]['revenue'],\n",
    "    orders[np.logical_and(\n",
    "        orders['group']=='B',\n",
    "        np.logical_not(orders['visitorId'].isin(abnormalUsers)))]['revenue'])[1]))\n",
    "\n",
    "print('Разница среднего чека:', \"{0:.3f}\".format(\n",
    "    orders[np.logical_and(orders['group']=='B',np.logical_not(orders['visitorId'].isin(abnormalUsers)))]['revenue'].mean()/\n",
    "    orders[np.logical_and(\n",
    "        orders['group']=='A',\n",
    "        np.logical_not(orders['visitorId'].isin(abnormalUsers)))]['revenue'].mean() - 1))"
   ]
  },
  {
   "cell_type": "markdown",
   "metadata": {},
   "source": [
    "Статистической значимости, как и в первом случае на \"сырых данных\" достигнуть не удалось, но после очистки данных сильно изменилась разница среднего чека группы А к группе В. Если до очистки разница в среднем чеке группы В была на 26% больше, то после - стала на 2% меньше. Это означает что в группе В были совершены очень дорогие покупки (выбросы), которые сильно влияли на разницу средних чеков."
   ]
  },
  {
   "cell_type": "markdown",
   "metadata": {},
   "source": [
    "### 3. Общий вывод и решение по результату теста<a id=\"end\"></a>"
   ]
  },
  {
   "cell_type": "markdown",
   "metadata": {},
   "source": [
    "В результате проделанной работы было рассмотрено два основных вопроса:\n",
    "\n",
    "#### 1. Приоритезация гипотез\n",
    "\n",
    "Для приоритезации гипотез мы приминели 2 метода: ICE и RICE. По итогу, в зависимости от примененного метода, гипотезы получили разный вес в ранжировании нашего списка. Очевидный лидер нашего списка это гипотеза: Добавить форму подписки на все основные страницы, чтобы собрать базу клиентов для email-рассылок (1-е место RICE и 3-е место ICE).\n",
    "\n",
    "#### 2. Анализ A/B-теста\n",
    "\n",
    "В нашем распоряжении были данные о покупках и количестве клиентов за каждый день в каждой группе за временной период с 2019-08-01 по 2019-08-31. В данных было замечено пересечение пользователей в разных группах (15% покупок было совершено такими пользователями). В результате анализа данных разных групп в рамках проведенного теста мы рассмотрели следующие вопросы:\n",
    "\n",
    "- Сравнили кумулятивные выручки групп: где группа В практически во всем периоде показывала лучшую выручку (но на графике имелись резкие скачка, что указывало нам на явные выбросы);\n",
    "\n",
    "- Сравнили средний чек по группам: средний чек группы В так же выше (на это сильно влияют выбросы), и если на графике динамика среднего чека группы А смогла стабилизироваться, то средний чек группы В, после резкого всплеска, падал. Для стабилизации этого параметра необходимо больше данных. На графике относительного различия среднего чека видно, что под конец в группе В по отношению к группе А пошла небольшая положительная динамика, так же для стабилизации разниц среднего чека необходимо больше данных по покупкам;\n",
    "\n",
    "- Сравнили кумулятивные конверсии по группам: на графике кумулятивная конверсия группы В почти на всей дистанции теста опережает конверсии группы А. Подобные различия и подтверждает график различий кумулятивных конверсий, где в среднем конверсия группы В больше на 15%. Но разница конверсий еще не зафиксировалась на определенной точке и имеет положительную динамику;\n",
    "\n",
    "- Нашли в данных аномалии, которые могут сильно повлиять на результаты теста, как по количеству заказов, так и по стоимости заказов.\n",
    "\n",
    "В результате проведения теста можно подвести выводы:\n",
    "\n",
    "- Статистическая значимость различия по конверсиям между группами по «сырым» и по данным после фильтрации аномалий достигнута. Это значит, что в мы отвергаем нулевую гипотезу, которая говорит о том, что конверсии равны. Конверсия группы В больше на 14% до фильтрации и на 17% после;\n",
    "\n",
    "- Нет статистически значимого различия по среднему чеку между группами ни по «сырым», ни по данным после фильтрации аномалий, и если в сырых данных средний чек группы В был больше на 26% то после удаления аномалий стал меньше на 2%. Но на графике относительного среднего чека между группами не зафиксировалась стабильная разница, в последние дни средний чек группы В стал расти.\n",
    "\n",
    "Приняв к сведению эти данные можно принять решение:\n",
    "\n",
    "1. Остановить тест если нам достаточно достижения статистической значимости различия конверсий между группами как по сырым данным, так и после фильтрации победила группа В.\n",
    "\n",
    "2. Продолжить тест если необходимо проверить гипотезу о разности среднего чека, потому что на графиках средний чек группы В не зафиксировался в определенной точке, и имеет тенденцию роста над группой А в последние дни проведения теста."
   ]
  }
 ],
 "metadata": {
  "kernelspec": {
   "display_name": "Python 3",
   "language": "python",
   "name": "python3"
  },
  "language_info": {
   "codemirror_mode": {
    "name": "ipython",
    "version": 3
   },
   "file_extension": ".py",
   "mimetype": "text/x-python",
   "name": "python",
   "nbconvert_exporter": "python",
   "pygments_lexer": "ipython3",
   "version": "3.8.5"
  },
  "toc": {
   "base_numbering": 1,
   "nav_menu": {},
   "number_sections": true,
   "sideBar": true,
   "skip_h1_title": true,
   "title_cell": "Table of Contents",
   "title_sidebar": "Contents",
   "toc_cell": false,
   "toc_position": {},
   "toc_section_display": true,
   "toc_window_display": false
  }
 },
 "nbformat": 4,
 "nbformat_minor": 2
}
