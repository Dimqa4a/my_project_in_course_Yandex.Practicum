{
 "cells": [
  {
   "cell_type": "markdown",
   "metadata": {},
   "source": [
    "# Вводная часть\n",
    "\n",
    "Вы работаете в интернет-магазине «Стримчик», который продаёт по всему миру компьютерные игры. Из открытых источников доступны исторические данные о продажах игр, оценки пользователей и экспертов, жанры и платформы (например, Xbox или PlayStation). Вам нужно выявить определяющие успешность игры закономерности. Это позволит сделать ставку на потенциально популярный продукт и спланировать рекламные кампании.\n",
    "\n",
    "Перед вами данные до 2016 года. Представим, что сейчас декабрь 2016 г., и вы планируете кампанию на 2017-й. Нужно отработать принцип работы с данными. Неважно, прогнозируете ли вы продажи на 2017 год по данным 2016-го или же 2027-й — по данным 2026 года.\n",
    "\n",
    "В наборе данных попадается аббревиатура ESRB (Entertainment Software Rating Board) — это ассоциация, определяющая возрастной рейтинг компьютерных игр. ESRB оценивает игровой контент и присваивает ему подходящую возрастную категорию, например, «Для взрослых», «Для детей младшего возраста» или «Для подростков»."
   ]
  },
  {
   "cell_type": "markdown",
   "metadata": {},
   "source": [
    "## Оглавление\n",
    "\n",
    "1. [Изучение общей информации](#start)\n",
    "2. [Подготовка данных](#step2)\n",
    "3. [Исследовательский анализ данных](#step3)\n",
    "4. [Портрет пользователя каждого региона](#step4)\n",
    "5. [Проверка гипотез](#step5)\n",
    "6. [Общий вывод](#step6)"
   ]
  },
  {
   "cell_type": "markdown",
   "metadata": {},
   "source": [
    "### Шаг 1. Изучение общей информации.<a id=\"start\"></a>"
   ]
  },
  {
   "cell_type": "code",
   "execution_count": 1,
   "metadata": {},
   "outputs": [],
   "source": [
    "import pandas as pd\n",
    "import matplotlib.pyplot as plt\n",
    "import numpy as np\n",
    "from scipy import stats as st\n",
    "import math\n",
    "import warnings\n",
    "warnings.filterwarnings('ignore')"
   ]
  },
  {
   "cell_type": "code",
   "execution_count": 2,
   "metadata": {},
   "outputs": [],
   "source": [
    "df = pd.read_csv('/datasets/games.csv')"
   ]
  },
  {
   "cell_type": "code",
   "execution_count": 3,
   "metadata": {},
   "outputs": [
    {
     "data": {
      "text/html": [
       "<div>\n",
       "<style scoped>\n",
       "    .dataframe tbody tr th:only-of-type {\n",
       "        vertical-align: middle;\n",
       "    }\n",
       "\n",
       "    .dataframe tbody tr th {\n",
       "        vertical-align: top;\n",
       "    }\n",
       "\n",
       "    .dataframe thead th {\n",
       "        text-align: right;\n",
       "    }\n",
       "</style>\n",
       "<table border=\"1\" class=\"dataframe\">\n",
       "  <thead>\n",
       "    <tr style=\"text-align: right;\">\n",
       "      <th></th>\n",
       "      <th>Name</th>\n",
       "      <th>Platform</th>\n",
       "      <th>Year_of_Release</th>\n",
       "      <th>Genre</th>\n",
       "      <th>NA_sales</th>\n",
       "      <th>EU_sales</th>\n",
       "      <th>JP_sales</th>\n",
       "      <th>Other_sales</th>\n",
       "      <th>Critic_Score</th>\n",
       "      <th>User_Score</th>\n",
       "      <th>Rating</th>\n",
       "    </tr>\n",
       "  </thead>\n",
       "  <tbody>\n",
       "    <tr>\n",
       "      <td>5682</td>\n",
       "      <td>Phineas and Ferb: Across the 2nd Dimension</td>\n",
       "      <td>PS3</td>\n",
       "      <td>2011.0</td>\n",
       "      <td>Action</td>\n",
       "      <td>0.15</td>\n",
       "      <td>0.11</td>\n",
       "      <td>0.00</td>\n",
       "      <td>0.05</td>\n",
       "      <td>63.0</td>\n",
       "      <td>6.6</td>\n",
       "      <td>E10+</td>\n",
       "    </tr>\n",
       "    <tr>\n",
       "      <td>5648</td>\n",
       "      <td>Murdered: Soul Suspect</td>\n",
       "      <td>PS4</td>\n",
       "      <td>2014.0</td>\n",
       "      <td>Action</td>\n",
       "      <td>0.09</td>\n",
       "      <td>0.16</td>\n",
       "      <td>0.02</td>\n",
       "      <td>0.05</td>\n",
       "      <td>59.0</td>\n",
       "      <td>6.9</td>\n",
       "      <td>M</td>\n",
       "    </tr>\n",
       "    <tr>\n",
       "      <td>3296</td>\n",
       "      <td>Tearaway</td>\n",
       "      <td>PSV</td>\n",
       "      <td>2013.0</td>\n",
       "      <td>Adventure</td>\n",
       "      <td>0.14</td>\n",
       "      <td>0.34</td>\n",
       "      <td>0.00</td>\n",
       "      <td>0.14</td>\n",
       "      <td>87.0</td>\n",
       "      <td>8.9</td>\n",
       "      <td>E</td>\n",
       "    </tr>\n",
       "    <tr>\n",
       "      <td>2224</td>\n",
       "      <td>Teenage Mutant Ninja Turtles</td>\n",
       "      <td>GBA</td>\n",
       "      <td>2003.0</td>\n",
       "      <td>Action</td>\n",
       "      <td>0.67</td>\n",
       "      <td>0.25</td>\n",
       "      <td>0.00</td>\n",
       "      <td>0.02</td>\n",
       "      <td>71.0</td>\n",
       "      <td>8.8</td>\n",
       "      <td>E</td>\n",
       "    </tr>\n",
       "    <tr>\n",
       "      <td>10104</td>\n",
       "      <td>Transformer: Rise of the Dark Spark</td>\n",
       "      <td>PS3</td>\n",
       "      <td>2014.0</td>\n",
       "      <td>Action</td>\n",
       "      <td>0.04</td>\n",
       "      <td>0.04</td>\n",
       "      <td>0.01</td>\n",
       "      <td>0.02</td>\n",
       "      <td>NaN</td>\n",
       "      <td>NaN</td>\n",
       "      <td>NaN</td>\n",
       "    </tr>\n",
       "    <tr>\n",
       "      <td>6023</td>\n",
       "      <td>Madden NFL 08</td>\n",
       "      <td>XB</td>\n",
       "      <td>2007.0</td>\n",
       "      <td>Sports</td>\n",
       "      <td>0.22</td>\n",
       "      <td>0.06</td>\n",
       "      <td>0.00</td>\n",
       "      <td>0.01</td>\n",
       "      <td>76.0</td>\n",
       "      <td>6</td>\n",
       "      <td>E</td>\n",
       "    </tr>\n",
       "    <tr>\n",
       "      <td>12354</td>\n",
       "      <td>OK! Puzzle Stars</td>\n",
       "      <td>DS</td>\n",
       "      <td>2010.0</td>\n",
       "      <td>Puzzle</td>\n",
       "      <td>0.00</td>\n",
       "      <td>0.06</td>\n",
       "      <td>0.00</td>\n",
       "      <td>0.01</td>\n",
       "      <td>NaN</td>\n",
       "      <td>NaN</td>\n",
       "      <td>NaN</td>\n",
       "    </tr>\n",
       "    <tr>\n",
       "      <td>2633</td>\n",
       "      <td>Torneko no Daibouken: Fushigi no Dungeon</td>\n",
       "      <td>SNES</td>\n",
       "      <td>1993.0</td>\n",
       "      <td>Role-Playing</td>\n",
       "      <td>0.00</td>\n",
       "      <td>0.00</td>\n",
       "      <td>0.78</td>\n",
       "      <td>0.00</td>\n",
       "      <td>NaN</td>\n",
       "      <td>NaN</td>\n",
       "      <td>NaN</td>\n",
       "    </tr>\n",
       "    <tr>\n",
       "      <td>16528</td>\n",
       "      <td>Pro Evolution Soccer 2010</td>\n",
       "      <td>PC</td>\n",
       "      <td>2009.0</td>\n",
       "      <td>Sports</td>\n",
       "      <td>0.00</td>\n",
       "      <td>0.01</td>\n",
       "      <td>0.00</td>\n",
       "      <td>0.00</td>\n",
       "      <td>78.0</td>\n",
       "      <td>6.9</td>\n",
       "      <td>E</td>\n",
       "    </tr>\n",
       "    <tr>\n",
       "      <td>2714</td>\n",
       "      <td>Professor Layton and the Azran Legacy</td>\n",
       "      <td>3DS</td>\n",
       "      <td>2013.0</td>\n",
       "      <td>Puzzle</td>\n",
       "      <td>0.00</td>\n",
       "      <td>0.48</td>\n",
       "      <td>0.25</td>\n",
       "      <td>0.03</td>\n",
       "      <td>81.0</td>\n",
       "      <td>7.9</td>\n",
       "      <td>E10+</td>\n",
       "    </tr>\n",
       "  </tbody>\n",
       "</table>\n",
       "</div>"
      ],
      "text/plain": [
       "                                             Name Platform  Year_of_Release  \\\n",
       "5682   Phineas and Ferb: Across the 2nd Dimension      PS3           2011.0   \n",
       "5648                       Murdered: Soul Suspect      PS4           2014.0   \n",
       "3296                                     Tearaway      PSV           2013.0   \n",
       "2224                 Teenage Mutant Ninja Turtles      GBA           2003.0   \n",
       "10104         Transformer: Rise of the Dark Spark      PS3           2014.0   \n",
       "6023                                Madden NFL 08       XB           2007.0   \n",
       "12354                            OK! Puzzle Stars       DS           2010.0   \n",
       "2633     Torneko no Daibouken: Fushigi no Dungeon     SNES           1993.0   \n",
       "16528                   Pro Evolution Soccer 2010       PC           2009.0   \n",
       "2714        Professor Layton and the Azran Legacy      3DS           2013.0   \n",
       "\n",
       "              Genre  NA_sales  EU_sales  JP_sales  Other_sales  Critic_Score  \\\n",
       "5682         Action      0.15      0.11      0.00         0.05          63.0   \n",
       "5648         Action      0.09      0.16      0.02         0.05          59.0   \n",
       "3296      Adventure      0.14      0.34      0.00         0.14          87.0   \n",
       "2224         Action      0.67      0.25      0.00         0.02          71.0   \n",
       "10104        Action      0.04      0.04      0.01         0.02           NaN   \n",
       "6023         Sports      0.22      0.06      0.00         0.01          76.0   \n",
       "12354        Puzzle      0.00      0.06      0.00         0.01           NaN   \n",
       "2633   Role-Playing      0.00      0.00      0.78         0.00           NaN   \n",
       "16528        Sports      0.00      0.01      0.00         0.00          78.0   \n",
       "2714         Puzzle      0.00      0.48      0.25         0.03          81.0   \n",
       "\n",
       "      User_Score Rating  \n",
       "5682         6.6   E10+  \n",
       "5648         6.9      M  \n",
       "3296         8.9      E  \n",
       "2224         8.8      E  \n",
       "10104        NaN    NaN  \n",
       "6023           6      E  \n",
       "12354        NaN    NaN  \n",
       "2633         NaN    NaN  \n",
       "16528        6.9      E  \n",
       "2714         7.9   E10+  "
      ]
     },
     "execution_count": 3,
     "metadata": {},
     "output_type": "execute_result"
    }
   ],
   "source": [
    "df.sample(10)"
   ]
  },
  {
   "cell_type": "code",
   "execution_count": 4,
   "metadata": {},
   "outputs": [
    {
     "name": "stdout",
     "output_type": "stream",
     "text": [
      "<class 'pandas.core.frame.DataFrame'>\n",
      "RangeIndex: 16715 entries, 0 to 16714\n",
      "Data columns (total 11 columns):\n",
      "Name               16713 non-null object\n",
      "Platform           16715 non-null object\n",
      "Year_of_Release    16446 non-null float64\n",
      "Genre              16713 non-null object\n",
      "NA_sales           16715 non-null float64\n",
      "EU_sales           16715 non-null float64\n",
      "JP_sales           16715 non-null float64\n",
      "Other_sales        16715 non-null float64\n",
      "Critic_Score       8137 non-null float64\n",
      "User_Score         10014 non-null object\n",
      "Rating             9949 non-null object\n",
      "dtypes: float64(6), object(5)\n",
      "memory usage: 1.4+ MB\n"
     ]
    }
   ],
   "source": [
    "df.info()"
   ]
  },
  {
   "cell_type": "code",
   "execution_count": 5,
   "metadata": {},
   "outputs": [
    {
     "name": "stdout",
     "output_type": "stream",
     "text": [
      "Сумарное количество пропущенных значений по столбцам:\n"
     ]
    },
    {
     "data": {
      "text/plain": [
       "Name                  2\n",
       "Platform              0\n",
       "Year_of_Release     269\n",
       "Genre                 2\n",
       "NA_sales              0\n",
       "EU_sales              0\n",
       "JP_sales              0\n",
       "Other_sales           0\n",
       "Critic_Score       8578\n",
       "User_Score         6701\n",
       "Rating             6766\n",
       "dtype: int64"
      ]
     },
     "execution_count": 5,
     "metadata": {},
     "output_type": "execute_result"
    }
   ],
   "source": [
    "print('Сумарное количество пропущенных значений по столбцам:')\n",
    "df.isna().sum()"
   ]
  },
  {
   "cell_type": "markdown",
   "metadata": {},
   "source": [
    "Проверим название столбцов на корректность (убедимся что нет лишних пробелов, знаков и тд):"
   ]
  },
  {
   "cell_type": "code",
   "execution_count": 6,
   "metadata": {},
   "outputs": [
    {
     "data": {
      "text/plain": [
       "Index(['Name', 'Platform', 'Year_of_Release', 'Genre', 'NA_sales', 'EU_sales',\n",
       "       'JP_sales', 'Other_sales', 'Critic_Score', 'User_Score', 'Rating'],\n",
       "      dtype='object')"
      ]
     },
     "execution_count": 6,
     "metadata": {},
     "output_type": "execute_result"
    }
   ],
   "source": [
    "df.columns"
   ]
  },
  {
   "cell_type": "code",
   "execution_count": 7,
   "metadata": {},
   "outputs": [
    {
     "name": "stdout",
     "output_type": "stream",
     "text": [
      "Количество дублирующихся строк: 0\n"
     ]
    }
   ],
   "source": [
    "print('Количество дублирующихся строк:', df.duplicated().sum())"
   ]
  },
  {
   "cell_type": "code",
   "execution_count": 8,
   "metadata": {},
   "outputs": [
    {
     "name": "stdout",
     "output_type": "stream",
     "text": [
      "Проверка строк на повторение названий игр:\n"
     ]
    },
    {
     "data": {
      "text/plain": [
       "Need for Speed: Most Wanted                                       12\n",
       "Ratatouille                                                        9\n",
       "Madden NFL 07                                                      9\n",
       "LEGO Marvel Super Heroes                                           9\n",
       "FIFA 14                                                            9\n",
       "                                                                  ..\n",
       "Mana Khemia 2: Ochita Gakuen to Renkinjutsushi Tachi Portable+     1\n",
       "Nobunaga no Yabou: Reppuuden                                       1\n",
       "Sub Rebellion                                                      1\n",
       "BlazBlue: Calamity Trigger Portable                                1\n",
       "Dragon Quest Monsters Joker 3                                      1\n",
       "Name: Name, Length: 11559, dtype: int64"
      ]
     },
     "execution_count": 8,
     "metadata": {},
     "output_type": "execute_result"
    }
   ],
   "source": [
    "print('Проверка строк на повторение названий игр:')\n",
    "df['Name'].value_counts()"
   ]
  },
  {
   "cell_type": "code",
   "execution_count": 9,
   "metadata": {},
   "outputs": [
    {
     "name": "stdout",
     "output_type": "stream",
     "text": [
      "Минимальная и максимальная дата релиза игры: 1980.0 - 2016.0\n"
     ]
    }
   ],
   "source": [
    "print('Минимальная и максимальная дата релиза игры:', df['Year_of_Release'].min(),'-', df['Year_of_Release'].max())"
   ]
  },
  {
   "cell_type": "code",
   "execution_count": 10,
   "metadata": {},
   "outputs": [
    {
     "name": "stdout",
     "output_type": "stream",
     "text": [
      "Представленные игровые платформы и количество игр на них:\n"
     ]
    },
    {
     "data": {
      "text/plain": [
       "PS2     2161\n",
       "DS      2151\n",
       "PS3     1331\n",
       "Wii     1320\n",
       "X360    1262\n",
       "PSP     1209\n",
       "PS      1197\n",
       "PC       974\n",
       "XB       824\n",
       "GBA      822\n",
       "GC       556\n",
       "3DS      520\n",
       "PSV      430\n",
       "PS4      392\n",
       "N64      319\n",
       "XOne     247\n",
       "SNES     239\n",
       "SAT      173\n",
       "WiiU     147\n",
       "2600     133\n",
       "GB        98\n",
       "NES       98\n",
       "DC        52\n",
       "GEN       29\n",
       "NG        12\n",
       "SCD        6\n",
       "WS         6\n",
       "3DO        3\n",
       "TG16       2\n",
       "GG         1\n",
       "PCFX       1\n",
       "Name: Platform, dtype: int64"
      ]
     },
     "execution_count": 10,
     "metadata": {},
     "output_type": "execute_result"
    }
   ],
   "source": [
    "print('Представленные игровые платформы и количество игр на них:')\n",
    "df['Platform'].value_counts()"
   ]
  },
  {
   "cell_type": "code",
   "execution_count": 11,
   "metadata": {},
   "outputs": [
    {
     "name": "stdout",
     "output_type": "stream",
     "text": [
      "Представленные игровые жанры:\n"
     ]
    },
    {
     "data": {
      "text/plain": [
       "Action          3369\n",
       "Sports          2348\n",
       "Misc            1750\n",
       "Role-Playing    1498\n",
       "Shooter         1323\n",
       "Adventure       1303\n",
       "Racing          1249\n",
       "Platform         888\n",
       "Simulation       873\n",
       "Fighting         849\n",
       "Strategy         683\n",
       "Puzzle           580\n",
       "Name: Genre, dtype: int64"
      ]
     },
     "execution_count": 11,
     "metadata": {},
     "output_type": "execute_result"
    }
   ],
   "source": [
    "print('Представленные игровые жанры:')\n",
    "df['Genre'].value_counts()"
   ]
  },
  {
   "cell_type": "code",
   "execution_count": 12,
   "metadata": {},
   "outputs": [
    {
     "name": "stdout",
     "output_type": "stream",
     "text": [
      "Уникальные значения в столбце с рейтингом от пользователей:\n"
     ]
    },
    {
     "data": {
      "text/plain": [
       "array(['8', nan, '8.3', '8.5', '6.6', '8.4', '8.6', '7.7', '6.3', '7.4',\n",
       "       '8.2', '9', '7.9', '8.1', '8.7', '7.1', '3.4', '5.3', '4.8', '3.2',\n",
       "       '8.9', '6.4', '7.8', '7.5', '2.6', '7.2', '9.2', '7', '7.3', '4.3',\n",
       "       '7.6', '5.7', '5', '9.1', '6.5', 'tbd', '8.8', '6.9', '9.4', '6.8',\n",
       "       '6.1', '6.7', '5.4', '4', '4.9', '4.5', '9.3', '6.2', '4.2', '6',\n",
       "       '3.7', '4.1', '5.8', '5.6', '5.5', '4.4', '4.6', '5.9', '3.9',\n",
       "       '3.1', '2.9', '5.2', '3.3', '4.7', '5.1', '3.5', '2.5', '1.9', '3',\n",
       "       '2.7', '2.2', '2', '9.5', '2.1', '3.6', '2.8', '1.8', '3.8', '0',\n",
       "       '1.6', '9.6', '2.4', '1.7', '1.1', '0.3', '1.5', '0.7', '1.2',\n",
       "       '2.3', '0.5', '1.3', '0.2', '0.6', '1.4', '0.9', '1', '9.7'],\n",
       "      dtype=object)"
      ]
     },
     "execution_count": 12,
     "metadata": {},
     "output_type": "execute_result"
    }
   ],
   "source": [
    "print('Уникальные значения в столбце с рейтингом от пользователей:')\n",
    "df['User_Score'].unique()\n"
   ]
  },
  {
   "cell_type": "code",
   "execution_count": 13,
   "metadata": {},
   "outputs": [
    {
     "name": "stdout",
     "output_type": "stream",
     "text": [
      "Уникальные значения в столбце с рейтингом от организации ESRB:\n"
     ]
    },
    {
     "data": {
      "text/plain": [
       "E       3990\n",
       "T       2961\n",
       "M       1563\n",
       "E10+    1420\n",
       "EC         8\n",
       "K-A        3\n",
       "RP         3\n",
       "AO         1\n",
       "Name: Rating, dtype: int64"
      ]
     },
     "execution_count": 13,
     "metadata": {},
     "output_type": "execute_result"
    }
   ],
   "source": [
    "print('Уникальные значения в столбце с рейтингом от организации ESRB:')\n",
    "df['Rating'].value_counts()"
   ]
  },
  {
   "cell_type": "markdown",
   "metadata": {},
   "source": [
    "#### Описание данных\n",
    "На ввод мы получили данные об играх, игровых платформах, их продаже и оценке. Датафрейм состоит из 16714 строк и 11 столбцов (названия столбцов начинаются с заглавной буквы) в которых содержится информация:\n",
    "\n",
    "**1. Name** — название игры\n",
    "\n",
    "- название игр может повторяться (возможно в зависимости от платформы)\n",
    "- есть 2 пропущенных значения\n",
    "\n",
    "**2. Platform** — платформа\n",
    "\n",
    "- игровые платформы представлены еще и в разрезе поколений (например PS, PS2, PS3 и тд)\n",
    "\n",
    "**3. Year_of_Release** — год выпуска\n",
    "\n",
    "- представлены игры с 1980 по 2016 год\n",
    "- формат необходимо заменить на целочисленный\n",
    "- 269 пропущенных значений (возможно нет информации о годе выпуска)\n",
    "\n",
    "**4. Genre** — жанр игры\n",
    "\n",
    "- есть 2 пропущенных значения\n",
    "- представлено 12 игровых жанров\n",
    "\n",
    "**5. NA_sales** — продажи в Северной Америке (миллионы проданных копий)\n",
    "\n",
    "- перевести миллионы в тысячи\n",
    "- изменить формат на целочисленный\n",
    "\n",
    "**6. EU_sales** — продажи в Европе (миллионы проданных копий)\n",
    "\n",
    "- перевести миллионы в тысячи\n",
    "- изменить формат на целочисленный\n",
    "\n",
    "**7. JP_sales** — продажи в Японии (миллионы проданных копий)\n",
    "\n",
    "- перевести миллионы в тысячи\n",
    "- изменить формат на целочисленный\n",
    "\n",
    "**8. Other_sales** — продажи в других странах (миллионы проданных копий)\n",
    "\n",
    "- перевести миллионы в тысячи\n",
    "- изменить формат на целочисленный\n",
    "\n",
    "**9. Critic_Score** — оценка критиков (максимум 100)\n",
    "\n",
    "- 8578 пропущенных значений (возможно критики не оценивали конкретно эти игры, или произошла ошибка выгрузки)\n",
    "- изменить формат на целочисленный\n",
    "\n",
    "**10. User_Score** — оценка пользователей (максимум 10)\n",
    "\n",
    "- 6701 пропущенное значение \n",
    "- присутствуют значения \"tbd\" (необходимо разобраться что это)\n",
    "- присутствуют нулевые значения\n",
    "- тип данных необходимо заменить на числовой\n",
    "\n",
    "**11. Rating** — рейтинг от организации ESRB (англ. Entertainment Software Rating Board). Эта ассоциация определяет рейтинг компьютерных игр и присваивает им подходящую возрастную категорию.\n",
    "\n",
    "- 6766 пропущенных значений (возможно данная организация не присваивала рейтинг конкретной игре)\n",
    "- присутствуют категории рейтинга от организации ESRB, декодинг обозначений следующий:\n",
    "\n",
    "«E» («Everyone») — «Для всех»\n",
    "\n",
    "«T» («Teen») — «Подросткам»\n",
    "\n",
    "«M» («Mature») — «Для взрослых»\n",
    "\n",
    "«E10+» («Everyone 10 and older») — «Для всех от 10 лет и старше»\n",
    "\n",
    "«EC» («Early childhood») — «Для детей младшего возраста»\n",
    "\n",
    "«RP» («Rating Pending») — «Рейтинг ожидается»\n",
    "\n",
    "«K-A» (Kids to Adults) - «Для всех» (старое название для рейтинга E, по сути его дублирует)\n",
    "\n",
    "«AO» («Adults Only 18+») — «Только для взрослых»"
   ]
  },
  {
   "cell_type": "markdown",
   "metadata": {},
   "source": [
    "### Вывод\n",
    "\n",
    "Для анализа данных представлены данные об играх, их доходах и оценках до 2016 года. В данных обнаружились следующие недочеты:\n",
    "\n",
    "- Название игр может повторяться (Need for Speed: Most Wanted повторяется 12 раз), необходимо рассмотреть подробней почему так происходит, и принять решение что с этим делать\n",
    "\n",
    "- Присутствуют артефакты (например, значение \"tbd\" в столбце с оценкой от пользователей)\n",
    "\n",
    "- Во многих столбцах пропущенные значения, необходимо оценить и разобраться что с ними сделать\n",
    "\n",
    "- Категории от организации ESRB представлены заглавной буквой от англ. слов (возможно для презентативности данных стоит расшифровать категории, если будет необходимость)\n",
    "\n",
    "- Необходимо поменять формат столбцов там, где это требуется (например, год релиза игры на целочисленный)\n",
    "\n",
    "- Посчитать суммарные продажи во всех регионах\n",
    "\n",
    "Все эти действия необходимо оценить и обработать, чтобы на выходе получить датафрейм готовый для анализа данных."
   ]
  },
  {
   "cell_type": "markdown",
   "metadata": {},
   "source": [
    "### Шаг 2. Подготовка данных<a id=\"step2\"></a>"
   ]
  },
  {
   "cell_type": "markdown",
   "metadata": {},
   "source": [
    "Для начала приведем названия заголовков столбцов к нижнему регистру:"
   ]
  },
  {
   "cell_type": "code",
   "execution_count": 14,
   "metadata": {},
   "outputs": [],
   "source": [
    "df.columns = df.columns.str.lower()"
   ]
  },
  {
   "cell_type": "markdown",
   "metadata": {},
   "source": [
    "#### 2.1 Предобработка столбца 'name'"
   ]
  },
  {
   "cell_type": "markdown",
   "metadata": {},
   "source": [
    "Мы видели, что у нас в строчках может повторяться название одной и той же игры, посмотри являются ли они дубликатами на примере игры которая чаще всего повторяется:"
   ]
  },
  {
   "cell_type": "code",
   "execution_count": 15,
   "metadata": {},
   "outputs": [
    {
     "data": {
      "text/html": [
       "<div>\n",
       "<style scoped>\n",
       "    .dataframe tbody tr th:only-of-type {\n",
       "        vertical-align: middle;\n",
       "    }\n",
       "\n",
       "    .dataframe tbody tr th {\n",
       "        vertical-align: top;\n",
       "    }\n",
       "\n",
       "    .dataframe thead th {\n",
       "        text-align: right;\n",
       "    }\n",
       "</style>\n",
       "<table border=\"1\" class=\"dataframe\">\n",
       "  <thead>\n",
       "    <tr style=\"text-align: right;\">\n",
       "      <th></th>\n",
       "      <th>name</th>\n",
       "      <th>platform</th>\n",
       "      <th>year_of_release</th>\n",
       "      <th>genre</th>\n",
       "      <th>na_sales</th>\n",
       "      <th>eu_sales</th>\n",
       "      <th>jp_sales</th>\n",
       "      <th>other_sales</th>\n",
       "      <th>critic_score</th>\n",
       "      <th>user_score</th>\n",
       "      <th>rating</th>\n",
       "    </tr>\n",
       "  </thead>\n",
       "  <tbody>\n",
       "    <tr>\n",
       "      <td>253</td>\n",
       "      <td>Need for Speed: Most Wanted</td>\n",
       "      <td>PS2</td>\n",
       "      <td>2005.0</td>\n",
       "      <td>Racing</td>\n",
       "      <td>2.03</td>\n",
       "      <td>1.79</td>\n",
       "      <td>0.08</td>\n",
       "      <td>0.47</td>\n",
       "      <td>82.0</td>\n",
       "      <td>9.1</td>\n",
       "      <td>T</td>\n",
       "    </tr>\n",
       "    <tr>\n",
       "      <td>523</td>\n",
       "      <td>Need for Speed: Most Wanted</td>\n",
       "      <td>PS3</td>\n",
       "      <td>2012.0</td>\n",
       "      <td>Racing</td>\n",
       "      <td>0.71</td>\n",
       "      <td>1.46</td>\n",
       "      <td>0.06</td>\n",
       "      <td>0.58</td>\n",
       "      <td>NaN</td>\n",
       "      <td>NaN</td>\n",
       "      <td>NaN</td>\n",
       "    </tr>\n",
       "    <tr>\n",
       "      <td>1190</td>\n",
       "      <td>Need for Speed: Most Wanted</td>\n",
       "      <td>X360</td>\n",
       "      <td>2012.0</td>\n",
       "      <td>Racing</td>\n",
       "      <td>0.62</td>\n",
       "      <td>0.78</td>\n",
       "      <td>0.01</td>\n",
       "      <td>0.15</td>\n",
       "      <td>83.0</td>\n",
       "      <td>8.5</td>\n",
       "      <td>T</td>\n",
       "    </tr>\n",
       "    <tr>\n",
       "      <td>1591</td>\n",
       "      <td>Need for Speed: Most Wanted</td>\n",
       "      <td>X360</td>\n",
       "      <td>2005.0</td>\n",
       "      <td>Racing</td>\n",
       "      <td>1.00</td>\n",
       "      <td>0.13</td>\n",
       "      <td>0.02</td>\n",
       "      <td>0.10</td>\n",
       "      <td>83.0</td>\n",
       "      <td>8.5</td>\n",
       "      <td>T</td>\n",
       "    </tr>\n",
       "    <tr>\n",
       "      <td>1998</td>\n",
       "      <td>Need for Speed: Most Wanted</td>\n",
       "      <td>XB</td>\n",
       "      <td>2005.0</td>\n",
       "      <td>Racing</td>\n",
       "      <td>0.53</td>\n",
       "      <td>0.46</td>\n",
       "      <td>0.00</td>\n",
       "      <td>0.05</td>\n",
       "      <td>83.0</td>\n",
       "      <td>8.8</td>\n",
       "      <td>T</td>\n",
       "    </tr>\n",
       "    <tr>\n",
       "      <td>2048</td>\n",
       "      <td>Need for Speed: Most Wanted</td>\n",
       "      <td>PSV</td>\n",
       "      <td>2012.0</td>\n",
       "      <td>Racing</td>\n",
       "      <td>0.33</td>\n",
       "      <td>0.45</td>\n",
       "      <td>0.01</td>\n",
       "      <td>0.22</td>\n",
       "      <td>NaN</td>\n",
       "      <td>NaN</td>\n",
       "      <td>NaN</td>\n",
       "    </tr>\n",
       "    <tr>\n",
       "      <td>3581</td>\n",
       "      <td>Need for Speed: Most Wanted</td>\n",
       "      <td>GC</td>\n",
       "      <td>2005.0</td>\n",
       "      <td>Racing</td>\n",
       "      <td>0.43</td>\n",
       "      <td>0.11</td>\n",
       "      <td>0.00</td>\n",
       "      <td>0.02</td>\n",
       "      <td>80.0</td>\n",
       "      <td>9.1</td>\n",
       "      <td>T</td>\n",
       "    </tr>\n",
       "    <tr>\n",
       "      <td>5972</td>\n",
       "      <td>Need for Speed: Most Wanted</td>\n",
       "      <td>PC</td>\n",
       "      <td>2005.0</td>\n",
       "      <td>Racing</td>\n",
       "      <td>0.02</td>\n",
       "      <td>0.23</td>\n",
       "      <td>0.00</td>\n",
       "      <td>0.04</td>\n",
       "      <td>82.0</td>\n",
       "      <td>8.5</td>\n",
       "      <td>T</td>\n",
       "    </tr>\n",
       "    <tr>\n",
       "      <td>6273</td>\n",
       "      <td>Need for Speed: Most Wanted</td>\n",
       "      <td>WiiU</td>\n",
       "      <td>2013.0</td>\n",
       "      <td>Racing</td>\n",
       "      <td>0.13</td>\n",
       "      <td>0.12</td>\n",
       "      <td>0.00</td>\n",
       "      <td>0.02</td>\n",
       "      <td>NaN</td>\n",
       "      <td>NaN</td>\n",
       "      <td>NaN</td>\n",
       "    </tr>\n",
       "    <tr>\n",
       "      <td>6410</td>\n",
       "      <td>Need for Speed: Most Wanted</td>\n",
       "      <td>DS</td>\n",
       "      <td>2005.0</td>\n",
       "      <td>Racing</td>\n",
       "      <td>0.24</td>\n",
       "      <td>0.01</td>\n",
       "      <td>0.00</td>\n",
       "      <td>0.02</td>\n",
       "      <td>45.0</td>\n",
       "      <td>6.1</td>\n",
       "      <td>E</td>\n",
       "    </tr>\n",
       "    <tr>\n",
       "      <td>6473</td>\n",
       "      <td>Need for Speed: Most Wanted</td>\n",
       "      <td>GBA</td>\n",
       "      <td>2005.0</td>\n",
       "      <td>Racing</td>\n",
       "      <td>0.19</td>\n",
       "      <td>0.07</td>\n",
       "      <td>0.00</td>\n",
       "      <td>0.00</td>\n",
       "      <td>NaN</td>\n",
       "      <td>8.3</td>\n",
       "      <td>E</td>\n",
       "    </tr>\n",
       "    <tr>\n",
       "      <td>11715</td>\n",
       "      <td>Need for Speed: Most Wanted</td>\n",
       "      <td>PC</td>\n",
       "      <td>2012.0</td>\n",
       "      <td>Racing</td>\n",
       "      <td>0.00</td>\n",
       "      <td>0.06</td>\n",
       "      <td>0.00</td>\n",
       "      <td>0.02</td>\n",
       "      <td>82.0</td>\n",
       "      <td>8.5</td>\n",
       "      <td>T</td>\n",
       "    </tr>\n",
       "  </tbody>\n",
       "</table>\n",
       "</div>"
      ],
      "text/plain": [
       "                              name platform  year_of_release   genre  \\\n",
       "253    Need for Speed: Most Wanted      PS2           2005.0  Racing   \n",
       "523    Need for Speed: Most Wanted      PS3           2012.0  Racing   \n",
       "1190   Need for Speed: Most Wanted     X360           2012.0  Racing   \n",
       "1591   Need for Speed: Most Wanted     X360           2005.0  Racing   \n",
       "1998   Need for Speed: Most Wanted       XB           2005.0  Racing   \n",
       "2048   Need for Speed: Most Wanted      PSV           2012.0  Racing   \n",
       "3581   Need for Speed: Most Wanted       GC           2005.0  Racing   \n",
       "5972   Need for Speed: Most Wanted       PC           2005.0  Racing   \n",
       "6273   Need for Speed: Most Wanted     WiiU           2013.0  Racing   \n",
       "6410   Need for Speed: Most Wanted       DS           2005.0  Racing   \n",
       "6473   Need for Speed: Most Wanted      GBA           2005.0  Racing   \n",
       "11715  Need for Speed: Most Wanted       PC           2012.0  Racing   \n",
       "\n",
       "       na_sales  eu_sales  jp_sales  other_sales  critic_score user_score  \\\n",
       "253        2.03      1.79      0.08         0.47          82.0        9.1   \n",
       "523        0.71      1.46      0.06         0.58           NaN        NaN   \n",
       "1190       0.62      0.78      0.01         0.15          83.0        8.5   \n",
       "1591       1.00      0.13      0.02         0.10          83.0        8.5   \n",
       "1998       0.53      0.46      0.00         0.05          83.0        8.8   \n",
       "2048       0.33      0.45      0.01         0.22           NaN        NaN   \n",
       "3581       0.43      0.11      0.00         0.02          80.0        9.1   \n",
       "5972       0.02      0.23      0.00         0.04          82.0        8.5   \n",
       "6273       0.13      0.12      0.00         0.02           NaN        NaN   \n",
       "6410       0.24      0.01      0.00         0.02          45.0        6.1   \n",
       "6473       0.19      0.07      0.00         0.00           NaN        8.3   \n",
       "11715      0.00      0.06      0.00         0.02          82.0        8.5   \n",
       "\n",
       "      rating  \n",
       "253        T  \n",
       "523      NaN  \n",
       "1190       T  \n",
       "1591       T  \n",
       "1998       T  \n",
       "2048     NaN  \n",
       "3581       T  \n",
       "5972       T  \n",
       "6273     NaN  \n",
       "6410       E  \n",
       "6473       E  \n",
       "11715      T  "
      ]
     },
     "execution_count": 15,
     "metadata": {},
     "output_type": "execute_result"
    }
   ],
   "source": [
    "df[df['name'] == 'Need for Speed: Most Wanted']"
   ]
  },
  {
   "cell_type": "markdown",
   "metadata": {},
   "source": [
    "Это не дубликаты потому что разбивка идет по платформе. Так же присутствуют несколько релизов по одной платформе (PC) в 2005 и 2012 годах соответственно. Можем предположить, что игра несколько раз выпускалась по причине ремастеринга или выпуска новых дополнений.\n",
    "\n",
    "Мы помним что у нас было 2 пропущенных значения, посмотрим на них:"
   ]
  },
  {
   "cell_type": "code",
   "execution_count": 16,
   "metadata": {},
   "outputs": [
    {
     "data": {
      "text/html": [
       "<div>\n",
       "<style scoped>\n",
       "    .dataframe tbody tr th:only-of-type {\n",
       "        vertical-align: middle;\n",
       "    }\n",
       "\n",
       "    .dataframe tbody tr th {\n",
       "        vertical-align: top;\n",
       "    }\n",
       "\n",
       "    .dataframe thead th {\n",
       "        text-align: right;\n",
       "    }\n",
       "</style>\n",
       "<table border=\"1\" class=\"dataframe\">\n",
       "  <thead>\n",
       "    <tr style=\"text-align: right;\">\n",
       "      <th></th>\n",
       "      <th>name</th>\n",
       "      <th>platform</th>\n",
       "      <th>year_of_release</th>\n",
       "      <th>genre</th>\n",
       "      <th>na_sales</th>\n",
       "      <th>eu_sales</th>\n",
       "      <th>jp_sales</th>\n",
       "      <th>other_sales</th>\n",
       "      <th>critic_score</th>\n",
       "      <th>user_score</th>\n",
       "      <th>rating</th>\n",
       "    </tr>\n",
       "  </thead>\n",
       "  <tbody>\n",
       "    <tr>\n",
       "      <td>659</td>\n",
       "      <td>NaN</td>\n",
       "      <td>GEN</td>\n",
       "      <td>1993.0</td>\n",
       "      <td>NaN</td>\n",
       "      <td>1.78</td>\n",
       "      <td>0.53</td>\n",
       "      <td>0.00</td>\n",
       "      <td>0.08</td>\n",
       "      <td>NaN</td>\n",
       "      <td>NaN</td>\n",
       "      <td>NaN</td>\n",
       "    </tr>\n",
       "    <tr>\n",
       "      <td>14244</td>\n",
       "      <td>NaN</td>\n",
       "      <td>GEN</td>\n",
       "      <td>1993.0</td>\n",
       "      <td>NaN</td>\n",
       "      <td>0.00</td>\n",
       "      <td>0.00</td>\n",
       "      <td>0.03</td>\n",
       "      <td>0.00</td>\n",
       "      <td>NaN</td>\n",
       "      <td>NaN</td>\n",
       "      <td>NaN</td>\n",
       "    </tr>\n",
       "  </tbody>\n",
       "</table>\n",
       "</div>"
      ],
      "text/plain": [
       "      name platform  year_of_release genre  na_sales  eu_sales  jp_sales  \\\n",
       "659    NaN      GEN           1993.0   NaN      1.78      0.53      0.00   \n",
       "14244  NaN      GEN           1993.0   NaN      0.00      0.00      0.03   \n",
       "\n",
       "       other_sales  critic_score user_score rating  \n",
       "659           0.08           NaN        NaN    NaN  \n",
       "14244         0.00           NaN        NaN    NaN  "
      ]
     },
     "execution_count": 16,
     "metadata": {},
     "output_type": "execute_result"
    }
   ],
   "source": [
    "df[df['name'].isnull() == True]"
   ]
  },
  {
   "cell_type": "markdown",
   "metadata": {},
   "source": [
    "Мы не можем идентифицировать игру, учитывая, что у нее пропущено много значений помимо названия (жанр (заодно \"убьем\" все пропуски в этом столбце), оценки, рейтинг), то принимаем решение удалить эти строки."
   ]
  },
  {
   "cell_type": "code",
   "execution_count": 17,
   "metadata": {},
   "outputs": [],
   "source": [
    "df = df.dropna(subset=['name'])"
   ]
  },
  {
   "cell_type": "markdown",
   "metadata": {},
   "source": [
    "#### 2.2 Предобработка столбца 'Year_of_Release'"
   ]
  },
  {
   "cell_type": "markdown",
   "metadata": {},
   "source": [
    "Так как сейчас в данных год представлен в формате float64, без месяца и дня, изменим тип данных на целочисленный. Но перед этим заменим пропущенные значения на \"0\", так как значения NaN имеют формат float, и их нельзя заменить на int."
   ]
  },
  {
   "cell_type": "code",
   "execution_count": 18,
   "metadata": {},
   "outputs": [],
   "source": [
    "df['year_of_release'] = df['year_of_release'].fillna('0')\n",
    "df['year_of_release'] = df['year_of_release'].astype(int)"
   ]
  },
  {
   "cell_type": "code",
   "execution_count": 19,
   "metadata": {},
   "outputs": [
    {
     "name": "stdout",
     "output_type": "stream",
     "text": [
      "Выборочно посмотрим строки с пропущенным годом релиза:\n"
     ]
    },
    {
     "data": {
      "text/html": [
       "<div>\n",
       "<style scoped>\n",
       "    .dataframe tbody tr th:only-of-type {\n",
       "        vertical-align: middle;\n",
       "    }\n",
       "\n",
       "    .dataframe tbody tr th {\n",
       "        vertical-align: top;\n",
       "    }\n",
       "\n",
       "    .dataframe thead th {\n",
       "        text-align: right;\n",
       "    }\n",
       "</style>\n",
       "<table border=\"1\" class=\"dataframe\">\n",
       "  <thead>\n",
       "    <tr style=\"text-align: right;\">\n",
       "      <th></th>\n",
       "      <th>name</th>\n",
       "      <th>platform</th>\n",
       "      <th>year_of_release</th>\n",
       "      <th>genre</th>\n",
       "      <th>na_sales</th>\n",
       "      <th>eu_sales</th>\n",
       "      <th>jp_sales</th>\n",
       "      <th>other_sales</th>\n",
       "      <th>critic_score</th>\n",
       "      <th>user_score</th>\n",
       "      <th>rating</th>\n",
       "    </tr>\n",
       "  </thead>\n",
       "  <tbody>\n",
       "    <tr>\n",
       "      <td>183</td>\n",
       "      <td>Madden NFL 2004</td>\n",
       "      <td>PS2</td>\n",
       "      <td>0</td>\n",
       "      <td>Sports</td>\n",
       "      <td>4.26</td>\n",
       "      <td>0.26</td>\n",
       "      <td>0.01</td>\n",
       "      <td>0.71</td>\n",
       "      <td>94.0</td>\n",
       "      <td>8.5</td>\n",
       "      <td>E</td>\n",
       "    </tr>\n",
       "    <tr>\n",
       "      <td>377</td>\n",
       "      <td>FIFA Soccer 2004</td>\n",
       "      <td>PS2</td>\n",
       "      <td>0</td>\n",
       "      <td>Sports</td>\n",
       "      <td>0.59</td>\n",
       "      <td>2.36</td>\n",
       "      <td>0.04</td>\n",
       "      <td>0.51</td>\n",
       "      <td>84.0</td>\n",
       "      <td>6.4</td>\n",
       "      <td>E</td>\n",
       "    </tr>\n",
       "    <tr>\n",
       "      <td>456</td>\n",
       "      <td>LEGO Batman: The Videogame</td>\n",
       "      <td>Wii</td>\n",
       "      <td>0</td>\n",
       "      <td>Action</td>\n",
       "      <td>1.80</td>\n",
       "      <td>0.97</td>\n",
       "      <td>0.00</td>\n",
       "      <td>0.29</td>\n",
       "      <td>74.0</td>\n",
       "      <td>7.9</td>\n",
       "      <td>E10+</td>\n",
       "    </tr>\n",
       "    <tr>\n",
       "      <td>475</td>\n",
       "      <td>wwe Smackdown vs. Raw 2006</td>\n",
       "      <td>PS2</td>\n",
       "      <td>0</td>\n",
       "      <td>Fighting</td>\n",
       "      <td>1.57</td>\n",
       "      <td>1.02</td>\n",
       "      <td>0.00</td>\n",
       "      <td>0.41</td>\n",
       "      <td>NaN</td>\n",
       "      <td>NaN</td>\n",
       "      <td>NaN</td>\n",
       "    </tr>\n",
       "    <tr>\n",
       "      <td>609</td>\n",
       "      <td>Space Invaders</td>\n",
       "      <td>2600</td>\n",
       "      <td>0</td>\n",
       "      <td>Shooter</td>\n",
       "      <td>2.36</td>\n",
       "      <td>0.14</td>\n",
       "      <td>0.00</td>\n",
       "      <td>0.03</td>\n",
       "      <td>NaN</td>\n",
       "      <td>NaN</td>\n",
       "      <td>NaN</td>\n",
       "    </tr>\n",
       "  </tbody>\n",
       "</table>\n",
       "</div>"
      ],
      "text/plain": [
       "                           name platform  year_of_release     genre  na_sales  \\\n",
       "183             Madden NFL 2004      PS2                0    Sports      4.26   \n",
       "377            FIFA Soccer 2004      PS2                0    Sports      0.59   \n",
       "456  LEGO Batman: The Videogame      Wii                0    Action      1.80   \n",
       "475  wwe Smackdown vs. Raw 2006      PS2                0  Fighting      1.57   \n",
       "609              Space Invaders     2600                0   Shooter      2.36   \n",
       "\n",
       "     eu_sales  jp_sales  other_sales  critic_score user_score rating  \n",
       "183      0.26      0.01         0.71          94.0        8.5      E  \n",
       "377      2.36      0.04         0.51          84.0        6.4      E  \n",
       "456      0.97      0.00         0.29          74.0        7.9   E10+  \n",
       "475      1.02      0.00         0.41           NaN        NaN    NaN  \n",
       "609      0.14      0.00         0.03           NaN        NaN    NaN  "
      ]
     },
     "execution_count": 19,
     "metadata": {},
     "output_type": "execute_result"
    }
   ],
   "source": [
    "print('Выборочно посмотрим строки с пропущенным годом релиза:')\n",
    "df.query('year_of_release == 0').head()"
   ]
  },
  {
   "cell_type": "markdown",
   "metadata": {},
   "source": [
    "Пропуски в этом столбце совершенно случайные, в теории, если принципиально важна точность, можно было бы заменить пропущенные значения по дате релиза вручную (по названию игры \"гуглить\" дату релиза), но в нашем слуае дедлайны не позволяют этого сделать :). Пропущенные значения не будем удалять, потому что в данный момент они не мешают расчетам. "
   ]
  },
  {
   "cell_type": "markdown",
   "metadata": {},
   "source": [
    "#### 2.2 Предобработка столбцов с числом проданных копий ('na_sales', 'eu_sales', 'jp_sales', 'other_sales')"
   ]
  },
  {
   "cell_type": "markdown",
   "metadata": {},
   "source": [
    "Удобней будет смотреть на целое число проданных копий игр в разных регионах. Переведем число копий из млн в тысячи и поменяем формат на целочисленный:"
   ]
  },
  {
   "cell_type": "code",
   "execution_count": 20,
   "metadata": {},
   "outputs": [],
   "source": [
    "df['na_sales'] = df['na_sales'] * 1000000\n",
    "df['na_sales'] = df['na_sales'].astype(int)\n",
    "\n",
    "df['eu_sales'] = df['eu_sales'] * 1000000\n",
    "df['eu_sales'] = df['eu_sales'].astype(int)\n",
    "\n",
    "df['jp_sales'] = df['jp_sales'] * 1000000\n",
    "df['jp_sales'] = df['jp_sales'].astype(int)\n",
    "\n",
    "df['other_sales'] = df['other_sales'] * 1000000\n",
    "df['other_sales'] = df['other_sales'].astype(int)"
   ]
  },
  {
   "cell_type": "markdown",
   "metadata": {},
   "source": [
    "#### 2.3 Предобработка столбцов с оценками ('critic_score', 'user_score')"
   ]
  },
  {
   "cell_type": "markdown",
   "metadata": {},
   "source": [
    "В столбце 'user_score' присутствуют артефакты \"tbd\", это аббревиатура от \"to be determined\" - пока не определён. Видимо оценки для этой игры еще не опубликовали (или никогда не опубликуют). По сути это такое же пропущенное значение, как и NaN, поэтому заменим все \"tbd\" на NaN, чтобы была возможность изменить тип данных на float."
   ]
  },
  {
   "cell_type": "code",
   "execution_count": 21,
   "metadata": {},
   "outputs": [],
   "source": [
    "df= df.replace('tbd', np.nan)\n",
    "df['user_score'] = pd.to_numeric(df['user_score'], errors='ignore') # переведем текст в числа\n",
    "df['user_score'] = df['user_score'].astype(float)"
   ]
  },
  {
   "cell_type": "code",
   "execution_count": 22,
   "metadata": {},
   "outputs": [
    {
     "name": "stdout",
     "output_type": "stream",
     "text": [
      "Проверим формат:\n"
     ]
    },
    {
     "data": {
      "text/plain": [
       "name                object\n",
       "platform            object\n",
       "year_of_release      int64\n",
       "genre               object\n",
       "na_sales             int64\n",
       "eu_sales             int64\n",
       "jp_sales             int64\n",
       "other_sales          int64\n",
       "critic_score       float64\n",
       "user_score         float64\n",
       "rating              object\n",
       "dtype: object"
      ]
     },
     "execution_count": 22,
     "metadata": {},
     "output_type": "execute_result"
    }
   ],
   "source": [
    "print('Проверим формат:')\n",
    "df.dtypes"
   ]
  },
  {
   "cell_type": "code",
   "execution_count": 23,
   "metadata": {},
   "outputs": [
    {
     "name": "stdout",
     "output_type": "stream",
     "text": [
      "Количество пропусков в столбце с оценкой критиков: 8576\n",
      "Доля пропусков в столбце с оценокй критиков 51.313348890085564\n",
      "---------------------------------------------------------------\n",
      "Количество пропусков в столбце с оценкой пользователей: 9123\n",
      "Доля пропусков в столбце с оценокой пользователей 54.58625022437623\n"
     ]
    }
   ],
   "source": [
    "print('Количество пропусков в столбце с оценкой критиков:', df['critic_score'].isna().sum())\n",
    "print('Доля пропусков в столбце с оценокй критиков', 8576 / 16713 * 100)\n",
    "print('---------------------------------------------------------------')\n",
    "print('Количество пропусков в столбце с оценкой пользователей:', df['user_score'].isna().sum())\n",
    "print('Доля пропусков в столбце с оценокой пользователей', 9123 / 16713 * 100)"
   ]
  },
  {
   "cell_type": "markdown",
   "metadata": {},
   "source": [
    "Так же в столбцах: 'critic_score', 'user_score' присутствует большое количество пропущенных значений, доля пропусков составляет 51% и 55% соответственно. Удалить такое количество значений означает потерять много данных, поэтому прибегать мы к этому способу не будем. Заменять данные пропуски мы тоже не можем, потому что данные критерии не зависят от других параметров. Например, оценка критиков не зависит от оценки пользователей, они могут быть похожи или даже наоборот оценка может диаметрально отличаться. Или количество проданных копий игры не показатель оценки, например, есть нишевые жанры игр, с небольшим количеством проданных копий, но с высокой оценкой, или наоборот большое количество проданных копий, но низкой оценкой (сильно ожидаемый релиз, с большим количеством предпродаж, но не оправдавший ожидания критиков и пользователей). Здесь нельзя как-то категоризировать данные и заполнить пропуски средним или медианным значением, потому что нет определенных тенденций и взаимосвязей. Принимаем решение оставить пропуски без изменений."
   ]
  },
  {
   "cell_type": "markdown",
   "metadata": {},
   "source": [
    "#### 2.4 Добавляем столбец с сумарными продажами количества копий"
   ]
  },
  {
   "cell_type": "markdown",
   "metadata": {},
   "source": [
    "Посчитаем суммарные продажи во всех регионах и запишите их в отдельный столбец:"
   ]
  },
  {
   "cell_type": "code",
   "execution_count": 24,
   "metadata": {},
   "outputs": [],
   "source": [
    "df['total_sales'] = df['na_sales'] + df['eu_sales'] + df['jp_sales'] + df['other_sales']"
   ]
  },
  {
   "cell_type": "code",
   "execution_count": 25,
   "metadata": {},
   "outputs": [
    {
     "name": "stdout",
     "output_type": "stream",
     "text": [
      "Итоговый взгляд после предобработки:\n",
      "\n",
      "<class 'pandas.core.frame.DataFrame'>\n",
      "Int64Index: 16713 entries, 0 to 16714\n",
      "Data columns (total 12 columns):\n",
      "name               16713 non-null object\n",
      "platform           16713 non-null object\n",
      "year_of_release    16713 non-null int64\n",
      "genre              16713 non-null object\n",
      "na_sales           16713 non-null int64\n",
      "eu_sales           16713 non-null int64\n",
      "jp_sales           16713 non-null int64\n",
      "other_sales        16713 non-null int64\n",
      "critic_score       8137 non-null float64\n",
      "user_score         7590 non-null float64\n",
      "rating             9949 non-null object\n",
      "total_sales        16713 non-null int64\n",
      "dtypes: float64(2), int64(6), object(4)\n",
      "memory usage: 1.7+ MB\n"
     ]
    }
   ],
   "source": [
    "print('Итоговый взгляд после предобработки:')\n",
    "print()\n",
    "df.info()"
   ]
  },
  {
   "cell_type": "markdown",
   "metadata": {},
   "source": [
    "#### Вывод\n",
    "\n",
    "В процессе предобработки данных мы проделали следующую работу:\n",
    "\n",
    "- привели заголовки столбцов к нижнему регистру (можно было и в столбцах (например с названием игры) привести значения к нижнему регистру, но и такие данные не искажают результат)\n",
    "\n",
    "- удалили 2 строки с неизвестным названием игры и жанром (данные пропуски появились в результате ошибки выгрузки, или отсутствии данных)\n",
    "\n",
    "- заменили тип на целочисленные в столбцах с датой и количеством проданных копий, а также перевели оценку пользователей в числовой тип данных (изначально был текстовый)\n",
    "\n",
    "- нашли большое количество случайных пропусков, которые объективно нельзя заменить\n",
    "\n",
    "- добавили столбец с сумарнной продажей количества копий по каждой игре\n",
    "\n",
    "В результате проделанной предобработки можно приступать к качественному анализу данных.  "
   ]
  },
  {
   "cell_type": "markdown",
   "metadata": {},
   "source": [
    "### Шаг 3. Исследовательский анализ данных<a id=\"step3\"></a>"
   ]
  },
  {
   "cell_type": "markdown",
   "metadata": {},
   "source": [
    "Построим гистограмму и посмотрим на количество релизов в год:"
   ]
  },
  {
   "cell_type": "code",
   "execution_count": 26,
   "metadata": {},
   "outputs": [
    {
     "data": {
      "image/png": "[encoded data removed]",
      "text/plain": [
       "<Figure size 1152x648 with 1 Axes>"
      ]
     },
     "metadata": {
      "needs_background": "light"
     },
     "output_type": "display_data"
    }
   ],
   "source": [
    "year_of_release_count = ( df.groupby('year_of_release')['name'].count()\n",
    "                         .plot(kind='bar', grid=True, figsize=(16,9), title='Количество выпущенных игр за календарный год')\n",
    "                         .set_xlabel('Год релиза')\n",
    ")"
   ]
  },
  {
   "cell_type": "markdown",
   "metadata": {},
   "source": [
    "Судя по графику, мы можем наблюдать, что рост количества релизов начинает заметно проявляться с 1994 года и вплоть до 2010 практически всегда видна положительная динамика прироста. Более 500 игр в год выходило в период с 2002 по 2016. Нулевые значения - это игры с неизвестной датой релиза.\n",
    "\n",
    "Посмотрим, как менялись продажи по платформам. Сделаем срез по году релиза, возьмем только релизы начиная с 1994 года, так как с этого года началась положительная динамика роста сегмента релиза игр. Выберем платформы с наибольшими суммарными продажами и построим распределение по годам. "
   ]
  },
  {
   "cell_type": "code",
   "execution_count": 27,
   "metadata": {},
   "outputs": [
    {
     "data": {
      "text/plain": [
       "platform\n",
       "PS2     1233559992\n",
       "X360     961239999\n",
       "PS3      931339995\n",
       "Wii      891179997\n",
       "DS       802760000\n",
       "PS       727579994\n",
       "PS4      314139997\n",
       "GBA      312879999\n",
       "PSP      289530000\n",
       "3DS      257809997\n",
       "Name: total_sales, dtype: int64"
      ]
     },
     "execution_count": 27,
     "metadata": {},
     "output_type": "execute_result"
    }
   ],
   "source": [
    "df_release_growth = df.query('year_of_release > 1993')\n",
    "df_release_growth.groupby('platform')['total_sales'].sum().sort_values(ascending = False).head(10)"
   ]
  },
  {
   "cell_type": "markdown",
   "metadata": {},
   "source": [
    "Будем считать, что платформы с наибольшими суммарными продажами - это платформы на которых более 500 млн продаж. "
   ]
  },
  {
   "cell_type": "code",
   "execution_count": 28,
   "metadata": {},
   "outputs": [],
   "source": [
    "top_platform = ['PS2', 'X360', 'PS3', 'Wii', 'DS', 'PS']"
   ]
  },
  {
   "cell_type": "code",
   "execution_count": 29,
   "metadata": {},
   "outputs": [
    {
     "data": {
      "text/plain": [
       "Text(0.5, 0, 'Год релиза')"
      ]
     },
     "execution_count": 29,
     "metadata": {},
     "output_type": "execute_result"
    },
    {
     "data": {
      "image/png": "[encoded data removed]",
      "text/plain": [
       "<Figure size 1152x648 with 1 Axes>"
      ]
     },
     "metadata": {
      "needs_background": "light"
     },
     "output_type": "display_data"
    }
   ],
   "source": [
    "df_release_growth.query('platform == @top_platform')\\\n",
    "                 .pivot_table(index='year_of_release', columns='platform', values='total_sales', aggfunc='sum')\\\n",
    "                 .plot(xlim=(1994, 2016), style='o-', figsize=(16, 9), grid=True, title='Сумма продаж по платформам в зависимости от года')\\\n",
    "                 .set_xlabel('Год релиза')"
   ]
  },
  {
   "cell_type": "markdown",
   "metadata": {},
   "source": [
    "На графике видно, как распределяется доход в зависимости от года по каждой платформе, почти все распределения похожи на \"нормальное распределение\" со своим пиком, начальным и конечным периодом. Так же видны и платформы конкуренты, которые развиваются параллельно. Построим столбчатые графики для каждой платформы, для более подробного рассмотрения:"
   ]
  },
  {
   "cell_type": "code",
   "execution_count": 30,
   "metadata": {},
   "outputs": [
    {
     "data": {
      "image/png": "[encoded data removed]",
      "text/plain": [
       "<Figure size 1080x360 with 1 Axes>"
      ]
     },
     "metadata": {
      "needs_background": "light"
     },
     "output_type": "display_data"
    },
    {
     "data": {
      "image/png": "[encoded data removed]",
      "text/plain": [
       "<Figure size 1080x360 with 1 Axes>"
      ]
     },
     "metadata": {
      "needs_background": "light"
     },
     "output_type": "display_data"
    },
    {
     "data": {
      "image/png": "[encoded data removed]",
      "text/plain": [
       "<Figure size 1080x360 with 1 Axes>"
      ]
     },
     "metadata": {
      "needs_background": "light"
     },
     "output_type": "display_data"
    },
    {
     "data": {
      "image/png": "[encoded data removed]",
      "text/plain": [
       "<Figure size 1080x360 with 1 Axes>"
      ]
     },
     "metadata": {
      "needs_background": "light"
     },
     "output_type": "display_data"
    },
    {
     "data": {
      "image/png": "[encoded data removed]",
      "text/plain": [
       "<Figure size 1080x360 with 1 Axes>"
      ]
     },
     "metadata": {
      "needs_background": "light"
     },
     "output_type": "display_data"
    },
    {
     "data": {
      "image/png": "[encoded data removed]",
      "text/plain": [
       "<Figure size 1080x360 with 1 Axes>"
      ]
     },
     "metadata": {
      "needs_background": "light"
     },
     "output_type": "display_data"
    }
   ],
   "source": [
    "for platform in top_platform:\n",
    "    df_release_growth[df_release_growth['platform'] == platform].pivot_table(index='year_of_release', values='total_sales', aggfunc='sum').plot(kind='bar', figsize=(15,5), title=platform)"
   ]
  },
  {
   "cell_type": "code",
   "execution_count": 31,
   "metadata": {},
   "outputs": [
    {
     "data": {
      "text/html": [
       "<div>\n",
       "<style scoped>\n",
       "    .dataframe tbody tr th:only-of-type {\n",
       "        vertical-align: middle;\n",
       "    }\n",
       "\n",
       "    .dataframe tbody tr th {\n",
       "        vertical-align: top;\n",
       "    }\n",
       "\n",
       "    .dataframe thead th {\n",
       "        text-align: right;\n",
       "    }\n",
       "</style>\n",
       "<table border=\"1\" class=\"dataframe\">\n",
       "  <thead>\n",
       "    <tr style=\"text-align: right;\">\n",
       "      <th></th>\n",
       "      <th>platform</th>\n",
       "      <th>min</th>\n",
       "      <th>max</th>\n",
       "      <th>years_of_life</th>\n",
       "    </tr>\n",
       "  </thead>\n",
       "  <tbody>\n",
       "    <tr>\n",
       "      <td>0</td>\n",
       "      <td>2004</td>\n",
       "      <td>1985</td>\n",
       "      <td>2013</td>\n",
       "      <td>28</td>\n",
       "    </tr>\n",
       "    <tr>\n",
       "      <td>1</td>\n",
       "      <td>PS</td>\n",
       "      <td>1994</td>\n",
       "      <td>2003</td>\n",
       "      <td>9</td>\n",
       "    </tr>\n",
       "    <tr>\n",
       "      <td>2</td>\n",
       "      <td>PS2</td>\n",
       "      <td>2000</td>\n",
       "      <td>2011</td>\n",
       "      <td>11</td>\n",
       "    </tr>\n",
       "    <tr>\n",
       "      <td>3</td>\n",
       "      <td>PS3</td>\n",
       "      <td>2006</td>\n",
       "      <td>2016</td>\n",
       "      <td>10</td>\n",
       "    </tr>\n",
       "    <tr>\n",
       "      <td>4</td>\n",
       "      <td>Wii</td>\n",
       "      <td>2006</td>\n",
       "      <td>2016</td>\n",
       "      <td>10</td>\n",
       "    </tr>\n",
       "    <tr>\n",
       "      <td>5</td>\n",
       "      <td>X360</td>\n",
       "      <td>2005</td>\n",
       "      <td>2016</td>\n",
       "      <td>11</td>\n",
       "    </tr>\n",
       "  </tbody>\n",
       "</table>\n",
       "</div>"
      ],
      "text/plain": [
       "  platform   min   max  years_of_life\n",
       "0     2004  1985  2013             28\n",
       "1       PS  1994  2003              9\n",
       "2      PS2  2000  2011             11\n",
       "3      PS3  2006  2016             10\n",
       "4      Wii  2006  2016             10\n",
       "5     X360  2005  2016             11"
      ]
     },
     "execution_count": 31,
     "metadata": {},
     "output_type": "execute_result"
    }
   ],
   "source": [
    "years_of_release = df.query('year_of_release != 0 and platform == @top_platform').groupby('platform')['year_of_release']\\\n",
    "                                                   .agg(['min', 'max'])\\\n",
    "                                                   .reset_index()\n",
    "years_of_release['years_of_life'] = years_of_release['max'] - years_of_release['min']\n",
    "years_of_release.loc[0, 'platform'] = 2004\n",
    "years_of_release"
   ]
  },
  {
   "cell_type": "markdown",
   "metadata": {},
   "source": [
    "Замечаем явный выброс у платформы DS. Почитав про эту платформу немного информации в интернете понимаем что это Nintendo DS (дата выхода 2004 - дата прекращения поддержки 2014). Перед нами возникает вопрос, как игры на эту платформу выходили задолго до ее выхода, посмотрим сколько таких игр:"
   ]
  },
  {
   "cell_type": "code",
   "execution_count": 32,
   "metadata": {},
   "outputs": [
    {
     "data": {
      "text/html": [
       "<div>\n",
       "<style scoped>\n",
       "    .dataframe tbody tr th:only-of-type {\n",
       "        vertical-align: middle;\n",
       "    }\n",
       "\n",
       "    .dataframe tbody tr th {\n",
       "        vertical-align: top;\n",
       "    }\n",
       "\n",
       "    .dataframe thead th {\n",
       "        text-align: right;\n",
       "    }\n",
       "</style>\n",
       "<table border=\"1\" class=\"dataframe\">\n",
       "  <thead>\n",
       "    <tr style=\"text-align: right;\">\n",
       "      <th></th>\n",
       "      <th>name</th>\n",
       "      <th>platform</th>\n",
       "      <th>year_of_release</th>\n",
       "      <th>genre</th>\n",
       "      <th>na_sales</th>\n",
       "      <th>eu_sales</th>\n",
       "      <th>jp_sales</th>\n",
       "      <th>other_sales</th>\n",
       "      <th>critic_score</th>\n",
       "      <th>user_score</th>\n",
       "      <th>rating</th>\n",
       "      <th>total_sales</th>\n",
       "    </tr>\n",
       "  </thead>\n",
       "  <tbody>\n",
       "    <tr>\n",
       "      <td>3081</td>\n",
       "      <td>LEGO Harry Potter: Years 5-7</td>\n",
       "      <td>DS</td>\n",
       "      <td>0</td>\n",
       "      <td>Action</td>\n",
       "      <td>340000</td>\n",
       "      <td>250000</td>\n",
       "      <td>0</td>\n",
       "      <td>70000</td>\n",
       "      <td>69.0</td>\n",
       "      <td>NaN</td>\n",
       "      <td>E10+</td>\n",
       "      <td>660000</td>\n",
       "    </tr>\n",
       "    <tr>\n",
       "      <td>3289</td>\n",
       "      <td>Advance Wars: Days of Ruin</td>\n",
       "      <td>DS</td>\n",
       "      <td>0</td>\n",
       "      <td>Strategy</td>\n",
       "      <td>430000</td>\n",
       "      <td>120000</td>\n",
       "      <td>0</td>\n",
       "      <td>50000</td>\n",
       "      <td>86.0</td>\n",
       "      <td>8.7</td>\n",
       "      <td>E10+</td>\n",
       "      <td>600000</td>\n",
       "    </tr>\n",
       "    <tr>\n",
       "      <td>5443</td>\n",
       "      <td>Bejeweled 3</td>\n",
       "      <td>DS</td>\n",
       "      <td>0</td>\n",
       "      <td>Puzzle</td>\n",
       "      <td>290000</td>\n",
       "      <td>20000</td>\n",
       "      <td>0</td>\n",
       "      <td>20000</td>\n",
       "      <td>75.0</td>\n",
       "      <td>NaN</td>\n",
       "      <td>E</td>\n",
       "      <td>330000</td>\n",
       "    </tr>\n",
       "    <tr>\n",
       "      <td>5932</td>\n",
       "      <td>Shrek the Third</td>\n",
       "      <td>DS</td>\n",
       "      <td>0</td>\n",
       "      <td>Action</td>\n",
       "      <td>260000</td>\n",
       "      <td>10000</td>\n",
       "      <td>0</td>\n",
       "      <td>20000</td>\n",
       "      <td>70.0</td>\n",
       "      <td>6.5</td>\n",
       "      <td>E</td>\n",
       "      <td>290000</td>\n",
       "    </tr>\n",
       "    <tr>\n",
       "      <td>9664</td>\n",
       "      <td>Charm Girls Club: My Fashion Mall</td>\n",
       "      <td>DS</td>\n",
       "      <td>0</td>\n",
       "      <td>Simulation</td>\n",
       "      <td>120000</td>\n",
       "      <td>0</td>\n",
       "      <td>0</td>\n",
       "      <td>10000</td>\n",
       "      <td>NaN</td>\n",
       "      <td>NaN</td>\n",
       "      <td>E</td>\n",
       "      <td>130000</td>\n",
       "    </tr>\n",
       "    <tr>\n",
       "      <td>9855</td>\n",
       "      <td>The Daring Game for Girls</td>\n",
       "      <td>DS</td>\n",
       "      <td>0</td>\n",
       "      <td>Adventure</td>\n",
       "      <td>110000</td>\n",
       "      <td>0</td>\n",
       "      <td>0</td>\n",
       "      <td>10000</td>\n",
       "      <td>NaN</td>\n",
       "      <td>NaN</td>\n",
       "      <td>E</td>\n",
       "      <td>120000</td>\n",
       "    </tr>\n",
       "    <tr>\n",
       "      <td>10486</td>\n",
       "      <td>Atsumare! Power Pro Kun no DS Koushien</td>\n",
       "      <td>DS</td>\n",
       "      <td>0</td>\n",
       "      <td>Sports</td>\n",
       "      <td>0</td>\n",
       "      <td>0</td>\n",
       "      <td>100000</td>\n",
       "      <td>0</td>\n",
       "      <td>NaN</td>\n",
       "      <td>NaN</td>\n",
       "      <td>NaN</td>\n",
       "      <td>100000</td>\n",
       "    </tr>\n",
       "    <tr>\n",
       "      <td>10612</td>\n",
       "      <td>My Healthy Cooking Coach</td>\n",
       "      <td>DS</td>\n",
       "      <td>0</td>\n",
       "      <td>Simulation</td>\n",
       "      <td>90000</td>\n",
       "      <td>0</td>\n",
       "      <td>0</td>\n",
       "      <td>10000</td>\n",
       "      <td>NaN</td>\n",
       "      <td>NaN</td>\n",
       "      <td>E</td>\n",
       "      <td>100000</td>\n",
       "    </tr>\n",
       "    <tr>\n",
       "      <td>10686</td>\n",
       "      <td>Happy Feet Two</td>\n",
       "      <td>DS</td>\n",
       "      <td>0</td>\n",
       "      <td>Action</td>\n",
       "      <td>80000</td>\n",
       "      <td>10000</td>\n",
       "      <td>0</td>\n",
       "      <td>10000</td>\n",
       "      <td>NaN</td>\n",
       "      <td>NaN</td>\n",
       "      <td>E</td>\n",
       "      <td>100000</td>\n",
       "    </tr>\n",
       "    <tr>\n",
       "      <td>10764</td>\n",
       "      <td>Luminous Arc 2 (JP sales)</td>\n",
       "      <td>DS</td>\n",
       "      <td>0</td>\n",
       "      <td>Role-Playing</td>\n",
       "      <td>0</td>\n",
       "      <td>0</td>\n",
       "      <td>100000</td>\n",
       "      <td>0</td>\n",
       "      <td>NaN</td>\n",
       "      <td>NaN</td>\n",
       "      <td>NaN</td>\n",
       "      <td>100000</td>\n",
       "    </tr>\n",
       "    <tr>\n",
       "      <td>10837</td>\n",
       "      <td>Egg Monster Hero</td>\n",
       "      <td>DS</td>\n",
       "      <td>0</td>\n",
       "      <td>Role-Playing</td>\n",
       "      <td>0</td>\n",
       "      <td>0</td>\n",
       "      <td>90000</td>\n",
       "      <td>0</td>\n",
       "      <td>NaN</td>\n",
       "      <td>NaN</td>\n",
       "      <td>E</td>\n",
       "      <td>90000</td>\n",
       "    </tr>\n",
       "    <tr>\n",
       "      <td>11338</td>\n",
       "      <td>Charm Girls Club: My Fashion Show</td>\n",
       "      <td>DS</td>\n",
       "      <td>0</td>\n",
       "      <td>Simulation</td>\n",
       "      <td>80000</td>\n",
       "      <td>0</td>\n",
       "      <td>0</td>\n",
       "      <td>10000</td>\n",
       "      <td>NaN</td>\n",
       "      <td>NaN</td>\n",
       "      <td>E</td>\n",
       "      <td>90000</td>\n",
       "    </tr>\n",
       "    <tr>\n",
       "      <td>11790</td>\n",
       "      <td>Mega Man Battle Network: Operation Shooting Star</td>\n",
       "      <td>DS</td>\n",
       "      <td>0</td>\n",
       "      <td>Role-Playing</td>\n",
       "      <td>0</td>\n",
       "      <td>0</td>\n",
       "      <td>70000</td>\n",
       "      <td>0</td>\n",
       "      <td>NaN</td>\n",
       "      <td>NaN</td>\n",
       "      <td>NaN</td>\n",
       "      <td>70000</td>\n",
       "    </tr>\n",
       "    <tr>\n",
       "      <td>12003</td>\n",
       "      <td>Tornado</td>\n",
       "      <td>DS</td>\n",
       "      <td>0</td>\n",
       "      <td>Action</td>\n",
       "      <td>70000</td>\n",
       "      <td>0</td>\n",
       "      <td>0</td>\n",
       "      <td>0</td>\n",
       "      <td>44.0</td>\n",
       "      <td>NaN</td>\n",
       "      <td>E</td>\n",
       "      <td>70000</td>\n",
       "    </tr>\n",
       "    <tr>\n",
       "      <td>12241</td>\n",
       "      <td>Alex Rider: Stormbreaker</td>\n",
       "      <td>DS</td>\n",
       "      <td>0</td>\n",
       "      <td>Action</td>\n",
       "      <td>60000</td>\n",
       "      <td>0</td>\n",
       "      <td>0</td>\n",
       "      <td>0</td>\n",
       "      <td>48.0</td>\n",
       "      <td>6.1</td>\n",
       "      <td>T</td>\n",
       "      <td>60000</td>\n",
       "    </tr>\n",
       "    <tr>\n",
       "      <td>12524</td>\n",
       "      <td>Chou Soujuu Mecha MG</td>\n",
       "      <td>DS</td>\n",
       "      <td>0</td>\n",
       "      <td>Simulation</td>\n",
       "      <td>0</td>\n",
       "      <td>0</td>\n",
       "      <td>60000</td>\n",
       "      <td>0</td>\n",
       "      <td>NaN</td>\n",
       "      <td>NaN</td>\n",
       "      <td>NaN</td>\n",
       "      <td>60000</td>\n",
       "    </tr>\n",
       "    <tr>\n",
       "      <td>12880</td>\n",
       "      <td>Jewel Link Chronicles: Mountains of Madness</td>\n",
       "      <td>DS</td>\n",
       "      <td>0</td>\n",
       "      <td>Puzzle</td>\n",
       "      <td>0</td>\n",
       "      <td>50000</td>\n",
       "      <td>0</td>\n",
       "      <td>10000</td>\n",
       "      <td>NaN</td>\n",
       "      <td>NaN</td>\n",
       "      <td>E10+</td>\n",
       "      <td>60000</td>\n",
       "    </tr>\n",
       "    <tr>\n",
       "      <td>13060</td>\n",
       "      <td>Captain America: Super Soldier</td>\n",
       "      <td>DS</td>\n",
       "      <td>0</td>\n",
       "      <td>Action</td>\n",
       "      <td>50000</td>\n",
       "      <td>0</td>\n",
       "      <td>0</td>\n",
       "      <td>0</td>\n",
       "      <td>NaN</td>\n",
       "      <td>NaN</td>\n",
       "      <td>NaN</td>\n",
       "      <td>50000</td>\n",
       "    </tr>\n",
       "    <tr>\n",
       "      <td>13142</td>\n",
       "      <td>GRID</td>\n",
       "      <td>DS</td>\n",
       "      <td>0</td>\n",
       "      <td>Racing</td>\n",
       "      <td>40000</td>\n",
       "      <td>0</td>\n",
       "      <td>0</td>\n",
       "      <td>0</td>\n",
       "      <td>79.0</td>\n",
       "      <td>8.1</td>\n",
       "      <td>E</td>\n",
       "      <td>40000</td>\n",
       "    </tr>\n",
       "    <tr>\n",
       "      <td>14126</td>\n",
       "      <td>Housekeeping</td>\n",
       "      <td>DS</td>\n",
       "      <td>0</td>\n",
       "      <td>Action</td>\n",
       "      <td>0</td>\n",
       "      <td>0</td>\n",
       "      <td>40000</td>\n",
       "      <td>0</td>\n",
       "      <td>NaN</td>\n",
       "      <td>NaN</td>\n",
       "      <td>NaN</td>\n",
       "      <td>40000</td>\n",
       "    </tr>\n",
       "    <tr>\n",
       "      <td>14350</td>\n",
       "      <td>Bikkuriman Daijiten</td>\n",
       "      <td>DS</td>\n",
       "      <td>0</td>\n",
       "      <td>Misc</td>\n",
       "      <td>0</td>\n",
       "      <td>0</td>\n",
       "      <td>30000</td>\n",
       "      <td>0</td>\n",
       "      <td>NaN</td>\n",
       "      <td>NaN</td>\n",
       "      <td>NaN</td>\n",
       "      <td>30000</td>\n",
       "    </tr>\n",
       "    <tr>\n",
       "      <td>15119</td>\n",
       "      <td>Legacy of Ys: Books I &amp; II</td>\n",
       "      <td>DS</td>\n",
       "      <td>0</td>\n",
       "      <td>Role-Playing</td>\n",
       "      <td>20000</td>\n",
       "      <td>0</td>\n",
       "      <td>0</td>\n",
       "      <td>0</td>\n",
       "      <td>NaN</td>\n",
       "      <td>NaN</td>\n",
       "      <td>NaN</td>\n",
       "      <td>20000</td>\n",
       "    </tr>\n",
       "    <tr>\n",
       "      <td>15292</td>\n",
       "      <td>Steal Princess</td>\n",
       "      <td>DS</td>\n",
       "      <td>0</td>\n",
       "      <td>Platform</td>\n",
       "      <td>20000</td>\n",
       "      <td>0</td>\n",
       "      <td>0</td>\n",
       "      <td>0</td>\n",
       "      <td>60.0</td>\n",
       "      <td>NaN</td>\n",
       "      <td>E10+</td>\n",
       "      <td>20000</td>\n",
       "    </tr>\n",
       "    <tr>\n",
       "      <td>15535</td>\n",
       "      <td>Runaway: A Twist of Fate</td>\n",
       "      <td>DS</td>\n",
       "      <td>0</td>\n",
       "      <td>Adventure</td>\n",
       "      <td>0</td>\n",
       "      <td>20000</td>\n",
       "      <td>0</td>\n",
       "      <td>0</td>\n",
       "      <td>66.0</td>\n",
       "      <td>NaN</td>\n",
       "      <td>T</td>\n",
       "      <td>20000</td>\n",
       "    </tr>\n",
       "    <tr>\n",
       "      <td>15704</td>\n",
       "      <td>Writing and Speaking Beautiful Japanese DS</td>\n",
       "      <td>DS</td>\n",
       "      <td>0</td>\n",
       "      <td>Misc</td>\n",
       "      <td>0</td>\n",
       "      <td>0</td>\n",
       "      <td>20000</td>\n",
       "      <td>0</td>\n",
       "      <td>NaN</td>\n",
       "      <td>NaN</td>\n",
       "      <td>NaN</td>\n",
       "      <td>20000</td>\n",
       "    </tr>\n",
       "    <tr>\n",
       "      <td>15795</td>\n",
       "      <td>Shonen Jump's Yu-Gi-Oh! GX Card Almanac</td>\n",
       "      <td>DS</td>\n",
       "      <td>0</td>\n",
       "      <td>Misc</td>\n",
       "      <td>0</td>\n",
       "      <td>0</td>\n",
       "      <td>20000</td>\n",
       "      <td>0</td>\n",
       "      <td>NaN</td>\n",
       "      <td>NaN</td>\n",
       "      <td>NaN</td>\n",
       "      <td>20000</td>\n",
       "    </tr>\n",
       "    <tr>\n",
       "      <td>15953</td>\n",
       "      <td>PDC World Championship Darts 2008</td>\n",
       "      <td>DS</td>\n",
       "      <td>0</td>\n",
       "      <td>Sports</td>\n",
       "      <td>10000</td>\n",
       "      <td>0</td>\n",
       "      <td>0</td>\n",
       "      <td>0</td>\n",
       "      <td>NaN</td>\n",
       "      <td>NaN</td>\n",
       "      <td>NaN</td>\n",
       "      <td>10000</td>\n",
       "    </tr>\n",
       "    <tr>\n",
       "      <td>15957</td>\n",
       "      <td>Strongest Tokyo University Shogi DS</td>\n",
       "      <td>DS</td>\n",
       "      <td>1985</td>\n",
       "      <td>Action</td>\n",
       "      <td>0</td>\n",
       "      <td>0</td>\n",
       "      <td>20000</td>\n",
       "      <td>0</td>\n",
       "      <td>NaN</td>\n",
       "      <td>NaN</td>\n",
       "      <td>NaN</td>\n",
       "      <td>20000</td>\n",
       "    </tr>\n",
       "    <tr>\n",
       "      <td>15998</td>\n",
       "      <td>Jet Impulse</td>\n",
       "      <td>DS</td>\n",
       "      <td>0</td>\n",
       "      <td>Simulation</td>\n",
       "      <td>0</td>\n",
       "      <td>0</td>\n",
       "      <td>20000</td>\n",
       "      <td>0</td>\n",
       "      <td>NaN</td>\n",
       "      <td>NaN</td>\n",
       "      <td>NaN</td>\n",
       "      <td>20000</td>\n",
       "    </tr>\n",
       "    <tr>\n",
       "      <td>16017</td>\n",
       "      <td>Dream Dancer</td>\n",
       "      <td>DS</td>\n",
       "      <td>0</td>\n",
       "      <td>Misc</td>\n",
       "      <td>10000</td>\n",
       "      <td>0</td>\n",
       "      <td>0</td>\n",
       "      <td>0</td>\n",
       "      <td>NaN</td>\n",
       "      <td>NaN</td>\n",
       "      <td>E</td>\n",
       "      <td>10000</td>\n",
       "    </tr>\n",
       "    <tr>\n",
       "      <td>16288</td>\n",
       "      <td>Shorts</td>\n",
       "      <td>DS</td>\n",
       "      <td>0</td>\n",
       "      <td>Platform</td>\n",
       "      <td>10000</td>\n",
       "      <td>0</td>\n",
       "      <td>0</td>\n",
       "      <td>0</td>\n",
       "      <td>NaN</td>\n",
       "      <td>NaN</td>\n",
       "      <td>E10+</td>\n",
       "      <td>10000</td>\n",
       "    </tr>\n",
       "  </tbody>\n",
       "</table>\n",
       "</div>"
      ],
      "text/plain": [
       "                                                   name platform  \\\n",
       "3081                       LEGO Harry Potter: Years 5-7       DS   \n",
       "3289                         Advance Wars: Days of Ruin       DS   \n",
       "5443                                        Bejeweled 3       DS   \n",
       "5932                                    Shrek the Third       DS   \n",
       "9664                  Charm Girls Club: My Fashion Mall       DS   \n",
       "9855                          The Daring Game for Girls       DS   \n",
       "10486            Atsumare! Power Pro Kun no DS Koushien       DS   \n",
       "10612                          My Healthy Cooking Coach       DS   \n",
       "10686                                    Happy Feet Two       DS   \n",
       "10764                         Luminous Arc 2 (JP sales)       DS   \n",
       "10837                                  Egg Monster Hero       DS   \n",
       "11338                 Charm Girls Club: My Fashion Show       DS   \n",
       "11790  Mega Man Battle Network: Operation Shooting Star       DS   \n",
       "12003                                           Tornado       DS   \n",
       "12241                          Alex Rider: Stormbreaker       DS   \n",
       "12524                              Chou Soujuu Mecha MG       DS   \n",
       "12880       Jewel Link Chronicles: Mountains of Madness       DS   \n",
       "13060                    Captain America: Super Soldier       DS   \n",
       "13142                                              GRID       DS   \n",
       "14126                                      Housekeeping       DS   \n",
       "14350                               Bikkuriman Daijiten       DS   \n",
       "15119                        Legacy of Ys: Books I & II       DS   \n",
       "15292                                    Steal Princess       DS   \n",
       "15535                          Runaway: A Twist of Fate       DS   \n",
       "15704        Writing and Speaking Beautiful Japanese DS       DS   \n",
       "15795           Shonen Jump's Yu-Gi-Oh! GX Card Almanac       DS   \n",
       "15953                 PDC World Championship Darts 2008       DS   \n",
       "15957               Strongest Tokyo University Shogi DS       DS   \n",
       "15998                                       Jet Impulse       DS   \n",
       "16017                                      Dream Dancer       DS   \n",
       "16288                                            Shorts       DS   \n",
       "\n",
       "       year_of_release         genre  na_sales  eu_sales  jp_sales  \\\n",
       "3081                 0        Action    340000    250000         0   \n",
       "3289                 0      Strategy    430000    120000         0   \n",
       "5443                 0        Puzzle    290000     20000         0   \n",
       "5932                 0        Action    260000     10000         0   \n",
       "9664                 0    Simulation    120000         0         0   \n",
       "9855                 0     Adventure    110000         0         0   \n",
       "10486                0        Sports         0         0    100000   \n",
       "10612                0    Simulation     90000         0         0   \n",
       "10686                0        Action     80000     10000         0   \n",
       "10764                0  Role-Playing         0         0    100000   \n",
       "10837                0  Role-Playing         0         0     90000   \n",
       "11338                0    Simulation     80000         0         0   \n",
       "11790                0  Role-Playing         0         0     70000   \n",
       "12003                0        Action     70000         0         0   \n",
       "12241                0        Action     60000         0         0   \n",
       "12524                0    Simulation         0         0     60000   \n",
       "12880                0        Puzzle         0     50000         0   \n",
       "13060                0        Action     50000         0         0   \n",
       "13142                0        Racing     40000         0         0   \n",
       "14126                0        Action         0         0     40000   \n",
       "14350                0          Misc         0         0     30000   \n",
       "15119                0  Role-Playing     20000         0         0   \n",
       "15292                0      Platform     20000         0         0   \n",
       "15535                0     Adventure         0     20000         0   \n",
       "15704                0          Misc         0         0     20000   \n",
       "15795                0          Misc         0         0     20000   \n",
       "15953                0        Sports     10000         0         0   \n",
       "15957             1985        Action         0         0     20000   \n",
       "15998                0    Simulation         0         0     20000   \n",
       "16017                0          Misc     10000         0         0   \n",
       "16288                0      Platform     10000         0         0   \n",
       "\n",
       "       other_sales  critic_score  user_score rating  total_sales  \n",
       "3081         70000          69.0         NaN   E10+       660000  \n",
       "3289         50000          86.0         8.7   E10+       600000  \n",
       "5443         20000          75.0         NaN      E       330000  \n",
       "5932         20000          70.0         6.5      E       290000  \n",
       "9664         10000           NaN         NaN      E       130000  \n",
       "9855         10000           NaN         NaN      E       120000  \n",
       "10486            0           NaN         NaN    NaN       100000  \n",
       "10612        10000           NaN         NaN      E       100000  \n",
       "10686        10000           NaN         NaN      E       100000  \n",
       "10764            0           NaN         NaN    NaN       100000  \n",
       "10837            0           NaN         NaN      E        90000  \n",
       "11338        10000           NaN         NaN      E        90000  \n",
       "11790            0           NaN         NaN    NaN        70000  \n",
       "12003            0          44.0         NaN      E        70000  \n",
       "12241            0          48.0         6.1      T        60000  \n",
       "12524            0           NaN         NaN    NaN        60000  \n",
       "12880        10000           NaN         NaN   E10+        60000  \n",
       "13060            0           NaN         NaN    NaN        50000  \n",
       "13142            0          79.0         8.1      E        40000  \n",
       "14126            0           NaN         NaN    NaN        40000  \n",
       "14350            0           NaN         NaN    NaN        30000  \n",
       "15119            0           NaN         NaN    NaN        20000  \n",
       "15292            0          60.0         NaN   E10+        20000  \n",
       "15535            0          66.0         NaN      T        20000  \n",
       "15704            0           NaN         NaN    NaN        20000  \n",
       "15795            0           NaN         NaN    NaN        20000  \n",
       "15953            0           NaN         NaN    NaN        10000  \n",
       "15957            0           NaN         NaN    NaN        20000  \n",
       "15998            0           NaN         NaN    NaN        20000  \n",
       "16017            0           NaN         NaN      E        10000  \n",
       "16288            0           NaN         NaN   E10+        10000  "
      ]
     },
     "execution_count": 32,
     "metadata": {},
     "output_type": "execute_result"
    }
   ],
   "source": [
    "df.query('platform == \"DS\" and year_of_release < 2004')"
   ]
  },
  {
   "cell_type": "markdown",
   "metadata": {},
   "source": [
    "Это явная ошибка в данных, отфильтруем ее, и посчитаем среднее значение жизни топовых платформ:"
   ]
  },
  {
   "cell_type": "code",
   "execution_count": 33,
   "metadata": {},
   "outputs": [
    {
     "name": "stdout",
     "output_type": "stream",
     "text": [
      "Средняя продолжительность жизни платформ: 10.0\n"
     ]
    },
    {
     "data": {
      "text/html": [
       "<div>\n",
       "<style scoped>\n",
       "    .dataframe tbody tr th:only-of-type {\n",
       "        vertical-align: middle;\n",
       "    }\n",
       "\n",
       "    .dataframe tbody tr th {\n",
       "        vertical-align: top;\n",
       "    }\n",
       "\n",
       "    .dataframe thead th {\n",
       "        text-align: right;\n",
       "    }\n",
       "</style>\n",
       "<table border=\"1\" class=\"dataframe\">\n",
       "  <thead>\n",
       "    <tr style=\"text-align: right;\">\n",
       "      <th></th>\n",
       "      <th>platform</th>\n",
       "      <th>min</th>\n",
       "      <th>max</th>\n",
       "      <th>years_of_life</th>\n",
       "    </tr>\n",
       "  </thead>\n",
       "  <tbody>\n",
       "    <tr>\n",
       "      <td>0</td>\n",
       "      <td>2004</td>\n",
       "      <td>2004</td>\n",
       "      <td>2013</td>\n",
       "      <td>9</td>\n",
       "    </tr>\n",
       "    <tr>\n",
       "      <td>1</td>\n",
       "      <td>PS</td>\n",
       "      <td>1994</td>\n",
       "      <td>2003</td>\n",
       "      <td>9</td>\n",
       "    </tr>\n",
       "    <tr>\n",
       "      <td>2</td>\n",
       "      <td>PS2</td>\n",
       "      <td>2000</td>\n",
       "      <td>2011</td>\n",
       "      <td>11</td>\n",
       "    </tr>\n",
       "    <tr>\n",
       "      <td>3</td>\n",
       "      <td>PS3</td>\n",
       "      <td>2006</td>\n",
       "      <td>2016</td>\n",
       "      <td>10</td>\n",
       "    </tr>\n",
       "    <tr>\n",
       "      <td>4</td>\n",
       "      <td>Wii</td>\n",
       "      <td>2006</td>\n",
       "      <td>2016</td>\n",
       "      <td>10</td>\n",
       "    </tr>\n",
       "    <tr>\n",
       "      <td>5</td>\n",
       "      <td>X360</td>\n",
       "      <td>2005</td>\n",
       "      <td>2016</td>\n",
       "      <td>11</td>\n",
       "    </tr>\n",
       "  </tbody>\n",
       "</table>\n",
       "</div>"
      ],
      "text/plain": [
       "  platform   min   max  years_of_life\n",
       "0     2004  2004  2013              9\n",
       "1       PS  1994  2003              9\n",
       "2      PS2  2000  2011             11\n",
       "3      PS3  2006  2016             10\n",
       "4      Wii  2006  2016             10\n",
       "5     X360  2005  2016             11"
      ]
     },
     "execution_count": 33,
     "metadata": {},
     "output_type": "execute_result"
    }
   ],
   "source": [
    "years_of_release.loc[0, 'min'] = 2004\n",
    "years_of_release['years_of_life'] = years_of_release['max'] - years_of_release['min']\n",
    "print('Средняя продолжительность жизни платформ:' ,years_of_release['years_of_life'].mean())\n",
    "years_of_release"
   ]
  },
  {
   "cell_type": "markdown",
   "metadata": {},
   "source": [
    "Мы видим, что средняя жизнь платформы составляет примерно 10 лет. И как правило первые и последние годы жизни платформы - это либо ее рост, либо падение, стремящееся к нулевым продажам. Учитывая, что данные по 2016 год, будем считать, что актуальный период - это последние 7 лет (вычтем из средней жизни платформы крайние значения, но при этом помним что 2016 год содержит неполные данные и по сути анализируем не 7, а 6 лет)."
   ]
  },
  {
   "cell_type": "code",
   "execution_count": 34,
   "metadata": {},
   "outputs": [],
   "source": [
    "df_actyal = df.query('year_of_release > 2009')"
   ]
  },
  {
   "cell_type": "markdown",
   "metadata": {},
   "source": [
    "Посмотрим какие платформы лидируют по продажам:"
   ]
  },
  {
   "cell_type": "code",
   "execution_count": 35,
   "metadata": {},
   "outputs": [
    {
     "name": "stdout",
     "output_type": "stream",
     "text": [
      "Лидеры по суммарным продажам:\n",
      "platform\n",
      "PS3     587739997\n",
      "X360    550410000\n",
      "PS4     314139997\n",
      "3DS     257809997\n",
      "Wii     222969999\n",
      "XOne    159319999\n",
      "DS      123750000\n",
      "PC      121960000\n",
      "WiiU     82190000\n",
      "PSP      64050000\n",
      "PSV      53810000\n",
      "PS2       6090000\n",
      "Name: total_sales, dtype: int64\n",
      "AxesSubplot(0.125,0.125;0.775x0.755)\n"
     ]
    },
    {
     "data": {
      "image/png": "[encoded data removed]",
      "text/plain": [
       "<Figure size 432x288 with 1 Axes>"
      ]
     },
     "metadata": {
      "needs_background": "light"
     },
     "output_type": "display_data"
    }
   ],
   "source": [
    "print('Лидеры по суммарным продажам:')\n",
    "print(df_actyal.groupby('platform')['total_sales'].sum().sort_values(ascending = False))\n",
    "print(df_actyal.groupby('platform')['total_sales'].sum().sort_values(ascending = False).plot(kind='bar'))"
   ]
  },
  {
   "cell_type": "markdown",
   "metadata": {},
   "source": [
    "Теперь посмотрим на динамику дохода в зависимости от года:"
   ]
  },
  {
   "cell_type": "code",
   "execution_count": 36,
   "metadata": {},
   "outputs": [
    {
     "data": {
      "image/png": "[encoded data removed]",
      "text/plain": [
       "<Figure size 1080x360 with 1 Axes>"
      ]
     },
     "metadata": {
      "needs_background": "light"
     },
     "output_type": "display_data"
    },
    {
     "data": {
      "image/png": "[encoded data removed]",
      "text/plain": [
       "<Figure size 1080x360 with 1 Axes>"
      ]
     },
     "metadata": {
      "needs_background": "light"
     },
     "output_type": "display_data"
    },
    {
     "data": {
      "image/png": "[encoded data removed]",
      "text/plain": [
       "<Figure size 1080x360 with 1 Axes>"
      ]
     },
     "metadata": {
      "needs_background": "light"
     },
     "output_type": "display_data"
    },
    {
     "data": {
      "image/png": "[encoded data removed]",
      "text/plain": [
       "<Figure size 1080x360 with 1 Axes>"
      ]
     },
     "metadata": {
      "needs_background": "light"
     },
     "output_type": "display_data"
    },
    {
     "data": {
      "image/png": "[encoded data removed]",
      "text/plain": [
       "<Figure size 1080x360 with 1 Axes>"
      ]
     },
     "metadata": {
      "needs_background": "light"
     },
     "output_type": "display_data"
    },
    {
     "data": {
      "image/png": "[encoded data removed]",
      "text/plain": [
       "<Figure size 1080x360 with 1 Axes>"
      ]
     },
     "metadata": {
      "needs_background": "light"
     },
     "output_type": "display_data"
    },
    {
     "data": {
      "image/png": "[encoded data removed]",
      "text/plain": [
       "<Figure size 1080x360 with 1 Axes>"
      ]
     },
     "metadata": {
      "needs_background": "light"
     },
     "output_type": "display_data"
    },
    {
     "data": {
      "image/png": "[encoded data removed]",
      "text/plain": [
       "<Figure size 1080x360 with 1 Axes>"
      ]
     },
     "metadata": {
      "needs_background": "light"
     },
     "output_type": "display_data"
    },
    {
     "data": {
      "image/png": "[encoded data removed]",
      "text/plain": [
       "<Figure size 1080x360 with 1 Axes>"
      ]
     },
     "metadata": {
      "needs_background": "light"
     },
     "output_type": "display_data"
    },
    {
     "data": {
      "image/png": "[encoded data removed]",
      "text/plain": [
       "<Figure size 1080x360 with 1 Axes>"
      ]
     },
     "metadata": {
      "needs_background": "light"
     },
     "output_type": "display_data"
    },
    {
     "data": {
      "image/png": "[encoded data removed]",
      "text/plain": [
       "<Figure size 1080x360 with 1 Axes>"
      ]
     },
     "metadata": {
      "needs_background": "light"
     },
     "output_type": "display_data"
    },
    {
     "data": {
      "image/png": "[encoded data removed]",
      "text/plain": [
       "<Figure size 1080x360 with 1 Axes>"
      ]
     },
     "metadata": {
      "needs_background": "light"
     },
     "output_type": "display_data"
    }
   ],
   "source": [
    "uniq_platf = df_actyal['platform'].unique()\n",
    "for platform in uniq_platf:\n",
    "    df_actyal[df_actyal['platform'] == platform].pivot_table(index='year_of_release', values='total_sales', aggfunc='sum').plot(kind='bar', figsize=(15,5), title=platform)"
   ]
  },
  {
   "cell_type": "markdown",
   "metadata": {},
   "source": [
    "В результате мы нашли платформы, лидирующие по продажам: X360, PS3, Wii, DS. Например, у Wii пик доходов был в 2009 г., а дальше доходы пошли на спад, а в 2015 г. доходы уже приближаются к нулю. Это хороший пример уже \"умирающей\" платформы. Поскольку нам интересны потенциально развивающиеся платформы с хорошими будущими продажами то выделим: PS4, XOne, WiiU, PC (на графике PC видно, что доходы падают, но в целом держаться на неплохом уровне, да и здравый смысл подсказывается что PC всегда перспективная платформа для игр, и возможно с выходом новой видеокарты, начнут выпускаться новые игры, а значит начнет расти доход). Стоит отметить что спады в 2016г. на графиках из-за того, что данные за этот год в выгрузку не полные.\n",
    "\n",
    "Построим боксплоты по потенциально развивающимся платформам, и посмотрим распределение:"
   ]
  },
  {
   "cell_type": "code",
   "execution_count": 37,
   "metadata": {},
   "outputs": [],
   "source": [
    "growing_platform = ['PS4', 'XOne', 'WiiU', 'PC']"
   ]
  },
  {
   "cell_type": "code",
   "execution_count": 38,
   "metadata": {},
   "outputs": [
    {
     "data": {
      "image/png": "[encoded data removed]",
      "text/plain": [
       "<Figure size 1152x648 with 1 Axes>"
      ]
     },
     "metadata": {
      "needs_background": "light"
     },
     "output_type": "display_data"
    }
   ],
   "source": [
    "df_actyal[df_actyal['platform'].isin(growing_platform)].boxplot('total_sales', by='platform', figsize=(16, 9))\n",
    "np.warnings.filterwarnings('ignore', category=np.VisibleDeprecationWarning)"
   ]
  },
  {
   "cell_type": "code",
   "execution_count": 39,
   "metadata": {},
   "outputs": [],
   "source": [
    "df_actyal_growing_platform = df_actyal.query('platform == @growing_platform')"
   ]
  },
  {
   "cell_type": "code",
   "execution_count": 40,
   "metadata": {},
   "outputs": [
    {
     "data": {
      "text/html": [
       "<div>\n",
       "<style scoped>\n",
       "    .dataframe tbody tr th:only-of-type {\n",
       "        vertical-align: middle;\n",
       "    }\n",
       "\n",
       "    .dataframe tbody tr th {\n",
       "        vertical-align: top;\n",
       "    }\n",
       "\n",
       "    .dataframe thead th {\n",
       "        text-align: right;\n",
       "    }\n",
       "</style>\n",
       "<table border=\"1\" class=\"dataframe\">\n",
       "  <thead>\n",
       "    <tr style=\"text-align: right;\">\n",
       "      <th></th>\n",
       "      <th>platform</th>\n",
       "      <th>sum</th>\n",
       "      <th>count</th>\n",
       "      <th>mean</th>\n",
       "      <th>median</th>\n",
       "      <th>min</th>\n",
       "      <th>max</th>\n",
       "    </tr>\n",
       "  </thead>\n",
       "  <tbody>\n",
       "    <tr>\n",
       "      <td>0</td>\n",
       "      <td>PC</td>\n",
       "      <td>121960000</td>\n",
       "      <td>479</td>\n",
       "      <td>254613.778706</td>\n",
       "      <td>80000</td>\n",
       "      <td>10000</td>\n",
       "      <td>5140000</td>\n",
       "    </tr>\n",
       "    <tr>\n",
       "      <td>1</td>\n",
       "      <td>PS4</td>\n",
       "      <td>314139997</td>\n",
       "      <td>392</td>\n",
       "      <td>801377.543367</td>\n",
       "      <td>200000</td>\n",
       "      <td>10000</td>\n",
       "      <td>14630000</td>\n",
       "    </tr>\n",
       "    <tr>\n",
       "      <td>2</td>\n",
       "      <td>WiiU</td>\n",
       "      <td>82190000</td>\n",
       "      <td>147</td>\n",
       "      <td>559115.646259</td>\n",
       "      <td>220000</td>\n",
       "      <td>10000</td>\n",
       "      <td>7090000</td>\n",
       "    </tr>\n",
       "    <tr>\n",
       "      <td>3</td>\n",
       "      <td>XOne</td>\n",
       "      <td>159319999</td>\n",
       "      <td>247</td>\n",
       "      <td>645020.238866</td>\n",
       "      <td>220000</td>\n",
       "      <td>10000</td>\n",
       "      <td>7390000</td>\n",
       "    </tr>\n",
       "  </tbody>\n",
       "</table>\n",
       "</div>"
      ],
      "text/plain": [
       "  platform        sum  count           mean  median    min       max\n",
       "0       PC  121960000    479  254613.778706   80000  10000   5140000\n",
       "1      PS4  314139997    392  801377.543367  200000  10000  14630000\n",
       "2     WiiU   82190000    147  559115.646259  220000  10000   7090000\n",
       "3     XOne  159319999    247  645020.238866  220000  10000   7390000"
      ]
     },
     "execution_count": 40,
     "metadata": {},
     "output_type": "execute_result"
    }
   ],
   "source": [
    "df_actyal_growing_platform.groupby('platform')['total_sales']\\\n",
    "    .agg(['sum', 'count', 'mean', 'median', 'min', 'max'])\\\n",
    "    .reset_index()"
   ]
  },
  {
   "cell_type": "markdown",
   "metadata": {},
   "source": [
    "На распределении мы видим, что:\n",
    "- **платформа PC:** имеет наибольшее количество игр, больше чем на других платформах вместе взятых, но в среднем, проданных копий существенно меньше. Это говорит нам о том, что количество не значит качество, и продажи вялотекущие. Условный доход за каждый релиз в 2-4 раза, в среднем, меньше в сравнении с другими платформами.\n",
    "\n",
    "- **платформа WiiU:** имеет наименьшее количество игр, но при этом медианное и среднее количество проданных релизов на уровне остальных платформ (кроме PC)\n",
    "\n",
    "- **платформа XOne:** имеет хороший средний доход, при этом много выбросов на графике (значит много игр которые продали большое количество копий)\n",
    "\n",
    "- **платформа PS4:** имеет наибольший средний доход, при этом много выбросов на графике (в том числе есть и аномально большие, которые сильно искажают среднее значение, об этом говорит и медианное значение которое меньше чем у XOne)\n",
    "\n",
    "Учитывая, что мы интернет-магазине «Стримчик», наиболее интересные для нас платформы для продажи игр это: XOne и PS4, потому что это активно развивающиеся на конец 2016 г. платформы, еще не дошедшие до своего пика, при этом уже имеют конкурентное количество проданных копий на фоне других платформ и обгоняют стабильную по продажам платформу PC.\n",
    "\n",
    "**Разница между платформами:**\n",
    "Так же при учете информации необходимо понимать что платформы отличаются по своим функционалам, так платформа PC - это персональный компьютер, который хоть и является игровой платформой, но игры не являются приоритетом этой платформы. PS 4 и XOne самые распространенные консоли, созданные в первую очередь для игр, об этом говорит и количество проданных копий на них. Так же они основные конкуренты на рынке платформ. WiiU не типичная игровая консоль, не пытающайся конкурировать с PS 4 и XOne, имеющая своеобразный геймплей (управление движением). Игры на нее разрабатывает, в большей массе, сам производитель. Поэтому тут важны такие параметры как популярность платформы, и ее целевая аудитория. \n",
    "\n",
    "Посмотрите, как влияют на продажи внутри одной популярной платформы (за такую платформу возьмем PS4) отзывы пользователей и критиков. Построим диаграмму рассеяния и посчитаем корреляцию между отзывами и продажами."
   ]
  },
  {
   "cell_type": "code",
   "execution_count": 41,
   "metadata": {},
   "outputs": [
    {
     "data": {
      "text/html": [
       "<div>\n",
       "<style scoped>\n",
       "    .dataframe tbody tr th:only-of-type {\n",
       "        vertical-align: middle;\n",
       "    }\n",
       "\n",
       "    .dataframe tbody tr th {\n",
       "        vertical-align: top;\n",
       "    }\n",
       "\n",
       "    .dataframe thead th {\n",
       "        text-align: right;\n",
       "    }\n",
       "</style>\n",
       "<table border=\"1\" class=\"dataframe\">\n",
       "  <thead>\n",
       "    <tr style=\"text-align: right;\">\n",
       "      <th></th>\n",
       "      <th>name</th>\n",
       "      <th>platform</th>\n",
       "      <th>year_of_release</th>\n",
       "      <th>genre</th>\n",
       "      <th>na_sales</th>\n",
       "      <th>eu_sales</th>\n",
       "      <th>jp_sales</th>\n",
       "      <th>other_sales</th>\n",
       "      <th>critic_score</th>\n",
       "      <th>user_score</th>\n",
       "      <th>rating</th>\n",
       "      <th>total_sales</th>\n",
       "    </tr>\n",
       "  </thead>\n",
       "  <tbody>\n",
       "    <tr>\n",
       "      <td>14</td>\n",
       "      <td>Kinect Adventures!</td>\n",
       "      <td>X360</td>\n",
       "      <td>2010</td>\n",
       "      <td>Misc</td>\n",
       "      <td>15000000</td>\n",
       "      <td>4890000</td>\n",
       "      <td>240000</td>\n",
       "      <td>1690000</td>\n",
       "      <td>61.0</td>\n",
       "      <td>6.3</td>\n",
       "      <td>E</td>\n",
       "      <td>21820000</td>\n",
       "    </tr>\n",
       "    <tr>\n",
       "      <td>16</td>\n",
       "      <td>Grand Theft Auto V</td>\n",
       "      <td>PS3</td>\n",
       "      <td>2013</td>\n",
       "      <td>Action</td>\n",
       "      <td>7020000</td>\n",
       "      <td>9090000</td>\n",
       "      <td>980000</td>\n",
       "      <td>3960000</td>\n",
       "      <td>97.0</td>\n",
       "      <td>8.2</td>\n",
       "      <td>M</td>\n",
       "      <td>21050000</td>\n",
       "    </tr>\n",
       "    <tr>\n",
       "      <td>23</td>\n",
       "      <td>Grand Theft Auto V</td>\n",
       "      <td>X360</td>\n",
       "      <td>2013</td>\n",
       "      <td>Action</td>\n",
       "      <td>9660000</td>\n",
       "      <td>5140000</td>\n",
       "      <td>60000</td>\n",
       "      <td>1410000</td>\n",
       "      <td>97.0</td>\n",
       "      <td>8.1</td>\n",
       "      <td>M</td>\n",
       "      <td>16270000</td>\n",
       "    </tr>\n",
       "    <tr>\n",
       "      <td>27</td>\n",
       "      <td>Pokemon Black/Pokemon White</td>\n",
       "      <td>DS</td>\n",
       "      <td>2010</td>\n",
       "      <td>Role-Playing</td>\n",
       "      <td>5510000</td>\n",
       "      <td>3170000</td>\n",
       "      <td>5650000</td>\n",
       "      <td>800000</td>\n",
       "      <td>NaN</td>\n",
       "      <td>NaN</td>\n",
       "      <td>NaN</td>\n",
       "      <td>15130000</td>\n",
       "    </tr>\n",
       "    <tr>\n",
       "      <td>29</td>\n",
       "      <td>Call of Duty: Modern Warfare 3</td>\n",
       "      <td>X360</td>\n",
       "      <td>2011</td>\n",
       "      <td>Shooter</td>\n",
       "      <td>9040000</td>\n",
       "      <td>4240000</td>\n",
       "      <td>130000</td>\n",
       "      <td>1320000</td>\n",
       "      <td>88.0</td>\n",
       "      <td>3.4</td>\n",
       "      <td>M</td>\n",
       "      <td>14730000</td>\n",
       "    </tr>\n",
       "    <tr>\n",
       "      <td>...</td>\n",
       "      <td>...</td>\n",
       "      <td>...</td>\n",
       "      <td>...</td>\n",
       "      <td>...</td>\n",
       "      <td>...</td>\n",
       "      <td>...</td>\n",
       "      <td>...</td>\n",
       "      <td>...</td>\n",
       "      <td>...</td>\n",
       "      <td>...</td>\n",
       "      <td>...</td>\n",
       "      <td>...</td>\n",
       "    </tr>\n",
       "    <tr>\n",
       "      <td>16703</td>\n",
       "      <td>Strawberry Nauts</td>\n",
       "      <td>PSV</td>\n",
       "      <td>2016</td>\n",
       "      <td>Adventure</td>\n",
       "      <td>0</td>\n",
       "      <td>0</td>\n",
       "      <td>10000</td>\n",
       "      <td>0</td>\n",
       "      <td>NaN</td>\n",
       "      <td>NaN</td>\n",
       "      <td>NaN</td>\n",
       "      <td>10000</td>\n",
       "    </tr>\n",
       "    <tr>\n",
       "      <td>16707</td>\n",
       "      <td>Aiyoku no Eustia</td>\n",
       "      <td>PSV</td>\n",
       "      <td>2014</td>\n",
       "      <td>Misc</td>\n",
       "      <td>0</td>\n",
       "      <td>0</td>\n",
       "      <td>10000</td>\n",
       "      <td>0</td>\n",
       "      <td>NaN</td>\n",
       "      <td>NaN</td>\n",
       "      <td>NaN</td>\n",
       "      <td>10000</td>\n",
       "    </tr>\n",
       "    <tr>\n",
       "      <td>16710</td>\n",
       "      <td>Samurai Warriors: Sanada Maru</td>\n",
       "      <td>PS3</td>\n",
       "      <td>2016</td>\n",
       "      <td>Action</td>\n",
       "      <td>0</td>\n",
       "      <td>0</td>\n",
       "      <td>10000</td>\n",
       "      <td>0</td>\n",
       "      <td>NaN</td>\n",
       "      <td>NaN</td>\n",
       "      <td>NaN</td>\n",
       "      <td>10000</td>\n",
       "    </tr>\n",
       "    <tr>\n",
       "      <td>16712</td>\n",
       "      <td>Haitaka no Psychedelica</td>\n",
       "      <td>PSV</td>\n",
       "      <td>2016</td>\n",
       "      <td>Adventure</td>\n",
       "      <td>0</td>\n",
       "      <td>0</td>\n",
       "      <td>10000</td>\n",
       "      <td>0</td>\n",
       "      <td>NaN</td>\n",
       "      <td>NaN</td>\n",
       "      <td>NaN</td>\n",
       "      <td>10000</td>\n",
       "    </tr>\n",
       "    <tr>\n",
       "      <td>16714</td>\n",
       "      <td>Winning Post 8 2016</td>\n",
       "      <td>PSV</td>\n",
       "      <td>2016</td>\n",
       "      <td>Simulation</td>\n",
       "      <td>0</td>\n",
       "      <td>0</td>\n",
       "      <td>10000</td>\n",
       "      <td>0</td>\n",
       "      <td>NaN</td>\n",
       "      <td>NaN</td>\n",
       "      <td>NaN</td>\n",
       "      <td>10000</td>\n",
       "    </tr>\n",
       "  </tbody>\n",
       "</table>\n",
       "<p>5277 rows × 12 columns</p>\n",
       "</div>"
      ],
      "text/plain": [
       "                                 name platform  year_of_release         genre  \\\n",
       "14                 Kinect Adventures!     X360             2010          Misc   \n",
       "16                 Grand Theft Auto V      PS3             2013        Action   \n",
       "23                 Grand Theft Auto V     X360             2013        Action   \n",
       "27        Pokemon Black/Pokemon White       DS             2010  Role-Playing   \n",
       "29     Call of Duty: Modern Warfare 3     X360             2011       Shooter   \n",
       "...                               ...      ...              ...           ...   \n",
       "16703                Strawberry Nauts      PSV             2016     Adventure   \n",
       "16707                Aiyoku no Eustia      PSV             2014          Misc   \n",
       "16710   Samurai Warriors: Sanada Maru      PS3             2016        Action   \n",
       "16712         Haitaka no Psychedelica      PSV             2016     Adventure   \n",
       "16714             Winning Post 8 2016      PSV             2016    Simulation   \n",
       "\n",
       "       na_sales  eu_sales  jp_sales  other_sales  critic_score  user_score  \\\n",
       "14     15000000   4890000    240000      1690000          61.0         6.3   \n",
       "16      7020000   9090000    980000      3960000          97.0         8.2   \n",
       "23      9660000   5140000     60000      1410000          97.0         8.1   \n",
       "27      5510000   3170000   5650000       800000           NaN         NaN   \n",
       "29      9040000   4240000    130000      1320000          88.0         3.4   \n",
       "...         ...       ...       ...          ...           ...         ...   \n",
       "16703         0         0     10000            0           NaN         NaN   \n",
       "16707         0         0     10000            0           NaN         NaN   \n",
       "16710         0         0     10000            0           NaN         NaN   \n",
       "16712         0         0     10000            0           NaN         NaN   \n",
       "16714         0         0     10000            0           NaN         NaN   \n",
       "\n",
       "      rating  total_sales  \n",
       "14         E     21820000  \n",
       "16         M     21050000  \n",
       "23         M     16270000  \n",
       "27       NaN     15130000  \n",
       "29         M     14730000  \n",
       "...      ...          ...  \n",
       "16703    NaN        10000  \n",
       "16707    NaN        10000  \n",
       "16710    NaN        10000  \n",
       "16712    NaN        10000  \n",
       "16714    NaN        10000  \n",
       "\n",
       "[5277 rows x 12 columns]"
      ]
     },
     "execution_count": 41,
     "metadata": {},
     "output_type": "execute_result"
    }
   ],
   "source": [
    "df_actyal"
   ]
  },
  {
   "cell_type": "code",
   "execution_count": 42,
   "metadata": {},
   "outputs": [
    {
     "name": "stdout",
     "output_type": "stream",
     "text": [
      "Корреляция оценки критиков с количеством проданных копий составляет: 0.4065679058173355\n",
      "Корреляция оценки пользователей с количеством проданных копий составляет: -0.031957108857618044\n"
     ]
    },
    {
     "data": {
      "image/png": "[encoded data removed]",
      "text/plain": [
       "<Figure size 1152x648 with 1 Axes>"
      ]
     },
     "metadata": {
      "needs_background": "light"
     },
     "output_type": "display_data"
    },
    {
     "data": {
      "image/png": "[encoded data removed]",
      "text/plain": [
       "<Figure size 1152x648 with 1 Axes>"
      ]
     },
     "metadata": {
      "needs_background": "light"
     },
     "output_type": "display_data"
    }
   ],
   "source": [
    "PS4 = df_actyal.query('platform == \"PS4\"')\n",
    "PS4.plot(x='critic_score', y='total_sales', kind='scatter', grid=True, alpha=0.7, title='Зависимость количества проданных копий, на платформе PS4, от оценки критиков', figsize=(16, 9))\n",
    "print('Корреляция оценки критиков с количеством проданных копий составляет:', PS4['critic_score'].corr(PS4['total_sales']))\n",
    "\n",
    "PS4.plot(x='user_score', y='total_sales', kind='scatter', grid=True, alpha=0.7, title='Зависимость количества проданных копий, на платформе PS4, от оценки пользователей', figsize=(16, 9))\n",
    "print('Корреляция оценки пользователей с количеством проданных копий составляет:', PS4['user_score'].corr(PS4['total_sales']))"
   ]
  },
  {
   "cell_type": "markdown",
   "metadata": {},
   "source": [
    "Оценка критиков влияет на продажу игр с положительной динамикой: чем выше оценка - тем чаще игра продается большее количество раз. А вот оценка пользователей, наоборот показывает практически нулевую зависимость. Это может быть связано с разными факторами, например, обида комьюнити игроков на конкретного разработчика игры (например не выпустили игру в срок), вследствие чего идет атака на игры которые уже выпущены, намеренно снижая им оценку, или плохие комментарии от фанатов конкурентов."
   ]
  },
  {
   "cell_type": "code",
   "execution_count": 43,
   "metadata": {},
   "outputs": [
    {
     "name": "stdout",
     "output_type": "stream",
     "text": [
      "Корреляция оценки критиков с количеством проданных копий составляет: 0.3057098475519466\n",
      "Корреляция оценки пользователей с количеством проданных копий составляет: 0.06483930251977801\n"
     ]
    },
    {
     "data": {
      "image/png": "[encoded data removed]",
      "text/plain": [
       "<Figure size 1152x648 with 1 Axes>"
      ]
     },
     "metadata": {
      "needs_background": "light"
     },
     "output_type": "display_data"
    },
    {
     "data": {
      "image/png": "[encoded data removed]",
      "text/plain": [
       "<Figure size 1152x648 with 1 Axes>"
      ]
     },
     "metadata": {
      "needs_background": "light"
     },
     "output_type": "display_data"
    }
   ],
   "source": [
    "other_platform = df_actyal.query('platform != \"PS4\"')\n",
    "other_platform.plot(x='critic_score', y='total_sales', kind='scatter', grid=True, alpha=0.7, title='Зависимость количества проданных копий от оценки критиков', figsize=(16, 9))\n",
    "print('Корреляция оценки критиков с количеством проданных копий составляет:', other_platform['critic_score'].corr(other_platform['total_sales']))\n",
    "\n",
    "other_platform.plot(x='user_score', y='total_sales', kind='scatter', grid=True, alpha=0.7, title='Зависимость количества проданных копий от оценки пользователей', figsize=(16, 9))\n",
    "print('Корреляция оценки пользователей с количеством проданных копий составляет:', other_platform['user_score'].corr(other_platform['total_sales']))"
   ]
  },
  {
   "cell_type": "markdown",
   "metadata": {},
   "source": [
    "По остальным платформам мы видим примерно такое же распределение как и по платформе PS4. Оценка критиков имеет небольшую положительную корреляцию, при этом оценки пользователей имеют практически нулевую корреляцию. Возможно на количество продаж сильно влияют элементы маркетинга и рекламы.\n",
    "\n",
    "Посмотрим на общее распределение игр по жанрам:"
   ]
  },
  {
   "cell_type": "code",
   "execution_count": 44,
   "metadata": {},
   "outputs": [
    {
     "data": {
      "image/png": "[encoded data removed]",
      "text/plain": [
       "<Figure size 1152x648 with 1 Axes>"
      ]
     },
     "metadata": {
      "needs_background": "light"
     },
     "output_type": "display_data"
    },
    {
     "data": {
      "text/plain": [
       "Text(0.5, 0, 'Жанр')"
      ]
     },
     "execution_count": 44,
     "metadata": {},
     "output_type": "execute_result"
    },
    {
     "data": {
      "image/png": "[encoded data removed]",
      "text/plain": [
       "<Figure size 1152x648 with 1 Axes>"
      ]
     },
     "metadata": {
      "needs_background": "light"
     },
     "output_type": "display_data"
    }
   ],
   "source": [
    "df_actyal.groupby('genre')['total_sales'].sum()\\\n",
    "         .sort_values(ascending=False)\\\n",
    "         .plot(kind='bar', grid=True, figsize=(16,9), title='Суммарная продажа количества копий в зависимости от жанра')\\\n",
    "         .set_xlabel('Жанр')\n",
    "plt.show()\n",
    "df_actyal.groupby('genre')['total_sales'].mean()\\\n",
    "         .sort_values(ascending=False)\\\n",
    "         .plot(kind='bar', grid=True, figsize=(16,9), title='Средняя продажа количества копий в зависимости от жанра')\\\n",
    "         .set_xlabel('Жанр')"
   ]
  },
  {
   "cell_type": "code",
   "execution_count": 45,
   "metadata": {},
   "outputs": [
    {
     "data": {
      "text/html": [
       "<div>\n",
       "<style scoped>\n",
       "    .dataframe tbody tr th:only-of-type {\n",
       "        vertical-align: middle;\n",
       "    }\n",
       "\n",
       "    .dataframe tbody tr th {\n",
       "        vertical-align: top;\n",
       "    }\n",
       "\n",
       "    .dataframe thead th {\n",
       "        text-align: right;\n",
       "    }\n",
       "</style>\n",
       "<table border=\"1\" class=\"dataframe\">\n",
       "  <thead>\n",
       "    <tr style=\"text-align: right;\">\n",
       "      <th></th>\n",
       "      <th>genre</th>\n",
       "      <th>count</th>\n",
       "      <th>sum</th>\n",
       "      <th>mean</th>\n",
       "    </tr>\n",
       "  </thead>\n",
       "  <tbody>\n",
       "    <tr>\n",
       "      <td>0</td>\n",
       "      <td>Action</td>\n",
       "      <td>1495</td>\n",
       "      <td>673089995</td>\n",
       "      <td>4.502274e+05</td>\n",
       "    </tr>\n",
       "    <tr>\n",
       "      <td>1</td>\n",
       "      <td>Adventure</td>\n",
       "      <td>563</td>\n",
       "      <td>61000000</td>\n",
       "      <td>1.083481e+05</td>\n",
       "    </tr>\n",
       "    <tr>\n",
       "      <td>2</td>\n",
       "      <td>Fighting</td>\n",
       "      <td>199</td>\n",
       "      <td>81590000</td>\n",
       "      <td>4.100000e+05</td>\n",
       "    </tr>\n",
       "    <tr>\n",
       "      <td>3</td>\n",
       "      <td>Misc</td>\n",
       "      <td>576</td>\n",
       "      <td>234559999</td>\n",
       "      <td>4.072222e+05</td>\n",
       "    </tr>\n",
       "    <tr>\n",
       "      <td>4</td>\n",
       "      <td>Platform</td>\n",
       "      <td>153</td>\n",
       "      <td>119720000</td>\n",
       "      <td>7.824837e+05</td>\n",
       "    </tr>\n",
       "    <tr>\n",
       "      <td>5</td>\n",
       "      <td>Puzzle</td>\n",
       "      <td>114</td>\n",
       "      <td>20600000</td>\n",
       "      <td>1.807018e+05</td>\n",
       "    </tr>\n",
       "    <tr>\n",
       "      <td>6</td>\n",
       "      <td>Racing</td>\n",
       "      <td>237</td>\n",
       "      <td>122679999</td>\n",
       "      <td>5.176371e+05</td>\n",
       "    </tr>\n",
       "    <tr>\n",
       "      <td>7</td>\n",
       "      <td>Role-Playing</td>\n",
       "      <td>568</td>\n",
       "      <td>315280000</td>\n",
       "      <td>5.550704e+05</td>\n",
       "    </tr>\n",
       "    <tr>\n",
       "      <td>8</td>\n",
       "      <td>Shooter</td>\n",
       "      <td>410</td>\n",
       "      <td>479739998</td>\n",
       "      <td>1.170098e+06</td>\n",
       "    </tr>\n",
       "    <tr>\n",
       "      <td>9</td>\n",
       "      <td>Simulation</td>\n",
       "      <td>217</td>\n",
       "      <td>71749999</td>\n",
       "      <td>3.306452e+05</td>\n",
       "    </tr>\n",
       "    <tr>\n",
       "      <td>10</td>\n",
       "      <td>Sports</td>\n",
       "      <td>575</td>\n",
       "      <td>328389999</td>\n",
       "      <td>5.711130e+05</td>\n",
       "    </tr>\n",
       "    <tr>\n",
       "      <td>11</td>\n",
       "      <td>Strategy</td>\n",
       "      <td>170</td>\n",
       "      <td>35840000</td>\n",
       "      <td>2.108235e+05</td>\n",
       "    </tr>\n",
       "  </tbody>\n",
       "</table>\n",
       "</div>"
      ],
      "text/plain": [
       "           genre  count        sum          mean\n",
       "0         Action   1495  673089995  4.502274e+05\n",
       "1      Adventure    563   61000000  1.083481e+05\n",
       "2       Fighting    199   81590000  4.100000e+05\n",
       "3           Misc    576  234559999  4.072222e+05\n",
       "4       Platform    153  119720000  7.824837e+05\n",
       "5         Puzzle    114   20600000  1.807018e+05\n",
       "6         Racing    237  122679999  5.176371e+05\n",
       "7   Role-Playing    568  315280000  5.550704e+05\n",
       "8        Shooter    410  479739998  1.170098e+06\n",
       "9     Simulation    217   71749999  3.306452e+05\n",
       "10        Sports    575  328389999  5.711130e+05\n",
       "11      Strategy    170   35840000  2.108235e+05"
      ]
     },
     "execution_count": 45,
     "metadata": {},
     "output_type": "execute_result"
    }
   ],
   "source": [
    "df_actyal.groupby('genre')['total_sales'].agg(['count', 'sum', 'mean']).reset_index()"
   ]
  },
  {
   "cell_type": "markdown",
   "metadata": {},
   "source": [
    "Посмотрим на два распределения в зависимости от жанра:\n",
    "\n",
    "1. Суммарное количество проданных копий\n",
    "\n",
    "2. Среднее количество проданных копий\n",
    "\n",
    "Суммарное количество проданных копий не совсем объективно показывает действительные реалии, например жанр Action по суммарным продажам уверенный лидер. И это благодаря большому количеству релизов игр данного жанра, которые в среднем неплохо продавались. Но при этом в среднем жанр Action ровно посередине распределения. Нам, как магазину, интереснее какие жанры игр в среднем продаются чаще, и тут топ 3 жанра это: Shooter, Platform (наглядный пример того, что из-за небольшого количества игр суммарный доход небольшой, но в среднем статистика продаж выглядит намного лучше), Sports (естественно, ведь спортивные симуляторы как под копирку штампуются ежегодно, только цифра года в названии меняется). Зато тройка аутсайдеров в двух распределениях одинаковая, это: Puzzle, Strategy, Adventure (не спасает даже большое количество игр в жанре Adventure от низких суммарных и средних продаж)."
   ]
  },
  {
   "cell_type": "markdown",
   "metadata": {},
   "source": [
    "#### Вывод\n",
    "\n",
    "Нам как магазину по продаже игр интересно найти ответы на несколько вопросов:\n",
    "1. понять какие платформы сейчас активно развиваются, а какие уже не востребованы\n",
    "\n",
    "В результате проделанной работы можно выделить 2 платформы которые будут набирать обороты по продажам в 2017 г. это: XOne и PS4. Учитывая, что средняя жизнь платформы 11 лет, эти две, в ближайшие годы, будут выходить на пик по динамике проданных копий.\n",
    "\n",
    "\n",
    "2. определиться с ассортиментом игр на которые будем делать приоритет в продаже\n",
    "\n",
    "Мы выяснили что количество выпущенных игр в жанре еще не говорит о его доходности. В среднем явные лидеры продаж жанры: Shooter, Platform, Sports на них можно делать приоритет по закупке игр для платформ: XOne и PS4."
   ]
  },
  {
   "cell_type": "markdown",
   "metadata": {},
   "source": [
    "### Шаг 4. Портрет пользователя каждого региона<a id=\"step4\"></a>"
   ]
  },
  {
   "cell_type": "markdown",
   "metadata": {},
   "source": [
    "Определим для пользователя каждого региона (NA, EU, JP):\n",
    "1. Самые популярные платформы (топ-5). \n",
    "2. Самые популярные жанры (топ-5). \n",
    "3. Влияет ли рейтинг ESRB на продажи в отдельном регионе."
   ]
  },
  {
   "cell_type": "markdown",
   "metadata": {},
   "source": [
    "#### 1. Самые популярные платформы (топ-5). Опишите различия в долях продаж."
   ]
  },
  {
   "cell_type": "code",
   "execution_count": 46,
   "metadata": {},
   "outputs": [
    {
     "name": "stdout",
     "output_type": "stream",
     "text": [
      "Топ платформ 5 региона na:\n"
     ]
    },
    {
     "data": {
      "text/html": [
       "<div>\n",
       "<style scoped>\n",
       "    .dataframe tbody tr th:only-of-type {\n",
       "        vertical-align: middle;\n",
       "    }\n",
       "\n",
       "    .dataframe tbody tr th {\n",
       "        vertical-align: top;\n",
       "    }\n",
       "\n",
       "    .dataframe thead th {\n",
       "        text-align: right;\n",
       "    }\n",
       "</style>\n",
       "<table border=\"1\" class=\"dataframe\">\n",
       "  <thead>\n",
       "    <tr style=\"text-align: right;\">\n",
       "      <th></th>\n",
       "      <th>platform</th>\n",
       "      <th>na_sales</th>\n",
       "      <th>total_sales</th>\n",
       "      <th>ratio</th>\n",
       "    </tr>\n",
       "  </thead>\n",
       "  <tbody>\n",
       "    <tr>\n",
       "      <td>0</td>\n",
       "      <td>X360</td>\n",
       "      <td>334180000</td>\n",
       "      <td>550410000</td>\n",
       "      <td>7.594016</td>\n",
       "    </tr>\n",
       "    <tr>\n",
       "      <td>1</td>\n",
       "      <td>PS3</td>\n",
       "      <td>229249998</td>\n",
       "      <td>587739997</td>\n",
       "      <td>5.209552</td>\n",
       "    </tr>\n",
       "    <tr>\n",
       "      <td>2</td>\n",
       "      <td>Wii</td>\n",
       "      <td>121199999</td>\n",
       "      <td>222969999</td>\n",
       "      <td>2.754189</td>\n",
       "    </tr>\n",
       "    <tr>\n",
       "      <td>3</td>\n",
       "      <td>PS4</td>\n",
       "      <td>108739999</td>\n",
       "      <td>314139997</td>\n",
       "      <td>2.471044</td>\n",
       "    </tr>\n",
       "    <tr>\n",
       "      <td>4</td>\n",
       "      <td>XOne</td>\n",
       "      <td>93120000</td>\n",
       "      <td>159319999</td>\n",
       "      <td>2.116090</td>\n",
       "    </tr>\n",
       "  </tbody>\n",
       "</table>\n",
       "</div>"
      ],
      "text/plain": [
       "  platform   na_sales  total_sales     ratio\n",
       "0     X360  334180000    550410000  7.594016\n",
       "1      PS3  229249998    587739997  5.209552\n",
       "2      Wii  121199999    222969999  2.754189\n",
       "3      PS4  108739999    314139997  2.471044\n",
       "4     XOne   93120000    159319999  2.116090"
      ]
     },
     "metadata": {},
     "output_type": "display_data"
    },
    {
     "name": "stdout",
     "output_type": "stream",
     "text": [
      "Топ платформ 5 региона eu:\n"
     ]
    },
    {
     "data": {
      "text/html": [
       "<div>\n",
       "<style scoped>\n",
       "    .dataframe tbody tr th:only-of-type {\n",
       "        vertical-align: middle;\n",
       "    }\n",
       "\n",
       "    .dataframe tbody tr th {\n",
       "        vertical-align: top;\n",
       "    }\n",
       "\n",
       "    .dataframe thead th {\n",
       "        text-align: right;\n",
       "    }\n",
       "</style>\n",
       "<table border=\"1\" class=\"dataframe\">\n",
       "  <thead>\n",
       "    <tr style=\"text-align: right;\">\n",
       "      <th></th>\n",
       "      <th>platform</th>\n",
       "      <th>eu_sales</th>\n",
       "      <th>total_sales</th>\n",
       "      <th>ratio</th>\n",
       "    </tr>\n",
       "  </thead>\n",
       "  <tbody>\n",
       "    <tr>\n",
       "      <td>0</td>\n",
       "      <td>PS3</td>\n",
       "      <td>213599999</td>\n",
       "      <td>587739997</td>\n",
       "      <td>8.811372</td>\n",
       "    </tr>\n",
       "    <tr>\n",
       "      <td>1</td>\n",
       "      <td>X360</td>\n",
       "      <td>163410000</td>\n",
       "      <td>550410000</td>\n",
       "      <td>6.740947</td>\n",
       "    </tr>\n",
       "    <tr>\n",
       "      <td>2</td>\n",
       "      <td>PS4</td>\n",
       "      <td>141089998</td>\n",
       "      <td>314139997</td>\n",
       "      <td>5.820208</td>\n",
       "    </tr>\n",
       "    <tr>\n",
       "      <td>3</td>\n",
       "      <td>PC</td>\n",
       "      <td>68820000</td>\n",
       "      <td>121960000</td>\n",
       "      <td>2.838945</td>\n",
       "    </tr>\n",
       "    <tr>\n",
       "      <td>4</td>\n",
       "      <td>Wii</td>\n",
       "      <td>65910000</td>\n",
       "      <td>222969999</td>\n",
       "      <td>2.718902</td>\n",
       "    </tr>\n",
       "  </tbody>\n",
       "</table>\n",
       "</div>"
      ],
      "text/plain": [
       "  platform   eu_sales  total_sales     ratio\n",
       "0      PS3  213599999    587739997  8.811372\n",
       "1     X360  163410000    550410000  6.740947\n",
       "2      PS4  141089998    314139997  5.820208\n",
       "3       PC   68820000    121960000  2.838945\n",
       "4      Wii   65910000    222969999  2.718902"
      ]
     },
     "metadata": {},
     "output_type": "display_data"
    },
    {
     "name": "stdout",
     "output_type": "stream",
     "text": [
      "Топ платформ 5 региона jp:\n"
     ]
    },
    {
     "data": {
      "text/html": [
       "<div>\n",
       "<style scoped>\n",
       "    .dataframe tbody tr th:only-of-type {\n",
       "        vertical-align: middle;\n",
       "    }\n",
       "\n",
       "    .dataframe tbody tr th {\n",
       "        vertical-align: top;\n",
       "    }\n",
       "\n",
       "    .dataframe thead th {\n",
       "        text-align: right;\n",
       "    }\n",
       "</style>\n",
       "<table border=\"1\" class=\"dataframe\">\n",
       "  <thead>\n",
       "    <tr style=\"text-align: right;\">\n",
       "      <th></th>\n",
       "      <th>platform</th>\n",
       "      <th>jp_sales</th>\n",
       "      <th>total_sales</th>\n",
       "      <th>ratio</th>\n",
       "    </tr>\n",
       "  </thead>\n",
       "  <tbody>\n",
       "    <tr>\n",
       "      <td>0</td>\n",
       "      <td>3DS</td>\n",
       "      <td>100620000</td>\n",
       "      <td>257809997</td>\n",
       "      <td>7.755870</td>\n",
       "    </tr>\n",
       "    <tr>\n",
       "      <td>1</td>\n",
       "      <td>PS3</td>\n",
       "      <td>59260000</td>\n",
       "      <td>587739997</td>\n",
       "      <td>4.567808</td>\n",
       "    </tr>\n",
       "    <tr>\n",
       "      <td>2</td>\n",
       "      <td>PSP</td>\n",
       "      <td>42200000</td>\n",
       "      <td>64050000</td>\n",
       "      <td>3.252810</td>\n",
       "    </tr>\n",
       "    <tr>\n",
       "      <td>3</td>\n",
       "      <td>DS</td>\n",
       "      <td>27900000</td>\n",
       "      <td>123750000</td>\n",
       "      <td>2.150554</td>\n",
       "    </tr>\n",
       "    <tr>\n",
       "      <td>4</td>\n",
       "      <td>PSV</td>\n",
       "      <td>21840000</td>\n",
       "      <td>53810000</td>\n",
       "      <td>1.683445</td>\n",
       "    </tr>\n",
       "  </tbody>\n",
       "</table>\n",
       "</div>"
      ],
      "text/plain": [
       "  platform   jp_sales  total_sales     ratio\n",
       "0      3DS  100620000    257809997  7.755870\n",
       "1      PS3   59260000    587739997  4.567808\n",
       "2      PSP   42200000     64050000  3.252810\n",
       "3       DS   27900000    123750000  2.150554\n",
       "4      PSV   21840000     53810000  1.683445"
      ]
     },
     "metadata": {},
     "output_type": "display_data"
    }
   ],
   "source": [
    "print('Топ платформ 5 региона na:')\n",
    "df_na = df_actyal.groupby('platform')[['na_sales', 'total_sales']].sum().sort_values(by='na_sales', ascending=False).head().reset_index()\n",
    "df_na['ratio'] = df_na['na_sales'] / df['na_sales'].sum() * 100\n",
    "display(df_na)\n",
    "print('Топ платформ 5 региона eu:')\n",
    "df_eu = df_actyal.groupby('platform')[['eu_sales', 'total_sales']].sum().sort_values(by='eu_sales', ascending=False).head().reset_index()\n",
    "df_eu['ratio'] = df_eu['eu_sales'] / df['eu_sales'].sum() * 100\n",
    "display(df_eu)\n",
    "print('Топ платформ 5 региона jp:')\n",
    "df_jp = df_actyal.groupby('platform')[['jp_sales', 'total_sales']].sum().sort_values(by='jp_sales', ascending=False).head().reset_index()\n",
    "df_jp['ratio'] = df_jp['jp_sales'] / df['jp_sales'].sum() * 100\n",
    "display(df_jp)"
   ]
  },
  {
   "cell_type": "markdown",
   "metadata": {},
   "source": [
    "В каждом регионе популярные платформы отличаются, судя по долям продаж есть производители игровых платформ, которые преобладают на этом рынке, например, в регионе na 13% от всех продаж у X360, это больше чем в сумме у платформ PS3 и PS2. В регионе eu наоборот преобладает платформа PS3, но и основной ее конкурент - платформа X360 отстает на ранке этого региона на 2.5%. В регионе jp рынок платформ заметно отличается, наибольшая доля у DS, но и разрывы в распределении доли между платформами тут меньше всего, значит в этом регионе преобладают разновидности платформ, и нет явных лидеров как в регионах: na и eu."
   ]
  },
  {
   "cell_type": "markdown",
   "metadata": {},
   "source": [
    "#### 2.Самые популярные жанры (топ-5). "
   ]
  },
  {
   "cell_type": "markdown",
   "metadata": {},
   "source": [
    "Будем определять популярность жанра в зависимости от среднего значения продаж количества копий в конкретном регионе:"
   ]
  },
  {
   "cell_type": "code",
   "execution_count": 47,
   "metadata": {},
   "outputs": [
    {
     "name": "stdout",
     "output_type": "stream",
     "text": [
      "Топ 5 жанров региона na:\n"
     ]
    },
    {
     "data": {
      "text/html": [
       "<div>\n",
       "<style scoped>\n",
       "    .dataframe tbody tr th:only-of-type {\n",
       "        vertical-align: middle;\n",
       "    }\n",
       "\n",
       "    .dataframe tbody tr th {\n",
       "        vertical-align: top;\n",
       "    }\n",
       "\n",
       "    .dataframe thead th {\n",
       "        text-align: right;\n",
       "    }\n",
       "</style>\n",
       "<table border=\"1\" class=\"dataframe\">\n",
       "  <thead>\n",
       "    <tr style=\"text-align: right;\">\n",
       "      <th></th>\n",
       "      <th>genre</th>\n",
       "      <th>count</th>\n",
       "      <th>sum</th>\n",
       "      <th>mean</th>\n",
       "    </tr>\n",
       "  </thead>\n",
       "  <tbody>\n",
       "    <tr>\n",
       "      <td>0</td>\n",
       "      <td>Shooter</td>\n",
       "      <td>410</td>\n",
       "      <td>237469999</td>\n",
       "      <td>579195.119512</td>\n",
       "    </tr>\n",
       "    <tr>\n",
       "      <td>1</td>\n",
       "      <td>Platform</td>\n",
       "      <td>153</td>\n",
       "      <td>54900000</td>\n",
       "      <td>358823.529412</td>\n",
       "    </tr>\n",
       "    <tr>\n",
       "      <td>2</td>\n",
       "      <td>Sports</td>\n",
       "      <td>575</td>\n",
       "      <td>156810000</td>\n",
       "      <td>272713.043478</td>\n",
       "    </tr>\n",
       "    <tr>\n",
       "      <td>3</td>\n",
       "      <td>Misc</td>\n",
       "      <td>576</td>\n",
       "      <td>123799999</td>\n",
       "      <td>214930.553819</td>\n",
       "    </tr>\n",
       "    <tr>\n",
       "      <td>4</td>\n",
       "      <td>Role-Playing</td>\n",
       "      <td>568</td>\n",
       "      <td>112050000</td>\n",
       "      <td>197271.126761</td>\n",
       "    </tr>\n",
       "  </tbody>\n",
       "</table>\n",
       "</div>"
      ],
      "text/plain": [
       "          genre  count        sum           mean\n",
       "0       Shooter    410  237469999  579195.119512\n",
       "1      Platform    153   54900000  358823.529412\n",
       "2        Sports    575  156810000  272713.043478\n",
       "3          Misc    576  123799999  214930.553819\n",
       "4  Role-Playing    568  112050000  197271.126761"
      ]
     },
     "metadata": {},
     "output_type": "display_data"
    },
    {
     "name": "stdout",
     "output_type": "stream",
     "text": [
      "Топ 5 жанров региона eu:\n"
     ]
    },
    {
     "data": {
      "text/html": [
       "<div>\n",
       "<style scoped>\n",
       "    .dataframe tbody tr th:only-of-type {\n",
       "        vertical-align: middle;\n",
       "    }\n",
       "\n",
       "    .dataframe tbody tr th {\n",
       "        vertical-align: top;\n",
       "    }\n",
       "\n",
       "    .dataframe thead th {\n",
       "        text-align: right;\n",
       "    }\n",
       "</style>\n",
       "<table border=\"1\" class=\"dataframe\">\n",
       "  <thead>\n",
       "    <tr style=\"text-align: right;\">\n",
       "      <th></th>\n",
       "      <th>genre</th>\n",
       "      <th>count</th>\n",
       "      <th>sum</th>\n",
       "      <th>mean</th>\n",
       "    </tr>\n",
       "  </thead>\n",
       "  <tbody>\n",
       "    <tr>\n",
       "      <td>0</td>\n",
       "      <td>Shooter</td>\n",
       "      <td>410</td>\n",
       "      <td>171449999</td>\n",
       "      <td>418170.729268</td>\n",
       "    </tr>\n",
       "    <tr>\n",
       "      <td>1</td>\n",
       "      <td>Platform</td>\n",
       "      <td>153</td>\n",
       "      <td>38300000</td>\n",
       "      <td>250326.797386</td>\n",
       "    </tr>\n",
       "    <tr>\n",
       "      <td>2</td>\n",
       "      <td>Racing</td>\n",
       "      <td>237</td>\n",
       "      <td>54749999</td>\n",
       "      <td>231012.654008</td>\n",
       "    </tr>\n",
       "    <tr>\n",
       "      <td>3</td>\n",
       "      <td>Sports</td>\n",
       "      <td>575</td>\n",
       "      <td>116839999</td>\n",
       "      <td>203199.998261</td>\n",
       "    </tr>\n",
       "    <tr>\n",
       "      <td>4</td>\n",
       "      <td>Action</td>\n",
       "      <td>1495</td>\n",
       "      <td>233629998</td>\n",
       "      <td>156274.246154</td>\n",
       "    </tr>\n",
       "  </tbody>\n",
       "</table>\n",
       "</div>"
      ],
      "text/plain": [
       "      genre  count        sum           mean\n",
       "0   Shooter    410  171449999  418170.729268\n",
       "1  Platform    153   38300000  250326.797386\n",
       "2    Racing    237   54749999  231012.654008\n",
       "3    Sports    575  116839999  203199.998261\n",
       "4    Action   1495  233629998  156274.246154"
      ]
     },
     "metadata": {},
     "output_type": "display_data"
    },
    {
     "name": "stdout",
     "output_type": "stream",
     "text": [
      "Топ 5 жанров региона jp:\n"
     ]
    },
    {
     "data": {
      "text/html": [
       "<div>\n",
       "<style scoped>\n",
       "    .dataframe tbody tr th:only-of-type {\n",
       "        vertical-align: middle;\n",
       "    }\n",
       "\n",
       "    .dataframe tbody tr th {\n",
       "        vertical-align: top;\n",
       "    }\n",
       "\n",
       "    .dataframe thead th {\n",
       "        text-align: right;\n",
       "    }\n",
       "</style>\n",
       "<table border=\"1\" class=\"dataframe\">\n",
       "  <thead>\n",
       "    <tr style=\"text-align: right;\">\n",
       "      <th></th>\n",
       "      <th>genre</th>\n",
       "      <th>count</th>\n",
       "      <th>sum</th>\n",
       "      <th>mean</th>\n",
       "    </tr>\n",
       "  </thead>\n",
       "  <tbody>\n",
       "    <tr>\n",
       "      <td>0</td>\n",
       "      <td>Role-Playing</td>\n",
       "      <td>568</td>\n",
       "      <td>103540000</td>\n",
       "      <td>182288.732394</td>\n",
       "    </tr>\n",
       "    <tr>\n",
       "      <td>1</td>\n",
       "      <td>Platform</td>\n",
       "      <td>153</td>\n",
       "      <td>15810000</td>\n",
       "      <td>103333.333333</td>\n",
       "    </tr>\n",
       "    <tr>\n",
       "      <td>2</td>\n",
       "      <td>Fighting</td>\n",
       "      <td>199</td>\n",
       "      <td>13900000</td>\n",
       "      <td>69849.246231</td>\n",
       "    </tr>\n",
       "    <tr>\n",
       "      <td>3</td>\n",
       "      <td>Simulation</td>\n",
       "      <td>217</td>\n",
       "      <td>13300000</td>\n",
       "      <td>61290.322581</td>\n",
       "    </tr>\n",
       "    <tr>\n",
       "      <td>4</td>\n",
       "      <td>Action</td>\n",
       "      <td>1495</td>\n",
       "      <td>72200000</td>\n",
       "      <td>48294.314381</td>\n",
       "    </tr>\n",
       "  </tbody>\n",
       "</table>\n",
       "</div>"
      ],
      "text/plain": [
       "          genre  count        sum           mean\n",
       "0  Role-Playing    568  103540000  182288.732394\n",
       "1      Platform    153   15810000  103333.333333\n",
       "2      Fighting    199   13900000   69849.246231\n",
       "3    Simulation    217   13300000   61290.322581\n",
       "4        Action   1495   72200000   48294.314381"
      ]
     },
     "metadata": {},
     "output_type": "display_data"
    }
   ],
   "source": [
    "print('Топ 5 жанров региона na:')\n",
    "display(df_actyal.groupby('genre')['na_sales'].agg(['count', 'sum', 'mean']).sort_values(by='mean', ascending=False).head().reset_index())\n",
    "print('Топ 5 жанров региона eu:')\n",
    "display(df_actyal.groupby('genre')['eu_sales'].agg(['count', 'sum', 'mean']).sort_values(by='mean', ascending=False).head().reset_index())\n",
    "print('Топ 5 жанров региона jp:')\n",
    "display(df_actyal.groupby('genre')['jp_sales'].agg(['count', 'sum', 'mean']).sort_values(by='mean', ascending=False).head().reset_index())"
   ]
  },
  {
   "cell_type": "markdown",
   "metadata": {},
   "source": [
    "Мы видим, что в зависимости от регионов, предпочтения пользователей по жанрам могут различаться или наоборот совпадать. В регионе eu и na два первых жанра одинаковые, при этом жанры, расположившиеся на 3 и 4 позиции тоже идентичны, просто меняются местами, отличие только в жанрах, расположившихся на 5 месте. Но в целом можно выдвинуть гипотезу, что популярные жанры в этих регионах одинаковые. Зато лидер в регионе jp жанр, которого нет даже в топ 5 других регионов. И в целом видно, как вкусовые предпочтения игроков отличаются, в этом регионе в зависимости от жанра, от других регионов. \n",
    "\n",
    "Японский рынок имеет такие принципиальные отличия возможно потому, что долгое время это была закрытая страна, со своими культурными особенностями. Но при этом, развитие технологий (в том числе и игровых), в этой стране, как минимум, не уступало передовым западным странам. Поэтому платформы и игры производителями из японии разрабатывались в первую очередь для граждан этой страны, с учетом их жанровых интересов. Передовые западные игры не всегда вызывают интерес на этом рынке, вследствие культурных особенностей людей. А местные производители \"заточены\" на производстве игр в первую очередь опираясь на интересы внутреннего рынка. Банально, но для Японцев \"свое\" интересней и лучше \"чужого\"."
   ]
  },
  {
   "cell_type": "markdown",
   "metadata": {},
   "source": [
    "#### 3.Влияет ли рейтинг ESRB на продажи в отдельном регионе"
   ]
  },
  {
   "cell_type": "markdown",
   "metadata": {},
   "source": [
    "Посмотрим как влияют продажи в разных регионах в зависимости от рейтинга ESRB:"
   ]
  },
  {
   "cell_type": "markdown",
   "metadata": {},
   "source": [
    "«E» («Everyone») — «Для всех»\n",
    "\n",
    "«T» («Teen») — «Подросткам»\n",
    "\n",
    "«M» («Mature») — «Для взрослых»\n",
    "\n",
    "«E10+» («Everyone 10 and older») — «Для всех от 10 лет и старше»\n",
    "\n",
    "«EC» («Early childhood») — «Для детей младшего возраста»\n",
    "\n",
    "«RP» («Rating Pending») — «Рейтинг ожидается»\n",
    "\n",
    "«AO» («Adults Only 18+») — «Только для взрослых»"
   ]
  },
  {
   "cell_type": "code",
   "execution_count": 48,
   "metadata": {},
   "outputs": [
    {
     "data": {
      "text/html": [
       "<div>\n",
       "<style scoped>\n",
       "    .dataframe tbody tr th:only-of-type {\n",
       "        vertical-align: middle;\n",
       "    }\n",
       "\n",
       "    .dataframe tbody tr th {\n",
       "        vertical-align: top;\n",
       "    }\n",
       "\n",
       "    .dataframe thead th {\n",
       "        text-align: right;\n",
       "    }\n",
       "</style>\n",
       "<table border=\"1\" class=\"dataframe\">\n",
       "  <thead>\n",
       "    <tr style=\"text-align: right;\">\n",
       "      <th></th>\n",
       "      <th>rating</th>\n",
       "      <th>eu_sales</th>\n",
       "      <th>jp_sales</th>\n",
       "      <th>na_sales</th>\n",
       "      <th>ratio_eu_sales</th>\n",
       "      <th>ratio_jp_sales</th>\n",
       "      <th>ratio_na_sales</th>\n",
       "    </tr>\n",
       "  </thead>\n",
       "  <tbody>\n",
       "    <tr>\n",
       "      <td>0</td>\n",
       "      <td>E</td>\n",
       "      <td>197339998</td>\n",
       "      <td>47870000</td>\n",
       "      <td>271149999</td>\n",
       "      <td>23.459065</td>\n",
       "      <td>15.687881</td>\n",
       "      <td>23.986872</td>\n",
       "    </tr>\n",
       "    <tr>\n",
       "      <td>1</td>\n",
       "      <td>E10+</td>\n",
       "      <td>99280000</td>\n",
       "      <td>13220000</td>\n",
       "      <td>159379999</td>\n",
       "      <td>11.802047</td>\n",
       "      <td>4.332438</td>\n",
       "      <td>14.099309</td>\n",
       "    </tr>\n",
       "    <tr>\n",
       "      <td>2</td>\n",
       "      <td>EC</td>\n",
       "      <td>0</td>\n",
       "      <td>0</td>\n",
       "      <td>1130000</td>\n",
       "      <td>0.000000</td>\n",
       "      <td>0.000000</td>\n",
       "      <td>0.099964</td>\n",
       "    </tr>\n",
       "    <tr>\n",
       "      <td>3</td>\n",
       "      <td>M</td>\n",
       "      <td>292039998</td>\n",
       "      <td>30450000</td>\n",
       "      <td>382219999</td>\n",
       "      <td>34.716658</td>\n",
       "      <td>9.979026</td>\n",
       "      <td>33.812511</td>\n",
       "    </tr>\n",
       "    <tr>\n",
       "      <td>4</td>\n",
       "      <td>RP</td>\n",
       "      <td>139470000</td>\n",
       "      <td>171490000</td>\n",
       "      <td>155719998</td>\n",
       "      <td>16.579689</td>\n",
       "      <td>56.200433</td>\n",
       "      <td>13.775533</td>\n",
       "    </tr>\n",
       "    <tr>\n",
       "      <td>5</td>\n",
       "      <td>T</td>\n",
       "      <td>113079999</td>\n",
       "      <td>42110000</td>\n",
       "      <td>160809999</td>\n",
       "      <td>13.442541</td>\n",
       "      <td>13.800223</td>\n",
       "      <td>14.225812</td>\n",
       "    </tr>\n",
       "  </tbody>\n",
       "</table>\n",
       "</div>"
      ],
      "text/plain": [
       "  rating   eu_sales   jp_sales   na_sales  ratio_eu_sales  ratio_jp_sales  \\\n",
       "0      E  197339998   47870000  271149999       23.459065       15.687881   \n",
       "1   E10+   99280000   13220000  159379999       11.802047        4.332438   \n",
       "2     EC          0          0    1130000        0.000000        0.000000   \n",
       "3      M  292039998   30450000  382219999       34.716658        9.979026   \n",
       "4     RP  139470000  171490000  155719998       16.579689       56.200433   \n",
       "5      T  113079999   42110000  160809999       13.442541       13.800223   \n",
       "\n",
       "   ratio_na_sales  \n",
       "0       23.986872  \n",
       "1       14.099309  \n",
       "2        0.099964  \n",
       "3       33.812511  \n",
       "4       13.775533  \n",
       "5       14.225812  "
      ]
     },
     "execution_count": 48,
     "metadata": {},
     "output_type": "execute_result"
    }
   ],
   "source": [
    "df_actyal['rating'] = df_actyal['rating'].fillna('RP') # заменим пропуски на «RP» («Rating Pending») — «Рейтинг ожидается»\n",
    "rating_ESRB_pivot = df_actyal.pivot_table(index='rating', values=['na_sales', 'eu_sales', 'jp_sales'], aggfunc='sum').reset_index()\n",
    "rating_ESRB_pivot['ratio_eu_sales'] = rating_ESRB_pivot['eu_sales'] / df_actyal['eu_sales'].sum() * 100 \n",
    "rating_ESRB_pivot['ratio_jp_sales'] = rating_ESRB_pivot['jp_sales'] / df_actyal['jp_sales'].sum() * 100\n",
    "rating_ESRB_pivot['ratio_na_sales'] = rating_ESRB_pivot['na_sales'] / df_actyal['na_sales'].sum() * 100\n",
    "rating_ESRB_pivot"
   ]
  },
  {
   "cell_type": "code",
   "execution_count": 49,
   "metadata": {},
   "outputs": [
    {
     "data": {
      "text/plain": [
       "<matplotlib.axes._subplots.AxesSubplot at 0x7fdc36429250>"
      ]
     },
     "execution_count": 49,
     "metadata": {},
     "output_type": "execute_result"
    },
    {
     "data": {
      "image/png": "[encoded data removed]",
      "text/plain": [
       "<Figure size 792x432 with 1 Axes>"
      ]
     },
     "metadata": {},
     "output_type": "display_data"
    },
    {
     "data": {
      "image/png": "[encoded data removed]",
      "text/plain": [
       "<Figure size 792x432 with 1 Axes>"
      ]
     },
     "metadata": {},
     "output_type": "display_data"
    },
    {
     "data": {
      "image/png": "[encoded data removed]",
      "text/plain": [
       "<Figure size 792x432 with 1 Axes>"
      ]
     },
     "metadata": {},
     "output_type": "display_data"
    }
   ],
   "source": [
    "rating_ESRB_pivot.plot(kind='pie', y='ratio_eu_sales', \n",
    "                       figsize=(11, 6), index, fontsize=13, \n",
    "                       title=\"Доля продаж в регионе EU в зависимости от рейтинга ESRB\", \n",
    "                       legend=False, autopct='%1.0f%%', \n",
    "                       explode = (0.1, 0.1, 0.1, 0.1, 0.1, 0.1), \n",
    "                       wedgeprops={'lw':1, 'ls':'--','edgecolor':\"k\"})\n",
    "\n",
    "rating_ESRB_pivot.plot(kind='pie', y='ratio_jp_sales', figsize=(11, 6), labels=rating_ESRB_pivot['rating'], fontsize=13, title=\"Доля продаж в регионе JP в зависимости от рейтинга ESRB\", legend=False, autopct='%1.0f%%', explode = (0.1, 0.1, 0.1, 0.1, 0.1, 0.1), wedgeprops={'lw':1, 'ls':'--','edgecolor':\"k\"})\n",
    "\n",
    "rating_ESRB_pivot.plot(kind='pie', y='ratio_na_sales', figsize=(11, 6), labels=rating_ESRB_pivot['rating'], fontsize=13, title=\"Доля продаж в регионе NA в зависимости от рейтинга ESRB\", legend=False, autopct='%1.0f%%', explode = (0.1, 0.1, 0.1, 0.1, 0.1, 0.1), wedgeprops={'lw':1, 'ls':'--','edgecolor':\"k\"})"
   ]
  },
  {
   "cell_type": "markdown",
   "metadata": {},
   "source": [
    "Предпочтения в регионе Америки(na) и Европы(eu) в целом похожи, поэтому будем их рассматривать вместе:\n",
    "\n",
    "- Предпочтения в регионах NA и EU в зависимости от рейтинга ESRB:\n",
    "\n",
    "Мы видим, что преобладает рейтинг «E» («Everyone») — «Для всех» (33% для NA, 31% для EU), доля продаж игр с этим рейтингом самая высокая. Второе место по доле продаж занимает рейтинг «M» («Mature») — «Для взрослых» (24% для NA, 27% для EU), доля этого рейтинга ниже возможно потому что есть возрастные ограничения, и не все желающие могут приобрести игру с этим рейтингом, на третьем месте игры с рейтингом: «T» («Teen») — «Подросткам» (18% для NA, 16% для EU).\n",
    "\n",
    "- Предпочтения в регионе JP в зависимости от рейтинга ESRB:\n",
    "\n",
    "Сразу видно, что ESRB американская организация, потому что наибольшая доля игр без рейтинга именно в регионе jp (Японя). Возможно Японцы в большей массе играют в игры местных разработчиков, которые вполне вероятно не выходят на американские и европейские рынки и соответственно не обозреваются организацией ESRB. Из того что мы можем сказать по этому региону на основе нашей выборки, то что большая доля игр в рейтинге «E» («Everyone») — «Для всех» (21%), на втором месте «T» («Teen») — «Подросткам» (15%).\n",
    "\n",
    "Так же в выборке практически не представлены игры с рейтингом «EC» («Early childhood») — «Для детей младшего возраста». Видимо игры с этим рейтингом не пользуются спросам, или в нашей выборке они не попали."
   ]
  },
  {
   "cell_type": "markdown",
   "metadata": {},
   "source": [
    "### Вывод:\n",
    "\n",
    "С целью определить портрет пользователя каждого региона в данном шаге мы рассмотрели следующие вопросы:\n",
    "\n",
    "1. Самые популярные платформы (топ-5). \n",
    "2. Самые популярные жанры (топ-5). \n",
    "3. Влияет ли рейтинг ESRB на продажи в отдельном регионе.\n",
    "\n",
    "Нам как магазину необходимо понимать спрос на какие платформы и жанры больше, в зависимости от региона. Мы увидели, что в целом, отвечая на эти вопросы, предпочтения в регионах na и eu у пользователей похожи и по жанрам, и по платформам. Однако в регионе jp картина полностью меняется, и мы видим, что предпочтения пользователей уже иные. Нам как магазину важно понимать на какой регион мы работаем, чтобы отталкиваться от ассортимента наших продаж. А если мы работаем на разные регионы, то и предложение магазина должно быть сформировано на основании спроса и предпочтений по платформам и жанрам каждого региона отдельно. Например, в регионе Америка в лидерах по платформам X360, а в лидерах по жанрам Shooter, но если мы на основании этой информации захотим выйти на рынок Японии, где потребительские предпочтения сильно отличаются, то наш бизнес обречен на смерть."
   ]
  },
  {
   "cell_type": "markdown",
   "metadata": {},
   "source": [
    "### Шаг 5. Проверка гипотез<a id=\"step5\"></a>"
   ]
  },
  {
   "cell_type": "markdown",
   "metadata": {},
   "source": [
    "#### 5.1 Средние пользовательские рейтинги платформ Xbox One и PC одинаковые"
   ]
  },
  {
   "cell_type": "markdown",
   "metadata": {},
   "source": [
    "Выдвинем гипотезу, что средний рейтинг пользователей платформ Xbox One и PC различается. Несмотря на то, что аудитория у этих платформ скорее-всего разная, и ассортимент игр разный, будем считать, что:\n",
    "\n",
    "- H₀ (нулевая гипотеза) - средняя оценка игр платформ Xbox One и PC не различается\n",
    "- H₁ - средняя оценка игр платформ Xbox One и PC отличается\n",
    "\n",
    "Уровень значимости примем за 5%."
   ]
  },
  {
   "cell_type": "code",
   "execution_count": 50,
   "metadata": {},
   "outputs": [],
   "source": [
    "pc = df_actyal.query('platform == \"PC\" and user_score != \"nan\"')\n",
    "Xbox = df_actyal.query('platform == \"XOne\" and user_score != \"nan\"')"
   ]
  },
  {
   "cell_type": "code",
   "execution_count": 51,
   "metadata": {},
   "outputs": [
    {
     "name": "stdout",
     "output_type": "stream",
     "text": [
      "Среднее значение платформы PS: 6.5181818181818185\n",
      "Среднее значение платформы Xbox One: 6.521428571428572\n",
      "Уже видим что средняя оценка отличается более чем на 0.5, уже можно предполагать об отвержении нулевой гипотезы\n"
     ]
    }
   ],
   "source": [
    "print('Среднее значение платформы PS:', pc['user_score'].mean())\n",
    "print('Среднее значение платформы Xbox One:', Xbox['user_score'].mean())\n",
    "print('Уже видим что средняя оценка отличается более чем на 0.5, уже можно предполагать об отвержении нулевой гипотезы')"
   ]
  },
  {
   "cell_type": "code",
   "execution_count": 52,
   "metadata": {},
   "outputs": [
    {
     "name": "stdout",
     "output_type": "stream",
     "text": [
      "Дисперсия выборки платформы PC: 2.450446015110894\n",
      "Дисперсия выборки платформы Xbox One: 1.9069968429360695\n"
     ]
    }
   ],
   "source": [
    "print('Дисперсия выборки платформы PC:', np.var(pc['user_score'], ddof=1))\n",
    "print('Дисперсия выборки платформы Xbox One:',np.var(Xbox['user_score'], ddof=1))"
   ]
  },
  {
   "cell_type": "code",
   "execution_count": 53,
   "metadata": {},
   "outputs": [
    {
     "name": "stdout",
     "output_type": "stream",
     "text": [
      "p-значение: 0.9801634129117883\n",
      "Не получилось отвергнуть нулевую гипотезу\n"
     ]
    }
   ],
   "source": [
    "alpha = 0.05\n",
    "\n",
    "results = st.ttest_ind(pc['user_score'],\n",
    "                      Xbox['user_score'],\n",
    "                      equal_var = False) # не будем считать дисперсии равными\n",
    "\n",
    "print('p-значение:', results.pvalue)\n",
    "\n",
    "if (results.pvalue < alpha): \n",
    "    print(\"Отвергаем нулевую гипотезу\")\n",
    "else:\n",
    "    print(\"Не получилось отвергнуть нулевую гипотезу\")"
   ]
  },
  {
   "cell_type": "markdown",
   "metadata": {},
   "source": [
    "**Вывод**: наблюдаемые на выборках по платформам значения не попадают в зону уровня значимости, это означает что вероятность такого события при верной нулевой гипотезе более 5% и отвергнуть ее мы не можем. Но это не значит, что альтернативная гипотеза не верна, возможно если увеличить или изменить выборку мы сможем отклонить нулевую гипотезу."
   ]
  },
  {
   "cell_type": "markdown",
   "metadata": {},
   "source": [
    "#### 5.2 Средние пользовательские рейтинги жанров Action (англ. «действие», экшен-игры) и Sports (англ. «спортивные соревнования») разные"
   ]
  },
  {
   "cell_type": "markdown",
   "metadata": {},
   "source": [
    "Выдвинем гипотезу, что средний рейтинг пользователей на игровые жанры Action и Sports различается. Несмотря на то, что целевая аудитория у этих жанров скорее-всего разная, будем считать, что:\n",
    "\n",
    "- H₀ (нулевая гипотеза) - средняя оценка игр жанров Action и Sports не различается\n",
    "- H₁ - средняя оценка игр жанров Action и Sports отличается\n",
    "\n",
    "Уровень значимости примем за 5%."
   ]
  },
  {
   "cell_type": "code",
   "execution_count": 54,
   "metadata": {},
   "outputs": [],
   "source": [
    "Action = df_actyal.query('genre == \"Action\" and user_score != \"nan\"')\n",
    "Sports = df_actyal.query('genre == \"Sports\" and user_score != \"nan\"')"
   ]
  },
  {
   "cell_type": "code",
   "execution_count": 55,
   "metadata": {},
   "outputs": [
    {
     "name": "stdout",
     "output_type": "stream",
     "text": [
      "Среднее значение жанра Action: 6.781899871630296\n",
      "Среднее значение жанра Sports: 5.901587301587302\n",
      "Уже видим что средняя оценка отличается менее чем на 0.1, уже можно предполагать что нулевую гипотезу не получится отвергнуть\n"
     ]
    }
   ],
   "source": [
    "print('Среднее значение жанра Action:', Action['user_score'].mean())\n",
    "print('Среднее значение жанра Sports:', Sports['user_score'].mean())\n",
    "print('Уже видим что средняя оценка отличается менее чем на 0.1, уже можно предполагать что нулевую гипотезу не получится отвергнуть')"
   ]
  },
  {
   "cell_type": "code",
   "execution_count": 56,
   "metadata": {},
   "outputs": [
    {
     "name": "stdout",
     "output_type": "stream",
     "text": [
      "Дисперсия выборки жанра Action: 1.8501475426606517\n",
      "Дисперсия выборки платформы Sports: 2.8356344151248614\n"
     ]
    }
   ],
   "source": [
    "print('Дисперсия выборки жанра Action:', np.var(Action['user_score'], ddof=1))\n",
    "print('Дисперсия выборки платформы Sports:',np.var(Sports['user_score'], ddof=1))"
   ]
  },
  {
   "cell_type": "code",
   "execution_count": 57,
   "metadata": {},
   "outputs": [
    {
     "name": "stdout",
     "output_type": "stream",
     "text": [
      "p-значение: 1.4516152467844418e-15\n",
      "Отвергаем нулевую гипотезу\n"
     ]
    }
   ],
   "source": [
    "alpha = 0.05\n",
    "\n",
    "results = st.ttest_ind(Action['user_score'],\n",
    "                      Sports['user_score'],\n",
    "                      equal_var = False) # не будем считать дисперсии равными\n",
    "\n",
    "print('p-значение:', results.pvalue)\n",
    "\n",
    "if (results.pvalue < alpha): \n",
    "    print(\"Отвергаем нулевую гипотезу\")\n",
    "else:\n",
    "    print(\"Не получилось отвергнуть нулевую гипотезу\")"
   ]
  },
  {
   "cell_type": "markdown",
   "metadata": {},
   "source": [
    "**Вывод**: наблюдаемые на выборках по жанрам значения попадают в зону уровня значимости, это означает, что вероятность такого события при верной нулевой гипотезе признаётся слишком малым (меньше 5%). Следовательно, у нас есть основание отвергнуть нулевую гипотезу. А это означает что мы получили статистически значимый результат, и приняли альтернативную гипотезу, в которой говорится, что средняя оценка игр жанров Action и Sports отличается."
   ]
  },
  {
   "cell_type": "markdown",
   "metadata": {},
   "source": [
    "### Шаг 6. Общий вывод<a id=\"step6\"></a>\n",
    "\n",
    "Мы работники интернет-магазине «Стримчик», который продаёт по всему миру компьютерные игры. На ввод мы получили данные о продажах игр, оценке пользователей и экспертов, а также информацию о жанрах и платформах. Нам предстояло выявить определяющие успешность игры закономерности, для того чтобы сделать ставку на потенциально популярный продукт и спланировать рекламные кампании. При первичном знакомстве с данными мы столкнулись с необходимостью:\n",
    "\n",
    "- обработать пропущенные значения\n",
    "- изменить типы данных, там, где это требовалось\n",
    "- посчитать суммарное количество проданных копий\n",
    "\n",
    "Если бы такая выгрузка данных поступила на основании продаж нашего магазина, то можно было бы сообщить коллегам о проблемах в данных (например, отсутствующее значения в названии игр). В результате предобработки приступили к анализу данных:\n",
    "\n",
    "- посмотрели сколько ежегодно выходит релизов в зависимости от года:\n",
    "\n",
    "На основании наших данных, мы увидели, что количество выпущенных игр стало стремительно расти с 1994 года, и если исторически углубляться, то это связанно с выпуском пятого поколения игровых консолей, эпохи 32/64-разрядных игровых систем (Sega Saturn (1994), Sony PlayStation (1994) и Nintendo 64 (1996)), которое позволило вовлечь большую аудиторию в игровой мир, что повлекло к возможности иметь больший доход с продаж, и соответственно более активно развивать как игровые платформы, так и игровой контент. Пик выпущенных игр приходится на 2008-2009 г. и связано это с тем, что на пик развития выходило седьмое поколение игровых консолей (Wii, xbox360 и PS3). Таким образом можно найти связь: с выпуском нового поколения консолей увеличивается количество релизов, и доходов, полученных за их продажи. Поэтому перед нами встал следующий вопрос:\n",
    "\n",
    "- какие платформы (судя по продажам) на какой стадии развития находятся, а также рассмотреть подробней их продажи в зависимости от года, и динамику развития \n",
    "\n",
    "Мы выделили популярные платформы на основании продажи количества игровых копий, построили графики и увидели, что, как правило, \"жизнь\" каждой платформы похожа на нормальное распределение, и в среднем каждая платформа актуальна по продажам на протяжении 11 лет, это связано с тем, что примерно каждый 10 лет выходит новое поколение игровых платформ. Разработчики игр постепенно переходят на производство игр для нового поколения, старые платформы начинают поддерживаться в меньшей степени. Пользователи так же начинают постепенно «пересаживаться» на новые платформы. Нам как магазину интересен сегмент потенциально развивающихся платформ, которые еще не успели выйти на пик продаж. В нашем исследовании такими платформами оказались xbox one и ps4. В ближайшие годы именно на эти платформы и игровой контент необходимо делать приоритетную ставку. Следующим вопросом перед нами встал:\n",
    "\n",
    "- как влияют на продажи, внутри одной популярной платформы (за такую платформу возьмем PS4) и всех остальных платформ, отзывы пользователей и критиков\n",
    "\n",
    "И здесь была выявлена небольшая положительная корреляция с оценкой критиков и продажей количества копий, при этом продажи совершенно не коррелируются с оценками пользователей. Это можно объяснить тем, что оценка критиков публикуется на разных игровых СМИ и порталах, и есть доля потенциальных покупателей которая доверяет мнению СМИ, или конкретного критика. Для продвижения продаж необходимо использовать все доступные маркетинговые инструменты: реклама, публикации и обзоры СМИ и блогеров, авторитет разработчика и тд. \n",
    "Помимо актуальных развивающихся платформ мы углубились в вопрос, а какие игровые жанры наиболее актуальны, на каких жанровых сегментах стоит сделать акцент. В результате исследования, в среднем, явными лидерами продаж оказались следующие жанры: Shooter, Platform, Sports. \n",
    "\n",
    "После того как мы определились с актуальными на ближайшие годы платформами и жанрами, на которые стоит сделать упор, нужно ответить на вопрос:\n",
    "\n",
    "- есть ли отличия от целевой аудитории в зависимости от региона\n",
    "\n",
    "В результате исследования этого вопроса мы выяснили что предпочтения пользователей могут меняться в зависимости от региона. Это касается как игровых платформ, так и игровых жанровых предпочтений. Так же стоит обращать внимание на популярные рейтинги (рейтинг ESRB в случае нашей работы, а вообще в каждом регионе может существовать своя, приоритетная организация, выставляющая рейтинг). Нам как магазину, на основании этих данных, интересней работать в регионах северной Америки и Европы, потому что приоритетные и развивающиеся платформы, которые были выявлены в нашем исследовании, характерны для пользователей этих регионов. А регион Японии имеет свою специфику в платформах и жанрах, и для выхода на этот рынок, нужно более детально его изучить, на основании других выгрузок и рейтингов.\n",
    "Также в работы было выдвинуты и статистически проверены несколько гипотез:\n",
    "\n",
    "1. Средние пользовательские рейтинги платформ Xbox One и PC одинаковые\n",
    "\n",
    "За нулевую гипотезу мы установили, что рейтинги на платформах одинаковые, за альтернативную - разные. Уровень значимости взяли 5%. В итоге проведенного сравнительно анализа, результат показал, что вероятность нулевой гипотезы крайне мала, и мы можем ее отвергнуть. Средняя оценка на этих платформах отличается, нам удалось получить статистически значимый результат.\n",
    "\n",
    "2. Средние пользовательские рейтинги жанров Action (англ. «действие», экшен-игры) и Sports (англ. «спортивные соревнования») разные\n",
    "\n",
    "За нулевую гипотезу мы установили, что рейтинги жанров одинаковые, за альтернативную - разные. В результате проведенного сравнительного анализа наблюдаемые на выборках по жанрам значения не попадают в зону уровня значимости (p-value = 5%), поэтому отвергнуть мы ее не можем, однако это и не значит то, что альтернативная гипотеза не верна. Есть вероятность, что анализируемая нами выборка сильно смещена от среднего значения генеральной совокупности, и при наличии другой выборки мы можем получить иной статистически значимый результат."
   ]
  }
 ],
 "metadata": {
  "kernelspec": {
   "display_name": "Python 3",
   "language": "python",
   "name": "python3"
  },
  "language_info": {
   "codemirror_mode": {
    "name": "ipython",
    "version": 3
   },
   "file_extension": ".py",
   "mimetype": "text/x-python",
   "name": "python",
   "nbconvert_exporter": "python",
   "pygments_lexer": "ipython3",
   "version": "3.8.5"
  },
  "toc": {
   "base_numbering": 1,
   "nav_menu": {},
   "number_sections": true,
   "sideBar": true,
   "skip_h1_title": false,
   "title_cell": "Table of Contents",
   "title_sidebar": "Contents",
   "toc_cell": false,
   "toc_position": {},
   "toc_section_display": true,
   "toc_window_display": false
  }
 },
 "nbformat": 4,
 "nbformat_minor": 2
}
