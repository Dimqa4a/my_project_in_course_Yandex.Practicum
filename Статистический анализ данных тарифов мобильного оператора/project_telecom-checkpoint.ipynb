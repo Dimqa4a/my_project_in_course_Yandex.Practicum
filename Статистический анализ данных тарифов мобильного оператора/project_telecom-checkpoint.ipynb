{
 "cells": [
  {
   "cell_type": "markdown",
   "metadata": {},
   "source": [
    "# Вводная часть\n",
    "\n",
    "Вы аналитик компании «Мегалайн» — федерального оператора сотовой связи. Клиентам предлагают два тарифных плана: «Смарт» и «Ультра». Чтобы скорректировать рекламный бюджет, коммерческий департамент хочет понять, какой тариф приносит больше денег.\n",
    "Вам предстоит сделать предварительный анализ тарифов на небольшой выборке клиентов. В вашем распоряжении данные 500 пользователей «Мегалайна»: кто они, откуда, каким тарифом пользуются, сколько звонков и сообщений каждый отправил за 2018 год. Нужно проанализировать поведение клиентов и сделать вывод — какой тариф лучше.\n",
    "\n",
    "#### Описание тарифов:\n",
    "\n",
    "**1. Тариф «Смарт»:**\n",
    "- Ежемесячная плата: 550 рублей\n",
    "- Включено 500 минут разговора, 50 сообщений и 15 Гб интернет-трафика\n",
    "- Стоимость услуг сверх тарифного пакета:\n",
    "- минута разговора: 3 рубля\n",
    "- сообщение: 3 рубля\n",
    "- 1 Гб интернет-трафика: 200 рублей\n",
    "\n",
    "**2. Тариф «Ультра»**\n",
    "- Ежемесячная плата: 1950 рублей\n",
    "- Включено 3000 минут разговора, 1000 сообщений и 30 Гб интернет-трафика\n",
    "- Стоимость услуг сверх тарифного пакета:\n",
    "- минута разговора: 1 рубль\n",
    "- сообщение: 1 рубль\n",
    "- 1 Гб интернет-трафика: 150 рублей"
   ]
  },
  {
   "cell_type": "markdown",
   "metadata": {},
   "source": [
    "## Оглавление\n",
    "\n",
    "1. [Откройте файл с данными и изучите общую информацию](#start)\n",
    "2. [Предобработка и подготовка данных](#step2)\n",
    "3. [Анализ данных](#step3)\n",
    "4. [Проверка гипотез](#step4)\n",
    "5. [Общий вывод](#step5)"
   ]
  },
  {
   "cell_type": "markdown",
   "metadata": {},
   "source": [
    "### Шаг 1. Откройте файл с данными и изучите общую информацию. <a id=\"start\"></a>"
   ]
  },
  {
   "cell_type": "code",
   "execution_count": 1,
   "metadata": {},
   "outputs": [],
   "source": [
    "import pandas as pd\n",
    "import matplotlib.pyplot as plt\n",
    "import numpy as np\n",
    "import math\n",
    "from scipy import stats as st"
   ]
  },
  {
   "cell_type": "markdown",
   "metadata": {},
   "source": [
    "#### Изучаем файл с информацией о пользователях"
   ]
  },
  {
   "cell_type": "code",
   "execution_count": 2,
   "metadata": {},
   "outputs": [],
   "source": [
    "df_users = pd.read_csv('/datasets/users.csv')"
   ]
  },
  {
   "cell_type": "code",
   "execution_count": 3,
   "metadata": {},
   "outputs": [
    {
     "data": {
      "text/html": [
       "<div>\n",
       "<style scoped>\n",
       "    .dataframe tbody tr th:only-of-type {\n",
       "        vertical-align: middle;\n",
       "    }\n",
       "\n",
       "    .dataframe tbody tr th {\n",
       "        vertical-align: top;\n",
       "    }\n",
       "\n",
       "    .dataframe thead th {\n",
       "        text-align: right;\n",
       "    }\n",
       "</style>\n",
       "<table border=\"1\" class=\"dataframe\">\n",
       "  <thead>\n",
       "    <tr style=\"text-align: right;\">\n",
       "      <th></th>\n",
       "      <th>user_id</th>\n",
       "      <th>age</th>\n",
       "      <th>churn_date</th>\n",
       "      <th>city</th>\n",
       "      <th>first_name</th>\n",
       "      <th>last_name</th>\n",
       "      <th>reg_date</th>\n",
       "      <th>tariff</th>\n",
       "    </tr>\n",
       "  </thead>\n",
       "  <tbody>\n",
       "    <tr>\n",
       "      <td>0</td>\n",
       "      <td>1000</td>\n",
       "      <td>52</td>\n",
       "      <td>NaN</td>\n",
       "      <td>Краснодар</td>\n",
       "      <td>Рафаил</td>\n",
       "      <td>Верещагин</td>\n",
       "      <td>2018-05-25</td>\n",
       "      <td>ultra</td>\n",
       "    </tr>\n",
       "    <tr>\n",
       "      <td>1</td>\n",
       "      <td>1001</td>\n",
       "      <td>41</td>\n",
       "      <td>NaN</td>\n",
       "      <td>Москва</td>\n",
       "      <td>Иван</td>\n",
       "      <td>Ежов</td>\n",
       "      <td>2018-11-01</td>\n",
       "      <td>smart</td>\n",
       "    </tr>\n",
       "    <tr>\n",
       "      <td>2</td>\n",
       "      <td>1002</td>\n",
       "      <td>59</td>\n",
       "      <td>NaN</td>\n",
       "      <td>Стерлитамак</td>\n",
       "      <td>Евгений</td>\n",
       "      <td>Абрамович</td>\n",
       "      <td>2018-06-17</td>\n",
       "      <td>smart</td>\n",
       "    </tr>\n",
       "    <tr>\n",
       "      <td>3</td>\n",
       "      <td>1003</td>\n",
       "      <td>23</td>\n",
       "      <td>NaN</td>\n",
       "      <td>Москва</td>\n",
       "      <td>Белла</td>\n",
       "      <td>Белякова</td>\n",
       "      <td>2018-08-17</td>\n",
       "      <td>ultra</td>\n",
       "    </tr>\n",
       "    <tr>\n",
       "      <td>4</td>\n",
       "      <td>1004</td>\n",
       "      <td>68</td>\n",
       "      <td>NaN</td>\n",
       "      <td>Новокузнецк</td>\n",
       "      <td>Татьяна</td>\n",
       "      <td>Авдеенко</td>\n",
       "      <td>2018-05-14</td>\n",
       "      <td>ultra</td>\n",
       "    </tr>\n",
       "    <tr>\n",
       "      <td>5</td>\n",
       "      <td>1005</td>\n",
       "      <td>67</td>\n",
       "      <td>NaN</td>\n",
       "      <td>Набережные Челны</td>\n",
       "      <td>Афанасий</td>\n",
       "      <td>Горлов</td>\n",
       "      <td>2018-01-25</td>\n",
       "      <td>smart</td>\n",
       "    </tr>\n",
       "    <tr>\n",
       "      <td>6</td>\n",
       "      <td>1006</td>\n",
       "      <td>21</td>\n",
       "      <td>NaN</td>\n",
       "      <td>Ульяновск</td>\n",
       "      <td>Леонид</td>\n",
       "      <td>Ермолаев</td>\n",
       "      <td>2018-02-26</td>\n",
       "      <td>smart</td>\n",
       "    </tr>\n",
       "    <tr>\n",
       "      <td>7</td>\n",
       "      <td>1007</td>\n",
       "      <td>65</td>\n",
       "      <td>NaN</td>\n",
       "      <td>Москва</td>\n",
       "      <td>Юна</td>\n",
       "      <td>Березина</td>\n",
       "      <td>2018-04-19</td>\n",
       "      <td>smart</td>\n",
       "    </tr>\n",
       "    <tr>\n",
       "      <td>8</td>\n",
       "      <td>1008</td>\n",
       "      <td>63</td>\n",
       "      <td>NaN</td>\n",
       "      <td>Челябинск</td>\n",
       "      <td>Рустэм</td>\n",
       "      <td>Пономарёв</td>\n",
       "      <td>2018-12-19</td>\n",
       "      <td>smart</td>\n",
       "    </tr>\n",
       "    <tr>\n",
       "      <td>9</td>\n",
       "      <td>1009</td>\n",
       "      <td>24</td>\n",
       "      <td>NaN</td>\n",
       "      <td>Пермь</td>\n",
       "      <td>Василиса</td>\n",
       "      <td>Блинова</td>\n",
       "      <td>2018-03-22</td>\n",
       "      <td>smart</td>\n",
       "    </tr>\n",
       "  </tbody>\n",
       "</table>\n",
       "</div>"
      ],
      "text/plain": [
       "   user_id  age churn_date              city first_name  last_name  \\\n",
       "0     1000   52        NaN         Краснодар     Рафаил  Верещагин   \n",
       "1     1001   41        NaN            Москва       Иван       Ежов   \n",
       "2     1002   59        NaN       Стерлитамак    Евгений  Абрамович   \n",
       "3     1003   23        NaN            Москва      Белла   Белякова   \n",
       "4     1004   68        NaN       Новокузнецк    Татьяна   Авдеенко   \n",
       "5     1005   67        NaN  Набережные Челны   Афанасий     Горлов   \n",
       "6     1006   21        NaN         Ульяновск     Леонид   Ермолаев   \n",
       "7     1007   65        NaN            Москва        Юна   Березина   \n",
       "8     1008   63        NaN         Челябинск     Рустэм  Пономарёв   \n",
       "9     1009   24        NaN             Пермь   Василиса    Блинова   \n",
       "\n",
       "     reg_date tariff  \n",
       "0  2018-05-25  ultra  \n",
       "1  2018-11-01  smart  \n",
       "2  2018-06-17  smart  \n",
       "3  2018-08-17  ultra  \n",
       "4  2018-05-14  ultra  \n",
       "5  2018-01-25  smart  \n",
       "6  2018-02-26  smart  \n",
       "7  2018-04-19  smart  \n",
       "8  2018-12-19  smart  \n",
       "9  2018-03-22  smart  "
      ]
     },
     "execution_count": 3,
     "metadata": {},
     "output_type": "execute_result"
    }
   ],
   "source": [
    "df_users.head(10)"
   ]
  },
  {
   "cell_type": "code",
   "execution_count": 4,
   "metadata": {},
   "outputs": [
    {
     "name": "stdout",
     "output_type": "stream",
     "text": [
      "<class 'pandas.core.frame.DataFrame'>\n",
      "RangeIndex: 500 entries, 0 to 499\n",
      "Data columns (total 8 columns):\n",
      "user_id       500 non-null int64\n",
      "age           500 non-null int64\n",
      "churn_date    38 non-null object\n",
      "city          500 non-null object\n",
      "first_name    500 non-null object\n",
      "last_name     500 non-null object\n",
      "reg_date      500 non-null object\n",
      "tariff        500 non-null object\n",
      "dtypes: int64(2), object(6)\n",
      "memory usage: 31.4+ KB\n"
     ]
    }
   ],
   "source": [
    "df_users.info()"
   ]
  },
  {
   "cell_type": "code",
   "execution_count": 5,
   "metadata": {},
   "outputs": [
    {
     "name": "stdout",
     "output_type": "stream",
     "text": [
      "Количество дублирующихся строк: 0\n"
     ]
    }
   ],
   "source": [
    "print('Количество дублирующихся строк:', df_users.duplicated().sum())"
   ]
  },
  {
   "cell_type": "code",
   "execution_count": 6,
   "metadata": {},
   "outputs": [
    {
     "name": "stdout",
     "output_type": "stream",
     "text": [
      "Возрастные характеристики клиентов:\n",
      "53    14\n",
      "42    14\n",
      "63    13\n",
      "71    13\n",
      "64    13\n",
      "73    12\n",
      "21    12\n",
      "40    12\n",
      "39    11\n",
      "47    11\n",
      "29    11\n",
      "26    11\n",
      "37    11\n",
      "41    10\n",
      "36    10\n",
      "58    10\n",
      "45    10\n",
      "70    10\n",
      "52    10\n",
      "51     9\n",
      "27     9\n",
      "48     9\n",
      "50     9\n",
      "28     9\n",
      "30     9\n",
      "24     9\n",
      "20     9\n",
      "19     9\n",
      "56     9\n",
      "23     9\n",
      "68     9\n",
      "66     9\n",
      "65     9\n",
      "69     8\n",
      "62     8\n",
      "60     8\n",
      "44     8\n",
      "55     8\n",
      "25     7\n",
      "43     7\n",
      "67     7\n",
      "35     7\n",
      "74     7\n",
      "32     7\n",
      "31     7\n",
      "46     7\n",
      "75     6\n",
      "54     6\n",
      "59     6\n",
      "18     6\n",
      "33     5\n",
      "34     5\n",
      "38     5\n",
      "22     5\n",
      "72     5\n",
      "49     4\n",
      "57     4\n",
      "61     3\n",
      "Name: age, dtype: int64\n"
     ]
    }
   ],
   "source": [
    "print('Возрастные характеристики клиентов:')\n",
    "print(df_users['age'].value_counts())"
   ]
  },
  {
   "cell_type": "markdown",
   "metadata": {},
   "source": [
    "На ввод получаем таблицу с данными за календарный год, состоящую из 499 строк с уникальными пользователями и 8 столбцами с данными о них. Заголовки столбцов содержат корректный вид, без кириллицы и лишних пробелов. В данных содержится информация: \n",
    "\n",
    "**1. user_id** — уникальный идентификатор пользователя\n",
    "- 499 уникальных id\n",
    "\n",
    "**2. age** — возраст пользователя (годы)\n",
    "- клиенты от 18 до 75 лет\n",
    "\n",
    "**3. churn_date** — дата прекращения пользования тарифом (если значение пропущено, то тариф ещё действовал на момент выгрузки данных)\n",
    "- необходимо заменить формат на datetime64\n",
    "- 461 пролпущенное значение (если значение пропущено, то тариф ещё действовал на момент выгрузки данных)\n",
    "\n",
    "**4. city** — город проживания пользователя\n",
    "\n",
    "**5. first_name** — имя пользователя\n",
    "\n",
    "**6. last_name** — фамилия пользователя\n",
    "\n",
    "**7. reg_date** — дата подключения тарифа (день, месяц, год)\n",
    "- необходимо заменить формат на datetime64\n",
    "\n",
    "**8. tariff** — название тарифного плана\n",
    "- два уникальных тарифа: Смарт и Ультра"
   ]
  },
  {
   "cell_type": "markdown",
   "metadata": {},
   "source": [
    "#### Изучаем файл с информацией о тарифах"
   ]
  },
  {
   "cell_type": "code",
   "execution_count": 7,
   "metadata": {},
   "outputs": [],
   "source": [
    "df_tariffs = pd.read_csv('/datasets/tariffs.csv')"
   ]
  },
  {
   "cell_type": "code",
   "execution_count": 8,
   "metadata": {},
   "outputs": [
    {
     "data": {
      "text/html": [
       "<div>\n",
       "<style scoped>\n",
       "    .dataframe tbody tr th:only-of-type {\n",
       "        vertical-align: middle;\n",
       "    }\n",
       "\n",
       "    .dataframe tbody tr th {\n",
       "        vertical-align: top;\n",
       "    }\n",
       "\n",
       "    .dataframe thead th {\n",
       "        text-align: right;\n",
       "    }\n",
       "</style>\n",
       "<table border=\"1\" class=\"dataframe\">\n",
       "  <thead>\n",
       "    <tr style=\"text-align: right;\">\n",
       "      <th></th>\n",
       "      <th>messages_included</th>\n",
       "      <th>mb_per_month_included</th>\n",
       "      <th>minutes_included</th>\n",
       "      <th>rub_monthly_fee</th>\n",
       "      <th>rub_per_gb</th>\n",
       "      <th>rub_per_message</th>\n",
       "      <th>rub_per_minute</th>\n",
       "      <th>tariff_name</th>\n",
       "    </tr>\n",
       "  </thead>\n",
       "  <tbody>\n",
       "    <tr>\n",
       "      <td>0</td>\n",
       "      <td>50</td>\n",
       "      <td>15360</td>\n",
       "      <td>500</td>\n",
       "      <td>550</td>\n",
       "      <td>200</td>\n",
       "      <td>3</td>\n",
       "      <td>3</td>\n",
       "      <td>smart</td>\n",
       "    </tr>\n",
       "    <tr>\n",
       "      <td>1</td>\n",
       "      <td>1000</td>\n",
       "      <td>30720</td>\n",
       "      <td>3000</td>\n",
       "      <td>1950</td>\n",
       "      <td>150</td>\n",
       "      <td>1</td>\n",
       "      <td>1</td>\n",
       "      <td>ultra</td>\n",
       "    </tr>\n",
       "  </tbody>\n",
       "</table>\n",
       "</div>"
      ],
      "text/plain": [
       "   messages_included  mb_per_month_included  minutes_included  \\\n",
       "0                 50                  15360               500   \n",
       "1               1000                  30720              3000   \n",
       "\n",
       "   rub_monthly_fee  rub_per_gb  rub_per_message  rub_per_minute tariff_name  \n",
       "0              550         200                3               3       smart  \n",
       "1             1950         150                1               1       ultra  "
      ]
     },
     "execution_count": 8,
     "metadata": {},
     "output_type": "execute_result"
    }
   ],
   "source": [
    "df_tariffs"
   ]
  },
  {
   "cell_type": "code",
   "execution_count": 9,
   "metadata": {},
   "outputs": [
    {
     "data": {
      "text/plain": [
       "messages_included         int64\n",
       "mb_per_month_included     int64\n",
       "minutes_included          int64\n",
       "rub_monthly_fee           int64\n",
       "rub_per_gb                int64\n",
       "rub_per_message           int64\n",
       "rub_per_minute            int64\n",
       "tariff_name              object\n",
       "dtype: object"
      ]
     },
     "execution_count": 9,
     "metadata": {},
     "output_type": "execute_result"
    }
   ],
   "source": [
    "df_tariffs.dtypes"
   ]
  },
  {
   "cell_type": "code",
   "execution_count": 10,
   "metadata": {},
   "outputs": [
    {
     "name": "stdout",
     "output_type": "stream",
     "text": [
      "Количество дублирующихся строк: 0\n"
     ]
    }
   ],
   "source": [
    "print('Количество дублирующихся строк:', df_tariffs.duplicated().sum())"
   ]
  },
  {
   "cell_type": "markdown",
   "metadata": {},
   "source": [
    "На ввод получаем таблицу с данными о тарифах, состоящую из 2 строк и 8 столбцами. В данных содержится информация:\n",
    "\n",
    "**1. messages_included** — количество сообщений в месяц, включённых в абонентскую плату\n",
    "\n",
    "**2. mb_per_month_included** — объём интернет-трафика, включённого в абонентскую плату (в мегабайтах)\n",
    "\n",
    "**3. minutes_included** — количество минут разговора в месяц, включённых в абонентскую плату\n",
    "\n",
    "**4. rub_monthly_fee** — ежемесячная абонентская плата в рублях\n",
    "\n",
    "**5. rub_per_gb** — стоимость дополнительного гигабайта интернет-трафика сверх тарифного пакета (1 гигабайт = 1024 мегабайта)\n",
    "\n",
    "**6. rub_per_message** — стоимость отправки сообщения сверх тарифного пакета\n",
    "\n",
    "**7. rub_per_minute** — стоимость минуты разговора сверх тарифного пакета (например, если в тарифе 100 минут разговора в месяц, то со 101 минуты будет взиматься плата)\n",
    "\n",
    "**8. tariff_name** — название тарифа"
   ]
  },
  {
   "cell_type": "markdown",
   "metadata": {},
   "source": [
    "#### Изучаем файл с информацией о звонках"
   ]
  },
  {
   "cell_type": "code",
   "execution_count": 11,
   "metadata": {},
   "outputs": [],
   "source": [
    "df_calls = pd.read_csv('/datasets/calls.csv')"
   ]
  },
  {
   "cell_type": "code",
   "execution_count": 12,
   "metadata": {},
   "outputs": [
    {
     "data": {
      "text/html": [
       "<div>\n",
       "<style scoped>\n",
       "    .dataframe tbody tr th:only-of-type {\n",
       "        vertical-align: middle;\n",
       "    }\n",
       "\n",
       "    .dataframe tbody tr th {\n",
       "        vertical-align: top;\n",
       "    }\n",
       "\n",
       "    .dataframe thead th {\n",
       "        text-align: right;\n",
       "    }\n",
       "</style>\n",
       "<table border=\"1\" class=\"dataframe\">\n",
       "  <thead>\n",
       "    <tr style=\"text-align: right;\">\n",
       "      <th></th>\n",
       "      <th>id</th>\n",
       "      <th>call_date</th>\n",
       "      <th>duration</th>\n",
       "      <th>user_id</th>\n",
       "    </tr>\n",
       "  </thead>\n",
       "  <tbody>\n",
       "    <tr>\n",
       "      <td>0</td>\n",
       "      <td>1000_0</td>\n",
       "      <td>2018-07-25</td>\n",
       "      <td>0.00</td>\n",
       "      <td>1000</td>\n",
       "    </tr>\n",
       "    <tr>\n",
       "      <td>1</td>\n",
       "      <td>1000_1</td>\n",
       "      <td>2018-08-17</td>\n",
       "      <td>0.00</td>\n",
       "      <td>1000</td>\n",
       "    </tr>\n",
       "    <tr>\n",
       "      <td>2</td>\n",
       "      <td>1000_2</td>\n",
       "      <td>2018-06-11</td>\n",
       "      <td>2.85</td>\n",
       "      <td>1000</td>\n",
       "    </tr>\n",
       "    <tr>\n",
       "      <td>3</td>\n",
       "      <td>1000_3</td>\n",
       "      <td>2018-09-21</td>\n",
       "      <td>13.80</td>\n",
       "      <td>1000</td>\n",
       "    </tr>\n",
       "    <tr>\n",
       "      <td>4</td>\n",
       "      <td>1000_4</td>\n",
       "      <td>2018-12-15</td>\n",
       "      <td>5.18</td>\n",
       "      <td>1000</td>\n",
       "    </tr>\n",
       "    <tr>\n",
       "      <td>...</td>\n",
       "      <td>...</td>\n",
       "      <td>...</td>\n",
       "      <td>...</td>\n",
       "      <td>...</td>\n",
       "    </tr>\n",
       "    <tr>\n",
       "      <td>202602</td>\n",
       "      <td>1499_215</td>\n",
       "      <td>2018-12-26</td>\n",
       "      <td>0.76</td>\n",
       "      <td>1499</td>\n",
       "    </tr>\n",
       "    <tr>\n",
       "      <td>202603</td>\n",
       "      <td>1499_216</td>\n",
       "      <td>2018-10-18</td>\n",
       "      <td>18.83</td>\n",
       "      <td>1499</td>\n",
       "    </tr>\n",
       "    <tr>\n",
       "      <td>202604</td>\n",
       "      <td>1499_217</td>\n",
       "      <td>2018-11-10</td>\n",
       "      <td>10.81</td>\n",
       "      <td>1499</td>\n",
       "    </tr>\n",
       "    <tr>\n",
       "      <td>202605</td>\n",
       "      <td>1499_218</td>\n",
       "      <td>2018-10-06</td>\n",
       "      <td>4.27</td>\n",
       "      <td>1499</td>\n",
       "    </tr>\n",
       "    <tr>\n",
       "      <td>202606</td>\n",
       "      <td>1499_219</td>\n",
       "      <td>2018-12-14</td>\n",
       "      <td>19.62</td>\n",
       "      <td>1499</td>\n",
       "    </tr>\n",
       "  </tbody>\n",
       "</table>\n",
       "<p>202607 rows × 4 columns</p>\n",
       "</div>"
      ],
      "text/plain": [
       "              id   call_date  duration  user_id\n",
       "0         1000_0  2018-07-25      0.00     1000\n",
       "1         1000_1  2018-08-17      0.00     1000\n",
       "2         1000_2  2018-06-11      2.85     1000\n",
       "3         1000_3  2018-09-21     13.80     1000\n",
       "4         1000_4  2018-12-15      5.18     1000\n",
       "...          ...         ...       ...      ...\n",
       "202602  1499_215  2018-12-26      0.76     1499\n",
       "202603  1499_216  2018-10-18     18.83     1499\n",
       "202604  1499_217  2018-11-10     10.81     1499\n",
       "202605  1499_218  2018-10-06      4.27     1499\n",
       "202606  1499_219  2018-12-14     19.62     1499\n",
       "\n",
       "[202607 rows x 4 columns]"
      ]
     },
     "execution_count": 12,
     "metadata": {},
     "output_type": "execute_result"
    }
   ],
   "source": [
    "df_calls"
   ]
  },
  {
   "cell_type": "code",
   "execution_count": 13,
   "metadata": {},
   "outputs": [
    {
     "name": "stdout",
     "output_type": "stream",
     "text": [
      "<class 'pandas.core.frame.DataFrame'>\n",
      "RangeIndex: 202607 entries, 0 to 202606\n",
      "Data columns (total 4 columns):\n",
      "id           202607 non-null object\n",
      "call_date    202607 non-null object\n",
      "duration     202607 non-null float64\n",
      "user_id      202607 non-null int64\n",
      "dtypes: float64(1), int64(1), object(2)\n",
      "memory usage: 6.2+ MB\n"
     ]
    }
   ],
   "source": [
    "df_calls.info()"
   ]
  },
  {
   "cell_type": "code",
   "execution_count": 14,
   "metadata": {},
   "outputs": [
    {
     "name": "stdout",
     "output_type": "stream",
     "text": [
      "Количество дублирующихся строк: 0\n"
     ]
    }
   ],
   "source": [
    "print('Количество дублирующихся строк:', df_calls.duplicated().sum())"
   ]
  },
  {
   "cell_type": "markdown",
   "metadata": {},
   "source": [
    "На ввод получаем таблицу с данными о звонках, состоящую из 202607 строк и 4 столбцов. В данных содержится информация:\n",
    "\n",
    "**1. user_id** — идентификатор пользователя, сделавшего звонок\n",
    "\n",
    "**2. call_date** — дата звонка\n",
    "- необходимо заменить формат на datetime64\n",
    "\n",
    "**3. duration** — длительность звонка в минутах\n",
    "- необходимо округлить в большую сторону до целого числа\n",
    "- присутствуют нулевые значения (это могут быть не принятые, или пропущенные звонки)\n",
    "\n",
    "**4. id** — уникальный номер звонка"
   ]
  },
  {
   "cell_type": "markdown",
   "metadata": {},
   "source": [
    "#### Изучаем файл с информацией о сообщениях"
   ]
  },
  {
   "cell_type": "code",
   "execution_count": 15,
   "metadata": {},
   "outputs": [],
   "source": [
    "df_messages = pd.read_csv('/datasets/messages.csv')"
   ]
  },
  {
   "cell_type": "code",
   "execution_count": 16,
   "metadata": {},
   "outputs": [
    {
     "data": {
      "text/html": [
       "<div>\n",
       "<style scoped>\n",
       "    .dataframe tbody tr th:only-of-type {\n",
       "        vertical-align: middle;\n",
       "    }\n",
       "\n",
       "    .dataframe tbody tr th {\n",
       "        vertical-align: top;\n",
       "    }\n",
       "\n",
       "    .dataframe thead th {\n",
       "        text-align: right;\n",
       "    }\n",
       "</style>\n",
       "<table border=\"1\" class=\"dataframe\">\n",
       "  <thead>\n",
       "    <tr style=\"text-align: right;\">\n",
       "      <th></th>\n",
       "      <th>id</th>\n",
       "      <th>message_date</th>\n",
       "      <th>user_id</th>\n",
       "    </tr>\n",
       "  </thead>\n",
       "  <tbody>\n",
       "    <tr>\n",
       "      <td>0</td>\n",
       "      <td>1000_0</td>\n",
       "      <td>2018-06-27</td>\n",
       "      <td>1000</td>\n",
       "    </tr>\n",
       "    <tr>\n",
       "      <td>1</td>\n",
       "      <td>1000_1</td>\n",
       "      <td>2018-10-08</td>\n",
       "      <td>1000</td>\n",
       "    </tr>\n",
       "    <tr>\n",
       "      <td>2</td>\n",
       "      <td>1000_2</td>\n",
       "      <td>2018-08-04</td>\n",
       "      <td>1000</td>\n",
       "    </tr>\n",
       "    <tr>\n",
       "      <td>3</td>\n",
       "      <td>1000_3</td>\n",
       "      <td>2018-06-16</td>\n",
       "      <td>1000</td>\n",
       "    </tr>\n",
       "    <tr>\n",
       "      <td>4</td>\n",
       "      <td>1000_4</td>\n",
       "      <td>2018-12-05</td>\n",
       "      <td>1000</td>\n",
       "    </tr>\n",
       "    <tr>\n",
       "      <td>...</td>\n",
       "      <td>...</td>\n",
       "      <td>...</td>\n",
       "      <td>...</td>\n",
       "    </tr>\n",
       "    <tr>\n",
       "      <td>123031</td>\n",
       "      <td>1499_179</td>\n",
       "      <td>2018-12-12</td>\n",
       "      <td>1499</td>\n",
       "    </tr>\n",
       "    <tr>\n",
       "      <td>123032</td>\n",
       "      <td>1499_180</td>\n",
       "      <td>2018-09-28</td>\n",
       "      <td>1499</td>\n",
       "    </tr>\n",
       "    <tr>\n",
       "      <td>123033</td>\n",
       "      <td>1499_181</td>\n",
       "      <td>2018-09-27</td>\n",
       "      <td>1499</td>\n",
       "    </tr>\n",
       "    <tr>\n",
       "      <td>123034</td>\n",
       "      <td>1499_182</td>\n",
       "      <td>2018-11-15</td>\n",
       "      <td>1499</td>\n",
       "    </tr>\n",
       "    <tr>\n",
       "      <td>123035</td>\n",
       "      <td>1499_183</td>\n",
       "      <td>2018-11-16</td>\n",
       "      <td>1499</td>\n",
       "    </tr>\n",
       "  </tbody>\n",
       "</table>\n",
       "<p>123036 rows × 3 columns</p>\n",
       "</div>"
      ],
      "text/plain": [
       "              id message_date  user_id\n",
       "0         1000_0   2018-06-27     1000\n",
       "1         1000_1   2018-10-08     1000\n",
       "2         1000_2   2018-08-04     1000\n",
       "3         1000_3   2018-06-16     1000\n",
       "4         1000_4   2018-12-05     1000\n",
       "...          ...          ...      ...\n",
       "123031  1499_179   2018-12-12     1499\n",
       "123032  1499_180   2018-09-28     1499\n",
       "123033  1499_181   2018-09-27     1499\n",
       "123034  1499_182   2018-11-15     1499\n",
       "123035  1499_183   2018-11-16     1499\n",
       "\n",
       "[123036 rows x 3 columns]"
      ]
     },
     "execution_count": 16,
     "metadata": {},
     "output_type": "execute_result"
    }
   ],
   "source": [
    "df_messages"
   ]
  },
  {
   "cell_type": "code",
   "execution_count": 17,
   "metadata": {},
   "outputs": [
    {
     "name": "stdout",
     "output_type": "stream",
     "text": [
      "<class 'pandas.core.frame.DataFrame'>\n",
      "RangeIndex: 123036 entries, 0 to 123035\n",
      "Data columns (total 3 columns):\n",
      "id              123036 non-null object\n",
      "message_date    123036 non-null object\n",
      "user_id         123036 non-null int64\n",
      "dtypes: int64(1), object(2)\n",
      "memory usage: 2.8+ MB\n"
     ]
    }
   ],
   "source": [
    "df_messages.info()"
   ]
  },
  {
   "cell_type": "code",
   "execution_count": 18,
   "metadata": {},
   "outputs": [
    {
     "data": {
      "text/html": [
       "<div>\n",
       "<style scoped>\n",
       "    .dataframe tbody tr th:only-of-type {\n",
       "        vertical-align: middle;\n",
       "    }\n",
       "\n",
       "    .dataframe tbody tr th {\n",
       "        vertical-align: top;\n",
       "    }\n",
       "\n",
       "    .dataframe thead th {\n",
       "        text-align: right;\n",
       "    }\n",
       "</style>\n",
       "<table border=\"1\" class=\"dataframe\">\n",
       "  <thead>\n",
       "    <tr style=\"text-align: right;\">\n",
       "      <th></th>\n",
       "      <th>id</th>\n",
       "      <th>call_date</th>\n",
       "      <th>duration</th>\n",
       "      <th>user_id</th>\n",
       "    </tr>\n",
       "  </thead>\n",
       "  <tbody>\n",
       "    <tr>\n",
       "      <td>0</td>\n",
       "      <td>1000_0</td>\n",
       "      <td>2018-07-25</td>\n",
       "      <td>0.00</td>\n",
       "      <td>1000</td>\n",
       "    </tr>\n",
       "    <tr>\n",
       "      <td>1</td>\n",
       "      <td>1000_1</td>\n",
       "      <td>2018-08-17</td>\n",
       "      <td>0.00</td>\n",
       "      <td>1000</td>\n",
       "    </tr>\n",
       "    <tr>\n",
       "      <td>2</td>\n",
       "      <td>1000_2</td>\n",
       "      <td>2018-06-11</td>\n",
       "      <td>2.85</td>\n",
       "      <td>1000</td>\n",
       "    </tr>\n",
       "    <tr>\n",
       "      <td>3</td>\n",
       "      <td>1000_3</td>\n",
       "      <td>2018-09-21</td>\n",
       "      <td>13.80</td>\n",
       "      <td>1000</td>\n",
       "    </tr>\n",
       "    <tr>\n",
       "      <td>4</td>\n",
       "      <td>1000_4</td>\n",
       "      <td>2018-12-15</td>\n",
       "      <td>5.18</td>\n",
       "      <td>1000</td>\n",
       "    </tr>\n",
       "    <tr>\n",
       "      <td>...</td>\n",
       "      <td>...</td>\n",
       "      <td>...</td>\n",
       "      <td>...</td>\n",
       "      <td>...</td>\n",
       "    </tr>\n",
       "    <tr>\n",
       "      <td>202602</td>\n",
       "      <td>1499_215</td>\n",
       "      <td>2018-12-26</td>\n",
       "      <td>0.76</td>\n",
       "      <td>1499</td>\n",
       "    </tr>\n",
       "    <tr>\n",
       "      <td>202603</td>\n",
       "      <td>1499_216</td>\n",
       "      <td>2018-10-18</td>\n",
       "      <td>18.83</td>\n",
       "      <td>1499</td>\n",
       "    </tr>\n",
       "    <tr>\n",
       "      <td>202604</td>\n",
       "      <td>1499_217</td>\n",
       "      <td>2018-11-10</td>\n",
       "      <td>10.81</td>\n",
       "      <td>1499</td>\n",
       "    </tr>\n",
       "    <tr>\n",
       "      <td>202605</td>\n",
       "      <td>1499_218</td>\n",
       "      <td>2018-10-06</td>\n",
       "      <td>4.27</td>\n",
       "      <td>1499</td>\n",
       "    </tr>\n",
       "    <tr>\n",
       "      <td>202606</td>\n",
       "      <td>1499_219</td>\n",
       "      <td>2018-12-14</td>\n",
       "      <td>19.62</td>\n",
       "      <td>1499</td>\n",
       "    </tr>\n",
       "  </tbody>\n",
       "</table>\n",
       "<p>202607 rows × 4 columns</p>\n",
       "</div>"
      ],
      "text/plain": [
       "              id   call_date  duration  user_id\n",
       "0         1000_0  2018-07-25      0.00     1000\n",
       "1         1000_1  2018-08-17      0.00     1000\n",
       "2         1000_2  2018-06-11      2.85     1000\n",
       "3         1000_3  2018-09-21     13.80     1000\n",
       "4         1000_4  2018-12-15      5.18     1000\n",
       "...          ...         ...       ...      ...\n",
       "202602  1499_215  2018-12-26      0.76     1499\n",
       "202603  1499_216  2018-10-18     18.83     1499\n",
       "202604  1499_217  2018-11-10     10.81     1499\n",
       "202605  1499_218  2018-10-06      4.27     1499\n",
       "202606  1499_219  2018-12-14     19.62     1499\n",
       "\n",
       "[202607 rows x 4 columns]"
      ]
     },
     "execution_count": 18,
     "metadata": {},
     "output_type": "execute_result"
    }
   ],
   "source": [
    "df_calls"
   ]
  },
  {
   "cell_type": "markdown",
   "metadata": {},
   "source": [
    "На ввод получаем таблицу с данными, состоящую из 123036 строк с уникальной информацией по каждому сообщению и 3 столбцов. В данных содержится информация:\n",
    "\n",
    "**1. id** — уникальный номер сообщения\n",
    "\n",
    "**2. message_date** — дата сообщения\n",
    "- необходимо заменить формат на datetime64\n",
    "\n",
    "**3. user_id** — идентификатор пользователя, отправившего сообщение"
   ]
  },
  {
   "cell_type": "markdown",
   "metadata": {},
   "source": [
    "#### Изучаем файл с информацией о интернет трафике"
   ]
  },
  {
   "cell_type": "code",
   "execution_count": 19,
   "metadata": {},
   "outputs": [],
   "source": [
    "df_traffic = pd.read_csv('/datasets/internet.csv')"
   ]
  },
  {
   "cell_type": "code",
   "execution_count": 20,
   "metadata": {},
   "outputs": [
    {
     "data": {
      "text/html": [
       "<div>\n",
       "<style scoped>\n",
       "    .dataframe tbody tr th:only-of-type {\n",
       "        vertical-align: middle;\n",
       "    }\n",
       "\n",
       "    .dataframe tbody tr th {\n",
       "        vertical-align: top;\n",
       "    }\n",
       "\n",
       "    .dataframe thead th {\n",
       "        text-align: right;\n",
       "    }\n",
       "</style>\n",
       "<table border=\"1\" class=\"dataframe\">\n",
       "  <thead>\n",
       "    <tr style=\"text-align: right;\">\n",
       "      <th></th>\n",
       "      <th>Unnamed: 0</th>\n",
       "      <th>id</th>\n",
       "      <th>mb_used</th>\n",
       "      <th>session_date</th>\n",
       "      <th>user_id</th>\n",
       "    </tr>\n",
       "  </thead>\n",
       "  <tbody>\n",
       "    <tr>\n",
       "      <td>0</td>\n",
       "      <td>0</td>\n",
       "      <td>1000_0</td>\n",
       "      <td>112.95</td>\n",
       "      <td>2018-11-25</td>\n",
       "      <td>1000</td>\n",
       "    </tr>\n",
       "    <tr>\n",
       "      <td>1</td>\n",
       "      <td>1</td>\n",
       "      <td>1000_1</td>\n",
       "      <td>1052.81</td>\n",
       "      <td>2018-09-07</td>\n",
       "      <td>1000</td>\n",
       "    </tr>\n",
       "    <tr>\n",
       "      <td>2</td>\n",
       "      <td>2</td>\n",
       "      <td>1000_2</td>\n",
       "      <td>1197.26</td>\n",
       "      <td>2018-06-25</td>\n",
       "      <td>1000</td>\n",
       "    </tr>\n",
       "    <tr>\n",
       "      <td>3</td>\n",
       "      <td>3</td>\n",
       "      <td>1000_3</td>\n",
       "      <td>550.27</td>\n",
       "      <td>2018-08-22</td>\n",
       "      <td>1000</td>\n",
       "    </tr>\n",
       "    <tr>\n",
       "      <td>4</td>\n",
       "      <td>4</td>\n",
       "      <td>1000_4</td>\n",
       "      <td>302.56</td>\n",
       "      <td>2018-09-24</td>\n",
       "      <td>1000</td>\n",
       "    </tr>\n",
       "    <tr>\n",
       "      <td>...</td>\n",
       "      <td>...</td>\n",
       "      <td>...</td>\n",
       "      <td>...</td>\n",
       "      <td>...</td>\n",
       "      <td>...</td>\n",
       "    </tr>\n",
       "    <tr>\n",
       "      <td>149391</td>\n",
       "      <td>149391</td>\n",
       "      <td>1499_152</td>\n",
       "      <td>318.90</td>\n",
       "      <td>2018-10-03</td>\n",
       "      <td>1499</td>\n",
       "    </tr>\n",
       "    <tr>\n",
       "      <td>149392</td>\n",
       "      <td>149392</td>\n",
       "      <td>1499_153</td>\n",
       "      <td>490.13</td>\n",
       "      <td>2018-12-14</td>\n",
       "      <td>1499</td>\n",
       "    </tr>\n",
       "    <tr>\n",
       "      <td>149393</td>\n",
       "      <td>149393</td>\n",
       "      <td>1499_154</td>\n",
       "      <td>0.00</td>\n",
       "      <td>2018-10-27</td>\n",
       "      <td>1499</td>\n",
       "    </tr>\n",
       "    <tr>\n",
       "      <td>149394</td>\n",
       "      <td>149394</td>\n",
       "      <td>1499_155</td>\n",
       "      <td>1246.32</td>\n",
       "      <td>2018-11-26</td>\n",
       "      <td>1499</td>\n",
       "    </tr>\n",
       "    <tr>\n",
       "      <td>149395</td>\n",
       "      <td>149395</td>\n",
       "      <td>1499_156</td>\n",
       "      <td>544.37</td>\n",
       "      <td>2018-10-26</td>\n",
       "      <td>1499</td>\n",
       "    </tr>\n",
       "  </tbody>\n",
       "</table>\n",
       "<p>149396 rows × 5 columns</p>\n",
       "</div>"
      ],
      "text/plain": [
       "        Unnamed: 0        id  mb_used session_date  user_id\n",
       "0                0    1000_0   112.95   2018-11-25     1000\n",
       "1                1    1000_1  1052.81   2018-09-07     1000\n",
       "2                2    1000_2  1197.26   2018-06-25     1000\n",
       "3                3    1000_3   550.27   2018-08-22     1000\n",
       "4                4    1000_4   302.56   2018-09-24     1000\n",
       "...            ...       ...      ...          ...      ...\n",
       "149391      149391  1499_152   318.90   2018-10-03     1499\n",
       "149392      149392  1499_153   490.13   2018-12-14     1499\n",
       "149393      149393  1499_154     0.00   2018-10-27     1499\n",
       "149394      149394  1499_155  1246.32   2018-11-26     1499\n",
       "149395      149395  1499_156   544.37   2018-10-26     1499\n",
       "\n",
       "[149396 rows x 5 columns]"
      ]
     },
     "execution_count": 20,
     "metadata": {},
     "output_type": "execute_result"
    }
   ],
   "source": [
    "df_traffic"
   ]
  },
  {
   "cell_type": "code",
   "execution_count": 21,
   "metadata": {},
   "outputs": [
    {
     "name": "stdout",
     "output_type": "stream",
     "text": [
      "<class 'pandas.core.frame.DataFrame'>\n",
      "RangeIndex: 149396 entries, 0 to 149395\n",
      "Data columns (total 5 columns):\n",
      "Unnamed: 0      149396 non-null int64\n",
      "id              149396 non-null object\n",
      "mb_used         149396 non-null float64\n",
      "session_date    149396 non-null object\n",
      "user_id         149396 non-null int64\n",
      "dtypes: float64(1), int64(2), object(2)\n",
      "memory usage: 5.7+ MB\n"
     ]
    }
   ],
   "source": [
    "df_traffic.info()"
   ]
  },
  {
   "cell_type": "code",
   "execution_count": 22,
   "metadata": {},
   "outputs": [
    {
     "name": "stdout",
     "output_type": "stream",
     "text": [
      "Количество дублирующихся строк: 0\n"
     ]
    }
   ],
   "source": [
    "print('Количество дублирующихся строк:', df_traffic.duplicated().sum())"
   ]
  },
  {
   "cell_type": "markdown",
   "metadata": {},
   "source": [
    "На ввод получаем таблицу с данными, состоящую из 149395 строк о каждой уникальной информации об интернет-сессиях и 5 столбцов. В данных содержится информация:\n",
    "\n",
    "**1. id** — уникальный номер сессии\n",
    "\n",
    "**2. mb_used** — объём потраченного за сессию интернет-трафика (в мегабайтах)\n",
    "- есть нулевые значения \n",
    "\n",
    "**3. session_date** — дата интернет-сессии\n",
    "- необходимо заменить формат на datetime64\n",
    "\n",
    "**4.user_id** — идентификатор пользователя"
   ]
  },
  {
   "cell_type": "markdown",
   "metadata": {},
   "source": [
    "### Вывод\n",
    "\n",
    "Для анализа данных получены разные выгрузки с информацией:\n",
    "1. О пользователях\n",
    "\n",
    "2. Тарифах\n",
    "\n",
    "3. Звонках\n",
    "\n",
    "4. Сообщениях\n",
    "\n",
    "5. Интернет трафике\n",
    "\n",
    "Во всех выгрузках присутствует уникальный user_id, по которому можно сгрупировать и сопоставить данные с различными параметрами для каждого клиента. После группировки по user_id данные из разных выгрузок будем соядинять в один датафрейм. Но перед этим необходимо провести качественную предобработку данных:\n",
    "\n",
    "- разобраться с такими пораметрами как нулевая длительность звонка\n",
    "\n",
    "- формат с датой во всех выгрузках типа object необходимо заменить на формат datetime64\n",
    "\n",
    "- округлить все значения по параметрам в большую сторону\n",
    "\n",
    "- посчитать необходимые значения по параметрам тарифов для каждого пользователя"
   ]
  },
  {
   "cell_type": "markdown",
   "metadata": {},
   "source": [
    "### Шаг 2. Предобработка и подготовка данных<a id=\"step2\"></a>"
   ]
  },
  {
   "cell_type": "markdown",
   "metadata": {},
   "source": [
    "#### 2.1 Предобработка данных в файле с информацией о клиентах"
   ]
  },
  {
   "cell_type": "markdown",
   "metadata": {},
   "source": [
    "Посмотрим за какой врменной период были выгружены данные по пользователям в каждом параметре по тарифам:"
   ]
  },
  {
   "cell_type": "code",
   "execution_count": 23,
   "metadata": {},
   "outputs": [
    {
     "name": "stdout",
     "output_type": "stream",
     "text": [
      "Минимальная и максимальная дата в трафике: 2018-01-01 - 2018-12-31\n",
      "Минимальная и максимальная дата в сообщениях: 2018-01-02 - 2018-12-31\n",
      "Минимальная и максимальная дата в звонках: 2018-01-01 - 2018-12-31\n"
     ]
    }
   ],
   "source": [
    "print('Минимальная и максимальная дата в трафике:', df_traffic['session_date'].min(),'-', df_traffic['session_date'].max()) \n",
    "print('Минимальная и максимальная дата в сообщениях:', df_messages['message_date'].min(),'-', df_messages['message_date'].max()) \n",
    "print('Минимальная и максимальная дата в звонках:', df_calls['call_date'].min(),'-', df_calls['call_date'].max()) "
   ]
  },
  {
   "cell_type": "markdown",
   "metadata": {},
   "source": [
    "Поскольку выгрузка за целый календарный год, заменим пропущенные значения для абонентов, у которых пропущено значение в стобце 'churn_date' на максимальное значение даты:"
   ]
  },
  {
   "cell_type": "code",
   "execution_count": 24,
   "metadata": {},
   "outputs": [],
   "source": [
    "df_users['churn_date'] = df_users['churn_date'].fillna('2018-12-31')"
   ]
  },
  {
   "cell_type": "markdown",
   "metadata": {},
   "source": [
    "Поменяем форматы в с толбцах с датами:"
   ]
  },
  {
   "cell_type": "code",
   "execution_count": 25,
   "metadata": {},
   "outputs": [],
   "source": [
    "df_users['reg_month'] = df_users['reg_date'].values.astype('datetime64[M]')\n",
    "df_users['churn_date'] = pd.to_datetime(df_users['churn_date'],format='%Y/%m/%d')\n",
    "df_users['reg_date'] = pd.to_datetime(df_users['reg_date'],format='%Y/%m/%d')"
   ]
  },
  {
   "cell_type": "markdown",
   "metadata": {},
   "source": [
    "Добавим столбец, в котором будет округленное (в большую сторону) количество месяцев по каждому абоненту:"
   ]
  },
  {
   "cell_type": "code",
   "execution_count": 26,
   "metadata": {},
   "outputs": [
    {
     "data": {
      "text/html": [
       "<div>\n",
       "<style scoped>\n",
       "    .dataframe tbody tr th:only-of-type {\n",
       "        vertical-align: middle;\n",
       "    }\n",
       "\n",
       "    .dataframe tbody tr th {\n",
       "        vertical-align: top;\n",
       "    }\n",
       "\n",
       "    .dataframe thead th {\n",
       "        text-align: right;\n",
       "    }\n",
       "</style>\n",
       "<table border=\"1\" class=\"dataframe\">\n",
       "  <thead>\n",
       "    <tr style=\"text-align: right;\">\n",
       "      <th></th>\n",
       "      <th>user_id</th>\n",
       "      <th>age</th>\n",
       "      <th>churn_date</th>\n",
       "      <th>city</th>\n",
       "      <th>first_name</th>\n",
       "      <th>last_name</th>\n",
       "      <th>reg_date</th>\n",
       "      <th>tariff</th>\n",
       "      <th>reg_month</th>\n",
       "    </tr>\n",
       "  </thead>\n",
       "  <tbody>\n",
       "    <tr>\n",
       "      <td>0</td>\n",
       "      <td>1000</td>\n",
       "      <td>52</td>\n",
       "      <td>2018-12-31</td>\n",
       "      <td>Краснодар</td>\n",
       "      <td>Рафаил</td>\n",
       "      <td>Верещагин</td>\n",
       "      <td>2018-05-25</td>\n",
       "      <td>ultra</td>\n",
       "      <td>2018-05-01</td>\n",
       "    </tr>\n",
       "    <tr>\n",
       "      <td>1</td>\n",
       "      <td>1001</td>\n",
       "      <td>41</td>\n",
       "      <td>2018-12-31</td>\n",
       "      <td>Москва</td>\n",
       "      <td>Иван</td>\n",
       "      <td>Ежов</td>\n",
       "      <td>2018-11-01</td>\n",
       "      <td>smart</td>\n",
       "      <td>2018-11-01</td>\n",
       "    </tr>\n",
       "    <tr>\n",
       "      <td>2</td>\n",
       "      <td>1002</td>\n",
       "      <td>59</td>\n",
       "      <td>2018-12-31</td>\n",
       "      <td>Стерлитамак</td>\n",
       "      <td>Евгений</td>\n",
       "      <td>Абрамович</td>\n",
       "      <td>2018-06-17</td>\n",
       "      <td>smart</td>\n",
       "      <td>2018-06-01</td>\n",
       "    </tr>\n",
       "    <tr>\n",
       "      <td>3</td>\n",
       "      <td>1003</td>\n",
       "      <td>23</td>\n",
       "      <td>2018-12-31</td>\n",
       "      <td>Москва</td>\n",
       "      <td>Белла</td>\n",
       "      <td>Белякова</td>\n",
       "      <td>2018-08-17</td>\n",
       "      <td>ultra</td>\n",
       "      <td>2018-08-01</td>\n",
       "    </tr>\n",
       "    <tr>\n",
       "      <td>4</td>\n",
       "      <td>1004</td>\n",
       "      <td>68</td>\n",
       "      <td>2018-12-31</td>\n",
       "      <td>Новокузнецк</td>\n",
       "      <td>Татьяна</td>\n",
       "      <td>Авдеенко</td>\n",
       "      <td>2018-05-14</td>\n",
       "      <td>ultra</td>\n",
       "      <td>2018-05-01</td>\n",
       "    </tr>\n",
       "  </tbody>\n",
       "</table>\n",
       "</div>"
      ],
      "text/plain": [
       "   user_id  age churn_date         city first_name  last_name   reg_date  \\\n",
       "0     1000   52 2018-12-31    Краснодар     Рафаил  Верещагин 2018-05-25   \n",
       "1     1001   41 2018-12-31       Москва       Иван       Ежов 2018-11-01   \n",
       "2     1002   59 2018-12-31  Стерлитамак    Евгений  Абрамович 2018-06-17   \n",
       "3     1003   23 2018-12-31       Москва      Белла   Белякова 2018-08-17   \n",
       "4     1004   68 2018-12-31  Новокузнецк    Татьяна   Авдеенко 2018-05-14   \n",
       "\n",
       "  tariff  reg_month  \n",
       "0  ultra 2018-05-01  \n",
       "1  smart 2018-11-01  \n",
       "2  smart 2018-06-01  \n",
       "3  ultra 2018-08-01  \n",
       "4  ultra 2018-05-01  "
      ]
     },
     "execution_count": 26,
     "metadata": {},
     "output_type": "execute_result"
    }
   ],
   "source": [
    "df_users.head(5)"
   ]
  },
  {
   "cell_type": "markdown",
   "metadata": {},
   "source": [
    "Теперь необходимо создать таблицу в которой будет содержаться информация по каждому клиенту, за каждый месяц. Для этого смотрим интервал выгрузки:"
   ]
  },
  {
   "cell_type": "code",
   "execution_count": 27,
   "metadata": {},
   "outputs": [
    {
     "data": {
      "text/plain": [
       "(numpy.datetime64('2018-01'), numpy.datetime64('2018-12'))"
      ]
     },
     "execution_count": 27,
     "metadata": {},
     "output_type": "execute_result"
    }
   ],
   "source": [
    "min_month = df_users['reg_date'].values.astype('datetime64[M]').min()\n",
    "max_month = df_users['reg_date'].values.astype('datetime64[M]').max()\n",
    "min_month, max_month"
   ]
  },
  {
   "cell_type": "markdown",
   "metadata": {},
   "source": [
    "Создаем список с каждым месяцем:"
   ]
  },
  {
   "cell_type": "code",
   "execution_count": 28,
   "metadata": {},
   "outputs": [],
   "source": [
    "date = pd.DataFrame(pd.date_range(min_month,max_month,freq='MS'))\n",
    "date.columns = ['month'] # делаем заголовок к столбцу "
   ]
  },
  {
   "cell_type": "code",
   "execution_count": 29,
   "metadata": {},
   "outputs": [
    {
     "data": {
      "text/html": [
       "<div>\n",
       "<style scoped>\n",
       "    .dataframe tbody tr th:only-of-type {\n",
       "        vertical-align: middle;\n",
       "    }\n",
       "\n",
       "    .dataframe tbody tr th {\n",
       "        vertical-align: top;\n",
       "    }\n",
       "\n",
       "    .dataframe thead th {\n",
       "        text-align: right;\n",
       "    }\n",
       "</style>\n",
       "<table border=\"1\" class=\"dataframe\">\n",
       "  <thead>\n",
       "    <tr style=\"text-align: right;\">\n",
       "      <th></th>\n",
       "      <th>month</th>\n",
       "    </tr>\n",
       "  </thead>\n",
       "  <tbody>\n",
       "    <tr>\n",
       "      <td>0</td>\n",
       "      <td>2018-01-01</td>\n",
       "    </tr>\n",
       "    <tr>\n",
       "      <td>1</td>\n",
       "      <td>2018-02-01</td>\n",
       "    </tr>\n",
       "    <tr>\n",
       "      <td>2</td>\n",
       "      <td>2018-03-01</td>\n",
       "    </tr>\n",
       "    <tr>\n",
       "      <td>3</td>\n",
       "      <td>2018-04-01</td>\n",
       "    </tr>\n",
       "    <tr>\n",
       "      <td>4</td>\n",
       "      <td>2018-05-01</td>\n",
       "    </tr>\n",
       "    <tr>\n",
       "      <td>5</td>\n",
       "      <td>2018-06-01</td>\n",
       "    </tr>\n",
       "    <tr>\n",
       "      <td>6</td>\n",
       "      <td>2018-07-01</td>\n",
       "    </tr>\n",
       "    <tr>\n",
       "      <td>7</td>\n",
       "      <td>2018-08-01</td>\n",
       "    </tr>\n",
       "    <tr>\n",
       "      <td>8</td>\n",
       "      <td>2018-09-01</td>\n",
       "    </tr>\n",
       "    <tr>\n",
       "      <td>9</td>\n",
       "      <td>2018-10-01</td>\n",
       "    </tr>\n",
       "    <tr>\n",
       "      <td>10</td>\n",
       "      <td>2018-11-01</td>\n",
       "    </tr>\n",
       "    <tr>\n",
       "      <td>11</td>\n",
       "      <td>2018-12-01</td>\n",
       "    </tr>\n",
       "  </tbody>\n",
       "</table>\n",
       "</div>"
      ],
      "text/plain": [
       "        month\n",
       "0  2018-01-01\n",
       "1  2018-02-01\n",
       "2  2018-03-01\n",
       "3  2018-04-01\n",
       "4  2018-05-01\n",
       "5  2018-06-01\n",
       "6  2018-07-01\n",
       "7  2018-08-01\n",
       "8  2018-09-01\n",
       "9  2018-10-01\n",
       "10 2018-11-01\n",
       "11 2018-12-01"
      ]
     },
     "execution_count": 29,
     "metadata": {},
     "output_type": "execute_result"
    }
   ],
   "source": [
    "date"
   ]
  },
  {
   "cell_type": "markdown",
   "metadata": {},
   "source": [
    "Смотрим какое количество строк должно получиться в таблице с информацией по каждому клиенту помесячно:"
   ]
  },
  {
   "cell_type": "code",
   "execution_count": 30,
   "metadata": {},
   "outputs": [
    {
     "data": {
      "text/plain": [
       "6000"
      ]
     },
     "execution_count": 30,
     "metadata": {},
     "output_type": "execute_result"
    }
   ],
   "source": [
    "len(df_users)*len(date)"
   ]
  },
  {
   "cell_type": "markdown",
   "metadata": {},
   "source": [
    "Создадим в каждой таблице \"ключ\" по которому будем соединять таблицы:"
   ]
  },
  {
   "cell_type": "code",
   "execution_count": 31,
   "metadata": {},
   "outputs": [],
   "source": [
    "date['key'] = 1\n",
    "df_users['key'] = 1"
   ]
  },
  {
   "cell_type": "code",
   "execution_count": 32,
   "metadata": {},
   "outputs": [
    {
     "data": {
      "text/html": [
       "<div>\n",
       "<style scoped>\n",
       "    .dataframe tbody tr th:only-of-type {\n",
       "        vertical-align: middle;\n",
       "    }\n",
       "\n",
       "    .dataframe tbody tr th {\n",
       "        vertical-align: top;\n",
       "    }\n",
       "\n",
       "    .dataframe thead th {\n",
       "        text-align: right;\n",
       "    }\n",
       "</style>\n",
       "<table border=\"1\" class=\"dataframe\">\n",
       "  <thead>\n",
       "    <tr style=\"text-align: right;\">\n",
       "      <th></th>\n",
       "      <th>month</th>\n",
       "      <th>key</th>\n",
       "      <th>user_id</th>\n",
       "      <th>age</th>\n",
       "      <th>churn_date</th>\n",
       "      <th>city</th>\n",
       "      <th>first_name</th>\n",
       "      <th>last_name</th>\n",
       "      <th>reg_date</th>\n",
       "      <th>tariff</th>\n",
       "      <th>reg_month</th>\n",
       "    </tr>\n",
       "  </thead>\n",
       "  <tbody>\n",
       "    <tr>\n",
       "      <td>0</td>\n",
       "      <td>2018-01-01</td>\n",
       "      <td>1</td>\n",
       "      <td>1000</td>\n",
       "      <td>52</td>\n",
       "      <td>2018-12-31</td>\n",
       "      <td>Краснодар</td>\n",
       "      <td>Рафаил</td>\n",
       "      <td>Верещагин</td>\n",
       "      <td>2018-05-25</td>\n",
       "      <td>ultra</td>\n",
       "      <td>2018-05-01</td>\n",
       "    </tr>\n",
       "    <tr>\n",
       "      <td>1</td>\n",
       "      <td>2018-01-01</td>\n",
       "      <td>1</td>\n",
       "      <td>1001</td>\n",
       "      <td>41</td>\n",
       "      <td>2018-12-31</td>\n",
       "      <td>Москва</td>\n",
       "      <td>Иван</td>\n",
       "      <td>Ежов</td>\n",
       "      <td>2018-11-01</td>\n",
       "      <td>smart</td>\n",
       "      <td>2018-11-01</td>\n",
       "    </tr>\n",
       "    <tr>\n",
       "      <td>2</td>\n",
       "      <td>2018-01-01</td>\n",
       "      <td>1</td>\n",
       "      <td>1002</td>\n",
       "      <td>59</td>\n",
       "      <td>2018-12-31</td>\n",
       "      <td>Стерлитамак</td>\n",
       "      <td>Евгений</td>\n",
       "      <td>Абрамович</td>\n",
       "      <td>2018-06-17</td>\n",
       "      <td>smart</td>\n",
       "      <td>2018-06-01</td>\n",
       "    </tr>\n",
       "    <tr>\n",
       "      <td>3</td>\n",
       "      <td>2018-01-01</td>\n",
       "      <td>1</td>\n",
       "      <td>1003</td>\n",
       "      <td>23</td>\n",
       "      <td>2018-12-31</td>\n",
       "      <td>Москва</td>\n",
       "      <td>Белла</td>\n",
       "      <td>Белякова</td>\n",
       "      <td>2018-08-17</td>\n",
       "      <td>ultra</td>\n",
       "      <td>2018-08-01</td>\n",
       "    </tr>\n",
       "    <tr>\n",
       "      <td>4</td>\n",
       "      <td>2018-01-01</td>\n",
       "      <td>1</td>\n",
       "      <td>1004</td>\n",
       "      <td>68</td>\n",
       "      <td>2018-12-31</td>\n",
       "      <td>Новокузнецк</td>\n",
       "      <td>Татьяна</td>\n",
       "      <td>Авдеенко</td>\n",
       "      <td>2018-05-14</td>\n",
       "      <td>ultra</td>\n",
       "      <td>2018-05-01</td>\n",
       "    </tr>\n",
       "    <tr>\n",
       "      <td>...</td>\n",
       "      <td>...</td>\n",
       "      <td>...</td>\n",
       "      <td>...</td>\n",
       "      <td>...</td>\n",
       "      <td>...</td>\n",
       "      <td>...</td>\n",
       "      <td>...</td>\n",
       "      <td>...</td>\n",
       "      <td>...</td>\n",
       "      <td>...</td>\n",
       "      <td>...</td>\n",
       "    </tr>\n",
       "    <tr>\n",
       "      <td>5995</td>\n",
       "      <td>2018-12-01</td>\n",
       "      <td>1</td>\n",
       "      <td>1495</td>\n",
       "      <td>65</td>\n",
       "      <td>2018-12-31</td>\n",
       "      <td>Иркутск</td>\n",
       "      <td>Авксентий</td>\n",
       "      <td>Фокин</td>\n",
       "      <td>2018-08-28</td>\n",
       "      <td>ultra</td>\n",
       "      <td>2018-08-01</td>\n",
       "    </tr>\n",
       "    <tr>\n",
       "      <td>5996</td>\n",
       "      <td>2018-12-01</td>\n",
       "      <td>1</td>\n",
       "      <td>1496</td>\n",
       "      <td>36</td>\n",
       "      <td>2018-12-31</td>\n",
       "      <td>Вологда</td>\n",
       "      <td>Трифон</td>\n",
       "      <td>Блохин</td>\n",
       "      <td>2018-01-27</td>\n",
       "      <td>smart</td>\n",
       "      <td>2018-01-01</td>\n",
       "    </tr>\n",
       "    <tr>\n",
       "      <td>5997</td>\n",
       "      <td>2018-12-01</td>\n",
       "      <td>1</td>\n",
       "      <td>1497</td>\n",
       "      <td>32</td>\n",
       "      <td>2018-12-31</td>\n",
       "      <td>Челябинск</td>\n",
       "      <td>Каролина</td>\n",
       "      <td>Агеева</td>\n",
       "      <td>2018-10-09</td>\n",
       "      <td>smart</td>\n",
       "      <td>2018-10-01</td>\n",
       "    </tr>\n",
       "    <tr>\n",
       "      <td>5998</td>\n",
       "      <td>2018-12-01</td>\n",
       "      <td>1</td>\n",
       "      <td>1498</td>\n",
       "      <td>68</td>\n",
       "      <td>2018-10-25</td>\n",
       "      <td>Владикавказ</td>\n",
       "      <td>Всеволод</td>\n",
       "      <td>Акимчин</td>\n",
       "      <td>2018-07-19</td>\n",
       "      <td>smart</td>\n",
       "      <td>2018-07-01</td>\n",
       "    </tr>\n",
       "    <tr>\n",
       "      <td>5999</td>\n",
       "      <td>2018-12-01</td>\n",
       "      <td>1</td>\n",
       "      <td>1499</td>\n",
       "      <td>35</td>\n",
       "      <td>2018-12-31</td>\n",
       "      <td>Пермь</td>\n",
       "      <td>Гектор</td>\n",
       "      <td>Корнилов</td>\n",
       "      <td>2018-09-27</td>\n",
       "      <td>smart</td>\n",
       "      <td>2018-09-01</td>\n",
       "    </tr>\n",
       "  </tbody>\n",
       "</table>\n",
       "<p>6000 rows × 11 columns</p>\n",
       "</div>"
      ],
      "text/plain": [
       "          month  key  user_id  age churn_date         city first_name  \\\n",
       "0    2018-01-01    1     1000   52 2018-12-31    Краснодар     Рафаил   \n",
       "1    2018-01-01    1     1001   41 2018-12-31       Москва       Иван   \n",
       "2    2018-01-01    1     1002   59 2018-12-31  Стерлитамак    Евгений   \n",
       "3    2018-01-01    1     1003   23 2018-12-31       Москва      Белла   \n",
       "4    2018-01-01    1     1004   68 2018-12-31  Новокузнецк    Татьяна   \n",
       "...         ...  ...      ...  ...        ...          ...        ...   \n",
       "5995 2018-12-01    1     1495   65 2018-12-31      Иркутск  Авксентий   \n",
       "5996 2018-12-01    1     1496   36 2018-12-31      Вологда     Трифон   \n",
       "5997 2018-12-01    1     1497   32 2018-12-31    Челябинск   Каролина   \n",
       "5998 2018-12-01    1     1498   68 2018-10-25  Владикавказ   Всеволод   \n",
       "5999 2018-12-01    1     1499   35 2018-12-31        Пермь     Гектор   \n",
       "\n",
       "      last_name   reg_date tariff  reg_month  \n",
       "0     Верещагин 2018-05-25  ultra 2018-05-01  \n",
       "1          Ежов 2018-11-01  smart 2018-11-01  \n",
       "2     Абрамович 2018-06-17  smart 2018-06-01  \n",
       "3      Белякова 2018-08-17  ultra 2018-08-01  \n",
       "4      Авдеенко 2018-05-14  ultra 2018-05-01  \n",
       "...         ...        ...    ...        ...  \n",
       "5995      Фокин 2018-08-28  ultra 2018-08-01  \n",
       "5996     Блохин 2018-01-27  smart 2018-01-01  \n",
       "5997     Агеева 2018-10-09  smart 2018-10-01  \n",
       "5998    Акимчин 2018-07-19  smart 2018-07-01  \n",
       "5999   Корнилов 2018-09-27  smart 2018-09-01  \n",
       "\n",
       "[6000 rows x 11 columns]"
      ]
     },
     "execution_count": 32,
     "metadata": {},
     "output_type": "execute_result"
    }
   ],
   "source": [
    "users_all_months = date.merge(df_users,on='key') # присоединям по ключу\n",
    "users_all_months "
   ]
  },
  {
   "cell_type": "markdown",
   "metadata": {},
   "source": [
    "Теперь есть таблица с данными по каждому клиенту ежемесячно, произведение количества строк: \"len(df_users) умноженное на len(date)\" и в итоговой таблице совпало(и там, и там 6000 строк), значит присоединение прошло правильно.\n",
    "\n",
    "Теперь необходимо сделать два среза:\n",
    "1. Убрать строки с месяцами где клиент еще не был подключен к тарифу\n",
    "2. Убрать строки с месяцами после отключения клиента от тарифа"
   ]
  },
  {
   "cell_type": "code",
   "execution_count": 33,
   "metadata": {},
   "outputs": [],
   "source": [
    "users_all_months = users_all_months[users_all_months['month'] >= users_all_months['reg_month']]\n",
    "users_all_months = users_all_months[users_all_months['month'] <= users_all_months['churn_date']]"
   ]
  },
  {
   "cell_type": "markdown",
   "metadata": {},
   "source": [
    "Точечно проверяем результат:"
   ]
  },
  {
   "cell_type": "code",
   "execution_count": 34,
   "metadata": {},
   "outputs": [
    {
     "data": {
      "text/html": [
       "<div>\n",
       "<style scoped>\n",
       "    .dataframe tbody tr th:only-of-type {\n",
       "        vertical-align: middle;\n",
       "    }\n",
       "\n",
       "    .dataframe tbody tr th {\n",
       "        vertical-align: top;\n",
       "    }\n",
       "\n",
       "    .dataframe thead th {\n",
       "        text-align: right;\n",
       "    }\n",
       "</style>\n",
       "<table border=\"1\" class=\"dataframe\">\n",
       "  <thead>\n",
       "    <tr style=\"text-align: right;\">\n",
       "      <th></th>\n",
       "      <th>month</th>\n",
       "      <th>key</th>\n",
       "      <th>user_id</th>\n",
       "      <th>age</th>\n",
       "      <th>churn_date</th>\n",
       "      <th>city</th>\n",
       "      <th>first_name</th>\n",
       "      <th>last_name</th>\n",
       "      <th>reg_date</th>\n",
       "      <th>tariff</th>\n",
       "      <th>reg_month</th>\n",
       "    </tr>\n",
       "  </thead>\n",
       "  <tbody>\n",
       "    <tr>\n",
       "      <td>3498</td>\n",
       "      <td>2018-07-01</td>\n",
       "      <td>1</td>\n",
       "      <td>1498</td>\n",
       "      <td>68</td>\n",
       "      <td>2018-10-25</td>\n",
       "      <td>Владикавказ</td>\n",
       "      <td>Всеволод</td>\n",
       "      <td>Акимчин</td>\n",
       "      <td>2018-07-19</td>\n",
       "      <td>smart</td>\n",
       "      <td>2018-07-01</td>\n",
       "    </tr>\n",
       "    <tr>\n",
       "      <td>3998</td>\n",
       "      <td>2018-08-01</td>\n",
       "      <td>1</td>\n",
       "      <td>1498</td>\n",
       "      <td>68</td>\n",
       "      <td>2018-10-25</td>\n",
       "      <td>Владикавказ</td>\n",
       "      <td>Всеволод</td>\n",
       "      <td>Акимчин</td>\n",
       "      <td>2018-07-19</td>\n",
       "      <td>smart</td>\n",
       "      <td>2018-07-01</td>\n",
       "    </tr>\n",
       "    <tr>\n",
       "      <td>4498</td>\n",
       "      <td>2018-09-01</td>\n",
       "      <td>1</td>\n",
       "      <td>1498</td>\n",
       "      <td>68</td>\n",
       "      <td>2018-10-25</td>\n",
       "      <td>Владикавказ</td>\n",
       "      <td>Всеволод</td>\n",
       "      <td>Акимчин</td>\n",
       "      <td>2018-07-19</td>\n",
       "      <td>smart</td>\n",
       "      <td>2018-07-01</td>\n",
       "    </tr>\n",
       "    <tr>\n",
       "      <td>4998</td>\n",
       "      <td>2018-10-01</td>\n",
       "      <td>1</td>\n",
       "      <td>1498</td>\n",
       "      <td>68</td>\n",
       "      <td>2018-10-25</td>\n",
       "      <td>Владикавказ</td>\n",
       "      <td>Всеволод</td>\n",
       "      <td>Акимчин</td>\n",
       "      <td>2018-07-19</td>\n",
       "      <td>smart</td>\n",
       "      <td>2018-07-01</td>\n",
       "    </tr>\n",
       "  </tbody>\n",
       "</table>\n",
       "</div>"
      ],
      "text/plain": [
       "          month  key  user_id  age churn_date         city first_name  \\\n",
       "3498 2018-07-01    1     1498   68 2018-10-25  Владикавказ   Всеволод   \n",
       "3998 2018-08-01    1     1498   68 2018-10-25  Владикавказ   Всеволод   \n",
       "4498 2018-09-01    1     1498   68 2018-10-25  Владикавказ   Всеволод   \n",
       "4998 2018-10-01    1     1498   68 2018-10-25  Владикавказ   Всеволод   \n",
       "\n",
       "     last_name   reg_date tariff  reg_month  \n",
       "3498   Акимчин 2018-07-19  smart 2018-07-01  \n",
       "3998   Акимчин 2018-07-19  smart 2018-07-01  \n",
       "4498   Акимчин 2018-07-19  smart 2018-07-01  \n",
       "4998   Акимчин 2018-07-19  smart 2018-07-01  "
      ]
     },
     "execution_count": 34,
     "metadata": {},
     "output_type": "execute_result"
    }
   ],
   "source": [
    "users_all_months.query('user_id == 1498')"
   ]
  },
  {
   "cell_type": "markdown",
   "metadata": {},
   "source": [
    "#### 2.2 Предобработка данных в файле с информацией о звонках"
   ]
  },
  {
   "cell_type": "code",
   "execution_count": 35,
   "metadata": {},
   "outputs": [
    {
     "data": {
      "text/html": [
       "<div>\n",
       "<style scoped>\n",
       "    .dataframe tbody tr th:only-of-type {\n",
       "        vertical-align: middle;\n",
       "    }\n",
       "\n",
       "    .dataframe tbody tr th {\n",
       "        vertical-align: top;\n",
       "    }\n",
       "\n",
       "    .dataframe thead th {\n",
       "        text-align: right;\n",
       "    }\n",
       "</style>\n",
       "<table border=\"1\" class=\"dataframe\">\n",
       "  <thead>\n",
       "    <tr style=\"text-align: right;\">\n",
       "      <th></th>\n",
       "      <th>id</th>\n",
       "      <th>call_date</th>\n",
       "      <th>duration</th>\n",
       "      <th>user_id</th>\n",
       "    </tr>\n",
       "  </thead>\n",
       "  <tbody>\n",
       "    <tr>\n",
       "      <td>0</td>\n",
       "      <td>1000_0</td>\n",
       "      <td>2018-07-25</td>\n",
       "      <td>0.00</td>\n",
       "      <td>1000</td>\n",
       "    </tr>\n",
       "    <tr>\n",
       "      <td>1</td>\n",
       "      <td>1000_1</td>\n",
       "      <td>2018-08-17</td>\n",
       "      <td>0.00</td>\n",
       "      <td>1000</td>\n",
       "    </tr>\n",
       "    <tr>\n",
       "      <td>2</td>\n",
       "      <td>1000_2</td>\n",
       "      <td>2018-06-11</td>\n",
       "      <td>2.85</td>\n",
       "      <td>1000</td>\n",
       "    </tr>\n",
       "    <tr>\n",
       "      <td>3</td>\n",
       "      <td>1000_3</td>\n",
       "      <td>2018-09-21</td>\n",
       "      <td>13.80</td>\n",
       "      <td>1000</td>\n",
       "    </tr>\n",
       "    <tr>\n",
       "      <td>4</td>\n",
       "      <td>1000_4</td>\n",
       "      <td>2018-12-15</td>\n",
       "      <td>5.18</td>\n",
       "      <td>1000</td>\n",
       "    </tr>\n",
       "    <tr>\n",
       "      <td>...</td>\n",
       "      <td>...</td>\n",
       "      <td>...</td>\n",
       "      <td>...</td>\n",
       "      <td>...</td>\n",
       "    </tr>\n",
       "    <tr>\n",
       "      <td>202602</td>\n",
       "      <td>1499_215</td>\n",
       "      <td>2018-12-26</td>\n",
       "      <td>0.76</td>\n",
       "      <td>1499</td>\n",
       "    </tr>\n",
       "    <tr>\n",
       "      <td>202603</td>\n",
       "      <td>1499_216</td>\n",
       "      <td>2018-10-18</td>\n",
       "      <td>18.83</td>\n",
       "      <td>1499</td>\n",
       "    </tr>\n",
       "    <tr>\n",
       "      <td>202604</td>\n",
       "      <td>1499_217</td>\n",
       "      <td>2018-11-10</td>\n",
       "      <td>10.81</td>\n",
       "      <td>1499</td>\n",
       "    </tr>\n",
       "    <tr>\n",
       "      <td>202605</td>\n",
       "      <td>1499_218</td>\n",
       "      <td>2018-10-06</td>\n",
       "      <td>4.27</td>\n",
       "      <td>1499</td>\n",
       "    </tr>\n",
       "    <tr>\n",
       "      <td>202606</td>\n",
       "      <td>1499_219</td>\n",
       "      <td>2018-12-14</td>\n",
       "      <td>19.62</td>\n",
       "      <td>1499</td>\n",
       "    </tr>\n",
       "  </tbody>\n",
       "</table>\n",
       "<p>202607 rows × 4 columns</p>\n",
       "</div>"
      ],
      "text/plain": [
       "              id   call_date  duration  user_id\n",
       "0         1000_0  2018-07-25      0.00     1000\n",
       "1         1000_1  2018-08-17      0.00     1000\n",
       "2         1000_2  2018-06-11      2.85     1000\n",
       "3         1000_3  2018-09-21     13.80     1000\n",
       "4         1000_4  2018-12-15      5.18     1000\n",
       "...          ...         ...       ...      ...\n",
       "202602  1499_215  2018-12-26      0.76     1499\n",
       "202603  1499_216  2018-10-18     18.83     1499\n",
       "202604  1499_217  2018-11-10     10.81     1499\n",
       "202605  1499_218  2018-10-06      4.27     1499\n",
       "202606  1499_219  2018-12-14     19.62     1499\n",
       "\n",
       "[202607 rows x 4 columns]"
      ]
     },
     "execution_count": 35,
     "metadata": {},
     "output_type": "execute_result"
    }
   ],
   "source": [
    "df_calls"
   ]
  },
  {
   "cell_type": "markdown",
   "metadata": {},
   "source": [
    "Добавить столбец с датой округленной до первого дня каждого месяца"
   ]
  },
  {
   "cell_type": "code",
   "execution_count": 36,
   "metadata": {},
   "outputs": [],
   "source": [
    "df_calls['call_month'] = df_calls['call_date'].values.astype('datetime64[M]')"
   ]
  },
  {
   "cell_type": "markdown",
   "metadata": {},
   "source": [
    "Посмотрим на распределение звонков:"
   ]
  },
  {
   "cell_type": "code",
   "execution_count": 37,
   "metadata": {},
   "outputs": [
    {
     "data": {
      "text/plain": [
       "count    202607.000000\n",
       "mean          6.755887\n",
       "std           5.843365\n",
       "min           0.000000\n",
       "25%           1.300000\n",
       "50%           6.000000\n",
       "75%          10.700000\n",
       "max          38.000000\n",
       "Name: duration, dtype: float64"
      ]
     },
     "execution_count": 37,
     "metadata": {},
     "output_type": "execute_result"
    },
    {
     "data": {
      "image/png": "[encoded data removed]",
      "text/plain": [
       "<Figure size 576x576 with 1 Axes>"
      ]
     },
     "metadata": {
      "needs_background": "light"
     },
     "output_type": "display_data"
    }
   ],
   "source": [
    "df_calls.boxplot(column='duration', figsize=(8,8))\n",
    "plt.title('Диаграмма размаха по количеству потраченых звонков в минутах')\n",
    "plt.ylabel('Потраченые минуты')\n",
    "\n",
    "df_calls['duration'].describe()"
   ]
  },
  {
   "cell_type": "markdown",
   "metadata": {},
   "source": [
    "На графике видны отдельные выбросы, максимальное время разговора 38 минут (вполне реальные показатели, исходя из жизненного опыта). Среднее время (6.7 минут) не сильно отличается от медианного (6.0 минут), значит выбросов не так много, и они не сильно \"смещают\" данные. "
   ]
  },
  {
   "cell_type": "code",
   "execution_count": 38,
   "metadata": {},
   "outputs": [
    {
     "data": {
      "text/plain": [
       "Text(0.5, 0, 'Использованые минуты разговора')"
      ]
     },
     "execution_count": 38,
     "metadata": {},
     "output_type": "execute_result"
    },
    {
     "data": {
      "image/png": "[encoded data removed]",
      "text/plain": [
       "<Figure size 720x576 with 1 Axes>"
      ]
     },
     "metadata": {
      "needs_background": "light"
     },
     "output_type": "display_data"
    }
   ],
   "source": [
    "df_calls['duration'].hist(bins=50, figsize=(10,8))\n",
    "plt.title('Распределение использованных минут звонков')\n",
    "plt.xlabel('Использованые минуты разговора')"
   ]
  },
  {
   "cell_type": "code",
   "execution_count": 39,
   "metadata": {},
   "outputs": [
    {
     "data": {
      "text/plain": [
       "Text(0.5, 0, 'Использованые минуты разговора')"
      ]
     },
     "execution_count": 39,
     "metadata": {},
     "output_type": "execute_result"
    },
    {
     "data": {
      "image/png": "[encoded data removed]",
      "text/plain": [
       "<Figure size 720x576 with 1 Axes>"
      ]
     },
     "metadata": {
      "needs_background": "light"
     },
     "output_type": "display_data"
    }
   ],
   "source": [
    "df_calls_nonnool = df_calls.query('duration > 0')\n",
    "df_calls_nonnool['duration'].hist(bins=50, figsize=(10,8))\n",
    "plt.title('Распределение использованных минут звонков без нулевых значений')\n",
    "plt.xlabel('Использованые минуты разговора')"
   ]
  },
  {
   "cell_type": "markdown",
   "metadata": {},
   "source": [
    "График распределения показывает, что среднее значение по минутым разговора: 6.7, а остальные значения лежат вокруг среднего, по принципу: чем дальше от среднего - тем меньше количества таких случаев. За исключением большого \"всплекса\", на значениях равных \"0\", которые так же немного смещают среднее значение в меньшую сторону. "
   ]
  },
  {
   "cell_type": "markdown",
   "metadata": {},
   "source": [
    "Посмотрим на значения равные нулю минут:"
   ]
  },
  {
   "cell_type": "code",
   "execution_count": 40,
   "metadata": {},
   "outputs": [
    {
     "data": {
      "text/plain": [
       "39613"
      ]
     },
     "execution_count": 40,
     "metadata": {},
     "output_type": "execute_result"
    }
   ],
   "source": [
    "df_calls[df_calls['duration'] == 0]['duration'].count()"
   ]
  },
  {
   "cell_type": "markdown",
   "metadata": {},
   "source": [
    "Хоть эти значения и искажают реальное среднее время разговора, но это реальные наблюдения, которые необходимо оставить в данных. Теперь необходимо округлить вверх время разговора до целых минут  "
   ]
  },
  {
   "cell_type": "code",
   "execution_count": 41,
   "metadata": {},
   "outputs": [
    {
     "name": "stdout",
     "output_type": "stream",
     "text": [
      "Минут звонков потраченно в сумме: 1368790.0399999998\n"
     ]
    }
   ],
   "source": [
    "print('Минут звонков потраченно в сумме:', df_calls['duration'].sum())"
   ]
  },
  {
   "cell_type": "code",
   "execution_count": 42,
   "metadata": {},
   "outputs": [],
   "source": [
    "df_calls['duration'] = df_calls['duration'].apply(np.ceil).astype('int')"
   ]
  },
  {
   "cell_type": "code",
   "execution_count": 43,
   "metadata": {},
   "outputs": [
    {
     "name": "stdout",
     "output_type": "stream",
     "text": [
      "Минут звонков потраченно в сумме после округления: 1450301\n"
     ]
    }
   ],
   "source": [
    "print('Минут звонков потраченно в сумме после округления:', df_calls['duration'].sum())"
   ]
  },
  {
   "cell_type": "code",
   "execution_count": 44,
   "metadata": {},
   "outputs": [
    {
     "name": "stdout",
     "output_type": "stream",
     "text": [
      "разница до и после округления: 81511\n"
     ]
    }
   ],
   "source": [
    "print('разница до и после округления:', 1450301 - 1368790)"
   ]
  },
  {
   "cell_type": "code",
   "execution_count": 45,
   "metadata": {},
   "outputs": [
    {
     "data": {
      "text/html": [
       "<div>\n",
       "<style scoped>\n",
       "    .dataframe tbody tr th:only-of-type {\n",
       "        vertical-align: middle;\n",
       "    }\n",
       "\n",
       "    .dataframe tbody tr th {\n",
       "        vertical-align: top;\n",
       "    }\n",
       "\n",
       "    .dataframe thead th {\n",
       "        text-align: right;\n",
       "    }\n",
       "</style>\n",
       "<table border=\"1\" class=\"dataframe\">\n",
       "  <thead>\n",
       "    <tr style=\"text-align: right;\">\n",
       "      <th></th>\n",
       "      <th>id</th>\n",
       "      <th>call_date</th>\n",
       "      <th>duration</th>\n",
       "      <th>user_id</th>\n",
       "      <th>call_month</th>\n",
       "    </tr>\n",
       "  </thead>\n",
       "  <tbody>\n",
       "    <tr>\n",
       "      <td>0</td>\n",
       "      <td>1000_0</td>\n",
       "      <td>2018-07-25</td>\n",
       "      <td>0</td>\n",
       "      <td>1000</td>\n",
       "      <td>2018-07-01</td>\n",
       "    </tr>\n",
       "    <tr>\n",
       "      <td>1</td>\n",
       "      <td>1000_1</td>\n",
       "      <td>2018-08-17</td>\n",
       "      <td>0</td>\n",
       "      <td>1000</td>\n",
       "      <td>2018-08-01</td>\n",
       "    </tr>\n",
       "    <tr>\n",
       "      <td>2</td>\n",
       "      <td>1000_2</td>\n",
       "      <td>2018-06-11</td>\n",
       "      <td>3</td>\n",
       "      <td>1000</td>\n",
       "      <td>2018-06-01</td>\n",
       "    </tr>\n",
       "    <tr>\n",
       "      <td>3</td>\n",
       "      <td>1000_3</td>\n",
       "      <td>2018-09-21</td>\n",
       "      <td>14</td>\n",
       "      <td>1000</td>\n",
       "      <td>2018-09-01</td>\n",
       "    </tr>\n",
       "    <tr>\n",
       "      <td>4</td>\n",
       "      <td>1000_4</td>\n",
       "      <td>2018-12-15</td>\n",
       "      <td>6</td>\n",
       "      <td>1000</td>\n",
       "      <td>2018-12-01</td>\n",
       "    </tr>\n",
       "    <tr>\n",
       "      <td>...</td>\n",
       "      <td>...</td>\n",
       "      <td>...</td>\n",
       "      <td>...</td>\n",
       "      <td>...</td>\n",
       "      <td>...</td>\n",
       "    </tr>\n",
       "    <tr>\n",
       "      <td>202602</td>\n",
       "      <td>1499_215</td>\n",
       "      <td>2018-12-26</td>\n",
       "      <td>1</td>\n",
       "      <td>1499</td>\n",
       "      <td>2018-12-01</td>\n",
       "    </tr>\n",
       "    <tr>\n",
       "      <td>202603</td>\n",
       "      <td>1499_216</td>\n",
       "      <td>2018-10-18</td>\n",
       "      <td>19</td>\n",
       "      <td>1499</td>\n",
       "      <td>2018-10-01</td>\n",
       "    </tr>\n",
       "    <tr>\n",
       "      <td>202604</td>\n",
       "      <td>1499_217</td>\n",
       "      <td>2018-11-10</td>\n",
       "      <td>11</td>\n",
       "      <td>1499</td>\n",
       "      <td>2018-11-01</td>\n",
       "    </tr>\n",
       "    <tr>\n",
       "      <td>202605</td>\n",
       "      <td>1499_218</td>\n",
       "      <td>2018-10-06</td>\n",
       "      <td>5</td>\n",
       "      <td>1499</td>\n",
       "      <td>2018-10-01</td>\n",
       "    </tr>\n",
       "    <tr>\n",
       "      <td>202606</td>\n",
       "      <td>1499_219</td>\n",
       "      <td>2018-12-14</td>\n",
       "      <td>20</td>\n",
       "      <td>1499</td>\n",
       "      <td>2018-12-01</td>\n",
       "    </tr>\n",
       "  </tbody>\n",
       "</table>\n",
       "<p>202607 rows × 5 columns</p>\n",
       "</div>"
      ],
      "text/plain": [
       "              id   call_date  duration  user_id call_month\n",
       "0         1000_0  2018-07-25         0     1000 2018-07-01\n",
       "1         1000_1  2018-08-17         0     1000 2018-08-01\n",
       "2         1000_2  2018-06-11         3     1000 2018-06-01\n",
       "3         1000_3  2018-09-21        14     1000 2018-09-01\n",
       "4         1000_4  2018-12-15         6     1000 2018-12-01\n",
       "...          ...         ...       ...      ...        ...\n",
       "202602  1499_215  2018-12-26         1     1499 2018-12-01\n",
       "202603  1499_216  2018-10-18        19     1499 2018-10-01\n",
       "202604  1499_217  2018-11-10        11     1499 2018-11-01\n",
       "202605  1499_218  2018-10-06         5     1499 2018-10-01\n",
       "202606  1499_219  2018-12-14        20     1499 2018-12-01\n",
       "\n",
       "[202607 rows x 5 columns]"
      ]
     },
     "execution_count": 45,
     "metadata": {},
     "output_type": "execute_result"
    }
   ],
   "source": [
    "df_calls"
   ]
  },
  {
   "cell_type": "markdown",
   "metadata": {},
   "source": [
    "Сразу видно что мобильный оператор \"Мегалайн\" заботится о каждом клиенте, поэтому округляет всегда вверх, и получает сверху чуть меньше 81511 минут. Посекундная тарификация звонков? - \"Мегалайн\" о таком не слышал :)"
   ]
  },
  {
   "cell_type": "markdown",
   "metadata": {},
   "source": [
    "Необходимо сгрупировать данные, и на выход получить ежемесячные данные по каждому абоненту с количеством звонков и минут разговора:"
   ]
  },
  {
   "cell_type": "code",
   "execution_count": 46,
   "metadata": {},
   "outputs": [],
   "source": [
    "user_calls = df_calls.groupby(['user_id', 'call_month'])\\\n",
    "                  .agg({'duration':'sum', 'id':'count'})\\\n",
    "                  .reset_index()\\\n",
    "                  .rename(columns = {'duration': 'calls_duration',\n",
    "                                     'id': 'calls_count',\n",
    "                                    'call_month': 'month'})"
   ]
  },
  {
   "cell_type": "code",
   "execution_count": 47,
   "metadata": {},
   "outputs": [
    {
     "data": {
      "text/html": [
       "<div>\n",
       "<style scoped>\n",
       "    .dataframe tbody tr th:only-of-type {\n",
       "        vertical-align: middle;\n",
       "    }\n",
       "\n",
       "    .dataframe tbody tr th {\n",
       "        vertical-align: top;\n",
       "    }\n",
       "\n",
       "    .dataframe thead th {\n",
       "        text-align: right;\n",
       "    }\n",
       "</style>\n",
       "<table border=\"1\" class=\"dataframe\">\n",
       "  <thead>\n",
       "    <tr style=\"text-align: right;\">\n",
       "      <th></th>\n",
       "      <th>user_id</th>\n",
       "      <th>month</th>\n",
       "      <th>calls_duration</th>\n",
       "      <th>calls_count</th>\n",
       "    </tr>\n",
       "  </thead>\n",
       "  <tbody>\n",
       "    <tr>\n",
       "      <td>3166</td>\n",
       "      <td>1498</td>\n",
       "      <td>2018-07-01</td>\n",
       "      <td>175</td>\n",
       "      <td>23</td>\n",
       "    </tr>\n",
       "    <tr>\n",
       "      <td>3167</td>\n",
       "      <td>1498</td>\n",
       "      <td>2018-08-01</td>\n",
       "      <td>400</td>\n",
       "      <td>57</td>\n",
       "    </tr>\n",
       "    <tr>\n",
       "      <td>3168</td>\n",
       "      <td>1498</td>\n",
       "      <td>2018-09-01</td>\n",
       "      <td>471</td>\n",
       "      <td>59</td>\n",
       "    </tr>\n",
       "    <tr>\n",
       "      <td>3169</td>\n",
       "      <td>1498</td>\n",
       "      <td>2018-10-01</td>\n",
       "      <td>247</td>\n",
       "      <td>41</td>\n",
       "    </tr>\n",
       "  </tbody>\n",
       "</table>\n",
       "</div>"
      ],
      "text/plain": [
       "      user_id      month  calls_duration  calls_count\n",
       "3166     1498 2018-07-01             175           23\n",
       "3167     1498 2018-08-01             400           57\n",
       "3168     1498 2018-09-01             471           59\n",
       "3169     1498 2018-10-01             247           41"
      ]
     },
     "execution_count": 47,
     "metadata": {},
     "output_type": "execute_result"
    }
   ],
   "source": [
    "user_calls.query('user_id == 1498') # проверяем результат на срезе"
   ]
  },
  {
   "cell_type": "markdown",
   "metadata": {},
   "source": [
    "Далее присоеденим сгруппированные данные по столбцам к основной таблице с клиентами:"
   ]
  },
  {
   "cell_type": "code",
   "execution_count": 48,
   "metadata": {},
   "outputs": [
    {
     "data": {
      "text/html": [
       "<div>\n",
       "<style scoped>\n",
       "    .dataframe tbody tr th:only-of-type {\n",
       "        vertical-align: middle;\n",
       "    }\n",
       "\n",
       "    .dataframe tbody tr th {\n",
       "        vertical-align: top;\n",
       "    }\n",
       "\n",
       "    .dataframe thead th {\n",
       "        text-align: right;\n",
       "    }\n",
       "</style>\n",
       "<table border=\"1\" class=\"dataframe\">\n",
       "  <thead>\n",
       "    <tr style=\"text-align: right;\">\n",
       "      <th></th>\n",
       "      <th>month</th>\n",
       "      <th>key</th>\n",
       "      <th>user_id</th>\n",
       "      <th>age</th>\n",
       "      <th>churn_date</th>\n",
       "      <th>city</th>\n",
       "      <th>first_name</th>\n",
       "      <th>last_name</th>\n",
       "      <th>reg_date</th>\n",
       "      <th>tariff</th>\n",
       "      <th>reg_month</th>\n",
       "      <th>calls_duration</th>\n",
       "      <th>calls_count</th>\n",
       "    </tr>\n",
       "  </thead>\n",
       "  <tbody>\n",
       "    <tr>\n",
       "      <td>0</td>\n",
       "      <td>2018-01-01</td>\n",
       "      <td>1</td>\n",
       "      <td>1005</td>\n",
       "      <td>67</td>\n",
       "      <td>2018-12-31</td>\n",
       "      <td>Набережные Челны</td>\n",
       "      <td>Афанасий</td>\n",
       "      <td>Горлов</td>\n",
       "      <td>2018-01-25</td>\n",
       "      <td>smart</td>\n",
       "      <td>2018-01-01</td>\n",
       "      <td>95.0</td>\n",
       "      <td>15.0</td>\n",
       "    </tr>\n",
       "    <tr>\n",
       "      <td>1</td>\n",
       "      <td>2018-01-01</td>\n",
       "      <td>1</td>\n",
       "      <td>1032</td>\n",
       "      <td>31</td>\n",
       "      <td>2018-12-31</td>\n",
       "      <td>Ульяновск</td>\n",
       "      <td>Инна</td>\n",
       "      <td>Игнатьева</td>\n",
       "      <td>2018-01-04</td>\n",
       "      <td>smart</td>\n",
       "      <td>2018-01-01</td>\n",
       "      <td>380.0</td>\n",
       "      <td>61.0</td>\n",
       "    </tr>\n",
       "    <tr>\n",
       "      <td>2</td>\n",
       "      <td>2018-01-01</td>\n",
       "      <td>1</td>\n",
       "      <td>1045</td>\n",
       "      <td>48</td>\n",
       "      <td>2018-12-31</td>\n",
       "      <td>Улан-Удэ</td>\n",
       "      <td>Джемма</td>\n",
       "      <td>Карасева</td>\n",
       "      <td>2018-01-30</td>\n",
       "      <td>smart</td>\n",
       "      <td>2018-01-01</td>\n",
       "      <td>9.0</td>\n",
       "      <td>1.0</td>\n",
       "    </tr>\n",
       "    <tr>\n",
       "      <td>3</td>\n",
       "      <td>2018-01-01</td>\n",
       "      <td>1</td>\n",
       "      <td>1055</td>\n",
       "      <td>39</td>\n",
       "      <td>2018-12-31</td>\n",
       "      <td>Казань</td>\n",
       "      <td>Луиза</td>\n",
       "      <td>Березина</td>\n",
       "      <td>2018-01-02</td>\n",
       "      <td>smart</td>\n",
       "      <td>2018-01-01</td>\n",
       "      <td>551.0</td>\n",
       "      <td>64.0</td>\n",
       "    </tr>\n",
       "    <tr>\n",
       "      <td>4</td>\n",
       "      <td>2018-01-01</td>\n",
       "      <td>1</td>\n",
       "      <td>1071</td>\n",
       "      <td>20</td>\n",
       "      <td>2018-08-31</td>\n",
       "      <td>Омск</td>\n",
       "      <td>Гектор</td>\n",
       "      <td>Чумаков</td>\n",
       "      <td>2018-01-09</td>\n",
       "      <td>smart</td>\n",
       "      <td>2018-01-01</td>\n",
       "      <td>194.0</td>\n",
       "      <td>24.0</td>\n",
       "    </tr>\n",
       "  </tbody>\n",
       "</table>\n",
       "</div>"
      ],
      "text/plain": [
       "       month  key  user_id  age churn_date              city first_name  \\\n",
       "0 2018-01-01    1     1005   67 2018-12-31  Набережные Челны   Афанасий   \n",
       "1 2018-01-01    1     1032   31 2018-12-31         Ульяновск       Инна   \n",
       "2 2018-01-01    1     1045   48 2018-12-31          Улан-Удэ     Джемма   \n",
       "3 2018-01-01    1     1055   39 2018-12-31            Казань      Луиза   \n",
       "4 2018-01-01    1     1071   20 2018-08-31              Омск     Гектор   \n",
       "\n",
       "   last_name   reg_date tariff  reg_month  calls_duration  calls_count  \n",
       "0     Горлов 2018-01-25  smart 2018-01-01            95.0         15.0  \n",
       "1  Игнатьева 2018-01-04  smart 2018-01-01           380.0         61.0  \n",
       "2   Карасева 2018-01-30  smart 2018-01-01             9.0          1.0  \n",
       "3   Березина 2018-01-02  smart 2018-01-01           551.0         64.0  \n",
       "4    Чумаков 2018-01-09  smart 2018-01-01           194.0         24.0  "
      ]
     },
     "execution_count": 48,
     "metadata": {},
     "output_type": "execute_result"
    }
   ],
   "source": [
    "users_all_months = users_all_months.merge(user_calls, on = ['user_id', 'month'], how = 'outer')\n",
    "users_all_months.head()"
   ]
  },
  {
   "cell_type": "markdown",
   "metadata": {},
   "source": [
    "После присоединения таблиц, видим, что в присоединенных столбцах присутствуют пропущенные значения:\n",
    "- в столбце 'calls_duration' пропуски там где не было потрачено тарифных минут\n",
    "- в столбце 'calls_count' пропуски там где не было звонков\n",
    "\n",
    "Заменим пропущенные значения на \"0\" и сделаем формат целочисленным:"
   ]
  },
  {
   "cell_type": "code",
   "execution_count": 49,
   "metadata": {},
   "outputs": [],
   "source": [
    "users_all_months['calls_duration'] = users_all_months['calls_duration'].fillna(0).astype('int')\n",
    "users_all_months['calls_count'] = users_all_months['calls_count'].fillna(0).astype('int')"
   ]
  },
  {
   "cell_type": "code",
   "execution_count": 50,
   "metadata": {},
   "outputs": [
    {
     "name": "stdout",
     "output_type": "stream",
     "text": [
      "<class 'pandas.core.frame.DataFrame'>\n",
      "Int64Index: 3216 entries, 0 to 3215\n",
      "Data columns (total 13 columns):\n",
      "month             3216 non-null datetime64[ns]\n",
      "key               3216 non-null int64\n",
      "user_id           3216 non-null int64\n",
      "age               3216 non-null int64\n",
      "churn_date        3216 non-null datetime64[ns]\n",
      "city              3216 non-null object\n",
      "first_name        3216 non-null object\n",
      "last_name         3216 non-null object\n",
      "reg_date          3216 non-null datetime64[ns]\n",
      "tariff            3216 non-null object\n",
      "reg_month         3216 non-null datetime64[ns]\n",
      "calls_duration    3216 non-null int64\n",
      "calls_count       3216 non-null int64\n",
      "dtypes: datetime64[ns](4), int64(5), object(4)\n",
      "memory usage: 351.8+ KB\n"
     ]
    }
   ],
   "source": [
    "users_all_months.info()"
   ]
  },
  {
   "cell_type": "code",
   "execution_count": 51,
   "metadata": {},
   "outputs": [
    {
     "data": {
      "text/plain": [
       "1450301"
      ]
     },
     "execution_count": 51,
     "metadata": {},
     "output_type": "execute_result"
    }
   ],
   "source": [
    "users_all_months['calls_duration'].sum()"
   ]
  },
  {
   "cell_type": "markdown",
   "metadata": {},
   "source": [
    "Проверяем сумму количества минут после всех преобразований. Оно совпадает с изначальной, значин в процессе предобработки никаких звонков потеряно не было."
   ]
  },
  {
   "cell_type": "markdown",
   "metadata": {},
   "source": [
    "#### 2.2 Предобработка данных в файле с информацией о сообщениях"
   ]
  },
  {
   "cell_type": "code",
   "execution_count": 52,
   "metadata": {},
   "outputs": [
    {
     "data": {
      "text/html": [
       "<div>\n",
       "<style scoped>\n",
       "    .dataframe tbody tr th:only-of-type {\n",
       "        vertical-align: middle;\n",
       "    }\n",
       "\n",
       "    .dataframe tbody tr th {\n",
       "        vertical-align: top;\n",
       "    }\n",
       "\n",
       "    .dataframe thead th {\n",
       "        text-align: right;\n",
       "    }\n",
       "</style>\n",
       "<table border=\"1\" class=\"dataframe\">\n",
       "  <thead>\n",
       "    <tr style=\"text-align: right;\">\n",
       "      <th></th>\n",
       "      <th>id</th>\n",
       "      <th>message_date</th>\n",
       "      <th>user_id</th>\n",
       "    </tr>\n",
       "  </thead>\n",
       "  <tbody>\n",
       "    <tr>\n",
       "      <td>0</td>\n",
       "      <td>1000_0</td>\n",
       "      <td>2018-06-27</td>\n",
       "      <td>1000</td>\n",
       "    </tr>\n",
       "    <tr>\n",
       "      <td>1</td>\n",
       "      <td>1000_1</td>\n",
       "      <td>2018-10-08</td>\n",
       "      <td>1000</td>\n",
       "    </tr>\n",
       "    <tr>\n",
       "      <td>2</td>\n",
       "      <td>1000_2</td>\n",
       "      <td>2018-08-04</td>\n",
       "      <td>1000</td>\n",
       "    </tr>\n",
       "    <tr>\n",
       "      <td>3</td>\n",
       "      <td>1000_3</td>\n",
       "      <td>2018-06-16</td>\n",
       "      <td>1000</td>\n",
       "    </tr>\n",
       "    <tr>\n",
       "      <td>4</td>\n",
       "      <td>1000_4</td>\n",
       "      <td>2018-12-05</td>\n",
       "      <td>1000</td>\n",
       "    </tr>\n",
       "    <tr>\n",
       "      <td>...</td>\n",
       "      <td>...</td>\n",
       "      <td>...</td>\n",
       "      <td>...</td>\n",
       "    </tr>\n",
       "    <tr>\n",
       "      <td>123031</td>\n",
       "      <td>1499_179</td>\n",
       "      <td>2018-12-12</td>\n",
       "      <td>1499</td>\n",
       "    </tr>\n",
       "    <tr>\n",
       "      <td>123032</td>\n",
       "      <td>1499_180</td>\n",
       "      <td>2018-09-28</td>\n",
       "      <td>1499</td>\n",
       "    </tr>\n",
       "    <tr>\n",
       "      <td>123033</td>\n",
       "      <td>1499_181</td>\n",
       "      <td>2018-09-27</td>\n",
       "      <td>1499</td>\n",
       "    </tr>\n",
       "    <tr>\n",
       "      <td>123034</td>\n",
       "      <td>1499_182</td>\n",
       "      <td>2018-11-15</td>\n",
       "      <td>1499</td>\n",
       "    </tr>\n",
       "    <tr>\n",
       "      <td>123035</td>\n",
       "      <td>1499_183</td>\n",
       "      <td>2018-11-16</td>\n",
       "      <td>1499</td>\n",
       "    </tr>\n",
       "  </tbody>\n",
       "</table>\n",
       "<p>123036 rows × 3 columns</p>\n",
       "</div>"
      ],
      "text/plain": [
       "              id message_date  user_id\n",
       "0         1000_0   2018-06-27     1000\n",
       "1         1000_1   2018-10-08     1000\n",
       "2         1000_2   2018-08-04     1000\n",
       "3         1000_3   2018-06-16     1000\n",
       "4         1000_4   2018-12-05     1000\n",
       "...          ...          ...      ...\n",
       "123031  1499_179   2018-12-12     1499\n",
       "123032  1499_180   2018-09-28     1499\n",
       "123033  1499_181   2018-09-27     1499\n",
       "123034  1499_182   2018-11-15     1499\n",
       "123035  1499_183   2018-11-16     1499\n",
       "\n",
       "[123036 rows x 3 columns]"
      ]
     },
     "execution_count": 52,
     "metadata": {},
     "output_type": "execute_result"
    }
   ],
   "source": [
    "df_messages"
   ]
  },
  {
   "cell_type": "markdown",
   "metadata": {},
   "source": [
    "Добавить столбец с датой округленной до первого дня каждого месяца"
   ]
  },
  {
   "cell_type": "code",
   "execution_count": 53,
   "metadata": {},
   "outputs": [],
   "source": [
    "user_messages = df_messages['month'] = df_messages['message_date'].values.astype('datetime64[M]')"
   ]
  },
  {
   "cell_type": "markdown",
   "metadata": {},
   "source": [
    "Необходимо сгрупировать данные, и на выход получить ежемесячные данные по каждому абоненту с количеством отправленных сообщений:"
   ]
  },
  {
   "cell_type": "code",
   "execution_count": 54,
   "metadata": {},
   "outputs": [],
   "source": [
    "user_messages = df_messages.groupby(['user_id', 'month'])\\\n",
    "                    .agg({'id': 'count'})\\\n",
    "                    .reset_index()\\\n",
    "                    .rename(columns = {'id': 'messages_count'})"
   ]
  },
  {
   "cell_type": "markdown",
   "metadata": {},
   "source": [
    "Далее присоеденим сгруппированные данные по столбцам к основной таблице с клиентами:"
   ]
  },
  {
   "cell_type": "code",
   "execution_count": 55,
   "metadata": {},
   "outputs": [],
   "source": [
    "users_all_months = users_all_months.merge(user_messages, on = ['user_id', 'month'], how = 'outer')"
   ]
  },
  {
   "cell_type": "code",
   "execution_count": 56,
   "metadata": {},
   "outputs": [
    {
     "name": "stdout",
     "output_type": "stream",
     "text": [
      "<class 'pandas.core.frame.DataFrame'>\n",
      "Int64Index: 3216 entries, 0 to 3215\n",
      "Data columns (total 14 columns):\n",
      "month             3216 non-null datetime64[ns]\n",
      "key               3216 non-null int64\n",
      "user_id           3216 non-null int64\n",
      "age               3216 non-null int64\n",
      "churn_date        3216 non-null datetime64[ns]\n",
      "city              3216 non-null object\n",
      "first_name        3216 non-null object\n",
      "last_name         3216 non-null object\n",
      "reg_date          3216 non-null datetime64[ns]\n",
      "tariff            3216 non-null object\n",
      "reg_month         3216 non-null datetime64[ns]\n",
      "calls_duration    3216 non-null int64\n",
      "calls_count       3216 non-null int64\n",
      "messages_count    2717 non-null float64\n",
      "dtypes: datetime64[ns](4), float64(1), int64(5), object(4)\n",
      "memory usage: 376.9+ KB\n"
     ]
    }
   ],
   "source": [
    "users_all_months.info()"
   ]
  },
  {
   "cell_type": "markdown",
   "metadata": {},
   "source": [
    "Заменим пропущенные значения на \"0\" и сделаем формат целочисленным:"
   ]
  },
  {
   "cell_type": "code",
   "execution_count": 57,
   "metadata": {},
   "outputs": [],
   "source": [
    "users_all_months['messages_count'] = users_all_months['messages_count'].fillna('0').astype('int')"
   ]
  },
  {
   "cell_type": "code",
   "execution_count": 58,
   "metadata": {},
   "outputs": [
    {
     "data": {
      "text/plain": [
       "123036"
      ]
     },
     "execution_count": 58,
     "metadata": {},
     "output_type": "execute_result"
    }
   ],
   "source": [
    "users_all_months['messages_count'].sum()"
   ]
  },
  {
   "cell_type": "markdown",
   "metadata": {},
   "source": [
    "Проверяем сумму сообщений после всех преобразований. Оно совпадает с изначальной, значин в процессе предобработки никаких сообщений потеряно не было."
   ]
  },
  {
   "cell_type": "markdown",
   "metadata": {},
   "source": [
    "#### 2.3 Предобработка данных в файле с информацией о интернет трафике"
   ]
  },
  {
   "cell_type": "code",
   "execution_count": 59,
   "metadata": {},
   "outputs": [
    {
     "data": {
      "text/html": [
       "<div>\n",
       "<style scoped>\n",
       "    .dataframe tbody tr th:only-of-type {\n",
       "        vertical-align: middle;\n",
       "    }\n",
       "\n",
       "    .dataframe tbody tr th {\n",
       "        vertical-align: top;\n",
       "    }\n",
       "\n",
       "    .dataframe thead th {\n",
       "        text-align: right;\n",
       "    }\n",
       "</style>\n",
       "<table border=\"1\" class=\"dataframe\">\n",
       "  <thead>\n",
       "    <tr style=\"text-align: right;\">\n",
       "      <th></th>\n",
       "      <th>Unnamed: 0</th>\n",
       "      <th>id</th>\n",
       "      <th>mb_used</th>\n",
       "      <th>session_date</th>\n",
       "      <th>user_id</th>\n",
       "    </tr>\n",
       "  </thead>\n",
       "  <tbody>\n",
       "    <tr>\n",
       "      <td>0</td>\n",
       "      <td>0</td>\n",
       "      <td>1000_0</td>\n",
       "      <td>112.95</td>\n",
       "      <td>2018-11-25</td>\n",
       "      <td>1000</td>\n",
       "    </tr>\n",
       "    <tr>\n",
       "      <td>1</td>\n",
       "      <td>1</td>\n",
       "      <td>1000_1</td>\n",
       "      <td>1052.81</td>\n",
       "      <td>2018-09-07</td>\n",
       "      <td>1000</td>\n",
       "    </tr>\n",
       "    <tr>\n",
       "      <td>2</td>\n",
       "      <td>2</td>\n",
       "      <td>1000_2</td>\n",
       "      <td>1197.26</td>\n",
       "      <td>2018-06-25</td>\n",
       "      <td>1000</td>\n",
       "    </tr>\n",
       "    <tr>\n",
       "      <td>3</td>\n",
       "      <td>3</td>\n",
       "      <td>1000_3</td>\n",
       "      <td>550.27</td>\n",
       "      <td>2018-08-22</td>\n",
       "      <td>1000</td>\n",
       "    </tr>\n",
       "    <tr>\n",
       "      <td>4</td>\n",
       "      <td>4</td>\n",
       "      <td>1000_4</td>\n",
       "      <td>302.56</td>\n",
       "      <td>2018-09-24</td>\n",
       "      <td>1000</td>\n",
       "    </tr>\n",
       "    <tr>\n",
       "      <td>...</td>\n",
       "      <td>...</td>\n",
       "      <td>...</td>\n",
       "      <td>...</td>\n",
       "      <td>...</td>\n",
       "      <td>...</td>\n",
       "    </tr>\n",
       "    <tr>\n",
       "      <td>149391</td>\n",
       "      <td>149391</td>\n",
       "      <td>1499_152</td>\n",
       "      <td>318.90</td>\n",
       "      <td>2018-10-03</td>\n",
       "      <td>1499</td>\n",
       "    </tr>\n",
       "    <tr>\n",
       "      <td>149392</td>\n",
       "      <td>149392</td>\n",
       "      <td>1499_153</td>\n",
       "      <td>490.13</td>\n",
       "      <td>2018-12-14</td>\n",
       "      <td>1499</td>\n",
       "    </tr>\n",
       "    <tr>\n",
       "      <td>149393</td>\n",
       "      <td>149393</td>\n",
       "      <td>1499_154</td>\n",
       "      <td>0.00</td>\n",
       "      <td>2018-10-27</td>\n",
       "      <td>1499</td>\n",
       "    </tr>\n",
       "    <tr>\n",
       "      <td>149394</td>\n",
       "      <td>149394</td>\n",
       "      <td>1499_155</td>\n",
       "      <td>1246.32</td>\n",
       "      <td>2018-11-26</td>\n",
       "      <td>1499</td>\n",
       "    </tr>\n",
       "    <tr>\n",
       "      <td>149395</td>\n",
       "      <td>149395</td>\n",
       "      <td>1499_156</td>\n",
       "      <td>544.37</td>\n",
       "      <td>2018-10-26</td>\n",
       "      <td>1499</td>\n",
       "    </tr>\n",
       "  </tbody>\n",
       "</table>\n",
       "<p>149396 rows × 5 columns</p>\n",
       "</div>"
      ],
      "text/plain": [
       "        Unnamed: 0        id  mb_used session_date  user_id\n",
       "0                0    1000_0   112.95   2018-11-25     1000\n",
       "1                1    1000_1  1052.81   2018-09-07     1000\n",
       "2                2    1000_2  1197.26   2018-06-25     1000\n",
       "3                3    1000_3   550.27   2018-08-22     1000\n",
       "4                4    1000_4   302.56   2018-09-24     1000\n",
       "...            ...       ...      ...          ...      ...\n",
       "149391      149391  1499_152   318.90   2018-10-03     1499\n",
       "149392      149392  1499_153   490.13   2018-12-14     1499\n",
       "149393      149393  1499_154     0.00   2018-10-27     1499\n",
       "149394      149394  1499_155  1246.32   2018-11-26     1499\n",
       "149395      149395  1499_156   544.37   2018-10-26     1499\n",
       "\n",
       "[149396 rows x 5 columns]"
      ]
     },
     "execution_count": 59,
     "metadata": {},
     "output_type": "execute_result"
    }
   ],
   "source": [
    "df_traffic"
   ]
  },
  {
   "cell_type": "markdown",
   "metadata": {},
   "source": [
    "Добавить столбец с датой округленной до первого дня каждого месяца"
   ]
  },
  {
   "cell_type": "code",
   "execution_count": 60,
   "metadata": {},
   "outputs": [],
   "source": [
    "df_traffic['month'] = df_traffic['session_date'].values.astype('datetime64[M]')"
   ]
  },
  {
   "cell_type": "code",
   "execution_count": 61,
   "metadata": {},
   "outputs": [
    {
     "data": {
      "text/plain": [
       "count    149396.000000\n",
       "mean        370.192426\n",
       "std         278.300951\n",
       "min           0.000000\n",
       "25%         138.187500\n",
       "50%         348.015000\n",
       "75%         559.552500\n",
       "max        1724.830000\n",
       "Name: mb_used, dtype: float64"
      ]
     },
     "execution_count": 61,
     "metadata": {},
     "output_type": "execute_result"
    },
    {
     "data": {
      "image/png": "[encoded data removed]",
      "text/plain": [
       "<Figure size 576x576 with 1 Axes>"
      ]
     },
     "metadata": {
      "needs_background": "light"
     },
     "output_type": "display_data"
    }
   ],
   "source": [
    "df_traffic.boxplot(column='mb_used', figsize=(8,8))\n",
    "df_traffic['mb_used'].describe()"
   ]
  },
  {
   "cell_type": "markdown",
   "metadata": {},
   "source": [
    "На графике видны отдельные выбросы, максимальный трафик за одну интернет сессию 1724 мб. Средней трафик (370 мб) не сильно отличается от медианного (348 мб), значит выбросов не так много, и они не сильно \"смещают\" данные."
   ]
  },
  {
   "cell_type": "code",
   "execution_count": 62,
   "metadata": {},
   "outputs": [
    {
     "data": {
      "text/plain": [
       "55369459"
      ]
     },
     "execution_count": 62,
     "metadata": {},
     "output_type": "execute_result"
    }
   ],
   "source": [
    "df_traffic['mb_used'] = df_traffic['mb_used'].apply(np.ceil).astype('int')\n",
    "df_traffic['mb_used'].sum()"
   ]
  },
  {
   "cell_type": "markdown",
   "metadata": {},
   "source": [
    "Округляем значения в столбце 'mb_used' вверх до целого числа.\n",
    "\n",
    "Теперь необходимо сгрупировать данные, и на выход получить ежемесячные данные по каждому абоненту с объемом израсходованного интернет-трафика:"
   ]
  },
  {
   "cell_type": "code",
   "execution_count": 63,
   "metadata": {},
   "outputs": [],
   "source": [
    "user_traffic = df_traffic.groupby(['user_id', 'month'])\\\n",
    "                    .agg({'mb_used': 'sum'})\\\n",
    "                    .reset_index()   "
   ]
  },
  {
   "cell_type": "code",
   "execution_count": 64,
   "metadata": {},
   "outputs": [
    {
     "name": "stdout",
     "output_type": "stream",
     "text": [
      "<class 'pandas.core.frame.DataFrame'>\n",
      "RangeIndex: 3203 entries, 0 to 3202\n",
      "Data columns (total 3 columns):\n",
      "user_id    3203 non-null int64\n",
      "month      3203 non-null datetime64[ns]\n",
      "mb_used    3203 non-null int64\n",
      "dtypes: datetime64[ns](1), int64(2)\n",
      "memory usage: 75.2 KB\n"
     ]
    }
   ],
   "source": [
    "user_traffic.info()"
   ]
  },
  {
   "cell_type": "markdown",
   "metadata": {},
   "source": [
    "Далее присоеденим сгруппированные данные по столбцам к основной таблице с клиентами:"
   ]
  },
  {
   "cell_type": "code",
   "execution_count": 65,
   "metadata": {},
   "outputs": [],
   "source": [
    "users_all_months = users_all_months.merge(user_traffic, on = ['user_id', 'month'], how = 'outer')"
   ]
  },
  {
   "cell_type": "code",
   "execution_count": 66,
   "metadata": {},
   "outputs": [
    {
     "name": "stdout",
     "output_type": "stream",
     "text": [
      "<class 'pandas.core.frame.DataFrame'>\n",
      "Int64Index: 3216 entries, 0 to 3215\n",
      "Data columns (total 15 columns):\n",
      "month             3216 non-null datetime64[ns]\n",
      "key               3216 non-null int64\n",
      "user_id           3216 non-null int64\n",
      "age               3216 non-null int64\n",
      "churn_date        3216 non-null datetime64[ns]\n",
      "city              3216 non-null object\n",
      "first_name        3216 non-null object\n",
      "last_name         3216 non-null object\n",
      "reg_date          3216 non-null datetime64[ns]\n",
      "tariff            3216 non-null object\n",
      "reg_month         3216 non-null datetime64[ns]\n",
      "calls_duration    3216 non-null int64\n",
      "calls_count       3216 non-null int64\n",
      "messages_count    3216 non-null int64\n",
      "mb_used           3203 non-null float64\n",
      "dtypes: datetime64[ns](4), float64(1), int64(6), object(4)\n",
      "memory usage: 402.0+ KB\n"
     ]
    }
   ],
   "source": [
    "users_all_months.info()"
   ]
  },
  {
   "cell_type": "markdown",
   "metadata": {},
   "source": [
    "Заменим пропущенные значения на \"0\" и сделаем формат целочисленным:"
   ]
  },
  {
   "cell_type": "code",
   "execution_count": 67,
   "metadata": {},
   "outputs": [],
   "source": [
    "users_all_months['mb_used'] = users_all_months['mb_used'].fillna('0').astype('int')"
   ]
  },
  {
   "cell_type": "code",
   "execution_count": 68,
   "metadata": {},
   "outputs": [
    {
     "data": {
      "text/plain": [
       "55369459"
      ]
     },
     "execution_count": 68,
     "metadata": {},
     "output_type": "execute_result"
    }
   ],
   "source": [
    "users_all_months['mb_used'].sum()"
   ]
  },
  {
   "cell_type": "markdown",
   "metadata": {},
   "source": [
    "Проверяем сумму израсходонного интернет трафика. Она совпадает с изначальной, значин в процессе предобработки никаких данных потеряно не было."
   ]
  },
  {
   "cell_type": "markdown",
   "metadata": {},
   "source": [
    "#### 2.3 Формирование общей сводной таблицы, расчет общего дохода"
   ]
  },
  {
   "cell_type": "markdown",
   "metadata": {},
   "source": [
    "Добавим информацию о тарифах в общую таблицу по каждому клиенту, как уникальный идентификатор будем использовать название тарифа:"
   ]
  },
  {
   "cell_type": "code",
   "execution_count": 69,
   "metadata": {},
   "outputs": [],
   "source": [
    "users_all_months = users_all_months.merge(df_tariffs, how='outer', left_on='tariff', right_on='tariff_name') # добавляем данные о тарифе для каждого абонента"
   ]
  },
  {
   "cell_type": "code",
   "execution_count": 70,
   "metadata": {},
   "outputs": [
    {
     "data": {
      "text/html": [
       "<div>\n",
       "<style scoped>\n",
       "    .dataframe tbody tr th:only-of-type {\n",
       "        vertical-align: middle;\n",
       "    }\n",
       "\n",
       "    .dataframe tbody tr th {\n",
       "        vertical-align: top;\n",
       "    }\n",
       "\n",
       "    .dataframe thead th {\n",
       "        text-align: right;\n",
       "    }\n",
       "</style>\n",
       "<table border=\"1\" class=\"dataframe\">\n",
       "  <thead>\n",
       "    <tr style=\"text-align: right;\">\n",
       "      <th></th>\n",
       "      <th>month</th>\n",
       "      <th>key</th>\n",
       "      <th>user_id</th>\n",
       "      <th>age</th>\n",
       "      <th>churn_date</th>\n",
       "      <th>city</th>\n",
       "      <th>first_name</th>\n",
       "      <th>last_name</th>\n",
       "      <th>reg_date</th>\n",
       "      <th>tariff</th>\n",
       "      <th>...</th>\n",
       "      <th>messages_count</th>\n",
       "      <th>mb_used</th>\n",
       "      <th>messages_included</th>\n",
       "      <th>mb_per_month_included</th>\n",
       "      <th>minutes_included</th>\n",
       "      <th>rub_monthly_fee</th>\n",
       "      <th>rub_per_gb</th>\n",
       "      <th>rub_per_message</th>\n",
       "      <th>rub_per_minute</th>\n",
       "      <th>tariff_name</th>\n",
       "    </tr>\n",
       "  </thead>\n",
       "  <tbody>\n",
       "    <tr>\n",
       "      <td>0</td>\n",
       "      <td>2018-01-01</td>\n",
       "      <td>1</td>\n",
       "      <td>1005</td>\n",
       "      <td>67</td>\n",
       "      <td>2018-12-31</td>\n",
       "      <td>Набережные Челны</td>\n",
       "      <td>Афанасий</td>\n",
       "      <td>Горлов</td>\n",
       "      <td>2018-01-25</td>\n",
       "      <td>smart</td>\n",
       "      <td>...</td>\n",
       "      <td>7</td>\n",
       "      <td>2730</td>\n",
       "      <td>50</td>\n",
       "      <td>15360</td>\n",
       "      <td>500</td>\n",
       "      <td>550</td>\n",
       "      <td>200</td>\n",
       "      <td>3</td>\n",
       "      <td>3</td>\n",
       "      <td>smart</td>\n",
       "    </tr>\n",
       "    <tr>\n",
       "      <td>1</td>\n",
       "      <td>2018-01-01</td>\n",
       "      <td>1</td>\n",
       "      <td>1032</td>\n",
       "      <td>31</td>\n",
       "      <td>2018-12-31</td>\n",
       "      <td>Ульяновск</td>\n",
       "      <td>Инна</td>\n",
       "      <td>Игнатьева</td>\n",
       "      <td>2018-01-04</td>\n",
       "      <td>smart</td>\n",
       "      <td>...</td>\n",
       "      <td>38</td>\n",
       "      <td>24147</td>\n",
       "      <td>50</td>\n",
       "      <td>15360</td>\n",
       "      <td>500</td>\n",
       "      <td>550</td>\n",
       "      <td>200</td>\n",
       "      <td>3</td>\n",
       "      <td>3</td>\n",
       "      <td>smart</td>\n",
       "    </tr>\n",
       "    <tr>\n",
       "      <td>2</td>\n",
       "      <td>2018-01-01</td>\n",
       "      <td>1</td>\n",
       "      <td>1045</td>\n",
       "      <td>48</td>\n",
       "      <td>2018-12-31</td>\n",
       "      <td>Улан-Удэ</td>\n",
       "      <td>Джемма</td>\n",
       "      <td>Карасева</td>\n",
       "      <td>2018-01-30</td>\n",
       "      <td>smart</td>\n",
       "      <td>...</td>\n",
       "      <td>5</td>\n",
       "      <td>2348</td>\n",
       "      <td>50</td>\n",
       "      <td>15360</td>\n",
       "      <td>500</td>\n",
       "      <td>550</td>\n",
       "      <td>200</td>\n",
       "      <td>3</td>\n",
       "      <td>3</td>\n",
       "      <td>smart</td>\n",
       "    </tr>\n",
       "    <tr>\n",
       "      <td>3</td>\n",
       "      <td>2018-01-01</td>\n",
       "      <td>1</td>\n",
       "      <td>1055</td>\n",
       "      <td>39</td>\n",
       "      <td>2018-12-31</td>\n",
       "      <td>Казань</td>\n",
       "      <td>Луиза</td>\n",
       "      <td>Березина</td>\n",
       "      <td>2018-01-02</td>\n",
       "      <td>smart</td>\n",
       "      <td>...</td>\n",
       "      <td>30</td>\n",
       "      <td>17111</td>\n",
       "      <td>50</td>\n",
       "      <td>15360</td>\n",
       "      <td>500</td>\n",
       "      <td>550</td>\n",
       "      <td>200</td>\n",
       "      <td>3</td>\n",
       "      <td>3</td>\n",
       "      <td>smart</td>\n",
       "    </tr>\n",
       "    <tr>\n",
       "      <td>4</td>\n",
       "      <td>2018-01-01</td>\n",
       "      <td>1</td>\n",
       "      <td>1071</td>\n",
       "      <td>20</td>\n",
       "      <td>2018-08-31</td>\n",
       "      <td>Омск</td>\n",
       "      <td>Гектор</td>\n",
       "      <td>Чумаков</td>\n",
       "      <td>2018-01-09</td>\n",
       "      <td>smart</td>\n",
       "      <td>...</td>\n",
       "      <td>16</td>\n",
       "      <td>15622</td>\n",
       "      <td>50</td>\n",
       "      <td>15360</td>\n",
       "      <td>500</td>\n",
       "      <td>550</td>\n",
       "      <td>200</td>\n",
       "      <td>3</td>\n",
       "      <td>3</td>\n",
       "      <td>smart</td>\n",
       "    </tr>\n",
       "    <tr>\n",
       "      <td>...</td>\n",
       "      <td>...</td>\n",
       "      <td>...</td>\n",
       "      <td>...</td>\n",
       "      <td>...</td>\n",
       "      <td>...</td>\n",
       "      <td>...</td>\n",
       "      <td>...</td>\n",
       "      <td>...</td>\n",
       "      <td>...</td>\n",
       "      <td>...</td>\n",
       "      <td>...</td>\n",
       "      <td>...</td>\n",
       "      <td>...</td>\n",
       "      <td>...</td>\n",
       "      <td>...</td>\n",
       "      <td>...</td>\n",
       "      <td>...</td>\n",
       "      <td>...</td>\n",
       "      <td>...</td>\n",
       "      <td>...</td>\n",
       "      <td>...</td>\n",
       "    </tr>\n",
       "    <tr>\n",
       "      <td>3211</td>\n",
       "      <td>2018-12-01</td>\n",
       "      <td>1</td>\n",
       "      <td>1476</td>\n",
       "      <td>50</td>\n",
       "      <td>2018-12-31</td>\n",
       "      <td>Москва</td>\n",
       "      <td>Валентина</td>\n",
       "      <td>Семенова</td>\n",
       "      <td>2018-04-30</td>\n",
       "      <td>ultra</td>\n",
       "      <td>...</td>\n",
       "      <td>11</td>\n",
       "      <td>14136</td>\n",
       "      <td>1000</td>\n",
       "      <td>30720</td>\n",
       "      <td>3000</td>\n",
       "      <td>1950</td>\n",
       "      <td>150</td>\n",
       "      <td>1</td>\n",
       "      <td>1</td>\n",
       "      <td>ultra</td>\n",
       "    </tr>\n",
       "    <tr>\n",
       "      <td>3212</td>\n",
       "      <td>2018-12-01</td>\n",
       "      <td>1</td>\n",
       "      <td>1485</td>\n",
       "      <td>34</td>\n",
       "      <td>2018-12-31</td>\n",
       "      <td>Киров</td>\n",
       "      <td>Таисия</td>\n",
       "      <td>Сухова</td>\n",
       "      <td>2018-12-29</td>\n",
       "      <td>ultra</td>\n",
       "      <td>...</td>\n",
       "      <td>155</td>\n",
       "      <td>23447</td>\n",
       "      <td>1000</td>\n",
       "      <td>30720</td>\n",
       "      <td>3000</td>\n",
       "      <td>1950</td>\n",
       "      <td>150</td>\n",
       "      <td>1</td>\n",
       "      <td>1</td>\n",
       "      <td>ultra</td>\n",
       "    </tr>\n",
       "    <tr>\n",
       "      <td>3213</td>\n",
       "      <td>2018-12-01</td>\n",
       "      <td>1</td>\n",
       "      <td>1491</td>\n",
       "      <td>56</td>\n",
       "      <td>2018-12-31</td>\n",
       "      <td>Челябинск</td>\n",
       "      <td>Радислав</td>\n",
       "      <td>Андрейкин</td>\n",
       "      <td>2018-04-25</td>\n",
       "      <td>ultra</td>\n",
       "      <td>...</td>\n",
       "      <td>51</td>\n",
       "      <td>22081</td>\n",
       "      <td>1000</td>\n",
       "      <td>30720</td>\n",
       "      <td>3000</td>\n",
       "      <td>1950</td>\n",
       "      <td>150</td>\n",
       "      <td>1</td>\n",
       "      <td>1</td>\n",
       "      <td>ultra</td>\n",
       "    </tr>\n",
       "    <tr>\n",
       "      <td>3214</td>\n",
       "      <td>2018-12-01</td>\n",
       "      <td>1</td>\n",
       "      <td>1493</td>\n",
       "      <td>71</td>\n",
       "      <td>2018-12-31</td>\n",
       "      <td>Красноярск</td>\n",
       "      <td>Таисия</td>\n",
       "      <td>Ахматулина</td>\n",
       "      <td>2018-11-24</td>\n",
       "      <td>ultra</td>\n",
       "      <td>...</td>\n",
       "      <td>78</td>\n",
       "      <td>42776</td>\n",
       "      <td>1000</td>\n",
       "      <td>30720</td>\n",
       "      <td>3000</td>\n",
       "      <td>1950</td>\n",
       "      <td>150</td>\n",
       "      <td>1</td>\n",
       "      <td>1</td>\n",
       "      <td>ultra</td>\n",
       "    </tr>\n",
       "    <tr>\n",
       "      <td>3215</td>\n",
       "      <td>2018-12-01</td>\n",
       "      <td>1</td>\n",
       "      <td>1495</td>\n",
       "      <td>65</td>\n",
       "      <td>2018-12-31</td>\n",
       "      <td>Иркутск</td>\n",
       "      <td>Авксентий</td>\n",
       "      <td>Фокин</td>\n",
       "      <td>2018-08-28</td>\n",
       "      <td>ultra</td>\n",
       "      <td>...</td>\n",
       "      <td>84</td>\n",
       "      <td>23450</td>\n",
       "      <td>1000</td>\n",
       "      <td>30720</td>\n",
       "      <td>3000</td>\n",
       "      <td>1950</td>\n",
       "      <td>150</td>\n",
       "      <td>1</td>\n",
       "      <td>1</td>\n",
       "      <td>ultra</td>\n",
       "    </tr>\n",
       "  </tbody>\n",
       "</table>\n",
       "<p>3216 rows × 23 columns</p>\n",
       "</div>"
      ],
      "text/plain": [
       "          month  key  user_id  age churn_date              city first_name  \\\n",
       "0    2018-01-01    1     1005   67 2018-12-31  Набережные Челны   Афанасий   \n",
       "1    2018-01-01    1     1032   31 2018-12-31         Ульяновск       Инна   \n",
       "2    2018-01-01    1     1045   48 2018-12-31          Улан-Удэ     Джемма   \n",
       "3    2018-01-01    1     1055   39 2018-12-31            Казань      Луиза   \n",
       "4    2018-01-01    1     1071   20 2018-08-31              Омск     Гектор   \n",
       "...         ...  ...      ...  ...        ...               ...        ...   \n",
       "3211 2018-12-01    1     1476   50 2018-12-31            Москва  Валентина   \n",
       "3212 2018-12-01    1     1485   34 2018-12-31             Киров     Таисия   \n",
       "3213 2018-12-01    1     1491   56 2018-12-31         Челябинск   Радислав   \n",
       "3214 2018-12-01    1     1493   71 2018-12-31        Красноярск     Таисия   \n",
       "3215 2018-12-01    1     1495   65 2018-12-31           Иркутск  Авксентий   \n",
       "\n",
       "       last_name   reg_date tariff  ... messages_count  mb_used  \\\n",
       "0         Горлов 2018-01-25  smart  ...              7     2730   \n",
       "1      Игнатьева 2018-01-04  smart  ...             38    24147   \n",
       "2       Карасева 2018-01-30  smart  ...              5     2348   \n",
       "3       Березина 2018-01-02  smart  ...             30    17111   \n",
       "4        Чумаков 2018-01-09  smart  ...             16    15622   \n",
       "...          ...        ...    ...  ...            ...      ...   \n",
       "3211    Семенова 2018-04-30  ultra  ...             11    14136   \n",
       "3212      Сухова 2018-12-29  ultra  ...            155    23447   \n",
       "3213   Андрейкин 2018-04-25  ultra  ...             51    22081   \n",
       "3214  Ахматулина 2018-11-24  ultra  ...             78    42776   \n",
       "3215       Фокин 2018-08-28  ultra  ...             84    23450   \n",
       "\n",
       "      messages_included  mb_per_month_included  minutes_included  \\\n",
       "0                    50                  15360               500   \n",
       "1                    50                  15360               500   \n",
       "2                    50                  15360               500   \n",
       "3                    50                  15360               500   \n",
       "4                    50                  15360               500   \n",
       "...                 ...                    ...               ...   \n",
       "3211               1000                  30720              3000   \n",
       "3212               1000                  30720              3000   \n",
       "3213               1000                  30720              3000   \n",
       "3214               1000                  30720              3000   \n",
       "3215               1000                  30720              3000   \n",
       "\n",
       "      rub_monthly_fee  rub_per_gb  rub_per_message  rub_per_minute  \\\n",
       "0                 550         200                3               3   \n",
       "1                 550         200                3               3   \n",
       "2                 550         200                3               3   \n",
       "3                 550         200                3               3   \n",
       "4                 550         200                3               3   \n",
       "...               ...         ...              ...             ...   \n",
       "3211             1950         150                1               1   \n",
       "3212             1950         150                1               1   \n",
       "3213             1950         150                1               1   \n",
       "3214             1950         150                1               1   \n",
       "3215             1950         150                1               1   \n",
       "\n",
       "      tariff_name  \n",
       "0           smart  \n",
       "1           smart  \n",
       "2           smart  \n",
       "3           smart  \n",
       "4           smart  \n",
       "...           ...  \n",
       "3211        ultra  \n",
       "3212        ultra  \n",
       "3213        ultra  \n",
       "3214        ultra  \n",
       "3215        ultra  \n",
       "\n",
       "[3216 rows x 23 columns]"
      ]
     },
     "execution_count": 70,
     "metadata": {},
     "output_type": "execute_result"
    }
   ],
   "source": [
    "users_all_months"
   ]
  },
  {
   "cell_type": "markdown",
   "metadata": {},
   "source": [
    "Теперь необходимо посчитать перерасход по каждой услуге (звонки, сообщения, интернет трафик)  по каждой услуге в каждом месяце:"
   ]
  },
  {
   "cell_type": "code",
   "execution_count": 71,
   "metadata": {},
   "outputs": [],
   "source": [
    "users_all_months['minutes_overrun'] = users_all_months['calls_duration'] - users_all_months['minutes_included']\n",
    "users_all_months['messages_overrun'] = users_all_months['messages_count'] - users_all_months['messages_included']\n",
    "users_all_months['mb_overrun'] = users_all_months['mb_used'] - users_all_months['mb_per_month_included']"
   ]
  },
  {
   "cell_type": "markdown",
   "metadata": {},
   "source": [
    "Напишем функцию которая посчитает и просумирует доход за перерасход по тарифу по параметра: звонков, сообщений, трафика"
   ]
  },
  {
   "cell_type": "code",
   "execution_count": 72,
   "metadata": {},
   "outputs": [],
   "source": [
    "def tariff_overran(row):\n",
    "    revenue_by_min = 0\n",
    "    revenue_by_messages = 0\n",
    "    revenue_mb = 0\n",
    "    if row['minutes_overrun']> 0:\n",
    "        revenue_by_min = row['minutes_overrun'] * row['rub_per_minute']\n",
    "    if row['messages_overrun'] > 0:\n",
    "        revenue_by_messages = row['messages_overrun'] * row['rub_per_message']\n",
    "    if row['mb_overrun'] >0:\n",
    "        revenue_mb = (row['mb_overrun'] / 1024) * row['rub_per_gb']\n",
    "    return revenue_by_min + revenue_by_messages + revenue_mb\n",
    "users_all_months['revenue'] = users_all_months.apply(tariff_overran, axis = 1) # добавим столбец с доходом по каждому клиенту"
   ]
  },
  {
   "cell_type": "markdown",
   "metadata": {},
   "source": [
    "Для получения полной картины по доходам осталось добавить ежемесячную плату по тарифам:"
   ]
  },
  {
   "cell_type": "code",
   "execution_count": 73,
   "metadata": {},
   "outputs": [
    {
     "data": {
      "text/html": [
       "<div>\n",
       "<style scoped>\n",
       "    .dataframe tbody tr th:only-of-type {\n",
       "        vertical-align: middle;\n",
       "    }\n",
       "\n",
       "    .dataframe tbody tr th {\n",
       "        vertical-align: top;\n",
       "    }\n",
       "\n",
       "    .dataframe thead th {\n",
       "        text-align: right;\n",
       "    }\n",
       "</style>\n",
       "<table border=\"1\" class=\"dataframe\">\n",
       "  <thead>\n",
       "    <tr style=\"text-align: right;\">\n",
       "      <th></th>\n",
       "      <th>month</th>\n",
       "      <th>key</th>\n",
       "      <th>user_id</th>\n",
       "      <th>age</th>\n",
       "      <th>churn_date</th>\n",
       "      <th>city</th>\n",
       "      <th>first_name</th>\n",
       "      <th>last_name</th>\n",
       "      <th>reg_date</th>\n",
       "      <th>tariff</th>\n",
       "      <th>...</th>\n",
       "      <th>minutes_included</th>\n",
       "      <th>rub_monthly_fee</th>\n",
       "      <th>rub_per_gb</th>\n",
       "      <th>rub_per_message</th>\n",
       "      <th>rub_per_minute</th>\n",
       "      <th>tariff_name</th>\n",
       "      <th>minutes_overrun</th>\n",
       "      <th>messages_overrun</th>\n",
       "      <th>mb_overrun</th>\n",
       "      <th>revenue</th>\n",
       "    </tr>\n",
       "  </thead>\n",
       "  <tbody>\n",
       "    <tr>\n",
       "      <td>0</td>\n",
       "      <td>2018-01-01</td>\n",
       "      <td>1</td>\n",
       "      <td>1005</td>\n",
       "      <td>67</td>\n",
       "      <td>2018-12-31</td>\n",
       "      <td>Набережные Челны</td>\n",
       "      <td>Афанасий</td>\n",
       "      <td>Горлов</td>\n",
       "      <td>2018-01-25</td>\n",
       "      <td>smart</td>\n",
       "      <td>...</td>\n",
       "      <td>500</td>\n",
       "      <td>550</td>\n",
       "      <td>200</td>\n",
       "      <td>3</td>\n",
       "      <td>3</td>\n",
       "      <td>smart</td>\n",
       "      <td>-405</td>\n",
       "      <td>-43</td>\n",
       "      <td>-12630</td>\n",
       "      <td>0.000000</td>\n",
       "    </tr>\n",
       "    <tr>\n",
       "      <td>1</td>\n",
       "      <td>2018-01-01</td>\n",
       "      <td>1</td>\n",
       "      <td>1032</td>\n",
       "      <td>31</td>\n",
       "      <td>2018-12-31</td>\n",
       "      <td>Ульяновск</td>\n",
       "      <td>Инна</td>\n",
       "      <td>Игнатьева</td>\n",
       "      <td>2018-01-04</td>\n",
       "      <td>smart</td>\n",
       "      <td>...</td>\n",
       "      <td>500</td>\n",
       "      <td>550</td>\n",
       "      <td>200</td>\n",
       "      <td>3</td>\n",
       "      <td>3</td>\n",
       "      <td>smart</td>\n",
       "      <td>-120</td>\n",
       "      <td>-12</td>\n",
       "      <td>8787</td>\n",
       "      <td>1716.210938</td>\n",
       "    </tr>\n",
       "    <tr>\n",
       "      <td>2</td>\n",
       "      <td>2018-01-01</td>\n",
       "      <td>1</td>\n",
       "      <td>1045</td>\n",
       "      <td>48</td>\n",
       "      <td>2018-12-31</td>\n",
       "      <td>Улан-Удэ</td>\n",
       "      <td>Джемма</td>\n",
       "      <td>Карасева</td>\n",
       "      <td>2018-01-30</td>\n",
       "      <td>smart</td>\n",
       "      <td>...</td>\n",
       "      <td>500</td>\n",
       "      <td>550</td>\n",
       "      <td>200</td>\n",
       "      <td>3</td>\n",
       "      <td>3</td>\n",
       "      <td>smart</td>\n",
       "      <td>-491</td>\n",
       "      <td>-45</td>\n",
       "      <td>-13012</td>\n",
       "      <td>0.000000</td>\n",
       "    </tr>\n",
       "    <tr>\n",
       "      <td>3</td>\n",
       "      <td>2018-01-01</td>\n",
       "      <td>1</td>\n",
       "      <td>1055</td>\n",
       "      <td>39</td>\n",
       "      <td>2018-12-31</td>\n",
       "      <td>Казань</td>\n",
       "      <td>Луиза</td>\n",
       "      <td>Березина</td>\n",
       "      <td>2018-01-02</td>\n",
       "      <td>smart</td>\n",
       "      <td>...</td>\n",
       "      <td>500</td>\n",
       "      <td>550</td>\n",
       "      <td>200</td>\n",
       "      <td>3</td>\n",
       "      <td>3</td>\n",
       "      <td>smart</td>\n",
       "      <td>51</td>\n",
       "      <td>-20</td>\n",
       "      <td>1751</td>\n",
       "      <td>494.992188</td>\n",
       "    </tr>\n",
       "    <tr>\n",
       "      <td>4</td>\n",
       "      <td>2018-01-01</td>\n",
       "      <td>1</td>\n",
       "      <td>1071</td>\n",
       "      <td>20</td>\n",
       "      <td>2018-08-31</td>\n",
       "      <td>Омск</td>\n",
       "      <td>Гектор</td>\n",
       "      <td>Чумаков</td>\n",
       "      <td>2018-01-09</td>\n",
       "      <td>smart</td>\n",
       "      <td>...</td>\n",
       "      <td>500</td>\n",
       "      <td>550</td>\n",
       "      <td>200</td>\n",
       "      <td>3</td>\n",
       "      <td>3</td>\n",
       "      <td>smart</td>\n",
       "      <td>-306</td>\n",
       "      <td>-34</td>\n",
       "      <td>262</td>\n",
       "      <td>51.171875</td>\n",
       "    </tr>\n",
       "    <tr>\n",
       "      <td>...</td>\n",
       "      <td>...</td>\n",
       "      <td>...</td>\n",
       "      <td>...</td>\n",
       "      <td>...</td>\n",
       "      <td>...</td>\n",
       "      <td>...</td>\n",
       "      <td>...</td>\n",
       "      <td>...</td>\n",
       "      <td>...</td>\n",
       "      <td>...</td>\n",
       "      <td>...</td>\n",
       "      <td>...</td>\n",
       "      <td>...</td>\n",
       "      <td>...</td>\n",
       "      <td>...</td>\n",
       "      <td>...</td>\n",
       "      <td>...</td>\n",
       "      <td>...</td>\n",
       "      <td>...</td>\n",
       "      <td>...</td>\n",
       "      <td>...</td>\n",
       "    </tr>\n",
       "    <tr>\n",
       "      <td>3211</td>\n",
       "      <td>2018-12-01</td>\n",
       "      <td>1</td>\n",
       "      <td>1476</td>\n",
       "      <td>50</td>\n",
       "      <td>2018-12-31</td>\n",
       "      <td>Москва</td>\n",
       "      <td>Валентина</td>\n",
       "      <td>Семенова</td>\n",
       "      <td>2018-04-30</td>\n",
       "      <td>ultra</td>\n",
       "      <td>...</td>\n",
       "      <td>3000</td>\n",
       "      <td>1950</td>\n",
       "      <td>150</td>\n",
       "      <td>1</td>\n",
       "      <td>1</td>\n",
       "      <td>ultra</td>\n",
       "      <td>-2412</td>\n",
       "      <td>-989</td>\n",
       "      <td>-16584</td>\n",
       "      <td>0.000000</td>\n",
       "    </tr>\n",
       "    <tr>\n",
       "      <td>3212</td>\n",
       "      <td>2018-12-01</td>\n",
       "      <td>1</td>\n",
       "      <td>1485</td>\n",
       "      <td>34</td>\n",
       "      <td>2018-12-31</td>\n",
       "      <td>Киров</td>\n",
       "      <td>Таисия</td>\n",
       "      <td>Сухова</td>\n",
       "      <td>2018-12-29</td>\n",
       "      <td>ultra</td>\n",
       "      <td>...</td>\n",
       "      <td>3000</td>\n",
       "      <td>1950</td>\n",
       "      <td>150</td>\n",
       "      <td>1</td>\n",
       "      <td>1</td>\n",
       "      <td>ultra</td>\n",
       "      <td>-2416</td>\n",
       "      <td>-845</td>\n",
       "      <td>-7273</td>\n",
       "      <td>0.000000</td>\n",
       "    </tr>\n",
       "    <tr>\n",
       "      <td>3213</td>\n",
       "      <td>2018-12-01</td>\n",
       "      <td>1</td>\n",
       "      <td>1491</td>\n",
       "      <td>56</td>\n",
       "      <td>2018-12-31</td>\n",
       "      <td>Челябинск</td>\n",
       "      <td>Радислав</td>\n",
       "      <td>Андрейкин</td>\n",
       "      <td>2018-04-25</td>\n",
       "      <td>ultra</td>\n",
       "      <td>...</td>\n",
       "      <td>3000</td>\n",
       "      <td>1950</td>\n",
       "      <td>150</td>\n",
       "      <td>1</td>\n",
       "      <td>1</td>\n",
       "      <td>ultra</td>\n",
       "      <td>-2326</td>\n",
       "      <td>-949</td>\n",
       "      <td>-8639</td>\n",
       "      <td>0.000000</td>\n",
       "    </tr>\n",
       "    <tr>\n",
       "      <td>3214</td>\n",
       "      <td>2018-12-01</td>\n",
       "      <td>1</td>\n",
       "      <td>1493</td>\n",
       "      <td>71</td>\n",
       "      <td>2018-12-31</td>\n",
       "      <td>Красноярск</td>\n",
       "      <td>Таисия</td>\n",
       "      <td>Ахматулина</td>\n",
       "      <td>2018-11-24</td>\n",
       "      <td>ultra</td>\n",
       "      <td>...</td>\n",
       "      <td>3000</td>\n",
       "      <td>1950</td>\n",
       "      <td>150</td>\n",
       "      <td>1</td>\n",
       "      <td>1</td>\n",
       "      <td>ultra</td>\n",
       "      <td>-2429</td>\n",
       "      <td>-922</td>\n",
       "      <td>12056</td>\n",
       "      <td>1766.015625</td>\n",
       "    </tr>\n",
       "    <tr>\n",
       "      <td>3215</td>\n",
       "      <td>2018-12-01</td>\n",
       "      <td>1</td>\n",
       "      <td>1495</td>\n",
       "      <td>65</td>\n",
       "      <td>2018-12-31</td>\n",
       "      <td>Иркутск</td>\n",
       "      <td>Авксентий</td>\n",
       "      <td>Фокин</td>\n",
       "      <td>2018-08-28</td>\n",
       "      <td>ultra</td>\n",
       "      <td>...</td>\n",
       "      <td>3000</td>\n",
       "      <td>1950</td>\n",
       "      <td>150</td>\n",
       "      <td>1</td>\n",
       "      <td>1</td>\n",
       "      <td>ultra</td>\n",
       "      <td>-1969</td>\n",
       "      <td>-916</td>\n",
       "      <td>-7270</td>\n",
       "      <td>0.000000</td>\n",
       "    </tr>\n",
       "  </tbody>\n",
       "</table>\n",
       "<p>3216 rows × 27 columns</p>\n",
       "</div>"
      ],
      "text/plain": [
       "          month  key  user_id  age churn_date              city first_name  \\\n",
       "0    2018-01-01    1     1005   67 2018-12-31  Набережные Челны   Афанасий   \n",
       "1    2018-01-01    1     1032   31 2018-12-31         Ульяновск       Инна   \n",
       "2    2018-01-01    1     1045   48 2018-12-31          Улан-Удэ     Джемма   \n",
       "3    2018-01-01    1     1055   39 2018-12-31            Казань      Луиза   \n",
       "4    2018-01-01    1     1071   20 2018-08-31              Омск     Гектор   \n",
       "...         ...  ...      ...  ...        ...               ...        ...   \n",
       "3211 2018-12-01    1     1476   50 2018-12-31            Москва  Валентина   \n",
       "3212 2018-12-01    1     1485   34 2018-12-31             Киров     Таисия   \n",
       "3213 2018-12-01    1     1491   56 2018-12-31         Челябинск   Радислав   \n",
       "3214 2018-12-01    1     1493   71 2018-12-31        Красноярск     Таисия   \n",
       "3215 2018-12-01    1     1495   65 2018-12-31           Иркутск  Авксентий   \n",
       "\n",
       "       last_name   reg_date tariff  ... minutes_included  rub_monthly_fee  \\\n",
       "0         Горлов 2018-01-25  smart  ...              500              550   \n",
       "1      Игнатьева 2018-01-04  smart  ...              500              550   \n",
       "2       Карасева 2018-01-30  smart  ...              500              550   \n",
       "3       Березина 2018-01-02  smart  ...              500              550   \n",
       "4        Чумаков 2018-01-09  smart  ...              500              550   \n",
       "...          ...        ...    ...  ...              ...              ...   \n",
       "3211    Семенова 2018-04-30  ultra  ...             3000             1950   \n",
       "3212      Сухова 2018-12-29  ultra  ...             3000             1950   \n",
       "3213   Андрейкин 2018-04-25  ultra  ...             3000             1950   \n",
       "3214  Ахматулина 2018-11-24  ultra  ...             3000             1950   \n",
       "3215       Фокин 2018-08-28  ultra  ...             3000             1950   \n",
       "\n",
       "      rub_per_gb  rub_per_message  rub_per_minute  tariff_name  \\\n",
       "0            200                3               3        smart   \n",
       "1            200                3               3        smart   \n",
       "2            200                3               3        smart   \n",
       "3            200                3               3        smart   \n",
       "4            200                3               3        smart   \n",
       "...          ...              ...             ...          ...   \n",
       "3211         150                1               1        ultra   \n",
       "3212         150                1               1        ultra   \n",
       "3213         150                1               1        ultra   \n",
       "3214         150                1               1        ultra   \n",
       "3215         150                1               1        ultra   \n",
       "\n",
       "      minutes_overrun  messages_overrun  mb_overrun      revenue  \n",
       "0                -405               -43      -12630     0.000000  \n",
       "1                -120               -12        8787  1716.210938  \n",
       "2                -491               -45      -13012     0.000000  \n",
       "3                  51               -20        1751   494.992188  \n",
       "4                -306               -34         262    51.171875  \n",
       "...               ...               ...         ...          ...  \n",
       "3211            -2412              -989      -16584     0.000000  \n",
       "3212            -2416              -845       -7273     0.000000  \n",
       "3213            -2326              -949       -8639     0.000000  \n",
       "3214            -2429              -922       12056  1766.015625  \n",
       "3215            -1969              -916       -7270     0.000000  \n",
       "\n",
       "[3216 rows x 27 columns]"
      ]
     },
     "execution_count": 73,
     "metadata": {},
     "output_type": "execute_result"
    }
   ],
   "source": [
    "users_all_months"
   ]
  },
  {
   "cell_type": "code",
   "execution_count": 74,
   "metadata": {},
   "outputs": [],
   "source": [
    "pd.options.display.max_columns = 200\n",
    "users_all_months['revenue'] = users_all_months['revenue'] + users_all_months['rub_monthly_fee']"
   ]
  },
  {
   "cell_type": "code",
   "execution_count": 75,
   "metadata": {},
   "outputs": [
    {
     "data": {
      "text/html": [
       "<div>\n",
       "<style scoped>\n",
       "    .dataframe tbody tr th:only-of-type {\n",
       "        vertical-align: middle;\n",
       "    }\n",
       "\n",
       "    .dataframe tbody tr th {\n",
       "        vertical-align: top;\n",
       "    }\n",
       "\n",
       "    .dataframe thead th {\n",
       "        text-align: right;\n",
       "    }\n",
       "</style>\n",
       "<table border=\"1\" class=\"dataframe\">\n",
       "  <thead>\n",
       "    <tr style=\"text-align: right;\">\n",
       "      <th></th>\n",
       "      <th>month</th>\n",
       "      <th>key</th>\n",
       "      <th>user_id</th>\n",
       "      <th>age</th>\n",
       "      <th>churn_date</th>\n",
       "      <th>city</th>\n",
       "      <th>first_name</th>\n",
       "      <th>last_name</th>\n",
       "      <th>reg_date</th>\n",
       "      <th>tariff</th>\n",
       "      <th>reg_month</th>\n",
       "      <th>calls_duration</th>\n",
       "      <th>calls_count</th>\n",
       "      <th>messages_count</th>\n",
       "      <th>mb_used</th>\n",
       "      <th>messages_included</th>\n",
       "      <th>mb_per_month_included</th>\n",
       "      <th>minutes_included</th>\n",
       "      <th>rub_monthly_fee</th>\n",
       "      <th>rub_per_gb</th>\n",
       "      <th>rub_per_message</th>\n",
       "      <th>rub_per_minute</th>\n",
       "      <th>tariff_name</th>\n",
       "      <th>minutes_overrun</th>\n",
       "      <th>messages_overrun</th>\n",
       "      <th>mb_overrun</th>\n",
       "      <th>revenue</th>\n",
       "    </tr>\n",
       "  </thead>\n",
       "  <tbody>\n",
       "    <tr>\n",
       "      <td>0</td>\n",
       "      <td>2018-01-01</td>\n",
       "      <td>1</td>\n",
       "      <td>1005</td>\n",
       "      <td>67</td>\n",
       "      <td>2018-12-31</td>\n",
       "      <td>Набережные Челны</td>\n",
       "      <td>Афанасий</td>\n",
       "      <td>Горлов</td>\n",
       "      <td>2018-01-25</td>\n",
       "      <td>smart</td>\n",
       "      <td>2018-01-01</td>\n",
       "      <td>95</td>\n",
       "      <td>15</td>\n",
       "      <td>7</td>\n",
       "      <td>2730</td>\n",
       "      <td>50</td>\n",
       "      <td>15360</td>\n",
       "      <td>500</td>\n",
       "      <td>550</td>\n",
       "      <td>200</td>\n",
       "      <td>3</td>\n",
       "      <td>3</td>\n",
       "      <td>smart</td>\n",
       "      <td>-405</td>\n",
       "      <td>-43</td>\n",
       "      <td>-12630</td>\n",
       "      <td>550.000000</td>\n",
       "    </tr>\n",
       "    <tr>\n",
       "      <td>1</td>\n",
       "      <td>2018-01-01</td>\n",
       "      <td>1</td>\n",
       "      <td>1032</td>\n",
       "      <td>31</td>\n",
       "      <td>2018-12-31</td>\n",
       "      <td>Ульяновск</td>\n",
       "      <td>Инна</td>\n",
       "      <td>Игнатьева</td>\n",
       "      <td>2018-01-04</td>\n",
       "      <td>smart</td>\n",
       "      <td>2018-01-01</td>\n",
       "      <td>380</td>\n",
       "      <td>61</td>\n",
       "      <td>38</td>\n",
       "      <td>24147</td>\n",
       "      <td>50</td>\n",
       "      <td>15360</td>\n",
       "      <td>500</td>\n",
       "      <td>550</td>\n",
       "      <td>200</td>\n",
       "      <td>3</td>\n",
       "      <td>3</td>\n",
       "      <td>smart</td>\n",
       "      <td>-120</td>\n",
       "      <td>-12</td>\n",
       "      <td>8787</td>\n",
       "      <td>2266.210938</td>\n",
       "    </tr>\n",
       "    <tr>\n",
       "      <td>2</td>\n",
       "      <td>2018-01-01</td>\n",
       "      <td>1</td>\n",
       "      <td>1045</td>\n",
       "      <td>48</td>\n",
       "      <td>2018-12-31</td>\n",
       "      <td>Улан-Удэ</td>\n",
       "      <td>Джемма</td>\n",
       "      <td>Карасева</td>\n",
       "      <td>2018-01-30</td>\n",
       "      <td>smart</td>\n",
       "      <td>2018-01-01</td>\n",
       "      <td>9</td>\n",
       "      <td>1</td>\n",
       "      <td>5</td>\n",
       "      <td>2348</td>\n",
       "      <td>50</td>\n",
       "      <td>15360</td>\n",
       "      <td>500</td>\n",
       "      <td>550</td>\n",
       "      <td>200</td>\n",
       "      <td>3</td>\n",
       "      <td>3</td>\n",
       "      <td>smart</td>\n",
       "      <td>-491</td>\n",
       "      <td>-45</td>\n",
       "      <td>-13012</td>\n",
       "      <td>550.000000</td>\n",
       "    </tr>\n",
       "    <tr>\n",
       "      <td>3</td>\n",
       "      <td>2018-01-01</td>\n",
       "      <td>1</td>\n",
       "      <td>1055</td>\n",
       "      <td>39</td>\n",
       "      <td>2018-12-31</td>\n",
       "      <td>Казань</td>\n",
       "      <td>Луиза</td>\n",
       "      <td>Березина</td>\n",
       "      <td>2018-01-02</td>\n",
       "      <td>smart</td>\n",
       "      <td>2018-01-01</td>\n",
       "      <td>551</td>\n",
       "      <td>64</td>\n",
       "      <td>30</td>\n",
       "      <td>17111</td>\n",
       "      <td>50</td>\n",
       "      <td>15360</td>\n",
       "      <td>500</td>\n",
       "      <td>550</td>\n",
       "      <td>200</td>\n",
       "      <td>3</td>\n",
       "      <td>3</td>\n",
       "      <td>smart</td>\n",
       "      <td>51</td>\n",
       "      <td>-20</td>\n",
       "      <td>1751</td>\n",
       "      <td>1044.992188</td>\n",
       "    </tr>\n",
       "    <tr>\n",
       "      <td>4</td>\n",
       "      <td>2018-01-01</td>\n",
       "      <td>1</td>\n",
       "      <td>1071</td>\n",
       "      <td>20</td>\n",
       "      <td>2018-08-31</td>\n",
       "      <td>Омск</td>\n",
       "      <td>Гектор</td>\n",
       "      <td>Чумаков</td>\n",
       "      <td>2018-01-09</td>\n",
       "      <td>smart</td>\n",
       "      <td>2018-01-01</td>\n",
       "      <td>194</td>\n",
       "      <td>24</td>\n",
       "      <td>16</td>\n",
       "      <td>15622</td>\n",
       "      <td>50</td>\n",
       "      <td>15360</td>\n",
       "      <td>500</td>\n",
       "      <td>550</td>\n",
       "      <td>200</td>\n",
       "      <td>3</td>\n",
       "      <td>3</td>\n",
       "      <td>smart</td>\n",
       "      <td>-306</td>\n",
       "      <td>-34</td>\n",
       "      <td>262</td>\n",
       "      <td>601.171875</td>\n",
       "    </tr>\n",
       "    <tr>\n",
       "      <td>...</td>\n",
       "      <td>...</td>\n",
       "      <td>...</td>\n",
       "      <td>...</td>\n",
       "      <td>...</td>\n",
       "      <td>...</td>\n",
       "      <td>...</td>\n",
       "      <td>...</td>\n",
       "      <td>...</td>\n",
       "      <td>...</td>\n",
       "      <td>...</td>\n",
       "      <td>...</td>\n",
       "      <td>...</td>\n",
       "      <td>...</td>\n",
       "      <td>...</td>\n",
       "      <td>...</td>\n",
       "      <td>...</td>\n",
       "      <td>...</td>\n",
       "      <td>...</td>\n",
       "      <td>...</td>\n",
       "      <td>...</td>\n",
       "      <td>...</td>\n",
       "      <td>...</td>\n",
       "      <td>...</td>\n",
       "      <td>...</td>\n",
       "      <td>...</td>\n",
       "      <td>...</td>\n",
       "      <td>...</td>\n",
       "    </tr>\n",
       "    <tr>\n",
       "      <td>3211</td>\n",
       "      <td>2018-12-01</td>\n",
       "      <td>1</td>\n",
       "      <td>1476</td>\n",
       "      <td>50</td>\n",
       "      <td>2018-12-31</td>\n",
       "      <td>Москва</td>\n",
       "      <td>Валентина</td>\n",
       "      <td>Семенова</td>\n",
       "      <td>2018-04-30</td>\n",
       "      <td>ultra</td>\n",
       "      <td>2018-04-01</td>\n",
       "      <td>588</td>\n",
       "      <td>81</td>\n",
       "      <td>11</td>\n",
       "      <td>14136</td>\n",
       "      <td>1000</td>\n",
       "      <td>30720</td>\n",
       "      <td>3000</td>\n",
       "      <td>1950</td>\n",
       "      <td>150</td>\n",
       "      <td>1</td>\n",
       "      <td>1</td>\n",
       "      <td>ultra</td>\n",
       "      <td>-2412</td>\n",
       "      <td>-989</td>\n",
       "      <td>-16584</td>\n",
       "      <td>1950.000000</td>\n",
       "    </tr>\n",
       "    <tr>\n",
       "      <td>3212</td>\n",
       "      <td>2018-12-01</td>\n",
       "      <td>1</td>\n",
       "      <td>1485</td>\n",
       "      <td>34</td>\n",
       "      <td>2018-12-31</td>\n",
       "      <td>Киров</td>\n",
       "      <td>Таисия</td>\n",
       "      <td>Сухова</td>\n",
       "      <td>2018-12-29</td>\n",
       "      <td>ultra</td>\n",
       "      <td>2018-12-01</td>\n",
       "      <td>584</td>\n",
       "      <td>94</td>\n",
       "      <td>155</td>\n",
       "      <td>23447</td>\n",
       "      <td>1000</td>\n",
       "      <td>30720</td>\n",
       "      <td>3000</td>\n",
       "      <td>1950</td>\n",
       "      <td>150</td>\n",
       "      <td>1</td>\n",
       "      <td>1</td>\n",
       "      <td>ultra</td>\n",
       "      <td>-2416</td>\n",
       "      <td>-845</td>\n",
       "      <td>-7273</td>\n",
       "      <td>1950.000000</td>\n",
       "    </tr>\n",
       "    <tr>\n",
       "      <td>3213</td>\n",
       "      <td>2018-12-01</td>\n",
       "      <td>1</td>\n",
       "      <td>1491</td>\n",
       "      <td>56</td>\n",
       "      <td>2018-12-31</td>\n",
       "      <td>Челябинск</td>\n",
       "      <td>Радислав</td>\n",
       "      <td>Андрейкин</td>\n",
       "      <td>2018-04-25</td>\n",
       "      <td>ultra</td>\n",
       "      <td>2018-04-01</td>\n",
       "      <td>674</td>\n",
       "      <td>90</td>\n",
       "      <td>51</td>\n",
       "      <td>22081</td>\n",
       "      <td>1000</td>\n",
       "      <td>30720</td>\n",
       "      <td>3000</td>\n",
       "      <td>1950</td>\n",
       "      <td>150</td>\n",
       "      <td>1</td>\n",
       "      <td>1</td>\n",
       "      <td>ultra</td>\n",
       "      <td>-2326</td>\n",
       "      <td>-949</td>\n",
       "      <td>-8639</td>\n",
       "      <td>1950.000000</td>\n",
       "    </tr>\n",
       "    <tr>\n",
       "      <td>3214</td>\n",
       "      <td>2018-12-01</td>\n",
       "      <td>1</td>\n",
       "      <td>1493</td>\n",
       "      <td>71</td>\n",
       "      <td>2018-12-31</td>\n",
       "      <td>Красноярск</td>\n",
       "      <td>Таисия</td>\n",
       "      <td>Ахматулина</td>\n",
       "      <td>2018-11-24</td>\n",
       "      <td>ultra</td>\n",
       "      <td>2018-11-01</td>\n",
       "      <td>571</td>\n",
       "      <td>84</td>\n",
       "      <td>78</td>\n",
       "      <td>42776</td>\n",
       "      <td>1000</td>\n",
       "      <td>30720</td>\n",
       "      <td>3000</td>\n",
       "      <td>1950</td>\n",
       "      <td>150</td>\n",
       "      <td>1</td>\n",
       "      <td>1</td>\n",
       "      <td>ultra</td>\n",
       "      <td>-2429</td>\n",
       "      <td>-922</td>\n",
       "      <td>12056</td>\n",
       "      <td>3716.015625</td>\n",
       "    </tr>\n",
       "    <tr>\n",
       "      <td>3215</td>\n",
       "      <td>2018-12-01</td>\n",
       "      <td>1</td>\n",
       "      <td>1495</td>\n",
       "      <td>65</td>\n",
       "      <td>2018-12-31</td>\n",
       "      <td>Иркутск</td>\n",
       "      <td>Авксентий</td>\n",
       "      <td>Фокин</td>\n",
       "      <td>2018-08-28</td>\n",
       "      <td>ultra</td>\n",
       "      <td>2018-08-01</td>\n",
       "      <td>1031</td>\n",
       "      <td>155</td>\n",
       "      <td>84</td>\n",
       "      <td>23450</td>\n",
       "      <td>1000</td>\n",
       "      <td>30720</td>\n",
       "      <td>3000</td>\n",
       "      <td>1950</td>\n",
       "      <td>150</td>\n",
       "      <td>1</td>\n",
       "      <td>1</td>\n",
       "      <td>ultra</td>\n",
       "      <td>-1969</td>\n",
       "      <td>-916</td>\n",
       "      <td>-7270</td>\n",
       "      <td>1950.000000</td>\n",
       "    </tr>\n",
       "  </tbody>\n",
       "</table>\n",
       "<p>3216 rows × 27 columns</p>\n",
       "</div>"
      ],
      "text/plain": [
       "          month  key  user_id  age churn_date              city first_name  \\\n",
       "0    2018-01-01    1     1005   67 2018-12-31  Набережные Челны   Афанасий   \n",
       "1    2018-01-01    1     1032   31 2018-12-31         Ульяновск       Инна   \n",
       "2    2018-01-01    1     1045   48 2018-12-31          Улан-Удэ     Джемма   \n",
       "3    2018-01-01    1     1055   39 2018-12-31            Казань      Луиза   \n",
       "4    2018-01-01    1     1071   20 2018-08-31              Омск     Гектор   \n",
       "...         ...  ...      ...  ...        ...               ...        ...   \n",
       "3211 2018-12-01    1     1476   50 2018-12-31            Москва  Валентина   \n",
       "3212 2018-12-01    1     1485   34 2018-12-31             Киров     Таисия   \n",
       "3213 2018-12-01    1     1491   56 2018-12-31         Челябинск   Радислав   \n",
       "3214 2018-12-01    1     1493   71 2018-12-31        Красноярск     Таисия   \n",
       "3215 2018-12-01    1     1495   65 2018-12-31           Иркутск  Авксентий   \n",
       "\n",
       "       last_name   reg_date tariff  reg_month  calls_duration  calls_count  \\\n",
       "0         Горлов 2018-01-25  smart 2018-01-01              95           15   \n",
       "1      Игнатьева 2018-01-04  smart 2018-01-01             380           61   \n",
       "2       Карасева 2018-01-30  smart 2018-01-01               9            1   \n",
       "3       Березина 2018-01-02  smart 2018-01-01             551           64   \n",
       "4        Чумаков 2018-01-09  smart 2018-01-01             194           24   \n",
       "...          ...        ...    ...        ...             ...          ...   \n",
       "3211    Семенова 2018-04-30  ultra 2018-04-01             588           81   \n",
       "3212      Сухова 2018-12-29  ultra 2018-12-01             584           94   \n",
       "3213   Андрейкин 2018-04-25  ultra 2018-04-01             674           90   \n",
       "3214  Ахматулина 2018-11-24  ultra 2018-11-01             571           84   \n",
       "3215       Фокин 2018-08-28  ultra 2018-08-01            1031          155   \n",
       "\n",
       "      messages_count  mb_used  messages_included  mb_per_month_included  \\\n",
       "0                  7     2730                 50                  15360   \n",
       "1                 38    24147                 50                  15360   \n",
       "2                  5     2348                 50                  15360   \n",
       "3                 30    17111                 50                  15360   \n",
       "4                 16    15622                 50                  15360   \n",
       "...              ...      ...                ...                    ...   \n",
       "3211              11    14136               1000                  30720   \n",
       "3212             155    23447               1000                  30720   \n",
       "3213              51    22081               1000                  30720   \n",
       "3214              78    42776               1000                  30720   \n",
       "3215              84    23450               1000                  30720   \n",
       "\n",
       "      minutes_included  rub_monthly_fee  rub_per_gb  rub_per_message  \\\n",
       "0                  500              550         200                3   \n",
       "1                  500              550         200                3   \n",
       "2                  500              550         200                3   \n",
       "3                  500              550         200                3   \n",
       "4                  500              550         200                3   \n",
       "...                ...              ...         ...              ...   \n",
       "3211              3000             1950         150                1   \n",
       "3212              3000             1950         150                1   \n",
       "3213              3000             1950         150                1   \n",
       "3214              3000             1950         150                1   \n",
       "3215              3000             1950         150                1   \n",
       "\n",
       "      rub_per_minute tariff_name  minutes_overrun  messages_overrun  \\\n",
       "0                  3       smart             -405               -43   \n",
       "1                  3       smart             -120               -12   \n",
       "2                  3       smart             -491               -45   \n",
       "3                  3       smart               51               -20   \n",
       "4                  3       smart             -306               -34   \n",
       "...              ...         ...              ...               ...   \n",
       "3211               1       ultra            -2412              -989   \n",
       "3212               1       ultra            -2416              -845   \n",
       "3213               1       ultra            -2326              -949   \n",
       "3214               1       ultra            -2429              -922   \n",
       "3215               1       ultra            -1969              -916   \n",
       "\n",
       "      mb_overrun      revenue  \n",
       "0         -12630   550.000000  \n",
       "1           8787  2266.210938  \n",
       "2         -13012   550.000000  \n",
       "3           1751  1044.992188  \n",
       "4            262   601.171875  \n",
       "...          ...          ...  \n",
       "3211      -16584  1950.000000  \n",
       "3212       -7273  1950.000000  \n",
       "3213       -8639  1950.000000  \n",
       "3214       12056  3716.015625  \n",
       "3215       -7270  1950.000000  \n",
       "\n",
       "[3216 rows x 27 columns]"
      ]
     },
     "execution_count": 75,
     "metadata": {},
     "output_type": "execute_result"
    }
   ],
   "source": [
    "users_all_months"
   ]
  },
  {
   "cell_type": "markdown",
   "metadata": {},
   "source": [
    "#### Вывод по предобработке и подготовке данных\n",
    "\n",
    "В процессе работы нам предстояло оптимизировать информацию из разных выгрузок, и сделать один датафрейм с полным спектром информации как по клиентам, так и по всем параметрам (тарифы, звонки, сообщения, интернет трафик). Для этого потребовалось:\n",
    "\n",
    "- Изменить форматы в столбцах с датами на: datetime64\n",
    "- Создать датафрейм в котором содержится информация по каждому клиенту за каждый месяц\n",
    "- Сгруппировать данные с разными параметрами (звонки, сообщения, интернет трафик) по каждому пользователю и количеству использования каждого параметра ежемесячно\n",
    "- Посмотрели на диаграмму размаха по параметрам: звонки и использованный интернет трафик\n",
    "- Посчитали доход от каждого абонента за каждый месяц (включая абонентскую плату и перерасход параметров по тарифу)\n",
    "\n",
    "В результате проделанной предобработки можно приступать к анализу данных."
   ]
  },
  {
   "cell_type": "markdown",
   "metadata": {},
   "source": [
    "### Шаг 3. Анализ данных <a id=\"step3\"></a>"
   ]
  },
  {
   "cell_type": "markdown",
   "metadata": {},
   "source": [
    "Опишем абонентов оператора исходя из полученной сводной таблицы по всем параметрам. Сделаем срезы по абонентам в зависимости от подключеного тарифа и рассмотрим сколько в месяц, в среднем, требуется:\n",
    "- минут разговора\n",
    "- количества сообщений\n",
    "- объема интернет трафика"
   ]
  },
  {
   "cell_type": "code",
   "execution_count": 76,
   "metadata": {},
   "outputs": [],
   "source": [
    "tariff_ultra = users_all_months.query('tariff == \"ultra\"') #срез по тарифу ультра\n",
    "tariff_smart = users_all_months[users_all_months['tariff'] == 'smart'] #срез по тарифу смарт"
   ]
  },
  {
   "cell_type": "markdown",
   "metadata": {},
   "source": [
    "#### 3.1 Тариф Ultra"
   ]
  },
  {
   "cell_type": "markdown",
   "metadata": {},
   "source": [
    "Построим гистограммы для тарифа ultra. Перед этим уберем нулевые значения в параметрах, хоть это и реальные наблюдения, но иначе они будут смещать гистограмму."
   ]
  },
  {
   "cell_type": "code",
   "execution_count": 77,
   "metadata": {},
   "outputs": [],
   "source": [
    "tariff_ultra = tariff_ultra.query('messages_count >= 1')\n",
    "tariff_ultra = tariff_ultra.query('calls_duration >= 1')"
   ]
  },
  {
   "cell_type": "code",
   "execution_count": 78,
   "metadata": {},
   "outputs": [
    {
     "data": {
      "text/html": [
       "<div>\n",
       "<style scoped>\n",
       "    .dataframe tbody tr th:only-of-type {\n",
       "        vertical-align: middle;\n",
       "    }\n",
       "\n",
       "    .dataframe tbody tr th {\n",
       "        vertical-align: top;\n",
       "    }\n",
       "\n",
       "    .dataframe thead th {\n",
       "        text-align: right;\n",
       "    }\n",
       "</style>\n",
       "<table border=\"1\" class=\"dataframe\">\n",
       "  <thead>\n",
       "    <tr style=\"text-align: right;\">\n",
       "      <th></th>\n",
       "      <th>month</th>\n",
       "      <th>key</th>\n",
       "      <th>user_id</th>\n",
       "      <th>age</th>\n",
       "      <th>churn_date</th>\n",
       "      <th>city</th>\n",
       "      <th>first_name</th>\n",
       "      <th>last_name</th>\n",
       "      <th>reg_date</th>\n",
       "      <th>tariff</th>\n",
       "      <th>reg_month</th>\n",
       "      <th>calls_duration</th>\n",
       "      <th>calls_count</th>\n",
       "      <th>messages_count</th>\n",
       "      <th>mb_used</th>\n",
       "      <th>messages_included</th>\n",
       "      <th>mb_per_month_included</th>\n",
       "      <th>minutes_included</th>\n",
       "      <th>rub_monthly_fee</th>\n",
       "      <th>rub_per_gb</th>\n",
       "      <th>rub_per_message</th>\n",
       "      <th>rub_per_minute</th>\n",
       "      <th>tariff_name</th>\n",
       "      <th>minutes_overrun</th>\n",
       "      <th>messages_overrun</th>\n",
       "      <th>mb_overrun</th>\n",
       "      <th>revenue</th>\n",
       "    </tr>\n",
       "  </thead>\n",
       "  <tbody>\n",
       "    <tr>\n",
       "      <td>2231</td>\n",
       "      <td>2018-01-01</td>\n",
       "      <td>1</td>\n",
       "      <td>1126</td>\n",
       "      <td>71</td>\n",
       "      <td>2018-12-31</td>\n",
       "      <td>Санкт-Петербург</td>\n",
       "      <td>Яна</td>\n",
       "      <td>Арсенкова</td>\n",
       "      <td>2018-01-19</td>\n",
       "      <td>ultra</td>\n",
       "      <td>2018-01-01</td>\n",
       "      <td>272</td>\n",
       "      <td>35</td>\n",
       "      <td>4</td>\n",
       "      <td>16377</td>\n",
       "      <td>1000</td>\n",
       "      <td>30720</td>\n",
       "      <td>3000</td>\n",
       "      <td>1950</td>\n",
       "      <td>150</td>\n",
       "      <td>1</td>\n",
       "      <td>1</td>\n",
       "      <td>ultra</td>\n",
       "      <td>-2728</td>\n",
       "      <td>-996</td>\n",
       "      <td>-14343</td>\n",
       "      <td>1950.000000</td>\n",
       "    </tr>\n",
       "    <tr>\n",
       "      <td>2232</td>\n",
       "      <td>2018-01-01</td>\n",
       "      <td>1</td>\n",
       "      <td>1168</td>\n",
       "      <td>28</td>\n",
       "      <td>2018-12-31</td>\n",
       "      <td>Кострома</td>\n",
       "      <td>Лилия</td>\n",
       "      <td>Ананьева</td>\n",
       "      <td>2018-01-24</td>\n",
       "      <td>ultra</td>\n",
       "      <td>2018-01-01</td>\n",
       "      <td>277</td>\n",
       "      <td>38</td>\n",
       "      <td>14</td>\n",
       "      <td>8161</td>\n",
       "      <td>1000</td>\n",
       "      <td>30720</td>\n",
       "      <td>3000</td>\n",
       "      <td>1950</td>\n",
       "      <td>150</td>\n",
       "      <td>1</td>\n",
       "      <td>1</td>\n",
       "      <td>ultra</td>\n",
       "      <td>-2723</td>\n",
       "      <td>-986</td>\n",
       "      <td>-22559</td>\n",
       "      <td>1950.000000</td>\n",
       "    </tr>\n",
       "    <tr>\n",
       "      <td>2234</td>\n",
       "      <td>2018-01-01</td>\n",
       "      <td>1</td>\n",
       "      <td>1375</td>\n",
       "      <td>53</td>\n",
       "      <td>2018-12-31</td>\n",
       "      <td>Пенза</td>\n",
       "      <td>Мария</td>\n",
       "      <td>Акимычева</td>\n",
       "      <td>2018-01-04</td>\n",
       "      <td>ultra</td>\n",
       "      <td>2018-01-01</td>\n",
       "      <td>852</td>\n",
       "      <td>126</td>\n",
       "      <td>75</td>\n",
       "      <td>14563</td>\n",
       "      <td>1000</td>\n",
       "      <td>30720</td>\n",
       "      <td>3000</td>\n",
       "      <td>1950</td>\n",
       "      <td>150</td>\n",
       "      <td>1</td>\n",
       "      <td>1</td>\n",
       "      <td>ultra</td>\n",
       "      <td>-2148</td>\n",
       "      <td>-925</td>\n",
       "      <td>-16157</td>\n",
       "      <td>1950.000000</td>\n",
       "    </tr>\n",
       "    <tr>\n",
       "      <td>2235</td>\n",
       "      <td>2018-01-01</td>\n",
       "      <td>1</td>\n",
       "      <td>1381</td>\n",
       "      <td>64</td>\n",
       "      <td>2018-12-31</td>\n",
       "      <td>Москва</td>\n",
       "      <td>Тамара</td>\n",
       "      <td>Серебрякова</td>\n",
       "      <td>2018-01-13</td>\n",
       "      <td>ultra</td>\n",
       "      <td>2018-01-01</td>\n",
       "      <td>382</td>\n",
       "      <td>59</td>\n",
       "      <td>32</td>\n",
       "      <td>14808</td>\n",
       "      <td>1000</td>\n",
       "      <td>30720</td>\n",
       "      <td>3000</td>\n",
       "      <td>1950</td>\n",
       "      <td>150</td>\n",
       "      <td>1</td>\n",
       "      <td>1</td>\n",
       "      <td>ultra</td>\n",
       "      <td>-2618</td>\n",
       "      <td>-968</td>\n",
       "      <td>-15912</td>\n",
       "      <td>1950.000000</td>\n",
       "    </tr>\n",
       "    <tr>\n",
       "      <td>2236</td>\n",
       "      <td>2018-01-01</td>\n",
       "      <td>1</td>\n",
       "      <td>1385</td>\n",
       "      <td>26</td>\n",
       "      <td>2018-12-31</td>\n",
       "      <td>Москва</td>\n",
       "      <td>Алиса</td>\n",
       "      <td>Дубинина</td>\n",
       "      <td>2018-01-13</td>\n",
       "      <td>ultra</td>\n",
       "      <td>2018-01-01</td>\n",
       "      <td>270</td>\n",
       "      <td>34</td>\n",
       "      <td>72</td>\n",
       "      <td>19297</td>\n",
       "      <td>1000</td>\n",
       "      <td>30720</td>\n",
       "      <td>3000</td>\n",
       "      <td>1950</td>\n",
       "      <td>150</td>\n",
       "      <td>1</td>\n",
       "      <td>1</td>\n",
       "      <td>ultra</td>\n",
       "      <td>-2730</td>\n",
       "      <td>-928</td>\n",
       "      <td>-11423</td>\n",
       "      <td>1950.000000</td>\n",
       "    </tr>\n",
       "    <tr>\n",
       "      <td>...</td>\n",
       "      <td>...</td>\n",
       "      <td>...</td>\n",
       "      <td>...</td>\n",
       "      <td>...</td>\n",
       "      <td>...</td>\n",
       "      <td>...</td>\n",
       "      <td>...</td>\n",
       "      <td>...</td>\n",
       "      <td>...</td>\n",
       "      <td>...</td>\n",
       "      <td>...</td>\n",
       "      <td>...</td>\n",
       "      <td>...</td>\n",
       "      <td>...</td>\n",
       "      <td>...</td>\n",
       "      <td>...</td>\n",
       "      <td>...</td>\n",
       "      <td>...</td>\n",
       "      <td>...</td>\n",
       "      <td>...</td>\n",
       "      <td>...</td>\n",
       "      <td>...</td>\n",
       "      <td>...</td>\n",
       "      <td>...</td>\n",
       "      <td>...</td>\n",
       "      <td>...</td>\n",
       "      <td>...</td>\n",
       "    </tr>\n",
       "    <tr>\n",
       "      <td>3211</td>\n",
       "      <td>2018-12-01</td>\n",
       "      <td>1</td>\n",
       "      <td>1476</td>\n",
       "      <td>50</td>\n",
       "      <td>2018-12-31</td>\n",
       "      <td>Москва</td>\n",
       "      <td>Валентина</td>\n",
       "      <td>Семенова</td>\n",
       "      <td>2018-04-30</td>\n",
       "      <td>ultra</td>\n",
       "      <td>2018-04-01</td>\n",
       "      <td>588</td>\n",
       "      <td>81</td>\n",
       "      <td>11</td>\n",
       "      <td>14136</td>\n",
       "      <td>1000</td>\n",
       "      <td>30720</td>\n",
       "      <td>3000</td>\n",
       "      <td>1950</td>\n",
       "      <td>150</td>\n",
       "      <td>1</td>\n",
       "      <td>1</td>\n",
       "      <td>ultra</td>\n",
       "      <td>-2412</td>\n",
       "      <td>-989</td>\n",
       "      <td>-16584</td>\n",
       "      <td>1950.000000</td>\n",
       "    </tr>\n",
       "    <tr>\n",
       "      <td>3212</td>\n",
       "      <td>2018-12-01</td>\n",
       "      <td>1</td>\n",
       "      <td>1485</td>\n",
       "      <td>34</td>\n",
       "      <td>2018-12-31</td>\n",
       "      <td>Киров</td>\n",
       "      <td>Таисия</td>\n",
       "      <td>Сухова</td>\n",
       "      <td>2018-12-29</td>\n",
       "      <td>ultra</td>\n",
       "      <td>2018-12-01</td>\n",
       "      <td>584</td>\n",
       "      <td>94</td>\n",
       "      <td>155</td>\n",
       "      <td>23447</td>\n",
       "      <td>1000</td>\n",
       "      <td>30720</td>\n",
       "      <td>3000</td>\n",
       "      <td>1950</td>\n",
       "      <td>150</td>\n",
       "      <td>1</td>\n",
       "      <td>1</td>\n",
       "      <td>ultra</td>\n",
       "      <td>-2416</td>\n",
       "      <td>-845</td>\n",
       "      <td>-7273</td>\n",
       "      <td>1950.000000</td>\n",
       "    </tr>\n",
       "    <tr>\n",
       "      <td>3213</td>\n",
       "      <td>2018-12-01</td>\n",
       "      <td>1</td>\n",
       "      <td>1491</td>\n",
       "      <td>56</td>\n",
       "      <td>2018-12-31</td>\n",
       "      <td>Челябинск</td>\n",
       "      <td>Радислав</td>\n",
       "      <td>Андрейкин</td>\n",
       "      <td>2018-04-25</td>\n",
       "      <td>ultra</td>\n",
       "      <td>2018-04-01</td>\n",
       "      <td>674</td>\n",
       "      <td>90</td>\n",
       "      <td>51</td>\n",
       "      <td>22081</td>\n",
       "      <td>1000</td>\n",
       "      <td>30720</td>\n",
       "      <td>3000</td>\n",
       "      <td>1950</td>\n",
       "      <td>150</td>\n",
       "      <td>1</td>\n",
       "      <td>1</td>\n",
       "      <td>ultra</td>\n",
       "      <td>-2326</td>\n",
       "      <td>-949</td>\n",
       "      <td>-8639</td>\n",
       "      <td>1950.000000</td>\n",
       "    </tr>\n",
       "    <tr>\n",
       "      <td>3214</td>\n",
       "      <td>2018-12-01</td>\n",
       "      <td>1</td>\n",
       "      <td>1493</td>\n",
       "      <td>71</td>\n",
       "      <td>2018-12-31</td>\n",
       "      <td>Красноярск</td>\n",
       "      <td>Таисия</td>\n",
       "      <td>Ахматулина</td>\n",
       "      <td>2018-11-24</td>\n",
       "      <td>ultra</td>\n",
       "      <td>2018-11-01</td>\n",
       "      <td>571</td>\n",
       "      <td>84</td>\n",
       "      <td>78</td>\n",
       "      <td>42776</td>\n",
       "      <td>1000</td>\n",
       "      <td>30720</td>\n",
       "      <td>3000</td>\n",
       "      <td>1950</td>\n",
       "      <td>150</td>\n",
       "      <td>1</td>\n",
       "      <td>1</td>\n",
       "      <td>ultra</td>\n",
       "      <td>-2429</td>\n",
       "      <td>-922</td>\n",
       "      <td>12056</td>\n",
       "      <td>3716.015625</td>\n",
       "    </tr>\n",
       "    <tr>\n",
       "      <td>3215</td>\n",
       "      <td>2018-12-01</td>\n",
       "      <td>1</td>\n",
       "      <td>1495</td>\n",
       "      <td>65</td>\n",
       "      <td>2018-12-31</td>\n",
       "      <td>Иркутск</td>\n",
       "      <td>Авксентий</td>\n",
       "      <td>Фокин</td>\n",
       "      <td>2018-08-28</td>\n",
       "      <td>ultra</td>\n",
       "      <td>2018-08-01</td>\n",
       "      <td>1031</td>\n",
       "      <td>155</td>\n",
       "      <td>84</td>\n",
       "      <td>23450</td>\n",
       "      <td>1000</td>\n",
       "      <td>30720</td>\n",
       "      <td>3000</td>\n",
       "      <td>1950</td>\n",
       "      <td>150</td>\n",
       "      <td>1</td>\n",
       "      <td>1</td>\n",
       "      <td>ultra</td>\n",
       "      <td>-1969</td>\n",
       "      <td>-916</td>\n",
       "      <td>-7270</td>\n",
       "      <td>1950.000000</td>\n",
       "    </tr>\n",
       "  </tbody>\n",
       "</table>\n",
       "<p>759 rows × 27 columns</p>\n",
       "</div>"
      ],
      "text/plain": [
       "          month  key  user_id  age churn_date             city first_name  \\\n",
       "2231 2018-01-01    1     1126   71 2018-12-31  Санкт-Петербург        Яна   \n",
       "2232 2018-01-01    1     1168   28 2018-12-31         Кострома      Лилия   \n",
       "2234 2018-01-01    1     1375   53 2018-12-31            Пенза      Мария   \n",
       "2235 2018-01-01    1     1381   64 2018-12-31           Москва     Тамара   \n",
       "2236 2018-01-01    1     1385   26 2018-12-31           Москва      Алиса   \n",
       "...         ...  ...      ...  ...        ...              ...        ...   \n",
       "3211 2018-12-01    1     1476   50 2018-12-31           Москва  Валентина   \n",
       "3212 2018-12-01    1     1485   34 2018-12-31            Киров     Таисия   \n",
       "3213 2018-12-01    1     1491   56 2018-12-31        Челябинск   Радислав   \n",
       "3214 2018-12-01    1     1493   71 2018-12-31       Красноярск     Таисия   \n",
       "3215 2018-12-01    1     1495   65 2018-12-31          Иркутск  Авксентий   \n",
       "\n",
       "        last_name   reg_date tariff  reg_month  calls_duration  calls_count  \\\n",
       "2231    Арсенкова 2018-01-19  ultra 2018-01-01             272           35   \n",
       "2232     Ананьева 2018-01-24  ultra 2018-01-01             277           38   \n",
       "2234    Акимычева 2018-01-04  ultra 2018-01-01             852          126   \n",
       "2235  Серебрякова 2018-01-13  ultra 2018-01-01             382           59   \n",
       "2236     Дубинина 2018-01-13  ultra 2018-01-01             270           34   \n",
       "...           ...        ...    ...        ...             ...          ...   \n",
       "3211     Семенова 2018-04-30  ultra 2018-04-01             588           81   \n",
       "3212       Сухова 2018-12-29  ultra 2018-12-01             584           94   \n",
       "3213    Андрейкин 2018-04-25  ultra 2018-04-01             674           90   \n",
       "3214   Ахматулина 2018-11-24  ultra 2018-11-01             571           84   \n",
       "3215        Фокин 2018-08-28  ultra 2018-08-01            1031          155   \n",
       "\n",
       "      messages_count  mb_used  messages_included  mb_per_month_included  \\\n",
       "2231               4    16377               1000                  30720   \n",
       "2232              14     8161               1000                  30720   \n",
       "2234              75    14563               1000                  30720   \n",
       "2235              32    14808               1000                  30720   \n",
       "2236              72    19297               1000                  30720   \n",
       "...              ...      ...                ...                    ...   \n",
       "3211              11    14136               1000                  30720   \n",
       "3212             155    23447               1000                  30720   \n",
       "3213              51    22081               1000                  30720   \n",
       "3214              78    42776               1000                  30720   \n",
       "3215              84    23450               1000                  30720   \n",
       "\n",
       "      minutes_included  rub_monthly_fee  rub_per_gb  rub_per_message  \\\n",
       "2231              3000             1950         150                1   \n",
       "2232              3000             1950         150                1   \n",
       "2234              3000             1950         150                1   \n",
       "2235              3000             1950         150                1   \n",
       "2236              3000             1950         150                1   \n",
       "...                ...              ...         ...              ...   \n",
       "3211              3000             1950         150                1   \n",
       "3212              3000             1950         150                1   \n",
       "3213              3000             1950         150                1   \n",
       "3214              3000             1950         150                1   \n",
       "3215              3000             1950         150                1   \n",
       "\n",
       "      rub_per_minute tariff_name  minutes_overrun  messages_overrun  \\\n",
       "2231               1       ultra            -2728              -996   \n",
       "2232               1       ultra            -2723              -986   \n",
       "2234               1       ultra            -2148              -925   \n",
       "2235               1       ultra            -2618              -968   \n",
       "2236               1       ultra            -2730              -928   \n",
       "...              ...         ...              ...               ...   \n",
       "3211               1       ultra            -2412              -989   \n",
       "3212               1       ultra            -2416              -845   \n",
       "3213               1       ultra            -2326              -949   \n",
       "3214               1       ultra            -2429              -922   \n",
       "3215               1       ultra            -1969              -916   \n",
       "\n",
       "      mb_overrun      revenue  \n",
       "2231      -14343  1950.000000  \n",
       "2232      -22559  1950.000000  \n",
       "2234      -16157  1950.000000  \n",
       "2235      -15912  1950.000000  \n",
       "2236      -11423  1950.000000  \n",
       "...          ...          ...  \n",
       "3211      -16584  1950.000000  \n",
       "3212       -7273  1950.000000  \n",
       "3213       -8639  1950.000000  \n",
       "3214       12056  3716.015625  \n",
       "3215       -7270  1950.000000  \n",
       "\n",
       "[759 rows x 27 columns]"
      ]
     },
     "execution_count": 78,
     "metadata": {},
     "output_type": "execute_result"
    }
   ],
   "source": [
    "tariff_ultra"
   ]
  },
  {
   "cell_type": "code",
   "execution_count": 79,
   "metadata": {},
   "outputs": [
    {
     "data": {
      "image/png": "[encoded data removed]",
      "text/plain": [
       "<Figure size 720x432 with 1 Axes>"
      ]
     },
     "metadata": {
      "needs_background": "light"
     },
     "output_type": "display_data"
    },
    {
     "data": {
      "image/png": "[encoded data removed]",
      "text/plain": [
       "<Figure size 720x432 with 1 Axes>"
      ]
     },
     "metadata": {
      "needs_background": "light"
     },
     "output_type": "display_data"
    },
    {
     "data": {
      "image/png": "[encoded data removed]",
      "text/plain": [
       "<Figure size 720x432 with 1 Axes>"
      ]
     },
     "metadata": {
      "needs_background": "light"
     },
     "output_type": "display_data"
    }
   ],
   "source": [
    "param_dict = {'calls_duration': {'bins': 50,  'title': 'Распределение времени звонков', 'label':'Потраченое время звонков'},\n",
    "'messages_count': {'bins': 50,  'title': 'Распределение отправленых сообщений', 'label':'Количество отправленных сообщений'},\n",
    "'mb_used' : {'bins': 50,  'title': 'Распределение использованого интернет трафика', 'label':'Количество израсходованного интернет трафика'}}\n",
    "for key, value in param_dict.items():\n",
    "    plt.figure(figsize=(10, 6))\n",
    "    tariff_ultra[key].hist(bins=value['bins'])\n",
    "    plt.title(value['title'])\n",
    "    plt.xlabel(value['label'])\n",
    "    plt.show()"
   ]
  },
  {
   "cell_type": "markdown",
   "metadata": {},
   "source": [
    "1) Гистограмма распределения времени звонков:\n",
    "\n",
    "Мы видим что значения на данной гистограмме распределены \"нормально\" или практически симметрично. Среднее время потраченных звонков 555. Но и есть отдельные выбросы в виде 1673. Если учесть что на этом тарифе в количество бесплатного времени разговора входит 1950, то никто из клиентов за год ни разу не превысил лимит. И судя по гистограмме в большинстве случаев клиенты не тратят даже половины лимитированных минут.\n",
    "\n",
    "2) Гистограмма распределения отправленных сообщений:\n",
    "\n",
    "Данная гистограмма идет по убывающей, чем больше сообщений было отправлено отдельным клиентов в месяц, тем меньше таких клиентов. В среднем отправляется 60 сообщений в месяц, при максимальном показателе за месяц в 224 сообщения. При этом в тариф входит 1000 сообщений. Есть единичные выбросы в виде 224 отправленных сообщений, но в целом клиенты не тратят и 80% от предоставленого трафика по этому парматеру.\n",
    "\n",
    "3) Гистограмма распределения использованного интернет трафика\n",
    "\n",
    "Также видно, что значения распределены \"нормально\". В среднем абоненты тратят 19344 мб трафика. На тарифе предусмотрено 30720 мб трафика (это видно и на резком спаде на гистограмме). Почти в 12% случаях абонент превышает лимит тарифа и переплачивает за использованные количества мегабайт. Интернет трафик это самый востребованый параметр на этом тарифе, об этом говорит и то, что это единственный параметр по которому нарушаются лимиты."
   ]
  },
  {
   "cell_type": "markdown",
   "metadata": {},
   "source": [
    "Взглянем на статистические показатели по каждому параметру:"
   ]
  },
  {
   "cell_type": "code",
   "execution_count": 80,
   "metadata": {},
   "outputs": [
    {
     "name": "stdout",
     "output_type": "stream",
     "text": [
      "Распределение потраченого времени звонков\n"
     ]
    },
    {
     "data": {
      "text/plain": [
       "count     759.000000\n",
       "mean      554.644269\n",
       "std       310.947628\n",
       "min         1.000000\n",
       "25%       326.000000\n",
       "50%       534.000000\n",
       "75%       759.500000\n",
       "max      1673.000000\n",
       "Name: calls_duration, dtype: float64"
      ]
     },
     "execution_count": 80,
     "metadata": {},
     "output_type": "execute_result"
    }
   ],
   "source": [
    "print('Распределение потраченого времени звонков')\n",
    "tariff_ultra['calls_duration'].describe()"
   ]
  },
  {
   "cell_type": "code",
   "execution_count": 81,
   "metadata": {},
   "outputs": [
    {
     "data": {
      "text/plain": [
       "count    759.000000\n",
       "mean      60.836627\n",
       "std       44.436961\n",
       "min        1.000000\n",
       "25%       25.000000\n",
       "50%       52.000000\n",
       "75%       87.000000\n",
       "max      224.000000\n",
       "Name: messages_count, dtype: float64"
      ]
     },
     "execution_count": 81,
     "metadata": {},
     "output_type": "execute_result"
    }
   ],
   "source": [
    "tariff_ultra['messages_count'].describe()"
   ]
  },
  {
   "cell_type": "code",
   "execution_count": 82,
   "metadata": {},
   "outputs": [
    {
     "data": {
      "text/plain": [
       "count      759.000000\n",
       "mean     19343.682477\n",
       "std       9847.832424\n",
       "min          0.000000\n",
       "25%      11588.000000\n",
       "50%      19374.000000\n",
       "75%      26808.000000\n",
       "max      49789.000000\n",
       "Name: mb_used, dtype: float64"
      ]
     },
     "execution_count": 82,
     "metadata": {},
     "output_type": "execute_result"
    }
   ],
   "source": [
    "tariff_ultra['mb_used'].describe()"
   ]
  },
  {
   "cell_type": "markdown",
   "metadata": {},
   "source": [
    "Напишем функцию которая на ввод будет принимать датафрейм с данными, считать дисперсию, стандартное отклонение по нужным параметрам, а на вывод выдавать доверительный интервал для 99% клиентов"
   ]
  },
  {
   "cell_type": "code",
   "execution_count": 83,
   "metadata": {},
   "outputs": [],
   "source": [
    "def intervals(data):\n",
    "    variance_calls_duration = np.var(data['calls_duration'], ddof=1)\n",
    "    variance_messages_count = np.var(data['messages_count'], ddof=1)\n",
    "    variance_mb_used = np.var(data['mb_used'], ddof=1)\n",
    "    \n",
    "    std_calls_duration = math.sqrt(variance_calls_duration)\n",
    "    std_messages_count = math.sqrt(variance_messages_count)\n",
    "    std_mb_used = math.sqrt(variance_mb_used)\n",
    "    \n",
    "    traffic_duration_line = tariff_ultra['mb_used'].mean() + std_mb_used * 3\n",
    "    calls_duration_line = tariff_ultra['calls_duration'].mean() + std_calls_duration * 3\n",
    "    messages_duration_line = tariff_ultra['messages_count'].mean() + std_messages_count * 3\n",
    "    \n",
    "    print('99% абонентов попадает в интервал:') \n",
    "    print('По количеству потраченых минут:', calls_duration_line) \n",
    "    print('По количеству отправленных сообщений:', messages_duration_line)\n",
    "    print('По количеству потраченого трафика:', traffic_duration_line)"
   ]
  },
  {
   "cell_type": "code",
   "execution_count": 84,
   "metadata": {},
   "outputs": [
    {
     "name": "stdout",
     "output_type": "stream",
     "text": [
      "99% абонентов попадает в интервал:\n",
      "По количеству потраченых минут: 1487.4871528674837\n",
      "По количеству отправленных сообщений: 194.14750865160633\n",
      "По количеству потраченого трафика: 48887.17974823565\n"
     ]
    }
   ],
   "source": [
    "intervals(tariff_ultra)"
   ]
  },
  {
   "cell_type": "code",
   "execution_count": 85,
   "metadata": {},
   "outputs": [
    {
     "name": "stdout",
     "output_type": "stream",
     "text": [
      "Процент случаев нарушения лимита на интернет трафик: 11.989459815546773\n"
     ]
    }
   ],
   "source": [
    "high_limit = tariff_ultra.query('mb_used > 30720')\n",
    "print('Процент случаев нарушения лимита на интернет трафик:', high_limit['mb_used'].count() / tariff_ultra['mb_used'].count() * 100) #смотрим в скольки процентах случаях превышался лимит тарифа"
   ]
  },
  {
   "cell_type": "markdown",
   "metadata": {},
   "source": [
    "Можно было бы предположить, что абоненты предпочитают звонить в мессенджерах, тем самым тратитя не время звонка по тарифу, а трафик в мб (поэтому трафик и уходит за лимит), но при нахождении корреляции видно, что взаимосвязи между интернет трафиком и потраченными минутами нет."
   ]
  },
  {
   "cell_type": "code",
   "execution_count": 86,
   "metadata": {},
   "outputs": [
    {
     "name": "stdout",
     "output_type": "stream",
     "text": [
      "Корреляция составляет: 0.19486971186643598\n"
     ]
    }
   ],
   "source": [
    "print('Корреляция составляет:', tariff_ultra['calls_duration'].corr(tariff_ultra['mb_used'])) # поиск взаимосвязи между параметрами "
   ]
  },
  {
   "cell_type": "markdown",
   "metadata": {},
   "source": [
    "#### Вывод по тарифу ultra\n",
    "\n",
    "Мы построили гистограммы частот по использованию услуг оператора на каждого абонента за весь период (календарный год). Выяснили, что единственный параметр который выходит за рамки лимита - это интернет трафик. Остальные параметры ни разу не привышали лимита в нашей выборке, а помимом этого имеют большой запас по предоставляемой услуге. \n",
    "Так же нашли доверительный интервал для 99% процентов случаев:\n",
    "- звонки: 1487.4871528674837 минут\n",
    "- сообщений: 194\n",
    "- интернет трафик: 48887 мб (этот интервал могут сильно смещать самые активные клиенты, ежемесячно заходящие за рамки лимита, потому что он превышает среднее значении более чем в два раза)"
   ]
  },
  {
   "cell_type": "markdown",
   "metadata": {},
   "source": [
    "#### Тариф Smart"
   ]
  },
  {
   "cell_type": "markdown",
   "metadata": {},
   "source": [
    "Этот тариф более бюджетный (с меньшей абонентской платой), с меньшими значениями лимита по праметрам. Уберем нулевые значения и построим гистограммы:"
   ]
  },
  {
   "cell_type": "code",
   "execution_count": 87,
   "metadata": {},
   "outputs": [],
   "source": [
    "tariff_smart = tariff_smart.query('messages_count >= 1')\n",
    "tariff_smart = tariff_smart.query('calls_duration >= 1')"
   ]
  },
  {
   "cell_type": "code",
   "execution_count": 88,
   "metadata": {},
   "outputs": [
    {
     "data": {
      "image/png": "[encoded data removed]",
      "text/plain": [
       "<Figure size 720x432 with 1 Axes>"
      ]
     },
     "metadata": {
      "needs_background": "light"
     },
     "output_type": "display_data"
    },
    {
     "data": {
      "image/png": "[encoded data removed]",
      "text/plain": [
       "<Figure size 720x432 with 1 Axes>"
      ]
     },
     "metadata": {
      "needs_background": "light"
     },
     "output_type": "display_data"
    },
    {
     "data": {
      "image/png": "[encoded data removed]",
      "text/plain": [
       "<Figure size 720x432 with 1 Axes>"
      ]
     },
     "metadata": {
      "needs_background": "light"
     },
     "output_type": "display_data"
    }
   ],
   "source": [
    "param_dict = {'calls_duration': {'bins': 50,  'title': 'Распределение времени звонков', 'label':'Потраченое время звонков'},\n",
    "'messages_count': {'bins': 50,  'title': 'Распределение отправленых сообщений', 'label':'Количество отправленных сообщений'},\n",
    "'mb_used' : {'bins': 50,  'title': 'Распределение использованого интернет трафика', 'label':'Количество израсходованного интернет трафика'}}\n",
    "for key, value in param_dict.items():\n",
    "    plt.figure(figsize=(10, 6))\n",
    "    tariff_smart[key].hist(bins=value['bins'])\n",
    "    plt.title(value['title'])\n",
    "    plt.xlabel(value['label'])\n",
    "    plt.show()"
   ]
  },
  {
   "cell_type": "markdown",
   "metadata": {},
   "source": [
    "1) Гистограмма распределения времени звонков:\n",
    " \n",
    "Значения на данной гистограмме распределены \"нормально\" или практически симметрично. Среднее время потраченных звонков 421 минут. Но и есть отдельные выбросы в виде 1435 минут. Если учесть что на этом тарифе в количество бесплатного времени разговора входит 500 минут, то можно увидеть частые выходы за лимит по разговорам. Пиковые значения как раз указывают на количество минут входящих в лимит. После 500 минут начинается постепенный спад, но и видна большая концентрация вокруг лимитированного времени. \n",
    "\n",
    "Некоторые абоненты ежемесячно нарушают лимит по разговорам, возможно таким клиентам стоит предложить сменить тариф на ultra.\n",
    "Для 99% абонентов этого тарифа было бы достаточно 984 минуты чтобы не выходить за лимит, но на это время сильно влияют выбросы. В целом за год абонентами превышался лимит по разговорам в 34%. \n",
    " \n",
    "2) Гистограмма распределения отправленных сообщений:\n",
    " \n",
    "Данная гистограмма идет по убывающей, чем больше сообщений было отправлено отдельным клиентов в месяц, тем меньше таких клиентов. В среднем отправляется 26 сообщений в месяц, при максимальном показателе за месяц в 143 сообщения. При этов в лимит тарифа входит 50 сообщений, которые периодически не соблюдаются. \n",
    "\n",
    "А 99% случаях достаточно 119 сообщения в месяц. В целом за год абонентами превышался лимит по отправленным сообщениям в 29%.    \n",
    " \n",
    "3) Гистограмма распределения использованного интернет трафика\n",
    " \n",
    "Также видно, что значения распределены \"нормально\". В среднем абоненты тратят 16259 мб трафика, причем медианное значение больше среднего 16482 (указывает на смещение данных вправо). На тарифе предусмотрено 15360 мб трафика (в этом диапазоне и поковое значение на гистограмме). Получается что, больше чем в половине случаев, клиент превышает лимит трафика, что соответственно влечет переплатой по за услуги."
   ]
  },
  {
   "cell_type": "code",
   "execution_count": 89,
   "metadata": {},
   "outputs": [
    {
     "name": "stdout",
     "output_type": "stream",
     "text": [
      "Распределение потраченого времени звонков\n"
     ]
    },
    {
     "data": {
      "text/plain": [
       "count    1914.000000\n",
       "mean      421.281087\n",
       "std       187.459563\n",
       "min         2.000000\n",
       "25%       288.000000\n",
       "50%       427.000000\n",
       "75%       547.000000\n",
       "max      1435.000000\n",
       "Name: calls_duration, dtype: float64"
      ]
     },
     "execution_count": 89,
     "metadata": {},
     "output_type": "execute_result"
    }
   ],
   "source": [
    "print('Распределение потраченого времени звонков')\n",
    "tariff_smart['calls_duration'].describe()"
   ]
  },
  {
   "cell_type": "code",
   "execution_count": 90,
   "metadata": {},
   "outputs": [
    {
     "name": "stdout",
     "output_type": "stream",
     "text": [
      "Распределение по отправленым сообщениям\n"
     ]
    },
    {
     "data": {
      "text/plain": [
       "count    1914.000000\n",
       "mean       38.748171\n",
       "std        26.829451\n",
       "min         1.000000\n",
       "25%        17.000000\n",
       "50%        34.000000\n",
       "75%        55.000000\n",
       "max       143.000000\n",
       "Name: messages_count, dtype: float64"
      ]
     },
     "execution_count": 90,
     "metadata": {},
     "output_type": "execute_result"
    }
   ],
   "source": [
    "print('Распределение по отправленым сообщениям')\n",
    "tariff_smart['messages_count'].describe()"
   ]
  },
  {
   "cell_type": "code",
   "execution_count": 91,
   "metadata": {},
   "outputs": [
    {
     "name": "stdout",
     "output_type": "stream",
     "text": [
      "Распределение по потраченому интернет трафику\n"
     ]
    },
    {
     "data": {
      "text/plain": [
       "count     1914.000000\n",
       "mean     16259.155695\n",
       "std       5810.433064\n",
       "min          0.000000\n",
       "25%      12639.500000\n",
       "50%      16482.000000\n",
       "75%      20068.000000\n",
       "max      38610.000000\n",
       "Name: mb_used, dtype: float64"
      ]
     },
     "execution_count": 91,
     "metadata": {},
     "output_type": "execute_result"
    }
   ],
   "source": [
    "print('Распределение по потраченому интернет трафику')\n",
    "tariff_smart['mb_used'].describe()"
   ]
  },
  {
   "cell_type": "markdown",
   "metadata": {},
   "source": [
    "Найдем доверительный интервал для параметров тарифа smart, по уже ранее написанной функции:"
   ]
  },
  {
   "cell_type": "code",
   "execution_count": 92,
   "metadata": {},
   "outputs": [
    {
     "name": "stdout",
     "output_type": "stream",
     "text": [
      "99% абонентов попадает в интервал:\n",
      "По количеству потраченых минут: 1117.0229573153083\n",
      "По количеству отправленных сообщений: 141.32498096048124\n",
      "По количеству потраченого трафика: 36774.98167018361\n"
     ]
    }
   ],
   "source": [
    "intervals(tariff_smart)"
   ]
  },
  {
   "cell_type": "markdown",
   "metadata": {},
   "source": [
    "Срез по абонентам которые выходят за пределы лимита smart по звонкам:"
   ]
  },
  {
   "cell_type": "code",
   "execution_count": 93,
   "metadata": {},
   "outputs": [
    {
     "data": {
      "text/html": [
       "<div>\n",
       "<style scoped>\n",
       "    .dataframe tbody tr th:only-of-type {\n",
       "        vertical-align: middle;\n",
       "    }\n",
       "\n",
       "    .dataframe tbody tr th {\n",
       "        vertical-align: top;\n",
       "    }\n",
       "\n",
       "    .dataframe thead th {\n",
       "        text-align: right;\n",
       "    }\n",
       "</style>\n",
       "<table border=\"1\" class=\"dataframe\">\n",
       "  <thead>\n",
       "    <tr style=\"text-align: right;\">\n",
       "      <th></th>\n",
       "      <th>user_id</th>\n",
       "      <th>month</th>\n",
       "      <th>calls_duration</th>\n",
       "    </tr>\n",
       "  </thead>\n",
       "  <tbody>\n",
       "    <tr>\n",
       "      <td>0</td>\n",
       "      <td>1005</td>\n",
       "      <td>2018-03-01</td>\n",
       "      <td>606</td>\n",
       "    </tr>\n",
       "    <tr>\n",
       "      <td>1</td>\n",
       "      <td>1005</td>\n",
       "      <td>2018-04-01</td>\n",
       "      <td>712</td>\n",
       "    </tr>\n",
       "    <tr>\n",
       "      <td>2</td>\n",
       "      <td>1005</td>\n",
       "      <td>2018-05-01</td>\n",
       "      <td>595</td>\n",
       "    </tr>\n",
       "    <tr>\n",
       "      <td>3</td>\n",
       "      <td>1005</td>\n",
       "      <td>2018-06-01</td>\n",
       "      <td>612</td>\n",
       "    </tr>\n",
       "    <tr>\n",
       "      <td>4</td>\n",
       "      <td>1005</td>\n",
       "      <td>2018-07-01</td>\n",
       "      <td>569</td>\n",
       "    </tr>\n",
       "    <tr>\n",
       "      <td>...</td>\n",
       "      <td>...</td>\n",
       "      <td>...</td>\n",
       "      <td>...</td>\n",
       "    </tr>\n",
       "    <tr>\n",
       "      <td>655</td>\n",
       "      <td>1496</td>\n",
       "      <td>2018-08-01</td>\n",
       "      <td>527</td>\n",
       "    </tr>\n",
       "    <tr>\n",
       "      <td>656</td>\n",
       "      <td>1496</td>\n",
       "      <td>2018-11-01</td>\n",
       "      <td>662</td>\n",
       "    </tr>\n",
       "    <tr>\n",
       "      <td>657</td>\n",
       "      <td>1496</td>\n",
       "      <td>2018-12-01</td>\n",
       "      <td>518</td>\n",
       "    </tr>\n",
       "    <tr>\n",
       "      <td>658</td>\n",
       "      <td>1497</td>\n",
       "      <td>2018-12-01</td>\n",
       "      <td>545</td>\n",
       "    </tr>\n",
       "    <tr>\n",
       "      <td>659</td>\n",
       "      <td>1499</td>\n",
       "      <td>2018-11-01</td>\n",
       "      <td>612</td>\n",
       "    </tr>\n",
       "  </tbody>\n",
       "</table>\n",
       "<p>660 rows × 3 columns</p>\n",
       "</div>"
      ],
      "text/plain": [
       "     user_id      month  calls_duration\n",
       "0       1005 2018-03-01             606\n",
       "1       1005 2018-04-01             712\n",
       "2       1005 2018-05-01             595\n",
       "3       1005 2018-06-01             612\n",
       "4       1005 2018-07-01             569\n",
       "..       ...        ...             ...\n",
       "655     1496 2018-08-01             527\n",
       "656     1496 2018-11-01             662\n",
       "657     1496 2018-12-01             518\n",
       "658     1497 2018-12-01             545\n",
       "659     1499 2018-11-01             612\n",
       "\n",
       "[660 rows x 3 columns]"
      ]
     },
     "execution_count": 93,
     "metadata": {},
     "output_type": "execute_result"
    }
   ],
   "source": [
    "smart_over_limit_calls = ( tariff_smart \n",
    "                .query('calls_duration > 500')\n",
    "                .groupby(['user_id', 'month'])['calls_duration'].sum()\n",
    "                .reset_index()\n",
    ")\n",
    "smart_over_limit_calls['user_id'].value_counts()\n",
    "smart_over_limit_calls"
   ]
  },
  {
   "cell_type": "code",
   "execution_count": 94,
   "metadata": {},
   "outputs": [
    {
     "name": "stdout",
     "output_type": "stream",
     "text": [
      "Процент количества превышеного лимита по звонкам: 34.48275862068966\n"
     ]
    }
   ],
   "source": [
    "print('Процент количества превышеного лимита по звонкам:', smart_over_limit_calls['calls_duration'].count() / tariff_smart['calls_duration'].count() * 100)"
   ]
  },
  {
   "cell_type": "code",
   "execution_count": 95,
   "metadata": {},
   "outputs": [
    {
     "name": "stdout",
     "output_type": "stream",
     "text": [
      "Процент количества превышеного лимита по отправленным сообщениям: 29.46708463949843\n"
     ]
    }
   ],
   "source": [
    "smart_over_limit_masseges = tariff_smart.query('messages_count > 50')\n",
    "print('Процент количества превышеного лимита по отправленным сообщениям:', smart_over_limit_masseges['messages_count'].count() / tariff_smart['messages_count'].count() * 100)"
   ]
  },
  {
   "cell_type": "markdown",
   "metadata": {},
   "source": [
    "#### Вывод по тарифу smart\n",
    "\n",
    "Мы построили гистограммы частот по использованию услуг оператора на каждого абонента за весь период (календарный год). Выяснили, что в на данном тарифе по всем параметрам есть превышение лимита. Звонки - 34% превышений, сообщений - 29% и интернет трафик более чем в половине случаев.\n",
    "Так же нашли доверительный интервал для 99% процентов случаев:\n",
    "- звонки: 984 минуты\n",
    "- сообщений: 119\n",
    "- интернет трафик: 33690 мб"
   ]
  },
  {
   "cell_type": "markdown",
   "metadata": {},
   "source": [
    "#### Сравнение распределений на тарифах Ultra и Smart"
   ]
  },
  {
   "cell_type": "code",
   "execution_count": 96,
   "metadata": {},
   "outputs": [
    {
     "data": {
      "text/plain": [
       "Text(0.5, 0, 'Минут потрачено')"
      ]
     },
     "execution_count": 96,
     "metadata": {},
     "output_type": "execute_result"
    },
    {
     "data": {
      "image/png": "[encoded data removed]",
      "text/plain": [
       "<Figure size 432x288 with 1 Axes>"
      ]
     },
     "metadata": {
      "needs_background": "light"
     },
     "output_type": "display_data"
    }
   ],
   "source": [
    "ax = tariff_smart.plot(kind='hist', y='calls_duration', histtype='step', bins=25, linewidth=5, alpha=0.7, label='Ultra')\n",
    "calls_tarif = tariff_ultra.plot(kind='hist', y='calls_duration', histtype='step', bins=25, linewidth=5, alpha=0.7, label='Smart', \n",
    "                  ax=ax, grid=True, legend=True, title='Распределение времени звонков')\n",
    "calls_tarif.set_ylabel('Количество случаев')\n",
    "calls_tarif.set_xlabel('Минут потрачено')"
   ]
  },
  {
   "cell_type": "code",
   "execution_count": 97,
   "metadata": {},
   "outputs": [
    {
     "data": {
      "text/plain": [
       "Text(0.5, 0, 'Количество отправлиных сообщений')"
      ]
     },
     "execution_count": 97,
     "metadata": {},
     "output_type": "execute_result"
    },
    {
     "data": {
      "image/png": "[encoded data removed]",
      "text/plain": [
       "<Figure size 432x288 with 1 Axes>"
      ]
     },
     "metadata": {
      "needs_background": "light"
     },
     "output_type": "display_data"
    }
   ],
   "source": [
    "ax = tariff_smart.plot(kind='hist', y='messages_count', histtype='step', bins=25, linewidth=5, alpha=0.7, label='Ultra')\n",
    "messages_tarif = tariff_ultra.plot(kind='hist', y='messages_count', histtype='step', bins=25, linewidth=5, alpha=0.7, label='Smart',\n",
    "                                   ax=ax, grid=True, legend=True, title='Распределение отправленых сообщений')\n",
    "messages_tarif.set_ylabel('Количество случаев')\n",
    "messages_tarif.set_xlabel('Количество отправлиных сообщений')"
   ]
  },
  {
   "cell_type": "code",
   "execution_count": 98,
   "metadata": {},
   "outputs": [
    {
     "data": {
      "text/plain": [
       "Text(0.5, 0, 'Количество потраченого трафика в мб')"
      ]
     },
     "execution_count": 98,
     "metadata": {},
     "output_type": "execute_result"
    },
    {
     "data": {
      "image/png": "[encoded data removed]",
      "text/plain": [
       "<Figure size 432x288 with 1 Axes>"
      ]
     },
     "metadata": {
      "needs_background": "light"
     },
     "output_type": "display_data"
    }
   ],
   "source": [
    "ax = tariff_smart.plot(kind='hist', y='mb_used', histtype='step', bins=25, linewidth=5, alpha=0.7, label='Ultra')\n",
    "mb_tarif = tariff_ultra.plot(kind='hist', y='mb_used', histtype='step', bins=25, linewidth=5, alpha=0.7, label='Smart', \n",
    "                  ax=ax, grid=True, legend=True, title='Распределение использованого интернет трафика')\n",
    "mb_tarif.set_ylabel('Количество случаев')\n",
    "mb_tarif.set_xlabel('Количество потраченого трафика в мб')"
   ]
  },
  {
   "cell_type": "markdown",
   "metadata": {},
   "source": [
    "### Вывод по анализу тарифов\n",
    "\n",
    "Мы провели анализ по разным тарифам (ultra и smart) по предоставленным абонентом услугам: звонки, сообщения и интернет трафик. В результате построения гистограмм видно что:\n",
    "\n",
    "- Для звонкоф тарифа smart характерно пиковое значение, равное лимитированому, а все что выше пика - это перерасход. По сравнению с тарифом smart, звонки на тарифе ultra вплоть до 900 минут имеют ровное распределение. Так выглядят распределение в котором абоненты не зажаты в рамки лимита, и имеют свободный доступ к данному параметру, без самоограничений.\n",
    "\n",
    "- Использовани сообщений в целом для обоих тарифов распределено одинаково, только с разным количеством, в зависимости от тарифа. На тарифе ultra сообщения используются более чем в 2 раза чаще, но им это позволяют делать лимиты.\n",
    "\n",
    "- Интернет трафик пользуется наибольшим спросом среди параметров тарифов, это единственный параметр где были превышения лимита на тарифе ultra. Так же и на тарифе smart больше чем в половине случаев превышается лимит. На графике видны резкие обрывы для двух тарифах - это и есть их лимиты.\n",
    "\n",
    "Клиенты тарифа ultra превышают лимит только на интернет трафике. Но при этом переплачивают более чем в 3.5 раза ежемесячную абонентскую плату чем на тарифе smart. В свою очередь абоненты тарифа smart часто превышают значения своих лимитов. Некоторые клиенты это делают ежемесячно, и им можно было бы рекомендовать сменить тариф. Так же замечена закономерность: чем больше рамки лимита - тем более ровно идет распределение, потому что средним клиентам в среднем приходится меньше себя \"ужимать\" по использованиям параметров тарифов. \n",
    "\n",
    "Идеальный тариф для среднестатистического клиента выглядел бы так: 900 минут звонков, 100 сообщений, и как можно больше интернет трафика. А для мобильного оператора выгодно запустить отдельной опцией подключение безлимитного интернет трафика. Так и оператор всегда получает фиксированную выручку (вне зависимости использования клиентом), и клиент не заботится о лимитах."
   ]
  },
  {
   "cell_type": "markdown",
   "metadata": {},
   "source": [
    "### Шаг 4. Проверка гипотез<a id=\"step4\"></a>"
   ]
  },
  {
   "cell_type": "markdown",
   "metadata": {},
   "source": [
    "#### 4.1 Гипотеза о средней выручке тарифов smart и ultra"
   ]
  },
  {
   "cell_type": "markdown",
   "metadata": {},
   "source": [
    "Выдвинем гипотезу, что средняя выручка пользователей тарифов «Ультра» и «Смарт» различается. Несмотря на то, что в тарифе ultra абонентская плата больше, в тарифе smart клиенты часто переплачивают за превышения лимитов по параметрам тарифа. Будем считать что:\n",
    "- H₀ (нулевая гипотеза) - средняя выручка тарифов smart и ultra не различается\n",
    "- H₁ - средняя выручка тарифов smart и ultra отличается\n",
    "\n",
    "Уровень значимости примем за 5%."
   ]
  },
  {
   "cell_type": "code",
   "execution_count": 99,
   "metadata": {},
   "outputs": [
    {
     "name": "stdout",
     "output_type": "stream",
     "text": [
      "p-значение: 2.756407702051883e-249\n",
      "Отвергаем нулевую гипотезу\n"
     ]
    }
   ],
   "source": [
    "alpha = .05\n",
    "\n",
    "results = st.ttest_ind(tariff_smart['revenue'],\n",
    "                      tariff_ultra['revenue'],\n",
    "                      equal_var = False)\n",
    "\n",
    "print('p-значение:', results.pvalue)\n",
    "\n",
    "if (results.pvalue < alpha): \n",
    "    print(\"Отвергаем нулевую гипотезу\")\n",
    "else:\n",
    "    print(\"Не получилось отвергнуть нулевую гипотезу\")"
   ]
  },
  {
   "cell_type": "markdown",
   "metadata": {},
   "source": [
    "Взглянем визуально на данные по средней выручке:"
   ]
  },
  {
   "cell_type": "code",
   "execution_count": 100,
   "metadata": {},
   "outputs": [
    {
     "data": {
      "text/plain": [
       "1234.1630298132184"
      ]
     },
     "execution_count": 100,
     "metadata": {},
     "output_type": "execute_result"
    }
   ],
   "source": [
    "tariff_smart['revenue'].mean()"
   ]
  },
  {
   "cell_type": "code",
   "execution_count": 101,
   "metadata": {},
   "outputs": [
    {
     "data": {
      "text/plain": [
       "2039.9605129076087"
      ]
     },
     "execution_count": 101,
     "metadata": {},
     "output_type": "execute_result"
    }
   ],
   "source": [
    "tariff_ultra['revenue'].mean()"
   ]
  },
  {
   "cell_type": "markdown",
   "metadata": {},
   "source": [
    "Видно, что средние выручки разнятся более чем на 60% друг к другу."
   ]
  },
  {
   "cell_type": "markdown",
   "metadata": {},
   "source": [
    "**Вывод**: наблюдаемые на выборках по тарифам значения попадают в зону уровня значимости, это означает, что вероятность такого события при верной нулевой гипотезе признаётся слишком малым (меньше 5%). Следовательно, у нас есть основание отвергнуть нулевую гипотезу и признать что средние выручки на тарифах smart и ultra отличаеются."
   ]
  },
  {
   "cell_type": "markdown",
   "metadata": {},
   "source": [
    "#### 4.2 Гипотеза о средней выручке в Москве и остальных регионах"
   ]
  },
  {
   "cell_type": "markdown",
   "metadata": {},
   "source": [
    "Выдвинем гипотезу, что средняя выручка пользователей из Москвы отличается от выручки пользователей из других регионов потому, что в Москве самые большие доходы, и соответственно население более платежеспособно.\n",
    "\n",
    "- H₀ (нулевая гипотеза) - средняя выручка региона Москвы не различается с другими регионами\n",
    "- H₁ - средняя выручка региона Москвы отличается от других регионов (причем не важна в какую сторону, большую или меньшую, важен сам факт отличия)\n",
    "\n",
    "Уровень значимости примем за 5%."
   ]
  },
  {
   "cell_type": "code",
   "execution_count": 102,
   "metadata": {},
   "outputs": [
    {
     "name": "stdout",
     "output_type": "stream",
     "text": [
      "p-значение: 0.4712668200760739\n",
      "Не получилось отвергнуть нулевую гипотезу\n"
     ]
    }
   ],
   "source": [
    "city_mosscow = users_all_months.query('city == \"Москва\"')\n",
    "other_city = users_all_months.query('city != \"Москва\"')\n",
    "\n",
    "alpha = .05\n",
    "\n",
    "results_city = st.ttest_ind(city_mosscow['revenue'],\n",
    "                      other_city['revenue'])\n",
    "                       \n",
    "\n",
    "print('p-значение:', results_city.pvalue)\n",
    "\n",
    "if (results_city.pvalue < alpha): \n",
    "    print(\"Отвергаем нулевую гипотезу\")\n",
    "else:\n",
    "    print(\"Не получилось отвергнуть нулевую гипотезу\")\n"
   ]
  },
  {
   "cell_type": "markdown",
   "metadata": {},
   "source": [
    "**Вывод**: наблюдаемые на выборках по тарифам значения не попадают в зону уровня значимости, это означает что вероятность такого события при верной нулевой гипотезе более 5% и отвергнуть ее мы не можем. Но это не значит что альтернативная гипотеза не верна, возможно если увеличить выборку мы сможем отклонить нулевую гипотезу."
   ]
  },
  {
   "cell_type": "markdown",
   "metadata": {},
   "source": [
    "### Шаг 5. Общий вывод<a id=\"step5\"></a>"
   ]
  },
  {
   "cell_type": "markdown",
   "metadata": {},
   "source": [
    "**Описание практических шагов:**\n",
    "\n",
    "На ввод мы имеем полученные данные от мобильного оператора «Мегалайн» — федерального оператора сотовой связи. Данные состояли из 5 разных выгрузок (информация о клиентах, тарифах, звонках, сообщениях и интернет трафике), выборке клиентов за календарный год. Нам предстояло сделать предварительный анализ тарифов и проверить несколько гипотез.\n",
    "При первичном знакомстве с данными мы столкнулись с необходимостью:\n",
    "\n",
    "- предобработать каждый файл с данными отдельно\n",
    "- сгруппировать данные по каждому клиенту, за каждый месяц\n",
    "- посчитать перерасход параметров в соответствии с прайсом по тарифу\n",
    "- заменить пропущенные значения\n",
    "- разделить временные отрезки на календарные месяца\n",
    "- округлить данные в большую сторону (такие условия оператора)\n",
    "- принять решение что делать с артефактами (нулевая длительность звонка)\n",
    "- объединить отдельные таблицы в одну, для каждого клиента за каждый месяц, который он подключен к тарифу\n",
    "- посчитать выручку от каждого клиента за каждый месяц\n",
    "\n",
    "В результате мы получили один датафрейм, содержащий в себе всю информацию о выборке из клиентов за каждый месяц (как они используют услуги, и хватает ли им лимита по параметрам на подключенном тарифе). Для каждого тарифа мы построили гистограммы по различным параметрам и посмотрели на распределение. В зависимости от тарифа распределения отличаются только тем, что имеют больший размах, что легко объяснимо тем, что на тарифах разные лимиты. Так же мы выяснили что:\n",
    "\n",
    "- среднее время звонков в зависимости от тарифа отличаются не сильно (в районе 500 минут)\n",
    "- интернет трафик - этот тот параметр, вне зависимости от тарифа, для которого чаще всего нарушаются лимиты\n",
    "- на тарифе ultra в нашей выборке никто из клиентов не переплатил за нарушение лимита за звонки и сообщения, зато на тарифе смарт в 34% случаев, клиенты ежемесячно выпадают за рамки лимита по звонкам, 29% за рамки лимита сообщений и более чем 50% за рамки интернет трафика\n",
    "\n",
    "Есть и отдельные клиенты на тарифе smart которые систематически и ежемесячно не укладываются в лимит, таким абонентам можно рекомендовать подключиться к тарифу с повышенными рамками лимита. Рассмотрев разброс по тарифам, интересно было проверить гипотезы:\n",
    "\n",
    " - О разной выручке в зависимости от тарифов:\n",
    " \n",
    "За расчет мы взяли среднюю выручку от каждого клиента за каждый месяц, нулевая гипотеза говорила нам о том, что средняя выручка не отличается, а альтернативная гипотеза что выручки разнятся. Уровень значимости взяли 5%. В итоге проведенного сравнительно анализа, результат показал что вероятность нулевой гипотезы крайне мала, и мы можем ее отвергнуть. Вывод: средние выручки на разных тарифах не равны, и в соответствии с показателями данной выборки отличаются более чем на 60%.\n",
    "\n",
    " - О разной выручке в зависимости от региона (Москва и остальные регионы)\n",
    "\n",
    "Считается что в столице - Москве, самые большие доходы на душу населения. Посмотрели сказывается ли это на средние расходы каждого отдельного клиента ежемесячно, за нулевую гипотезу взяли тот факт, что выручка не отличается, за альтернативную наоборот, отличается. В результате проведенного сравнительного анализа наблюдаемые на выборках по тарифам значения не попадают в зону уровня значимости (p-value = 5%), поэтому отвергнуть мы ее не можем, однако это и не значит то, что альтернативная гипотеза не верна. Есть вероятность что анализируемая нами выборка сильно смещена от среднего значения генеральной совокупности, и при наличии другой выборки мы можем получить иной статистически обоснованный результат.\n",
    "\n",
    "**Рекомендации для бизнеса:**\n",
    "\n",
    "Прм и увеличении доходов в бизнесе, мобильному оператору важно не забывать о счастье его абонентов. Любое прямое повышение цен вызовет негативную волну, и потерю клиентов. Поэтому рекомендации по доходу будем рассматривать с прямой положительной корреляцией для удобства клиентов.\n",
    "\n",
    "Для удобства клиентов и увеличении выручки можно предпринять следующие шаги:\n",
    "\n",
    "- Мы анализировали тарифы с большим разрывом по лимитам параметров, можно сделать промежуточные тарифы (если таких еще нет), что то среднее между тарифами ultra и smart, хоть часть клиентов пойдет на тариф с пониженным лимитом (уйдет с тарифа ultra, соответственно выручка упадет), но многие клиенты с тарифа smart захотят увеличить лимиты (очень много превышений лимита по этому тарифу), так оператор всегда будет получать стабильный доход, а не переодический за превышение лимита.\n",
    "\n",
    "- Добавить опции с фиксированной платой за неограниченное использование каким либо параметром, сверх стоимости тарифа. Клиенту не надо платить за каждую единицу превышения, а просто заплатить фиксированную стоимость и пользоваться параметром без ограничений. Такая опция будет удобна и для клиентов кто перерасходует только один параметр, а менять тариф с лимитами больше - неоправданно дорого.\n",
    "\n",
    "- Сделать тарифы регионооринтируемые (ведь в каких то регионах клиенты более платежеспособны), и таким можно поднять минимальные лимиты, а соответственно и ежемесячную оплату.\n",
    "\n",
    "- Учитывая каким спросом пользуется интернет трафик, разработать тариф для клиентов, ориентированных на параметр использования большого количества интернет-трафика, но с поминутной тарификацией звонков и отдельной платой за каждое смс сообщение.\n",
    "\n",
    "- Развивать внутресетевые сервисы (например добавить сервис с музыкой), что подтолкнет к стимулированию использования параметров трафика (с таким сервисом интернет трафик, который итак часто превышается, будет расти, вместе с нашим доходом, или промотивирует клиента переключиться на тариф с повышеными лимитами)."
   ]
  }
 ],
 "metadata": {
  "kernelspec": {
   "display_name": "Python 3",
   "language": "python",
   "name": "python3"
  },
  "language_info": {
   "codemirror_mode": {
    "name": "ipython",
    "version": 3
   },
   "file_extension": ".py",
   "mimetype": "text/x-python",
   "name": "python",
   "nbconvert_exporter": "python",
   "pygments_lexer": "ipython3",
   "version": "3.8.5"
  },
  "toc": {
   "base_numbering": 1,
   "nav_menu": {},
   "number_sections": true,
   "sideBar": true,
   "skip_h1_title": false,
   "title_cell": "Table of Contents",
   "title_sidebar": "Contents",
   "toc_cell": false,
   "toc_position": {},
   "toc_section_display": true,
   "toc_window_display": false
  }
 },
 "nbformat": 4,
 "nbformat_minor": 2
}
